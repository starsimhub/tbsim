{
 "cells": [
  {
   "cell_type": "markdown",
   "id": "396fe94b",
   "metadata": {},
   "source": [
    "# Comprehensive Analyzer Plots Example\n",
    "This notebook demonstrates all available plotting methods in the `DwtAnalyzer` class from the `tbsim` package. It is adapted from the original Python script for interactive exploration."
   ]
  },
  {
   "cell_type": "code",
   "execution_count": 46,
   "id": "f0c53a6d",
   "metadata": {},
   "outputs": [],
   "source": [
    "import tbsim as mtb\n",
    "import starsim as ss\n",
    "import sciris as sc\n",
    "import matplotlib.pyplot as plt\n",
    "import numpy as np\n",
    "import scipy.stats as stats\n",
    "TBS = mtb.TBS"
   ]
  },
  {
   "cell_type": "markdown",
   "id": "27b0fece",
   "metadata": {},
   "source": [
    "## Build a TB simulation with dwell time analyzer"
   ]
  },
  {
   "cell_type": "code",
   "execution_count": 52,
   "id": "23039f35",
   "metadata": {},
   "outputs": [],
   "source": [
    "def build_tbsim(sim_pars=None):\n",
    "    sim_params = dict(\n",
    "        start = ss.date('2013-01-01'),\n",
    "        stop = ss.date('2016-12-31'),\n",
    "        rand_seed=123,\n",
    "        dt=ss.days(7),\n",
    "    )\n",
    "    if sim_pars is not None:\n",
    "        sim_params.update(sim_pars)\n",
    "    pop = ss.People(n_agents=1000)\n",
    "    tb_params = dict(\n",
    "        beta=ss.peryear(0.025),\n",
    "        init_prev=ss.bernoulli(p=0.25),\n",
    "        rel_sus_latentslow=0.2,\n",
    "    )\n",
    "    tb = mtb.TB(tb_params)\n",
    "    net = ss.RandomNet(dict(n_contacts=ss.poisson(lam=5), dur=0))\n",
    "    dwell_analyzer = mtb.DwtAnalyzer(adjust_to_unit=True, unit=1.0, scenario_name='comprehensive_plots_example')\n",
    "    sim = ss.Sim(\n",
    "        people=pop,\n",
    "        networks=net,\n",
    "        diseases=tb,\n",
    "        pars=sim_params,\n",
    "        analyzers=dwell_analyzer,\n",
    "    )\n",
    "    sim.pars.verbose = 0\n",
    "    return sim"
   ]
  },
  {
   "cell_type": "markdown",
   "id": "c5eeca6f",
   "metadata": {},
   "source": [
    "## Run the simulation and extract the analyzer"
   ]
  },
  {
   "cell_type": "code",
   "execution_count": 53,
   "id": "4d3f96e3",
   "metadata": {},
   "outputs": [
    {
     "name": "stdout",
     "output_type": "stream",
     "text": [
      "Building and running TB simulation...\n",
      "No dwell time data available to plot.\n",
      "No data provided, or data is corrupted\n",
      "===> Dwell time logs saved to:\n",
      " /Users/mine/newgit/newtbsim/docs/tutorials/results/comprehensiveplotsexample-0908161007.csv\n",
      "\n"
     ]
    }
   ],
   "source": [
    "print(\"Building and running TB simulation...\")\n",
    "sim_tb = build_tbsim()\n",
    "sim_tb.run()\n",
    "analyzer = sim_tb.analyzers[0]"
   ]
  },
  {
   "cell_type": "markdown",
   "id": "6844b798",
   "metadata": {},
   "source": [
    "## 1. Sankey Diagrams\n",
    "Demonstrate Sankey diagrams for state transitions."
   ]
  },
  {
   "cell_type": "code",
   "execution_count": 54,
   "id": "5e9069b4",
   "metadata": {},
   "outputs": [
    {
     "data": {
      "application/vnd.plotly.v1+json": {
       "config": {
        "plotlyServerURL": "https://plot.ly"
       },
       "data": [
        {
         "arrangement": "snap",
         "link": {
          "color": [
           "rgba(148.0, 103.0, 189.0, 0.5)",
           "rgba(148.0, 103.0, 189.0, 0.5)",
           "rgba(148.0, 103.0, 189.0, 0.5)",
           "rgba(127.0, 127.0, 127.0, 0.5)",
           "rgba(158.0, 218.0, 229.0, 0.5)",
           "rgba(158.0, 218.0, 229.0, 0.5)",
           "rgba(158.0, 218.0, 229.0, 0.5)"
          ],
          "hovertemplate": "%{source.label} → %{target.label}: %{value} agents<br>",
          "label": {
           "bdata": "8wLdABgAEwACAAkABAA=",
           "dtype": "i2"
          },
          "line": {
           "color": "lightgray",
           "width": 0.1
          },
          "source": {
           "bdata": "AwMDBQcHBw==",
           "dtype": "i1"
          },
          "target": {
           "bdata": "AAIFBwEGBA==",
           "dtype": "i1"
          },
          "value": {
           "bdata": "8wLdABgAEwACAAkABAA=",
           "dtype": "i2"
          }
         },
         "node": {
          "color": [
           "rgba(31.0, 119.0, 180.0, 1.0)",
           "rgba(255.0, 127.0, 14.0, 1.0)",
           "rgba(152.0, 223.0, 138.0, 1.0)",
           "rgba(148.0, 103.0, 189.0, 1.0)",
           "rgba(196.0, 156.0, 148.0, 1.0)",
           "rgba(127.0, 127.0, 127.0, 1.0)",
           "rgba(219.0, 219.0, 141.0, 1.0)",
           "rgba(158.0, 218.0, 229.0, 1.0)"
          ],
          "label": [
           "-2.0.NEVER INFECTED",
           "3.0.Active Smpos",
           "0.0.Latent Slow",
           "-1.0.None",
           "5.0.Active Exptb",
           "1.0.Latent Fast",
           "4.0.Active Smneg",
           "2.0.Active Presymp"
          ],
          "line": {
           "color": "black",
           "width": 0.2
          },
          "pad": 15,
          "thickness": 20
         },
         "type": "sankey"
        }
       ],
       "layout": {
        "font": {
         "color": "black",
         "size": 12
        },
        "hovermode": "x",
        "template": {
         "data": {
          "bar": [
           {
            "error_x": {
             "color": "#2a3f5f"
            },
            "error_y": {
             "color": "#2a3f5f"
            },
            "marker": {
             "line": {
              "color": "#E5ECF6",
              "width": 0.5
             },
             "pattern": {
              "fillmode": "overlay",
              "size": 10,
              "solidity": 0.2
             }
            },
            "type": "bar"
           }
          ],
          "barpolar": [
           {
            "marker": {
             "line": {
              "color": "#E5ECF6",
              "width": 0.5
             },
             "pattern": {
              "fillmode": "overlay",
              "size": 10,
              "solidity": 0.2
             }
            },
            "type": "barpolar"
           }
          ],
          "carpet": [
           {
            "aaxis": {
             "endlinecolor": "#2a3f5f",
             "gridcolor": "white",
             "linecolor": "white",
             "minorgridcolor": "white",
             "startlinecolor": "#2a3f5f"
            },
            "baxis": {
             "endlinecolor": "#2a3f5f",
             "gridcolor": "white",
             "linecolor": "white",
             "minorgridcolor": "white",
             "startlinecolor": "#2a3f5f"
            },
            "type": "carpet"
           }
          ],
          "choropleth": [
           {
            "colorbar": {
             "outlinewidth": 0,
             "ticks": ""
            },
            "type": "choropleth"
           }
          ],
          "contour": [
           {
            "colorbar": {
             "outlinewidth": 0,
             "ticks": ""
            },
            "colorscale": [
             [
              0,
              "#0d0887"
             ],
             [
              0.1111111111111111,
              "#46039f"
             ],
             [
              0.2222222222222222,
              "#7201a8"
             ],
             [
              0.3333333333333333,
              "#9c179e"
             ],
             [
              0.4444444444444444,
              "#bd3786"
             ],
             [
              0.5555555555555556,
              "#d8576b"
             ],
             [
              0.6666666666666666,
              "#ed7953"
             ],
             [
              0.7777777777777778,
              "#fb9f3a"
             ],
             [
              0.8888888888888888,
              "#fdca26"
             ],
             [
              1,
              "#f0f921"
             ]
            ],
            "type": "contour"
           }
          ],
          "contourcarpet": [
           {
            "colorbar": {
             "outlinewidth": 0,
             "ticks": ""
            },
            "type": "contourcarpet"
           }
          ],
          "heatmap": [
           {
            "colorbar": {
             "outlinewidth": 0,
             "ticks": ""
            },
            "colorscale": [
             [
              0,
              "#0d0887"
             ],
             [
              0.1111111111111111,
              "#46039f"
             ],
             [
              0.2222222222222222,
              "#7201a8"
             ],
             [
              0.3333333333333333,
              "#9c179e"
             ],
             [
              0.4444444444444444,
              "#bd3786"
             ],
             [
              0.5555555555555556,
              "#d8576b"
             ],
             [
              0.6666666666666666,
              "#ed7953"
             ],
             [
              0.7777777777777778,
              "#fb9f3a"
             ],
             [
              0.8888888888888888,
              "#fdca26"
             ],
             [
              1,
              "#f0f921"
             ]
            ],
            "type": "heatmap"
           }
          ],
          "histogram": [
           {
            "marker": {
             "pattern": {
              "fillmode": "overlay",
              "size": 10,
              "solidity": 0.2
             }
            },
            "type": "histogram"
           }
          ],
          "histogram2d": [
           {
            "colorbar": {
             "outlinewidth": 0,
             "ticks": ""
            },
            "colorscale": [
             [
              0,
              "#0d0887"
             ],
             [
              0.1111111111111111,
              "#46039f"
             ],
             [
              0.2222222222222222,
              "#7201a8"
             ],
             [
              0.3333333333333333,
              "#9c179e"
             ],
             [
              0.4444444444444444,
              "#bd3786"
             ],
             [
              0.5555555555555556,
              "#d8576b"
             ],
             [
              0.6666666666666666,
              "#ed7953"
             ],
             [
              0.7777777777777778,
              "#fb9f3a"
             ],
             [
              0.8888888888888888,
              "#fdca26"
             ],
             [
              1,
              "#f0f921"
             ]
            ],
            "type": "histogram2d"
           }
          ],
          "histogram2dcontour": [
           {
            "colorbar": {
             "outlinewidth": 0,
             "ticks": ""
            },
            "colorscale": [
             [
              0,
              "#0d0887"
             ],
             [
              0.1111111111111111,
              "#46039f"
             ],
             [
              0.2222222222222222,
              "#7201a8"
             ],
             [
              0.3333333333333333,
              "#9c179e"
             ],
             [
              0.4444444444444444,
              "#bd3786"
             ],
             [
              0.5555555555555556,
              "#d8576b"
             ],
             [
              0.6666666666666666,
              "#ed7953"
             ],
             [
              0.7777777777777778,
              "#fb9f3a"
             ],
             [
              0.8888888888888888,
              "#fdca26"
             ],
             [
              1,
              "#f0f921"
             ]
            ],
            "type": "histogram2dcontour"
           }
          ],
          "mesh3d": [
           {
            "colorbar": {
             "outlinewidth": 0,
             "ticks": ""
            },
            "type": "mesh3d"
           }
          ],
          "parcoords": [
           {
            "line": {
             "colorbar": {
              "outlinewidth": 0,
              "ticks": ""
             }
            },
            "type": "parcoords"
           }
          ],
          "pie": [
           {
            "automargin": true,
            "type": "pie"
           }
          ],
          "scatter": [
           {
            "fillpattern": {
             "fillmode": "overlay",
             "size": 10,
             "solidity": 0.2
            },
            "type": "scatter"
           }
          ],
          "scatter3d": [
           {
            "line": {
             "colorbar": {
              "outlinewidth": 0,
              "ticks": ""
             }
            },
            "marker": {
             "colorbar": {
              "outlinewidth": 0,
              "ticks": ""
             }
            },
            "type": "scatter3d"
           }
          ],
          "scattercarpet": [
           {
            "marker": {
             "colorbar": {
              "outlinewidth": 0,
              "ticks": ""
             }
            },
            "type": "scattercarpet"
           }
          ],
          "scattergeo": [
           {
            "marker": {
             "colorbar": {
              "outlinewidth": 0,
              "ticks": ""
             }
            },
            "type": "scattergeo"
           }
          ],
          "scattergl": [
           {
            "marker": {
             "colorbar": {
              "outlinewidth": 0,
              "ticks": ""
             }
            },
            "type": "scattergl"
           }
          ],
          "scattermap": [
           {
            "marker": {
             "colorbar": {
              "outlinewidth": 0,
              "ticks": ""
             }
            },
            "type": "scattermap"
           }
          ],
          "scattermapbox": [
           {
            "marker": {
             "colorbar": {
              "outlinewidth": 0,
              "ticks": ""
             }
            },
            "type": "scattermapbox"
           }
          ],
          "scatterpolar": [
           {
            "marker": {
             "colorbar": {
              "outlinewidth": 0,
              "ticks": ""
             }
            },
            "type": "scatterpolar"
           }
          ],
          "scatterpolargl": [
           {
            "marker": {
             "colorbar": {
              "outlinewidth": 0,
              "ticks": ""
             }
            },
            "type": "scatterpolargl"
           }
          ],
          "scatterternary": [
           {
            "marker": {
             "colorbar": {
              "outlinewidth": 0,
              "ticks": ""
             }
            },
            "type": "scatterternary"
           }
          ],
          "surface": [
           {
            "colorbar": {
             "outlinewidth": 0,
             "ticks": ""
            },
            "colorscale": [
             [
              0,
              "#0d0887"
             ],
             [
              0.1111111111111111,
              "#46039f"
             ],
             [
              0.2222222222222222,
              "#7201a8"
             ],
             [
              0.3333333333333333,
              "#9c179e"
             ],
             [
              0.4444444444444444,
              "#bd3786"
             ],
             [
              0.5555555555555556,
              "#d8576b"
             ],
             [
              0.6666666666666666,
              "#ed7953"
             ],
             [
              0.7777777777777778,
              "#fb9f3a"
             ],
             [
              0.8888888888888888,
              "#fdca26"
             ],
             [
              1,
              "#f0f921"
             ]
            ],
            "type": "surface"
           }
          ],
          "table": [
           {
            "cells": {
             "fill": {
              "color": "#EBF0F8"
             },
             "line": {
              "color": "white"
             }
            },
            "header": {
             "fill": {
              "color": "#C8D4E3"
             },
             "line": {
              "color": "white"
             }
            },
            "type": "table"
           }
          ]
         },
         "layout": {
          "annotationdefaults": {
           "arrowcolor": "#2a3f5f",
           "arrowhead": 0,
           "arrowwidth": 1
          },
          "autotypenumbers": "strict",
          "coloraxis": {
           "colorbar": {
            "outlinewidth": 0,
            "ticks": ""
           }
          },
          "colorscale": {
           "diverging": [
            [
             0,
             "#8e0152"
            ],
            [
             0.1,
             "#c51b7d"
            ],
            [
             0.2,
             "#de77ae"
            ],
            [
             0.3,
             "#f1b6da"
            ],
            [
             0.4,
             "#fde0ef"
            ],
            [
             0.5,
             "#f7f7f7"
            ],
            [
             0.6,
             "#e6f5d0"
            ],
            [
             0.7,
             "#b8e186"
            ],
            [
             0.8,
             "#7fbc41"
            ],
            [
             0.9,
             "#4d9221"
            ],
            [
             1,
             "#276419"
            ]
           ],
           "sequential": [
            [
             0,
             "#0d0887"
            ],
            [
             0.1111111111111111,
             "#46039f"
            ],
            [
             0.2222222222222222,
             "#7201a8"
            ],
            [
             0.3333333333333333,
             "#9c179e"
            ],
            [
             0.4444444444444444,
             "#bd3786"
            ],
            [
             0.5555555555555556,
             "#d8576b"
            ],
            [
             0.6666666666666666,
             "#ed7953"
            ],
            [
             0.7777777777777778,
             "#fb9f3a"
            ],
            [
             0.8888888888888888,
             "#fdca26"
            ],
            [
             1,
             "#f0f921"
            ]
           ],
           "sequentialminus": [
            [
             0,
             "#0d0887"
            ],
            [
             0.1111111111111111,
             "#46039f"
            ],
            [
             0.2222222222222222,
             "#7201a8"
            ],
            [
             0.3333333333333333,
             "#9c179e"
            ],
            [
             0.4444444444444444,
             "#bd3786"
            ],
            [
             0.5555555555555556,
             "#d8576b"
            ],
            [
             0.6666666666666666,
             "#ed7953"
            ],
            [
             0.7777777777777778,
             "#fb9f3a"
            ],
            [
             0.8888888888888888,
             "#fdca26"
            ],
            [
             1,
             "#f0f921"
            ]
           ]
          },
          "colorway": [
           "#636efa",
           "#EF553B",
           "#00cc96",
           "#ab63fa",
           "#FFA15A",
           "#19d3f3",
           "#FF6692",
           "#B6E880",
           "#FF97FF",
           "#FECB52"
          ],
          "font": {
           "color": "#2a3f5f"
          },
          "geo": {
           "bgcolor": "white",
           "lakecolor": "white",
           "landcolor": "#E5ECF6",
           "showlakes": true,
           "showland": true,
           "subunitcolor": "white"
          },
          "hoverlabel": {
           "align": "left"
          },
          "hovermode": "closest",
          "mapbox": {
           "style": "light"
          },
          "paper_bgcolor": "white",
          "plot_bgcolor": "#E5ECF6",
          "polar": {
           "angularaxis": {
            "gridcolor": "white",
            "linecolor": "white",
            "ticks": ""
           },
           "bgcolor": "#E5ECF6",
           "radialaxis": {
            "gridcolor": "white",
            "linecolor": "white",
            "ticks": ""
           }
          },
          "scene": {
           "xaxis": {
            "backgroundcolor": "#E5ECF6",
            "gridcolor": "white",
            "gridwidth": 2,
            "linecolor": "white",
            "showbackground": true,
            "ticks": "",
            "zerolinecolor": "white"
           },
           "yaxis": {
            "backgroundcolor": "#E5ECF6",
            "gridcolor": "white",
            "gridwidth": 2,
            "linecolor": "white",
            "showbackground": true,
            "ticks": "",
            "zerolinecolor": "white"
           },
           "zaxis": {
            "backgroundcolor": "#E5ECF6",
            "gridcolor": "white",
            "gridwidth": 2,
            "linecolor": "white",
            "showbackground": true,
            "ticks": "",
            "zerolinecolor": "white"
           }
          },
          "shapedefaults": {
           "line": {
            "color": "#2a3f5f"
           }
          },
          "ternary": {
           "aaxis": {
            "gridcolor": "white",
            "linecolor": "white",
            "ticks": ""
           },
           "baxis": {
            "gridcolor": "white",
            "linecolor": "white",
            "ticks": ""
           },
           "bgcolor": "#E5ECF6",
           "caxis": {
            "gridcolor": "white",
            "linecolor": "white",
            "ticks": ""
           }
          },
          "title": {
           "x": 0.05
          },
          "xaxis": {
           "automargin": true,
           "gridcolor": "white",
           "linecolor": "white",
           "ticks": "",
           "title": {
            "standoff": 15
           },
           "zerolinecolor": "white",
           "zerolinewidth": 2
          },
          "yaxis": {
           "automargin": true,
           "gridcolor": "white",
           "linecolor": "white",
           "ticks": "",
           "title": {
            "standoff": 15
           },
           "zerolinecolor": "white",
           "zerolinewidth": 2
          }
         }
        },
        "title": {
         "font": {
          "size": 12
         },
         "text": "State Transitions  - Agents Count<br> (DwtPlotter.sankey_agents())"
        }
       }
      }
     },
     "metadata": {},
     "output_type": "display_data"
    }
   ],
   "source": [
    "# Basic Sankey diagram for all agents\n",
    "analyzer.sankey_agents()\n"
   ]
  },
  {
   "cell_type": "code",
   "execution_count": null,
   "id": "54c18025",
   "metadata": {},
   "outputs": [],
   "source": [
    "\n",
    "# Sankey diagram with dwell times\n",
    "analyzer.sankey_dwelltimes(subtitle=\"State Transitions with Dwell Times\")\n"
   ]
  },
  {
   "cell_type": "code",
   "execution_count": null,
   "id": "2fe7e7ec",
   "metadata": {},
   "outputs": [],
   "source": [
    "\n",
    "# Sankey diagrams by age groups\n",
    "analyzer.sankey_agents_by_age_subplots(bins=[0, 5, 15, 30, 50, 200], scenario=\"Age-stratified Analysis\")\n"
   ]
  },
  {
   "cell_type": "code",
   "execution_count": null,
   "id": "3dd5878f",
   "metadata": {},
   "outputs": [],
   "source": [
    "\n",
    "# Sankey diagrams with even age ranges\n",
    "analyzer.sankey_agents_even_age_ranges(number_of_plots=3, scenario=\"Even Age Distribution\")"
   ]
  },
  {
   "cell_type": "markdown",
   "id": "6381fa47",
   "metadata": {},
   "source": [
    "## 2. Network Graphs\n",
    "Visualize state transition networks."
   ]
  },
  {
   "cell_type": "code",
   "execution_count": null,
   "id": "6ff86554",
   "metadata": {},
   "outputs": [],
   "source": [
    "analyzer.graph_state_transitions(subtitle=\"State Transition Network\", colormap='tab20')\n"
   ]
  },
  {
   "cell_type": "code",
   "execution_count": null,
   "id": "9454e47e",
   "metadata": {},
   "outputs": [],
   "source": [
    "\n",
    "analyzer.graph_state_transitions_curved(subtitle=\"Curved State Transitions\", colormap='plasma')"
   ]
  },
  {
   "cell_type": "markdown",
   "id": "ce1b7215",
   "metadata": {},
   "source": [
    "## 3. Histograms and Distributions\n",
    "Explore dwell time distributions."
   ]
  },
  {
   "cell_type": "code",
   "execution_count": null,
   "id": "558829fa",
   "metadata": {},
   "outputs": [],
   "source": [
    "help(analyzer.histogram_with_kde)\n",
    "\n"
   ]
  },
  {
   "cell_type": "markdown",
   "id": "d716b2d1",
   "metadata": {},
   "source": [
    "## 4. Interactive Bar Charts\n",
    "Interactive bar charts for state transitions and reinfections."
   ]
  },
  {
   "cell_type": "code",
   "execution_count": null,
   "id": "1f2a960e",
   "metadata": {},
   "outputs": [],
   "source": [
    "analyzer.barchar_all_state_transitions_interactive(\n",
    "    dwell_time_bins=[0, 30, 90, 180, 365, float('inf')],\n",
    "    filter_states=['-1.None', '0.Latent Slow', '1.Latent Fast', '2.Active Presymp']\n",
    ")\n",
    "\n"
   ]
  },
  {
   "cell_type": "code",
   "execution_count": null,
   "id": "113c6213",
   "metadata": {},
   "outputs": [],
   "source": [
    "\n",
    "analyzer.reinfections_age_bins_bars_interactive(\n",
    "    target_states=[0.0, 1.0],\n",
    "    barmode='group',\n",
    "    scenario=\"Age-stratified Reinfection Analysis\"\n",
    ")\n"
   ]
  },
  {
   "cell_type": "code",
   "execution_count": null,
   "id": "18a1ab85",
   "metadata": {},
   "outputs": [],
   "source": [
    "analyzer.reinfections_percents_bars_interactive(\n",
    "    target_states=[0.0, 1.0],\n",
    "    scenario=\"Population Reinfection Analysis\"\n",
    ")\n",
    "\n",
    "analyzer.reinfections_bystates_bars_interactive(\n",
    "    target_states=[0.0, 1.0],\n",
    "    scenario=\"State Transition Reinfection Analysis\",\n",
    "    barmode='group'\n",
    ")"
   ]
  },
  {
   "cell_type": "markdown",
   "id": "6e5b92a7",
   "metadata": {},
   "source": [
    "## 5. Stacked Bar Charts\n",
    "Stacked bar charts for cumulative time and dwell time analysis."
   ]
  },
  {
   "cell_type": "code",
   "execution_count": null,
   "id": "82c58ef8",
   "metadata": {},
   "outputs": [],
   "source": [
    "analyzer.stacked_bars_states_per_agent_static()\n",
    "analyzer.stackedbars_dwelltime_state_interactive(bin_size=5, num_bins=15)\n",
    "analyzer.stackedbars_subplots_state_transitions(bin_size=2, num_bins=25)"
   ]
  },
  {
   "cell_type": "markdown",
   "id": "14a1718b",
   "metadata": {},
   "source": [
    "## 6. Custom Transition Analysis\n",
    "Custom transition subplots."
   ]
  },
  {
   "cell_type": "code",
   "execution_count": null,
   "id": "22abcc72",
   "metadata": {},
   "outputs": [],
   "source": [
    "custom_transitions = {\n",
    "    '-1.0.None': ['0.0.Latent Slow', '1.0.Latent Fast'],\n",
    "    '0.0.Latent Slow': ['2.0.Active Presymp', '-1.0.None'],\n",
    "    '1.0.Latent Fast': ['2.0.Active Presymp', '-1.0.None']\n",
    "}\n",
    "analyzer.subplot_custom_transitions(transitions_dict=custom_transitions)"
   ]
  },
  {
   "cell_type": "markdown",
   "id": "5d89270c",
   "metadata": {},
   "source": [
    "## 7. Survival Analysis\n",
    "Kaplan-Meier survival curve for dwell times."
   ]
  },
  {
   "cell_type": "code",
   "execution_count": null,
   "id": "3c53750c",
   "metadata": {},
   "outputs": [],
   "source": [
    "analyzer.plot_kaplan_meier(dwell_time_col='dwell_time')"
   ]
  },
  {
   "cell_type": "markdown",
   "id": "e9e988ae",
   "metadata": {},
   "source": [
    "## 8. Using DwtPlotter Directly\n",
    "Demonstrate additional plots using the DwtPlotter class."
   ]
  },
  {
   "cell_type": "code",
   "execution_count": null,
   "id": "6b05aa24",
   "metadata": {},
   "outputs": [],
   "source": [
    "file_path = analyzer.file_path\n",
    "print(f'Generated data file: {file_path}')\n",
    "plotter = mtb.DwtPlotter(file_path=file_path)\n",
    "plotter.histogram_with_kde(subtitle=\"From Generated File\")\n",
    "plotter.sankey_agents(subtitle=\"From Generated File\")"
   ]
  },
  {
   "cell_type": "markdown",
   "id": "3e33910f",
   "metadata": {},
   "source": [
    "## 9. Post Processor Demonstration\n",
    "Example usage of the DwtPostProcessor for multiple simulation results. (This is informational; actual usage requires multiple result files.)"
   ]
  },
  {
   "cell_type": "code",
   "execution_count": null,
   "id": "1ce5320a",
   "metadata": {},
   "outputs": [],
   "source": [
    "# Example usage (commented out):\n",
    "# postproc = mtb.DwtPostProcessor(directory='results', prefix='Baseline')\n",
    "# postproc.sankey_agents(subtitle=\"Aggregated Results\")\n",
    "# postproc.histogram_with_kde(subtitle=\"Aggregated Distributions\")\n",
    "# postproc.reinfections_percents_bars_interactive(\n",
    "#     target_states=[0.0, 1.0],\n",
    "#     scenario=\"Aggregated Reinfection Analysis\"\n",
    "# )"
   ]
  }
 ],
 "metadata": {
  "kernelspec": {
   "display_name": "venv",
   "language": "python",
   "name": "python3"
  },
  "language_info": {
   "codemirror_mode": {
    "name": "ipython",
    "version": 3
   },
   "file_extension": ".py",
   "mimetype": "text/x-python",
   "name": "python",
   "nbconvert_exporter": "python",
   "pygments_lexer": "ipython3",
   "version": "3.12.8"
  }
 },
 "nbformat": 4,
 "nbformat_minor": 5
}
