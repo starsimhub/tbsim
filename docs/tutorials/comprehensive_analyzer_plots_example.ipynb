{
 "cells": [
  {
   "cell_type": "markdown",
   "id": "396fe94b",
   "metadata": {},
   "source": [
    "# Comprehensive Analyzer Plots Example\n",
    "This notebook demonstrates all available plotting methods in the `DwtAnalyzer` class from the `tbsim` package. It is adapted from the original Python script for interactive exploration."
   ]
  },
  {
   "cell_type": "code",
   "execution_count": null,
   "id": "f0c53a6d",
   "metadata": {},
   "outputs": [],
   "source": [
    "import tbsim as mtb\n",
    "import starsim as ss\n",
    "import sciris as sc\n",
    "import matplotlib.pyplot as plt\n",
    "import numpy as np\n",
    "import scipy.stats as stats\n",
    "TBS = mtb.TBS"
   ]
  },
  {
   "cell_type": "markdown",
   "id": "27b0fece",
   "metadata": {},
   "source": [
    "## Build a TB simulation with dwell time analyzer"
   ]
  },
  {
   "cell_type": "code",
   "execution_count": null,
   "id": "23039f35",
   "metadata": {},
   "outputs": [],
   "source": [
    "def build_tbsim(sim_pars=None):\n",
    "    sim_params = dict(\n",
    "        start = ss.date('2013-01-01'),\n",
    "        stop = ss.date('2016-12-31'),\n",
    "        rand_seed=123,\n",
    "        \n",
    "        dt=7,\n",
    "    )\n",
    "    if sim_pars is not None:\n",
    "        sim_params.update(sim_pars)\n",
    "    pop = ss.People(n_agents=1000)\n",
    "    tb_params = dict(\n",
    "        beta=ss.peryear(0.0025),\n",
    "        init_prev=ss.bernoulli(p=0.25),\n",
    "        rel_sus_latentslow=0.1,\n",
    "        \n",
    "    )\n",
    "    tb = mtb.TB(tb_params)\n",
    "    net = ss.RandomNet(dict(n_contacts=ss.poisson(lam=5), dur=0))\n",
    "    dwell_analyzer = mtb.DwtAnalyzer(adjust_to_unit=True, unit=1.0, scenario_name='comprehensive_plots_example')\n",
    "    sim = ss.Sim(\n",
    "        people=pop,\n",
    "        networks=net,\n",
    "        diseases=tb,\n",
    "        pars=sim_params,\n",
    "        analyzers=dwell_analyzer,\n",
    "    )\n",
    "    sim.pars.verbose = 30/365\n",
    "    return sim"
   ]
  },
  {
   "cell_type": "markdown",
   "id": "c5eeca6f",
   "metadata": {},
   "source": [
    "## Run the simulation and extract the analyzer"
   ]
  },
  {
   "cell_type": "code",
   "execution_count": null,
   "id": "4d3f96e3",
   "metadata": {},
   "outputs": [],
   "source": [
    "print(\"Building and running TB simulation...\")\n",
    "sim_tb = build_tbsim()\n"
   ]
  },
  {
   "cell_type": "code",
   "execution_count": null,
   "id": "717b010a",
   "metadata": {},
   "outputs": [],
   "source": [
    "\n",
    "sim_tb.run()\n",
    "analyzer = sim_tb.analyzers[0]"
   ]
  },
  {
   "cell_type": "markdown",
   "id": "6844b798",
   "metadata": {},
   "source": [
    "## 1. Sankey Diagrams\n",
    "Demonstrate Sankey diagrams for state transitions."
   ]
  },
  {
   "cell_type": "code",
   "execution_count": null,
   "id": "5e9069b4",
   "metadata": {},
   "outputs": [],
   "source": [
    "# Basic Sankey diagram for all agents\n",
    "analyzer.sankey_agents()\n"
   ]
  },
  {
   "cell_type": "code",
   "execution_count": null,
   "id": "54c18025",
   "metadata": {},
   "outputs": [],
   "source": [
    "\n",
    "# Sankey diagram with dwell times\n",
    "analyzer.sankey_dwelltimes(subtitle=\"State Transitions with Dwell Times\")\n"
   ]
  },
  {
   "cell_type": "code",
   "execution_count": null,
   "id": "2fe7e7ec",
   "metadata": {},
   "outputs": [],
   "source": [
    "\n",
    "# Sankey diagrams by age groups\n",
    "analyzer.sankey_agents_by_age_subplots(bins=[0, 5, 15, 30, 50, 200], scenario=\"Age-stratified Analysis\")\n"
   ]
  },
  {
   "cell_type": "code",
   "execution_count": null,
   "id": "3dd5878f",
   "metadata": {},
   "outputs": [],
   "source": [
    "\n",
    "# Sankey diagrams with even age ranges\n",
    "analyzer.sankey_agents_even_age_ranges(number_of_plots=3, scenario=\"Even Age Distribution\")"
   ]
  },
  {
   "cell_type": "markdown",
   "id": "6381fa47",
   "metadata": {},
   "source": [
    "## 2. Network Graphs\n",
    "Visualize state transition networks."
   ]
  },
  {
   "cell_type": "code",
   "execution_count": null,
   "id": "6ff86554",
   "metadata": {},
   "outputs": [],
   "source": [
    "analyzer.graph_state_transitions(subtitle=\"State Transition Network\", colormap='tab20')\n"
   ]
  },
  {
   "cell_type": "code",
   "execution_count": null,
   "id": "9454e47e",
   "metadata": {},
   "outputs": [],
   "source": [
    "\n",
    "analyzer.graph_state_transitions_curved(subtitle=\"Curved State Transitions\", colormap='plasma')"
   ]
  },
  {
   "cell_type": "markdown",
   "id": "ce1b7215",
   "metadata": {},
   "source": [
    "## 3. Histograms and Distributions\n",
    "Explore dwell time distributions."
   ]
  },
  {
   "cell_type": "code",
   "execution_count": null,
   "id": "558829fa",
   "metadata": {},
   "outputs": [],
   "source": [
    "help(analyzer.histogram_with_kde)\n",
    "\n"
   ]
  },
  {
   "cell_type": "markdown",
   "id": "d716b2d1",
   "metadata": {},
   "source": [
    "## 4. Interactive Bar Charts\n",
    "Interactive bar charts for state transitions and reinfections."
   ]
  },
  {
   "cell_type": "code",
   "execution_count": null,
   "id": "1f2a960e",
   "metadata": {},
   "outputs": [],
   "source": [
    "analyzer.barchar_all_state_transitions_interactive(\n",
    "    dwell_time_bins=[0, 30, 90, 180, 365, float('inf')],\n",
    "    filter_states=['-1.0.None', '0.0.Latent Slow', '1.0.Latent Fast', '2.0.Active Presymp']\n",
    ")\n",
    "\n"
   ]
  },
  {
   "cell_type": "code",
   "execution_count": null,
   "id": "113c6213",
   "metadata": {},
   "outputs": [],
   "source": [
    "\n",
    "analyzer.reinfections_age_bins_bars_interactive(\n",
    "    target_states=[0.0, 1.0],\n",
    "    barmode='group',\n",
    "    scenario=\"Age-stratified Reinfection Analysis\"\n",
    ")\n"
   ]
  },
  {
   "cell_type": "code",
   "execution_count": null,
   "id": "18a1ab85",
   "metadata": {},
   "outputs": [],
   "source": [
    "analyzer.reinfections_percents_bars_interactive(\n",
    "    target_states=[0.0, 1.0],\n",
    "    scenario=\"Population Reinfection Analysis\"\n",
    ")\n",
    "\n",
    "analyzer.reinfections_bystates_bars_interactive(\n",
    "    target_states=[0.0, 1.0],\n",
    "    scenario=\"State Transition Reinfection Analysis\",\n",
    "    barmode='group'\n",
    ")"
   ]
  },
  {
   "cell_type": "markdown",
   "id": "6e5b92a7",
   "metadata": {},
   "source": [
    "## 5. Stacked Bar Charts\n",
    "Stacked bar charts for cumulative time and dwell time analysis."
   ]
  },
  {
   "cell_type": "code",
   "execution_count": null,
   "id": "82c58ef8",
   "metadata": {},
   "outputs": [],
   "source": [
    "analyzer.stacked_bars_states_per_agent_static()\n",
    "analyzer.stackedbars_dwelltime_state_interactive(bin_size=5, num_bins=15)\n",
    "analyzer.stackedbars_subplots_state_transitions(bin_size=2, num_bins=25)"
   ]
  },
  {
   "cell_type": "markdown",
   "id": "14a1718b",
   "metadata": {},
   "source": [
    "## 6. Custom Transition Analysis\n",
    "Custom transition subplots."
   ]
  },
  {
   "cell_type": "code",
   "execution_count": null,
   "id": "22abcc72",
   "metadata": {},
   "outputs": [],
   "source": [
    "custom_transitions = {\n",
    "    '-1.0.None': ['0.0.Latent Slow', '1.0.Latent Fast'],\n",
    "    '0.0.Latent Slow': ['2.0.Active Presymp', '-1.0.None'],\n",
    "    '1.0.Latent Fast': ['2.0.Active Presymp', '-1.0.None']\n",
    "}\n",
    "analyzer.subplot_custom_transitions(transitions_dict=custom_transitions)"
   ]
  },
  {
   "cell_type": "markdown",
   "id": "5d89270c",
   "metadata": {},
   "source": [
    "## 7. Survival Analysis\n",
    "Kaplan-Meier survival curve for dwell times."
   ]
  },
  {
   "cell_type": "code",
   "execution_count": null,
   "id": "3c53750c",
   "metadata": {},
   "outputs": [],
   "source": [
    "analyzer.plot_kaplan_meier(dwell_time_col='dwell_time')"
   ]
  },
  {
   "cell_type": "markdown",
   "id": "e9e988ae",
   "metadata": {},
   "source": [
    "## 8. Using DwtPlotter Directly\n",
    "Demonstrate additional plots using the DwtPlotter class."
   ]
  },
  {
   "cell_type": "code",
   "execution_count": null,
   "id": "6b05aa24",
   "metadata": {},
   "outputs": [],
   "source": [
    "file_path = analyzer.file_path\n",
    "print(f'Generated data file: {file_path}')\n",
    "plotter = mtb.DwtPlotter(file_path=file_path)\n",
    "plotter.histogram_with_kde(subtitle=\"From Generated File\")\n",
    "plotter.sankey_agents(subtitle=\"From Generated File\")"
   ]
  },
  {
   "cell_type": "markdown",
   "id": "3e33910f",
   "metadata": {},
   "source": [
    "## 9. Post Processor Demonstration\n",
    "Example usage of the DwtPostProcessor for multiple simulation results. (This is informational; actual usage requires multiple result files.)"
   ]
  },
  {
   "cell_type": "code",
   "execution_count": null,
   "id": "1ce5320a",
   "metadata": {},
   "outputs": [],
   "source": [
    "# Example usage (commented out):\n",
    "# postproc = mtb.DwtPostProcessor(directory='results', prefix='Baseline')\n",
    "# postproc.sankey_agents(subtitle=\"Aggregated Results\")\n",
    "# postproc.histogram_with_kde(subtitle=\"Aggregated Distributions\")\n",
    "# postproc.reinfections_percents_bars_interactive(\n",
    "#     target_states=[0.0, 1.0],\n",
    "#     scenario=\"Aggregated Reinfection Analysis\"\n",
    "# )"
   ]
  }
 ],
 "metadata": {
  "kernelspec": {
   "display_name": "venv",
   "language": "python",
   "name": "python3"
  },
  "language_info": {
   "codemirror_mode": {
    "name": "ipython",
    "version": 3
   },
   "file_extension": ".py",
   "mimetype": "text/x-python",
   "name": "python",
   "nbconvert_exporter": "python",
   "pygments_lexer": "ipython3",
   "version": "3.12.8"
  }
 },
 "nbformat": 4,
 "nbformat_minor": 5
}
