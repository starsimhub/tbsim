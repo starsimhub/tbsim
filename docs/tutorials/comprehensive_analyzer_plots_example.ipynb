{
 "cells": [
  {
   "cell_type": "markdown",
   "id": "396fe94b",
   "metadata": {},
   "source": [
    "# Comprehensive Analyzer Plots Example\n",
    "This notebook demonstrates all available plotting methods in the `DwtAnalyzer` class from the `tbsim` package. It is adapted from the original Python script for interactive exploration."
   ]
  },
  {
   "cell_type": "code",
   "execution_count": 5,
   "id": "f0c53a6d",
   "metadata": {},
   "outputs": [
    {
     "name": "stderr",
     "output_type": "stream",
     "text": [
      "/Users/mine/git/tbdocs/venv/lib/python3.12/site-packages/tqdm/auto.py:21: TqdmWarning: IProgress not found. Please update jupyter and ipywidgets. See https://ipywidgets.readthedocs.io/en/stable/user_install.html\n",
      "  from .autonotebook import tqdm as notebook_tqdm\n"
     ]
    }
   ],
   "source": [
    "import tbsim as mtb\n",
    "import starsim as ss\n",
    "import sciris as sc\n",
    "import matplotlib.pyplot as plt\n",
    "import numpy as np\n",
    "import scipy.stats as stats\n",
    "TBS = mtb.TBS"
   ]
  },
  {
   "cell_type": "markdown",
   "id": "27b0fece",
   "metadata": {},
   "source": [
    "## Build a TB simulation with dwell time analyzer"
   ]
  },
  {
   "cell_type": "code",
   "execution_count": 6,
   "id": "23039f35",
   "metadata": {},
   "outputs": [],
   "source": [
    "def build_tbsim(sim_pars=None):\n",
    "    sim_params = dict(\n",
    "        start = sc.date('2013-01-01'),\n",
    "        stop = sc.date('2016-12-31'),\n",
    "        rand_seed=123,\n",
    "        unit='day',\n",
    "        dt=7,\n",
    "    )\n",
    "    if sim_pars is not None:\n",
    "        sim_params.update(sim_pars)\n",
    "    pop = ss.People(n_agents=1000)\n",
    "    tb_params = dict(\n",
    "        beta=ss.rate_prob(0.0025),\n",
    "        init_prev=ss.bernoulli(p=0.25),\n",
    "        rel_sus_latentslow=0.1,\n",
    "        unit='day'\n",
    "    )\n",
    "    tb = mtb.TB(tb_params)\n",
    "    net = ss.RandomNet(dict(n_contacts=ss.poisson(lam=5), dur=0))\n",
    "    dwell_analyzer = mtb.DwtAnalyzer(adjust_to_unit=True, unit=1.0, scenario_name='comprehensive_plots_example')\n",
    "    sim = ss.Sim(\n",
    "        people=pop,\n",
    "        networks=net,\n",
    "        diseases=tb,\n",
    "        pars=sim_params,\n",
    "        analyzers=dwell_analyzer,\n",
    "    )\n",
    "    sim.pars.verbose = 30/365\n",
    "    return sim"
   ]
  },
  {
   "cell_type": "markdown",
   "id": "c5eeca6f",
   "metadata": {},
   "source": [
    "## Run the simulation and extract the analyzer"
   ]
  },
  {
   "cell_type": "code",
   "execution_count": 7,
   "id": "4d3f96e3",
   "metadata": {},
   "outputs": [
    {
     "name": "stdout",
     "output_type": "stream",
     "text": [
      "Building and running TB simulation...\n",
      "No dwell time data available to plot.\n",
      "No data provided, or data is corrupted\n",
      "Initializing sim with 1000 agents\n",
      "  Running 2013.01.01 ( 0/209) (0.00 s)  ———————————————————— 0%\n",
      "  Running 2013.03.26 (12/209) (0.03 s)  •——————————————————— 6%\n",
      "  Running 2013.06.18 (24/209) (0.06 s)  ••—————————————————— 12%\n",
      "  Running 2013.09.10 (36/209) (0.09 s)  •••————————————————— 18%\n",
      "  Running 2013.12.03 (48/209) (0.11 s)  ••••———————————————— 23%\n",
      "  Running 2014.02.25 (60/209) (0.14 s)  •••••——————————————— 29%\n",
      "  Running 2014.05.20 (72/209) (0.16 s)  ••••••—————————————— 35%\n",
      "  Running 2014.08.12 (84/209) (0.19 s)  ••••••••———————————— 41%\n",
      "  Running 2014.11.04 (96/209) (0.21 s)  •••••••••——————————— 46%\n",
      "  Running 2015.01.27 (108/209) (0.24 s)  ••••••••••—————————— 52%\n",
      "  Running 2015.04.21 (120/209) (0.27 s)  •••••••••••————————— 58%\n",
      "  Running 2015.07.14 (132/209) (0.29 s)  ••••••••••••———————— 64%\n",
      "  Running 2015.10.06 (144/209) (0.32 s)  •••••••••••••——————— 69%\n",
      "  Running 2015.12.29 (156/209) (0.36 s)  •••••••••••••••————— 75%\n",
      "  Running 2016.03.22 (168/209) (0.39 s)  ••••••••••••••••———— 81%\n",
      "  Running 2016.06.14 (180/209) (0.42 s)  •••••••••••••••••——— 87%\n",
      "  Running 2016.09.06 (192/209) (0.45 s)  ••••••••••••••••••—— 92%\n",
      "  Running 2016.11.29 (204/209) (0.48 s)  •••••••••••••••••••— 98%\n",
      "===> Dwell time logs saved to:\n",
      " /Users/mine/git/tbdocs/docs/tutorials/results/comprehensiveplotsexample-0728103312.csv\n",
      "\n"
     ]
    }
   ],
   "source": [
    "print(\"Building and running TB simulation...\")\n",
    "sim_tb = build_tbsim()\n",
    "sim_tb.run()\n",
    "analyzer = sim_tb.analyzers[0]"
   ]
  },
  {
   "cell_type": "markdown",
   "id": "6844b798",
   "metadata": {},
   "source": [
    "## 1. Sankey Diagrams\n",
    "Demonstrate Sankey diagrams for state transitions."
   ]
  },
  {
   "cell_type": "code",
   "execution_count": 8,
   "id": "5e9069b4",
   "metadata": {},
   "outputs": [
    {
     "data": {
      "application/vnd.plotly.v1+json": {
       "config": {
        "plotlyServerURL": "https://plot.ly"
       },
       "data": [
        {
         "arrangement": "snap",
         "link": {
          "color": [
           "rgba(255.0, 127.0, 14.0, 0.5)",
           "rgba(255.0, 127.0, 14.0, 0.5)",
           "rgba(255.0, 127.0, 14.0, 0.5)",
           "rgba(255.0, 127.0, 14.0, 0.5)",
           "rgba(255.0, 127.0, 14.0, 0.5)",
           "rgba(255.0, 152.0, 150.0, 0.5)",
           "rgba(255.0, 152.0, 150.0, 0.5)",
           "rgba(255.0, 152.0, 150.0, 0.5)",
           "rgba(255.0, 152.0, 150.0, 0.5)",
           "rgba(255.0, 152.0, 150.0, 0.5)",
           "rgba(158.0, 218.0, 229.0, 0.5)",
           "rgba(158.0, 218.0, 229.0, 0.5)",
           "rgba(158.0, 218.0, 229.0, 0.5)",
           "rgba(158.0, 218.0, 229.0, 0.5)",
           "rgba(219.0, 219.0, 141.0, 0.5)",
           "rgba(219.0, 219.0, 141.0, 0.5)",
           "rgba(219.0, 219.0, 141.0, 0.5)",
           "rgba(31.0, 119.0, 180.0, 0.5)",
           "rgba(31.0, 119.0, 180.0, 0.5)",
           "rgba(152.0, 223.0, 138.0, 0.5)",
           "rgba(152.0, 223.0, 138.0, 0.5)"
          ],
          "hovertemplate": "%{source.label} → %{target.label}: %{value} agents<br>",
          "label": {
           "bdata": "DAKkATcAAQABAAEABwABAAEAAQApAAYAAgABAB8ACgAFAAsAAwADAAEA",
           "dtype": "i2"
          },
          "line": {
           "color": "lightgray",
           "width": 0.1
          },
          "source": {
           "bdata": "AQEBAQEDAwMDAwgICAgHBwcAAAIC",
           "dtype": "i1"
          },
          "target": {
           "bdata": "BgMIAAIIBwACBAcAAgQAAgQBBQEF",
           "dtype": "i1"
          },
          "value": {
           "bdata": "DAKkATcAAQABAAEABwABAAEAAQApAAYAAgABAB8ACgAFAAsAAwADAAEA",
           "dtype": "i2"
          }
         },
         "node": {
          "color": [
           "rgba(31.0, 119.0, 180.0, 1.0)",
           "rgba(255.0, 127.0, 14.0, 1.0)",
           "rgba(152.0, 223.0, 138.0, 1.0)",
           "rgba(255.0, 152.0, 150.0, 1.0)",
           "rgba(140.0, 86.0, 75.0, 1.0)",
           "rgba(227.0, 119.0, 194.0, 1.0)",
           "rgba(199.0, 199.0, 199.0, 1.0)",
           "rgba(219.0, 219.0, 141.0, 1.0)",
           "rgba(158.0, 218.0, 229.0, 1.0)"
          ],
          "label": [
           "3.0.Active Smpos",
           "-1.0.None",
           "4.0.Active Smneg",
           "0.0.Latent Slow",
           "5.0.Active Exptb",
           "8.0.Dead",
           "-2.0.NEVER INFECTED",
           "2.0.Active Presymp",
           "1.0.Latent Fast"
          ],
          "line": {
           "color": "black",
           "width": 0.2
          },
          "pad": 15,
          "thickness": 20
         },
         "type": "sankey"
        }
       ],
       "layout": {
        "font": {
         "color": "black",
         "size": 12
        },
        "hovermode": "x",
        "template": {
         "data": {
          "bar": [
           {
            "error_x": {
             "color": "#2a3f5f"
            },
            "error_y": {
             "color": "#2a3f5f"
            },
            "marker": {
             "line": {
              "color": "#E5ECF6",
              "width": 0.5
             },
             "pattern": {
              "fillmode": "overlay",
              "size": 10,
              "solidity": 0.2
             }
            },
            "type": "bar"
           }
          ],
          "barpolar": [
           {
            "marker": {
             "line": {
              "color": "#E5ECF6",
              "width": 0.5
             },
             "pattern": {
              "fillmode": "overlay",
              "size": 10,
              "solidity": 0.2
             }
            },
            "type": "barpolar"
           }
          ],
          "carpet": [
           {
            "aaxis": {
             "endlinecolor": "#2a3f5f",
             "gridcolor": "white",
             "linecolor": "white",
             "minorgridcolor": "white",
             "startlinecolor": "#2a3f5f"
            },
            "baxis": {
             "endlinecolor": "#2a3f5f",
             "gridcolor": "white",
             "linecolor": "white",
             "minorgridcolor": "white",
             "startlinecolor": "#2a3f5f"
            },
            "type": "carpet"
           }
          ],
          "choropleth": [
           {
            "colorbar": {
             "outlinewidth": 0,
             "ticks": ""
            },
            "type": "choropleth"
           }
          ],
          "contour": [
           {
            "colorbar": {
             "outlinewidth": 0,
             "ticks": ""
            },
            "colorscale": [
             [
              0,
              "#0d0887"
             ],
             [
              0.1111111111111111,
              "#46039f"
             ],
             [
              0.2222222222222222,
              "#7201a8"
             ],
             [
              0.3333333333333333,
              "#9c179e"
             ],
             [
              0.4444444444444444,
              "#bd3786"
             ],
             [
              0.5555555555555556,
              "#d8576b"
             ],
             [
              0.6666666666666666,
              "#ed7953"
             ],
             [
              0.7777777777777778,
              "#fb9f3a"
             ],
             [
              0.8888888888888888,
              "#fdca26"
             ],
             [
              1,
              "#f0f921"
             ]
            ],
            "type": "contour"
           }
          ],
          "contourcarpet": [
           {
            "colorbar": {
             "outlinewidth": 0,
             "ticks": ""
            },
            "type": "contourcarpet"
           }
          ],
          "heatmap": [
           {
            "colorbar": {
             "outlinewidth": 0,
             "ticks": ""
            },
            "colorscale": [
             [
              0,
              "#0d0887"
             ],
             [
              0.1111111111111111,
              "#46039f"
             ],
             [
              0.2222222222222222,
              "#7201a8"
             ],
             [
              0.3333333333333333,
              "#9c179e"
             ],
             [
              0.4444444444444444,
              "#bd3786"
             ],
             [
              0.5555555555555556,
              "#d8576b"
             ],
             [
              0.6666666666666666,
              "#ed7953"
             ],
             [
              0.7777777777777778,
              "#fb9f3a"
             ],
             [
              0.8888888888888888,
              "#fdca26"
             ],
             [
              1,
              "#f0f921"
             ]
            ],
            "type": "heatmap"
           }
          ],
          "histogram": [
           {
            "marker": {
             "pattern": {
              "fillmode": "overlay",
              "size": 10,
              "solidity": 0.2
             }
            },
            "type": "histogram"
           }
          ],
          "histogram2d": [
           {
            "colorbar": {
             "outlinewidth": 0,
             "ticks": ""
            },
            "colorscale": [
             [
              0,
              "#0d0887"
             ],
             [
              0.1111111111111111,
              "#46039f"
             ],
             [
              0.2222222222222222,
              "#7201a8"
             ],
             [
              0.3333333333333333,
              "#9c179e"
             ],
             [
              0.4444444444444444,
              "#bd3786"
             ],
             [
              0.5555555555555556,
              "#d8576b"
             ],
             [
              0.6666666666666666,
              "#ed7953"
             ],
             [
              0.7777777777777778,
              "#fb9f3a"
             ],
             [
              0.8888888888888888,
              "#fdca26"
             ],
             [
              1,
              "#f0f921"
             ]
            ],
            "type": "histogram2d"
           }
          ],
          "histogram2dcontour": [
           {
            "colorbar": {
             "outlinewidth": 0,
             "ticks": ""
            },
            "colorscale": [
             [
              0,
              "#0d0887"
             ],
             [
              0.1111111111111111,
              "#46039f"
             ],
             [
              0.2222222222222222,
              "#7201a8"
             ],
             [
              0.3333333333333333,
              "#9c179e"
             ],
             [
              0.4444444444444444,
              "#bd3786"
             ],
             [
              0.5555555555555556,
              "#d8576b"
             ],
             [
              0.6666666666666666,
              "#ed7953"
             ],
             [
              0.7777777777777778,
              "#fb9f3a"
             ],
             [
              0.8888888888888888,
              "#fdca26"
             ],
             [
              1,
              "#f0f921"
             ]
            ],
            "type": "histogram2dcontour"
           }
          ],
          "mesh3d": [
           {
            "colorbar": {
             "outlinewidth": 0,
             "ticks": ""
            },
            "type": "mesh3d"
           }
          ],
          "parcoords": [
           {
            "line": {
             "colorbar": {
              "outlinewidth": 0,
              "ticks": ""
             }
            },
            "type": "parcoords"
           }
          ],
          "pie": [
           {
            "automargin": true,
            "type": "pie"
           }
          ],
          "scatter": [
           {
            "fillpattern": {
             "fillmode": "overlay",
             "size": 10,
             "solidity": 0.2
            },
            "type": "scatter"
           }
          ],
          "scatter3d": [
           {
            "line": {
             "colorbar": {
              "outlinewidth": 0,
              "ticks": ""
             }
            },
            "marker": {
             "colorbar": {
              "outlinewidth": 0,
              "ticks": ""
             }
            },
            "type": "scatter3d"
           }
          ],
          "scattercarpet": [
           {
            "marker": {
             "colorbar": {
              "outlinewidth": 0,
              "ticks": ""
             }
            },
            "type": "scattercarpet"
           }
          ],
          "scattergeo": [
           {
            "marker": {
             "colorbar": {
              "outlinewidth": 0,
              "ticks": ""
             }
            },
            "type": "scattergeo"
           }
          ],
          "scattergl": [
           {
            "marker": {
             "colorbar": {
              "outlinewidth": 0,
              "ticks": ""
             }
            },
            "type": "scattergl"
           }
          ],
          "scattermap": [
           {
            "marker": {
             "colorbar": {
              "outlinewidth": 0,
              "ticks": ""
             }
            },
            "type": "scattermap"
           }
          ],
          "scattermapbox": [
           {
            "marker": {
             "colorbar": {
              "outlinewidth": 0,
              "ticks": ""
             }
            },
            "type": "scattermapbox"
           }
          ],
          "scatterpolar": [
           {
            "marker": {
             "colorbar": {
              "outlinewidth": 0,
              "ticks": ""
             }
            },
            "type": "scatterpolar"
           }
          ],
          "scatterpolargl": [
           {
            "marker": {
             "colorbar": {
              "outlinewidth": 0,
              "ticks": ""
             }
            },
            "type": "scatterpolargl"
           }
          ],
          "scatterternary": [
           {
            "marker": {
             "colorbar": {
              "outlinewidth": 0,
              "ticks": ""
             }
            },
            "type": "scatterternary"
           }
          ],
          "surface": [
           {
            "colorbar": {
             "outlinewidth": 0,
             "ticks": ""
            },
            "colorscale": [
             [
              0,
              "#0d0887"
             ],
             [
              0.1111111111111111,
              "#46039f"
             ],
             [
              0.2222222222222222,
              "#7201a8"
             ],
             [
              0.3333333333333333,
              "#9c179e"
             ],
             [
              0.4444444444444444,
              "#bd3786"
             ],
             [
              0.5555555555555556,
              "#d8576b"
             ],
             [
              0.6666666666666666,
              "#ed7953"
             ],
             [
              0.7777777777777778,
              "#fb9f3a"
             ],
             [
              0.8888888888888888,
              "#fdca26"
             ],
             [
              1,
              "#f0f921"
             ]
            ],
            "type": "surface"
           }
          ],
          "table": [
           {
            "cells": {
             "fill": {
              "color": "#EBF0F8"
             },
             "line": {
              "color": "white"
             }
            },
            "header": {
             "fill": {
              "color": "#C8D4E3"
             },
             "line": {
              "color": "white"
             }
            },
            "type": "table"
           }
          ]
         },
         "layout": {
          "annotationdefaults": {
           "arrowcolor": "#2a3f5f",
           "arrowhead": 0,
           "arrowwidth": 1
          },
          "autotypenumbers": "strict",
          "coloraxis": {
           "colorbar": {
            "outlinewidth": 0,
            "ticks": ""
           }
          },
          "colorscale": {
           "diverging": [
            [
             0,
             "#8e0152"
            ],
            [
             0.1,
             "#c51b7d"
            ],
            [
             0.2,
             "#de77ae"
            ],
            [
             0.3,
             "#f1b6da"
            ],
            [
             0.4,
             "#fde0ef"
            ],
            [
             0.5,
             "#f7f7f7"
            ],
            [
             0.6,
             "#e6f5d0"
            ],
            [
             0.7,
             "#b8e186"
            ],
            [
             0.8,
             "#7fbc41"
            ],
            [
             0.9,
             "#4d9221"
            ],
            [
             1,
             "#276419"
            ]
           ],
           "sequential": [
            [
             0,
             "#0d0887"
            ],
            [
             0.1111111111111111,
             "#46039f"
            ],
            [
             0.2222222222222222,
             "#7201a8"
            ],
            [
             0.3333333333333333,
             "#9c179e"
            ],
            [
             0.4444444444444444,
             "#bd3786"
            ],
            [
             0.5555555555555556,
             "#d8576b"
            ],
            [
             0.6666666666666666,
             "#ed7953"
            ],
            [
             0.7777777777777778,
             "#fb9f3a"
            ],
            [
             0.8888888888888888,
             "#fdca26"
            ],
            [
             1,
             "#f0f921"
            ]
           ],
           "sequentialminus": [
            [
             0,
             "#0d0887"
            ],
            [
             0.1111111111111111,
             "#46039f"
            ],
            [
             0.2222222222222222,
             "#7201a8"
            ],
            [
             0.3333333333333333,
             "#9c179e"
            ],
            [
             0.4444444444444444,
             "#bd3786"
            ],
            [
             0.5555555555555556,
             "#d8576b"
            ],
            [
             0.6666666666666666,
             "#ed7953"
            ],
            [
             0.7777777777777778,
             "#fb9f3a"
            ],
            [
             0.8888888888888888,
             "#fdca26"
            ],
            [
             1,
             "#f0f921"
            ]
           ]
          },
          "colorway": [
           "#636efa",
           "#EF553B",
           "#00cc96",
           "#ab63fa",
           "#FFA15A",
           "#19d3f3",
           "#FF6692",
           "#B6E880",
           "#FF97FF",
           "#FECB52"
          ],
          "font": {
           "color": "#2a3f5f"
          },
          "geo": {
           "bgcolor": "white",
           "lakecolor": "white",
           "landcolor": "#E5ECF6",
           "showlakes": true,
           "showland": true,
           "subunitcolor": "white"
          },
          "hoverlabel": {
           "align": "left"
          },
          "hovermode": "closest",
          "mapbox": {
           "style": "light"
          },
          "paper_bgcolor": "white",
          "plot_bgcolor": "#E5ECF6",
          "polar": {
           "angularaxis": {
            "gridcolor": "white",
            "linecolor": "white",
            "ticks": ""
           },
           "bgcolor": "#E5ECF6",
           "radialaxis": {
            "gridcolor": "white",
            "linecolor": "white",
            "ticks": ""
           }
          },
          "scene": {
           "xaxis": {
            "backgroundcolor": "#E5ECF6",
            "gridcolor": "white",
            "gridwidth": 2,
            "linecolor": "white",
            "showbackground": true,
            "ticks": "",
            "zerolinecolor": "white"
           },
           "yaxis": {
            "backgroundcolor": "#E5ECF6",
            "gridcolor": "white",
            "gridwidth": 2,
            "linecolor": "white",
            "showbackground": true,
            "ticks": "",
            "zerolinecolor": "white"
           },
           "zaxis": {
            "backgroundcolor": "#E5ECF6",
            "gridcolor": "white",
            "gridwidth": 2,
            "linecolor": "white",
            "showbackground": true,
            "ticks": "",
            "zerolinecolor": "white"
           }
          },
          "shapedefaults": {
           "line": {
            "color": "#2a3f5f"
           }
          },
          "ternary": {
           "aaxis": {
            "gridcolor": "white",
            "linecolor": "white",
            "ticks": ""
           },
           "baxis": {
            "gridcolor": "white",
            "linecolor": "white",
            "ticks": ""
           },
           "bgcolor": "#E5ECF6",
           "caxis": {
            "gridcolor": "white",
            "linecolor": "white",
            "ticks": ""
           }
          },
          "title": {
           "x": 0.05
          },
          "xaxis": {
           "automargin": true,
           "gridcolor": "white",
           "linecolor": "white",
           "ticks": "",
           "title": {
            "standoff": 15
           },
           "zerolinecolor": "white",
           "zerolinewidth": 2
          },
          "yaxis": {
           "automargin": true,
           "gridcolor": "white",
           "linecolor": "white",
           "ticks": "",
           "title": {
            "standoff": 15
           },
           "zerolinecolor": "white",
           "zerolinewidth": 2
          }
         }
        },
        "title": {
         "font": {
          "size": 12
         },
         "text": "State Transitions  - Agents Count<br> (DwtPlotter.sankey_agents())"
        }
       }
      }
     },
     "metadata": {},
     "output_type": "display_data"
    }
   ],
   "source": [
    "# Basic Sankey diagram for all agents\n",
    "analyzer.sankey_agents()\n"
   ]
  },
  {
   "cell_type": "code",
   "execution_count": 9,
   "id": "54c18025",
   "metadata": {},
   "outputs": [
    {
     "data": {
      "application/vnd.plotly.v1+json": {
       "config": {
        "plotlyServerURL": "https://plot.ly"
       },
       "data": [
        {
         "arrangement": "snap",
         "link": {
          "color": [
           "rgba(255.0, 127.0, 14.0, 0.5)",
           "rgba(255.0, 127.0, 14.0, 0.5)",
           "rgba(255.0, 127.0, 14.0, 0.5)",
           "rgba(255.0, 127.0, 14.0, 0.5)",
           "rgba(255.0, 127.0, 14.0, 0.5)",
           "rgba(255.0, 127.0, 14.0, 0.5)",
           "rgba(255.0, 127.0, 14.0, 0.5)",
           "rgba(255.0, 127.0, 14.0, 0.5)",
           "rgba(255.0, 127.0, 14.0, 0.5)",
           "rgba(255.0, 127.0, 14.0, 0.5)",
           "rgba(255.0, 127.0, 14.0, 0.5)",
           "rgba(255.0, 127.0, 14.0, 0.5)",
           "rgba(255.0, 127.0, 14.0, 0.5)",
           "rgba(255.0, 127.0, 14.0, 0.5)",
           "rgba(255.0, 127.0, 14.0, 0.5)",
           "rgba(255.0, 127.0, 14.0, 0.5)",
           "rgba(255.0, 127.0, 14.0, 0.5)",
           "rgba(255.0, 127.0, 14.0, 0.5)",
           "rgba(255.0, 127.0, 14.0, 0.5)",
           "rgba(255.0, 127.0, 14.0, 0.5)",
           "rgba(255.0, 127.0, 14.0, 0.5)",
           "rgba(255.0, 127.0, 14.0, 0.5)",
           "rgba(255.0, 127.0, 14.0, 0.5)",
           "rgba(255.0, 127.0, 14.0, 0.5)",
           "rgba(255.0, 127.0, 14.0, 0.5)",
           "rgba(255.0, 127.0, 14.0, 0.5)",
           "rgba(255.0, 127.0, 14.0, 0.5)",
           "rgba(255.0, 127.0, 14.0, 0.5)",
           "rgba(255.0, 127.0, 14.0, 0.5)",
           "rgba(255.0, 127.0, 14.0, 0.5)",
           "rgba(255.0, 127.0, 14.0, 0.5)",
           "rgba(255.0, 127.0, 14.0, 0.5)",
           "rgba(255.0, 127.0, 14.0, 0.5)",
           "rgba(255.0, 127.0, 14.0, 0.5)",
           "rgba(255.0, 127.0, 14.0, 0.5)",
           "rgba(255.0, 127.0, 14.0, 0.5)",
           "rgba(255.0, 127.0, 14.0, 0.5)",
           "rgba(255.0, 127.0, 14.0, 0.5)",
           "rgba(255.0, 127.0, 14.0, 0.5)",
           "rgba(255.0, 127.0, 14.0, 0.5)",
           "rgba(255.0, 127.0, 14.0, 0.5)",
           "rgba(255.0, 127.0, 14.0, 0.5)",
           "rgba(255.0, 127.0, 14.0, 0.5)",
           "rgba(255.0, 127.0, 14.0, 0.5)",
           "rgba(255.0, 127.0, 14.0, 0.5)",
           "rgba(255.0, 127.0, 14.0, 0.5)",
           "rgba(255.0, 127.0, 14.0, 0.5)",
           "rgba(255.0, 127.0, 14.0, 0.5)",
           "rgba(255.0, 127.0, 14.0, 0.5)",
           "rgba(255.0, 127.0, 14.0, 0.5)",
           "rgba(255.0, 127.0, 14.0, 0.5)",
           "rgba(255.0, 127.0, 14.0, 0.5)",
           "rgba(255.0, 127.0, 14.0, 0.5)",
           "rgba(255.0, 127.0, 14.0, 0.5)",
           "rgba(255.0, 127.0, 14.0, 0.5)",
           "rgba(255.0, 127.0, 14.0, 0.5)",
           "rgba(255.0, 127.0, 14.0, 0.5)",
           "rgba(255.0, 127.0, 14.0, 0.5)",
           "rgba(255.0, 127.0, 14.0, 0.5)",
           "rgba(255.0, 127.0, 14.0, 0.5)",
           "rgba(255.0, 127.0, 14.0, 0.5)",
           "rgba(255.0, 127.0, 14.0, 0.5)",
           "rgba(255.0, 127.0, 14.0, 0.5)",
           "rgba(255.0, 127.0, 14.0, 0.5)",
           "rgba(255.0, 127.0, 14.0, 0.5)",
           "rgba(255.0, 127.0, 14.0, 0.5)",
           "rgba(255.0, 127.0, 14.0, 0.5)",
           "rgba(255.0, 127.0, 14.0, 0.5)",
           "rgba(255.0, 127.0, 14.0, 0.5)",
           "rgba(255.0, 127.0, 14.0, 0.5)",
           "rgba(255.0, 127.0, 14.0, 0.5)",
           "rgba(255.0, 127.0, 14.0, 0.5)",
           "rgba(255.0, 127.0, 14.0, 0.5)",
           "rgba(255.0, 127.0, 14.0, 0.5)",
           "rgba(255.0, 127.0, 14.0, 0.5)",
           "rgba(255.0, 127.0, 14.0, 0.5)",
           "rgba(255.0, 127.0, 14.0, 0.5)",
           "rgba(255.0, 127.0, 14.0, 0.5)",
           "rgba(255.0, 127.0, 14.0, 0.5)",
           "rgba(255.0, 127.0, 14.0, 0.5)",
           "rgba(255.0, 127.0, 14.0, 0.5)",
           "rgba(255.0, 127.0, 14.0, 0.5)",
           "rgba(255.0, 127.0, 14.0, 0.5)",
           "rgba(255.0, 127.0, 14.0, 0.5)",
           "rgba(255.0, 127.0, 14.0, 0.5)",
           "rgba(255.0, 127.0, 14.0, 0.5)",
           "rgba(255.0, 127.0, 14.0, 0.5)",
           "rgba(255.0, 127.0, 14.0, 0.5)",
           "rgba(255.0, 127.0, 14.0, 0.5)",
           "rgba(255.0, 127.0, 14.0, 0.5)",
           "rgba(255.0, 127.0, 14.0, 0.5)",
           "rgba(255.0, 127.0, 14.0, 0.5)",
           "rgba(255.0, 127.0, 14.0, 0.5)",
           "rgba(255.0, 127.0, 14.0, 0.5)",
           "rgba(255.0, 127.0, 14.0, 0.5)",
           "rgba(255.0, 127.0, 14.0, 0.5)",
           "rgba(255.0, 127.0, 14.0, 0.5)",
           "rgba(255.0, 127.0, 14.0, 0.5)",
           "rgba(255.0, 127.0, 14.0, 0.5)",
           "rgba(255.0, 127.0, 14.0, 0.5)",
           "rgba(255.0, 127.0, 14.0, 0.5)",
           "rgba(255.0, 127.0, 14.0, 0.5)",
           "rgba(255.0, 127.0, 14.0, 0.5)",
           "rgba(255.0, 127.0, 14.0, 0.5)",
           "rgba(255.0, 127.0, 14.0, 0.5)",
           "rgba(255.0, 127.0, 14.0, 0.5)",
           "rgba(255.0, 127.0, 14.0, 0.5)",
           "rgba(255.0, 127.0, 14.0, 0.5)",
           "rgba(255.0, 127.0, 14.0, 0.5)",
           "rgba(255.0, 127.0, 14.0, 0.5)",
           "rgba(255.0, 127.0, 14.0, 0.5)",
           "rgba(255.0, 127.0, 14.0, 0.5)",
           "rgba(255.0, 127.0, 14.0, 0.5)",
           "rgba(255.0, 127.0, 14.0, 0.5)",
           "rgba(255.0, 127.0, 14.0, 0.5)",
           "rgba(255.0, 127.0, 14.0, 0.5)",
           "rgba(255.0, 127.0, 14.0, 0.5)",
           "rgba(255.0, 127.0, 14.0, 0.5)",
           "rgba(255.0, 127.0, 14.0, 0.5)",
           "rgba(255.0, 127.0, 14.0, 0.5)",
           "rgba(255.0, 127.0, 14.0, 0.5)",
           "rgba(255.0, 127.0, 14.0, 0.5)",
           "rgba(255.0, 127.0, 14.0, 0.5)",
           "rgba(255.0, 127.0, 14.0, 0.5)",
           "rgba(255.0, 127.0, 14.0, 0.5)",
           "rgba(255.0, 127.0, 14.0, 0.5)",
           "rgba(255.0, 127.0, 14.0, 0.5)",
           "rgba(255.0, 127.0, 14.0, 0.5)",
           "rgba(255.0, 127.0, 14.0, 0.5)",
           "rgba(255.0, 127.0, 14.0, 0.5)",
           "rgba(255.0, 127.0, 14.0, 0.5)",
           "rgba(255.0, 127.0, 14.0, 0.5)",
           "rgba(255.0, 127.0, 14.0, 0.5)",
           "rgba(255.0, 127.0, 14.0, 0.5)",
           "rgba(255.0, 127.0, 14.0, 0.5)",
           "rgba(255.0, 127.0, 14.0, 0.5)",
           "rgba(255.0, 127.0, 14.0, 0.5)",
           "rgba(255.0, 127.0, 14.0, 0.5)",
           "rgba(255.0, 127.0, 14.0, 0.5)",
           "rgba(255.0, 127.0, 14.0, 0.5)",
           "rgba(255.0, 127.0, 14.0, 0.5)",
           "rgba(255.0, 127.0, 14.0, 0.5)",
           "rgba(255.0, 127.0, 14.0, 0.5)",
           "rgba(255.0, 127.0, 14.0, 0.5)",
           "rgba(255.0, 127.0, 14.0, 0.5)",
           "rgba(255.0, 127.0, 14.0, 0.5)",
           "rgba(255.0, 127.0, 14.0, 0.5)",
           "rgba(255.0, 127.0, 14.0, 0.5)",
           "rgba(255.0, 127.0, 14.0, 0.5)",
           "rgba(255.0, 127.0, 14.0, 0.5)",
           "rgba(255.0, 127.0, 14.0, 0.5)",
           "rgba(255.0, 127.0, 14.0, 0.5)",
           "rgba(255.0, 127.0, 14.0, 0.5)",
           "rgba(255.0, 127.0, 14.0, 0.5)",
           "rgba(255.0, 127.0, 14.0, 0.5)",
           "rgba(255.0, 127.0, 14.0, 0.5)",
           "rgba(255.0, 127.0, 14.0, 0.5)",
           "rgba(255.0, 127.0, 14.0, 0.5)",
           "rgba(255.0, 127.0, 14.0, 0.5)",
           "rgba(255.0, 127.0, 14.0, 0.5)",
           "rgba(255.0, 127.0, 14.0, 0.5)",
           "rgba(255.0, 127.0, 14.0, 0.5)",
           "rgba(255.0, 127.0, 14.0, 0.5)",
           "rgba(255.0, 127.0, 14.0, 0.5)",
           "rgba(255.0, 127.0, 14.0, 0.5)",
           "rgba(255.0, 127.0, 14.0, 0.5)",
           "rgba(255.0, 127.0, 14.0, 0.5)",
           "rgba(255.0, 127.0, 14.0, 0.5)",
           "rgba(255.0, 127.0, 14.0, 0.5)",
           "rgba(255.0, 127.0, 14.0, 0.5)",
           "rgba(255.0, 127.0, 14.0, 0.5)",
           "rgba(255.0, 127.0, 14.0, 0.5)",
           "rgba(255.0, 127.0, 14.0, 0.5)",
           "rgba(255.0, 127.0, 14.0, 0.5)",
           "rgba(255.0, 127.0, 14.0, 0.5)",
           "rgba(255.0, 127.0, 14.0, 0.5)",
           "rgba(255.0, 127.0, 14.0, 0.5)",
           "rgba(255.0, 127.0, 14.0, 0.5)",
           "rgba(255.0, 127.0, 14.0, 0.5)",
           "rgba(255.0, 127.0, 14.0, 0.5)",
           "rgba(255.0, 127.0, 14.0, 0.5)",
           "rgba(255.0, 127.0, 14.0, 0.5)",
           "rgba(255.0, 127.0, 14.0, 0.5)",
           "rgba(255.0, 127.0, 14.0, 0.5)",
           "rgba(255.0, 127.0, 14.0, 0.5)",
           "rgba(255.0, 127.0, 14.0, 0.5)",
           "rgba(255.0, 127.0, 14.0, 0.5)",
           "rgba(255.0, 127.0, 14.0, 0.5)",
           "rgba(255.0, 127.0, 14.0, 0.5)",
           "rgba(255.0, 127.0, 14.0, 0.5)",
           "rgba(255.0, 127.0, 14.0, 0.5)",
           "rgba(255.0, 127.0, 14.0, 0.5)",
           "rgba(255.0, 127.0, 14.0, 0.5)",
           "rgba(255.0, 127.0, 14.0, 0.5)",
           "rgba(255.0, 127.0, 14.0, 0.5)",
           "rgba(255.0, 127.0, 14.0, 0.5)",
           "rgba(255.0, 127.0, 14.0, 0.5)",
           "rgba(255.0, 127.0, 14.0, 0.5)",
           "rgba(255.0, 127.0, 14.0, 0.5)",
           "rgba(255.0, 127.0, 14.0, 0.5)",
           "rgba(255.0, 127.0, 14.0, 0.5)",
           "rgba(255.0, 127.0, 14.0, 0.5)",
           "rgba(255.0, 127.0, 14.0, 0.5)",
           "rgba(255.0, 127.0, 14.0, 0.5)",
           "rgba(255.0, 127.0, 14.0, 0.5)",
           "rgba(255.0, 127.0, 14.0, 0.5)",
           "rgba(255.0, 127.0, 14.0, 0.5)",
           "rgba(255.0, 127.0, 14.0, 0.5)",
           "rgba(255.0, 127.0, 14.0, 0.5)",
           "rgba(255.0, 127.0, 14.0, 0.5)",
           "rgba(255.0, 127.0, 14.0, 0.5)",
           "rgba(255.0, 127.0, 14.0, 0.5)",
           "rgba(255.0, 127.0, 14.0, 0.5)",
           "rgba(255.0, 127.0, 14.0, 0.5)",
           "rgba(255.0, 127.0, 14.0, 0.5)",
           "rgba(255.0, 127.0, 14.0, 0.5)",
           "rgba(255.0, 127.0, 14.0, 0.5)",
           "rgba(255.0, 127.0, 14.0, 0.5)",
           "rgba(255.0, 127.0, 14.0, 0.5)",
           "rgba(255.0, 127.0, 14.0, 0.5)",
           "rgba(255.0, 127.0, 14.0, 0.5)",
           "rgba(255.0, 127.0, 14.0, 0.5)",
           "rgba(255.0, 127.0, 14.0, 0.5)",
           "rgba(255.0, 127.0, 14.0, 0.5)",
           "rgba(255.0, 127.0, 14.0, 0.5)",
           "rgba(255.0, 127.0, 14.0, 0.5)",
           "rgba(255.0, 127.0, 14.0, 0.5)",
           "rgba(255.0, 127.0, 14.0, 0.5)",
           "rgba(255.0, 127.0, 14.0, 0.5)",
           "rgba(255.0, 127.0, 14.0, 0.5)",
           "rgba(255.0, 127.0, 14.0, 0.5)",
           "rgba(255.0, 127.0, 14.0, 0.5)",
           "rgba(255.0, 127.0, 14.0, 0.5)",
           "rgba(255.0, 127.0, 14.0, 0.5)",
           "rgba(255.0, 127.0, 14.0, 0.5)",
           "rgba(158.0, 218.0, 229.0, 0.5)",
           "rgba(158.0, 218.0, 229.0, 0.5)",
           "rgba(219.0, 219.0, 141.0, 0.5)",
           "rgba(158.0, 218.0, 229.0, 0.5)",
           "rgba(158.0, 218.0, 229.0, 0.5)",
           "rgba(219.0, 219.0, 141.0, 0.5)",
           "rgba(158.0, 218.0, 229.0, 0.5)",
           "rgba(158.0, 218.0, 229.0, 0.5)",
           "rgba(219.0, 219.0, 141.0, 0.5)",
           "rgba(255.0, 127.0, 14.0, 0.5)",
           "rgba(255.0, 127.0, 14.0, 0.5)",
           "rgba(158.0, 218.0, 229.0, 0.5)",
           "rgba(158.0, 218.0, 229.0, 0.5)",
           "rgba(219.0, 219.0, 141.0, 0.5)",
           "rgba(255.0, 127.0, 14.0, 0.5)",
           "rgba(255.0, 127.0, 14.0, 0.5)",
           "rgba(255.0, 127.0, 14.0, 0.5)",
           "rgba(219.0, 219.0, 141.0, 0.5)",
           "rgba(158.0, 218.0, 229.0, 0.5)",
           "rgba(158.0, 218.0, 229.0, 0.5)",
           "rgba(255.0, 127.0, 14.0, 0.5)",
           "rgba(219.0, 219.0, 141.0, 0.5)",
           "rgba(219.0, 219.0, 141.0, 0.5)",
           "rgba(158.0, 218.0, 229.0, 0.5)",
           "rgba(158.0, 218.0, 229.0, 0.5)",
           "rgba(158.0, 218.0, 229.0, 0.5)",
           "rgba(219.0, 219.0, 141.0, 0.5)",
           "rgba(255.0, 127.0, 14.0, 0.5)",
           "rgba(158.0, 218.0, 229.0, 0.5)",
           "rgba(255.0, 127.0, 14.0, 0.5)",
           "rgba(219.0, 219.0, 141.0, 0.5)",
           "rgba(255.0, 127.0, 14.0, 0.5)",
           "rgba(255.0, 127.0, 14.0, 0.5)",
           "rgba(219.0, 219.0, 141.0, 0.5)",
           "rgba(255.0, 127.0, 14.0, 0.5)",
           "rgba(158.0, 218.0, 229.0, 0.5)",
           "rgba(255.0, 127.0, 14.0, 0.5)",
           "rgba(158.0, 218.0, 229.0, 0.5)",
           "rgba(158.0, 218.0, 229.0, 0.5)",
           "rgba(219.0, 219.0, 141.0, 0.5)",
           "rgba(255.0, 127.0, 14.0, 0.5)",
           "rgba(255.0, 127.0, 14.0, 0.5)",
           "rgba(255.0, 127.0, 14.0, 0.5)",
           "rgba(158.0, 218.0, 229.0, 0.5)",
           "rgba(219.0, 219.0, 141.0, 0.5)",
           "rgba(219.0, 219.0, 141.0, 0.5)",
           "rgba(255.0, 127.0, 14.0, 0.5)",
           "rgba(158.0, 218.0, 229.0, 0.5)",
           "rgba(219.0, 219.0, 141.0, 0.5)",
           "rgba(31.0, 119.0, 180.0, 0.5)",
           "rgba(255.0, 127.0, 14.0, 0.5)",
           "rgba(158.0, 218.0, 229.0, 0.5)",
           "rgba(255.0, 127.0, 14.0, 0.5)",
           "rgba(255.0, 127.0, 14.0, 0.5)",
           "rgba(219.0, 219.0, 141.0, 0.5)",
           "rgba(255.0, 127.0, 14.0, 0.5)",
           "rgba(158.0, 218.0, 229.0, 0.5)",
           "rgba(158.0, 218.0, 229.0, 0.5)",
           "rgba(219.0, 219.0, 141.0, 0.5)",
           "rgba(255.0, 127.0, 14.0, 0.5)",
           "rgba(219.0, 219.0, 141.0, 0.5)",
           "rgba(255.0, 127.0, 14.0, 0.5)",
           "rgba(255.0, 127.0, 14.0, 0.5)",
           "rgba(255.0, 127.0, 14.0, 0.5)",
           "rgba(255.0, 127.0, 14.0, 0.5)",
           "rgba(255.0, 127.0, 14.0, 0.5)",
           "rgba(219.0, 219.0, 141.0, 0.5)",
           "rgba(219.0, 219.0, 141.0, 0.5)",
           "rgba(31.0, 119.0, 180.0, 0.5)",
           "rgba(255.0, 127.0, 14.0, 0.5)",
           "rgba(255.0, 127.0, 14.0, 0.5)",
           "rgba(255.0, 127.0, 14.0, 0.5)",
           "rgba(255.0, 127.0, 14.0, 0.5)",
           "rgba(31.0, 119.0, 180.0, 0.5)",
           "rgba(158.0, 218.0, 229.0, 0.5)",
           "rgba(255.0, 127.0, 14.0, 0.5)",
           "rgba(255.0, 127.0, 14.0, 0.5)",
           "rgba(158.0, 218.0, 229.0, 0.5)",
           "rgba(255.0, 127.0, 14.0, 0.5)",
           "rgba(158.0, 218.0, 229.0, 0.5)",
           "rgba(255.0, 127.0, 14.0, 0.5)",
           "rgba(255.0, 127.0, 14.0, 0.5)",
           "rgba(255.0, 127.0, 14.0, 0.5)",
           "rgba(255.0, 127.0, 14.0, 0.5)",
           "rgba(255.0, 127.0, 14.0, 0.5)",
           "rgba(219.0, 219.0, 141.0, 0.5)",
           "rgba(255.0, 127.0, 14.0, 0.5)",
           "rgba(255.0, 127.0, 14.0, 0.5)",
           "rgba(255.0, 127.0, 14.0, 0.5)",
           "rgba(158.0, 218.0, 229.0, 0.5)",
           "rgba(255.0, 152.0, 150.0, 0.5)",
           "rgba(255.0, 127.0, 14.0, 0.5)",
           "rgba(255.0, 127.0, 14.0, 0.5)",
           "rgba(31.0, 119.0, 180.0, 0.5)",
           "rgba(255.0, 127.0, 14.0, 0.5)",
           "rgba(255.0, 127.0, 14.0, 0.5)",
           "rgba(158.0, 218.0, 229.0, 0.5)",
           "rgba(255.0, 127.0, 14.0, 0.5)",
           "rgba(158.0, 218.0, 229.0, 0.5)",
           "rgba(255.0, 127.0, 14.0, 0.5)",
           "rgba(255.0, 127.0, 14.0, 0.5)",
           "rgba(219.0, 219.0, 141.0, 0.5)",
           "rgba(31.0, 119.0, 180.0, 0.5)",
           "rgba(255.0, 127.0, 14.0, 0.5)",
           "rgba(255.0, 127.0, 14.0, 0.5)",
           "rgba(219.0, 219.0, 141.0, 0.5)",
           "rgba(255.0, 127.0, 14.0, 0.5)",
           "rgba(255.0, 127.0, 14.0, 0.5)",
           "rgba(158.0, 218.0, 229.0, 0.5)",
           "rgba(255.0, 127.0, 14.0, 0.5)",
           "rgba(219.0, 219.0, 141.0, 0.5)",
           "rgba(255.0, 127.0, 14.0, 0.5)",
           "rgba(255.0, 127.0, 14.0, 0.5)",
           "rgba(255.0, 127.0, 14.0, 0.5)",
           "rgba(255.0, 127.0, 14.0, 0.5)",
           "rgba(31.0, 119.0, 180.0, 0.5)",
           "rgba(219.0, 219.0, 141.0, 0.5)",
           "rgba(31.0, 119.0, 180.0, 0.5)",
           "rgba(255.0, 127.0, 14.0, 0.5)",
           "rgba(255.0, 127.0, 14.0, 0.5)",
           "rgba(255.0, 127.0, 14.0, 0.5)",
           "rgba(255.0, 127.0, 14.0, 0.5)",
           "rgba(255.0, 127.0, 14.0, 0.5)",
           "rgba(255.0, 152.0, 150.0, 0.5)",
           "rgba(255.0, 152.0, 150.0, 0.5)",
           "rgba(255.0, 127.0, 14.0, 0.5)",
           "rgba(219.0, 219.0, 141.0, 0.5)",
           "rgba(255.0, 127.0, 14.0, 0.5)",
           "rgba(255.0, 127.0, 14.0, 0.5)",
           "rgba(255.0, 127.0, 14.0, 0.5)",
           "rgba(255.0, 127.0, 14.0, 0.5)",
           "rgba(219.0, 219.0, 141.0, 0.5)",
           "rgba(255.0, 127.0, 14.0, 0.5)",
           "rgba(158.0, 218.0, 229.0, 0.5)",
           "rgba(255.0, 127.0, 14.0, 0.5)",
           "rgba(255.0, 127.0, 14.0, 0.5)",
           "rgba(255.0, 127.0, 14.0, 0.5)",
           "rgba(219.0, 219.0, 141.0, 0.5)",
           "rgba(31.0, 119.0, 180.0, 0.5)",
           "rgba(255.0, 127.0, 14.0, 0.5)",
           "rgba(255.0, 127.0, 14.0, 0.5)",
           "rgba(255.0, 127.0, 14.0, 0.5)",
           "rgba(255.0, 127.0, 14.0, 0.5)",
           "rgba(255.0, 127.0, 14.0, 0.5)",
           "rgba(255.0, 127.0, 14.0, 0.5)",
           "rgba(255.0, 127.0, 14.0, 0.5)",
           "rgba(158.0, 218.0, 229.0, 0.5)",
           "rgba(152.0, 223.0, 138.0, 0.5)",
           "rgba(158.0, 218.0, 229.0, 0.5)",
           "rgba(255.0, 152.0, 150.0, 0.5)",
           "rgba(255.0, 127.0, 14.0, 0.5)",
           "rgba(255.0, 152.0, 150.0, 0.5)",
           "rgba(255.0, 127.0, 14.0, 0.5)",
           "rgba(255.0, 127.0, 14.0, 0.5)",
           "rgba(219.0, 219.0, 141.0, 0.5)",
           "rgba(255.0, 127.0, 14.0, 0.5)",
           "rgba(219.0, 219.0, 141.0, 0.5)",
           "rgba(255.0, 127.0, 14.0, 0.5)",
           "rgba(255.0, 127.0, 14.0, 0.5)",
           "rgba(255.0, 127.0, 14.0, 0.5)",
           "rgba(219.0, 219.0, 141.0, 0.5)",
           "rgba(255.0, 127.0, 14.0, 0.5)",
           "rgba(255.0, 127.0, 14.0, 0.5)",
           "rgba(255.0, 127.0, 14.0, 0.5)",
           "rgba(219.0, 219.0, 141.0, 0.5)",
           "rgba(255.0, 127.0, 14.0, 0.5)",
           "rgba(255.0, 152.0, 150.0, 0.5)",
           "rgba(255.0, 127.0, 14.0, 0.5)",
           "rgba(255.0, 127.0, 14.0, 0.5)",
           "rgba(255.0, 127.0, 14.0, 0.5)",
           "rgba(255.0, 127.0, 14.0, 0.5)",
           "rgba(255.0, 127.0, 14.0, 0.5)",
           "rgba(255.0, 127.0, 14.0, 0.5)",
           "rgba(255.0, 127.0, 14.0, 0.5)",
           "rgba(158.0, 218.0, 229.0, 0.5)",
           "rgba(255.0, 127.0, 14.0, 0.5)",
           "rgba(255.0, 127.0, 14.0, 0.5)",
           "rgba(255.0, 127.0, 14.0, 0.5)",
           "rgba(158.0, 218.0, 229.0, 0.5)",
           "rgba(255.0, 127.0, 14.0, 0.5)",
           "rgba(219.0, 219.0, 141.0, 0.5)",
           "rgba(255.0, 127.0, 14.0, 0.5)",
           "rgba(255.0, 127.0, 14.0, 0.5)",
           "rgba(255.0, 127.0, 14.0, 0.5)",
           "rgba(255.0, 127.0, 14.0, 0.5)",
           "rgba(255.0, 127.0, 14.0, 0.5)",
           "rgba(255.0, 127.0, 14.0, 0.5)",
           "rgba(255.0, 127.0, 14.0, 0.5)",
           "rgba(255.0, 127.0, 14.0, 0.5)",
           "rgba(158.0, 218.0, 229.0, 0.5)",
           "rgba(255.0, 127.0, 14.0, 0.5)",
           "rgba(255.0, 127.0, 14.0, 0.5)",
           "rgba(255.0, 127.0, 14.0, 0.5)",
           "rgba(255.0, 127.0, 14.0, 0.5)",
           "rgba(255.0, 127.0, 14.0, 0.5)",
           "rgba(255.0, 127.0, 14.0, 0.5)",
           "rgba(158.0, 218.0, 229.0, 0.5)",
           "rgba(158.0, 218.0, 229.0, 0.5)",
           "rgba(255.0, 127.0, 14.0, 0.5)",
           "rgba(219.0, 219.0, 141.0, 0.5)",
           "rgba(255.0, 127.0, 14.0, 0.5)",
           "rgba(219.0, 219.0, 141.0, 0.5)",
           "rgba(255.0, 127.0, 14.0, 0.5)",
           "rgba(219.0, 219.0, 141.0, 0.5)",
           "rgba(255.0, 127.0, 14.0, 0.5)",
           "rgba(255.0, 127.0, 14.0, 0.5)",
           "rgba(255.0, 127.0, 14.0, 0.5)",
           "rgba(255.0, 152.0, 150.0, 0.5)",
           "rgba(158.0, 218.0, 229.0, 0.5)",
           "rgba(255.0, 127.0, 14.0, 0.5)",
           "rgba(219.0, 219.0, 141.0, 0.5)",
           "rgba(255.0, 127.0, 14.0, 0.5)",
           "rgba(255.0, 152.0, 150.0, 0.5)",
           "rgba(255.0, 127.0, 14.0, 0.5)",
           "rgba(255.0, 127.0, 14.0, 0.5)",
           "rgba(255.0, 127.0, 14.0, 0.5)",
           "rgba(255.0, 127.0, 14.0, 0.5)",
           "rgba(255.0, 127.0, 14.0, 0.5)",
           "rgba(158.0, 218.0, 229.0, 0.5)",
           "rgba(255.0, 127.0, 14.0, 0.5)",
           "rgba(255.0, 127.0, 14.0, 0.5)",
           "rgba(219.0, 219.0, 141.0, 0.5)",
           "rgba(31.0, 119.0, 180.0, 0.5)",
           "rgba(255.0, 127.0, 14.0, 0.5)",
           "rgba(255.0, 127.0, 14.0, 0.5)",
           "rgba(255.0, 127.0, 14.0, 0.5)",
           "rgba(255.0, 127.0, 14.0, 0.5)",
           "rgba(255.0, 127.0, 14.0, 0.5)",
           "rgba(255.0, 127.0, 14.0, 0.5)",
           "rgba(158.0, 218.0, 229.0, 0.5)",
           "rgba(255.0, 127.0, 14.0, 0.5)",
           "rgba(255.0, 127.0, 14.0, 0.5)",
           "rgba(255.0, 127.0, 14.0, 0.5)",
           "rgba(219.0, 219.0, 141.0, 0.5)",
           "rgba(255.0, 127.0, 14.0, 0.5)",
           "rgba(255.0, 127.0, 14.0, 0.5)",
           "rgba(255.0, 127.0, 14.0, 0.5)",
           "rgba(255.0, 127.0, 14.0, 0.5)",
           "rgba(255.0, 127.0, 14.0, 0.5)",
           "rgba(255.0, 127.0, 14.0, 0.5)",
           "rgba(158.0, 218.0, 229.0, 0.5)",
           "rgba(255.0, 127.0, 14.0, 0.5)",
           "rgba(31.0, 119.0, 180.0, 0.5)",
           "rgba(255.0, 127.0, 14.0, 0.5)",
           "rgba(219.0, 219.0, 141.0, 0.5)",
           "rgba(255.0, 127.0, 14.0, 0.5)",
           "rgba(255.0, 127.0, 14.0, 0.5)",
           "rgba(255.0, 127.0, 14.0, 0.5)",
           "rgba(255.0, 127.0, 14.0, 0.5)",
           "rgba(255.0, 127.0, 14.0, 0.5)",
           "rgba(31.0, 119.0, 180.0, 0.5)",
           "rgba(255.0, 127.0, 14.0, 0.5)",
           "rgba(255.0, 127.0, 14.0, 0.5)",
           "rgba(255.0, 152.0, 150.0, 0.5)",
           "rgba(255.0, 127.0, 14.0, 0.5)",
           "rgba(255.0, 127.0, 14.0, 0.5)",
           "rgba(255.0, 127.0, 14.0, 0.5)",
           "rgba(255.0, 127.0, 14.0, 0.5)",
           "rgba(255.0, 127.0, 14.0, 0.5)",
           "rgba(158.0, 218.0, 229.0, 0.5)",
           "rgba(255.0, 127.0, 14.0, 0.5)",
           "rgba(152.0, 223.0, 138.0, 0.5)",
           "rgba(219.0, 219.0, 141.0, 0.5)",
           "rgba(255.0, 127.0, 14.0, 0.5)",
           "rgba(158.0, 218.0, 229.0, 0.5)",
           "rgba(255.0, 127.0, 14.0, 0.5)",
           "rgba(255.0, 127.0, 14.0, 0.5)",
           "rgba(219.0, 219.0, 141.0, 0.5)",
           "rgba(255.0, 127.0, 14.0, 0.5)",
           "rgba(255.0, 127.0, 14.0, 0.5)",
           "rgba(255.0, 127.0, 14.0, 0.5)",
           "rgba(158.0, 218.0, 229.0, 0.5)",
           "rgba(255.0, 127.0, 14.0, 0.5)",
           "rgba(219.0, 219.0, 141.0, 0.5)",
           "rgba(255.0, 127.0, 14.0, 0.5)",
           "rgba(255.0, 127.0, 14.0, 0.5)",
           "rgba(255.0, 127.0, 14.0, 0.5)",
           "rgba(255.0, 152.0, 150.0, 0.5)",
           "rgba(158.0, 218.0, 229.0, 0.5)",
           "rgba(255.0, 127.0, 14.0, 0.5)",
           "rgba(255.0, 127.0, 14.0, 0.5)",
           "rgba(255.0, 127.0, 14.0, 0.5)",
           "rgba(255.0, 127.0, 14.0, 0.5)",
           "rgba(255.0, 127.0, 14.0, 0.5)",
           "rgba(255.0, 127.0, 14.0, 0.5)",
           "rgba(152.0, 223.0, 138.0, 0.5)",
           "rgba(255.0, 127.0, 14.0, 0.5)",
           "rgba(31.0, 119.0, 180.0, 0.5)",
           "rgba(255.0, 127.0, 14.0, 0.5)",
           "rgba(255.0, 127.0, 14.0, 0.5)",
           "rgba(255.0, 127.0, 14.0, 0.5)",
           "rgba(255.0, 127.0, 14.0, 0.5)",
           "rgba(255.0, 127.0, 14.0, 0.5)",
           "rgba(152.0, 223.0, 138.0, 0.5)",
           "rgba(255.0, 127.0, 14.0, 0.5)",
           "rgba(255.0, 127.0, 14.0, 0.5)",
           "rgba(255.0, 127.0, 14.0, 0.5)",
           "rgba(255.0, 127.0, 14.0, 0.5)",
           "rgba(255.0, 127.0, 14.0, 0.5)",
           "rgba(255.0, 127.0, 14.0, 0.5)",
           "rgba(255.0, 127.0, 14.0, 0.5)",
           "rgba(255.0, 127.0, 14.0, 0.5)",
           "rgba(255.0, 127.0, 14.0, 0.5)",
           "rgba(255.0, 127.0, 14.0, 0.5)",
           "rgba(219.0, 219.0, 141.0, 0.5)",
           "rgba(255.0, 127.0, 14.0, 0.5)",
           "rgba(255.0, 127.0, 14.0, 0.5)",
           "rgba(255.0, 127.0, 14.0, 0.5)",
           "rgba(255.0, 127.0, 14.0, 0.5)",
           "rgba(255.0, 127.0, 14.0, 0.5)",
           "rgba(255.0, 127.0, 14.0, 0.5)",
           "rgba(255.0, 127.0, 14.0, 0.5)",
           "rgba(255.0, 127.0, 14.0, 0.5)",
           "rgba(255.0, 127.0, 14.0, 0.5)",
           "rgba(255.0, 127.0, 14.0, 0.5)",
           "rgba(255.0, 127.0, 14.0, 0.5)",
           "rgba(255.0, 127.0, 14.0, 0.5)",
           "rgba(255.0, 127.0, 14.0, 0.5)",
           "rgba(255.0, 127.0, 14.0, 0.5)",
           "rgba(255.0, 127.0, 14.0, 0.5)",
           "rgba(255.0, 127.0, 14.0, 0.5)",
           "rgba(255.0, 127.0, 14.0, 0.5)",
           "rgba(255.0, 127.0, 14.0, 0.5)",
           "rgba(255.0, 127.0, 14.0, 0.5)",
           "rgba(255.0, 127.0, 14.0, 0.5)",
           "rgba(255.0, 127.0, 14.0, 0.5)",
           "rgba(255.0, 127.0, 14.0, 0.5)",
           "rgba(255.0, 127.0, 14.0, 0.5)",
           "rgba(255.0, 127.0, 14.0, 0.5)",
           "rgba(158.0, 218.0, 229.0, 0.5)",
           "rgba(255.0, 127.0, 14.0, 0.5)",
           "rgba(255.0, 127.0, 14.0, 0.5)",
           "rgba(255.0, 127.0, 14.0, 0.5)",
           "rgba(255.0, 127.0, 14.0, 0.5)",
           "rgba(255.0, 127.0, 14.0, 0.5)",
           "rgba(255.0, 127.0, 14.0, 0.5)",
           "rgba(255.0, 127.0, 14.0, 0.5)",
           "rgba(255.0, 127.0, 14.0, 0.5)",
           "rgba(255.0, 127.0, 14.0, 0.5)",
           "rgba(158.0, 218.0, 229.0, 0.5)",
           "rgba(255.0, 152.0, 150.0, 0.5)",
           "rgba(255.0, 127.0, 14.0, 0.5)",
           "rgba(255.0, 127.0, 14.0, 0.5)",
           "rgba(255.0, 127.0, 14.0, 0.5)",
           "rgba(255.0, 127.0, 14.0, 0.5)",
           "rgba(255.0, 127.0, 14.0, 0.5)",
           "rgba(255.0, 127.0, 14.0, 0.5)",
           "rgba(219.0, 219.0, 141.0, 0.5)",
           "rgba(255.0, 127.0, 14.0, 0.5)",
           "rgba(255.0, 127.0, 14.0, 0.5)",
           "rgba(31.0, 119.0, 180.0, 0.5)",
           "rgba(31.0, 119.0, 180.0, 0.5)",
           "rgba(255.0, 127.0, 14.0, 0.5)",
           "rgba(219.0, 219.0, 141.0, 0.5)",
           "rgba(158.0, 218.0, 229.0, 0.5)",
           "rgba(255.0, 127.0, 14.0, 0.5)",
           "rgba(255.0, 127.0, 14.0, 0.5)",
           "rgba(255.0, 127.0, 14.0, 0.5)",
           "rgba(255.0, 127.0, 14.0, 0.5)",
           "rgba(158.0, 218.0, 229.0, 0.5)",
           "rgba(255.0, 127.0, 14.0, 0.5)",
           "rgba(255.0, 127.0, 14.0, 0.5)",
           "rgba(219.0, 219.0, 141.0, 0.5)",
           "rgba(255.0, 127.0, 14.0, 0.5)",
           "rgba(255.0, 127.0, 14.0, 0.5)",
           "rgba(255.0, 127.0, 14.0, 0.5)",
           "rgba(158.0, 218.0, 229.0, 0.5)",
           "rgba(255.0, 127.0, 14.0, 0.5)",
           "rgba(255.0, 127.0, 14.0, 0.5)",
           "rgba(255.0, 127.0, 14.0, 0.5)",
           "rgba(255.0, 127.0, 14.0, 0.5)",
           "rgba(255.0, 127.0, 14.0, 0.5)",
           "rgba(255.0, 127.0, 14.0, 0.5)",
           "rgba(255.0, 127.0, 14.0, 0.5)",
           "rgba(255.0, 127.0, 14.0, 0.5)",
           "rgba(255.0, 127.0, 14.0, 0.5)",
           "rgba(255.0, 127.0, 14.0, 0.5)",
           "rgba(255.0, 127.0, 14.0, 0.5)",
           "rgba(255.0, 127.0, 14.0, 0.5)",
           "rgba(255.0, 127.0, 14.0, 0.5)",
           "rgba(255.0, 127.0, 14.0, 0.5)",
           "rgba(255.0, 127.0, 14.0, 0.5)",
           "rgba(255.0, 127.0, 14.0, 0.5)",
           "rgba(255.0, 127.0, 14.0, 0.5)",
           "rgba(255.0, 127.0, 14.0, 0.5)",
           "rgba(255.0, 127.0, 14.0, 0.5)",
           "rgba(255.0, 127.0, 14.0, 0.5)",
           "rgba(255.0, 127.0, 14.0, 0.5)",
           "rgba(255.0, 127.0, 14.0, 0.5)",
           "rgba(255.0, 127.0, 14.0, 0.5)",
           "rgba(255.0, 127.0, 14.0, 0.5)",
           "rgba(255.0, 127.0, 14.0, 0.5)",
           "rgba(255.0, 127.0, 14.0, 0.5)",
           "rgba(255.0, 127.0, 14.0, 0.5)",
           "rgba(255.0, 127.0, 14.0, 0.5)",
           "rgba(255.0, 127.0, 14.0, 0.5)",
           "rgba(255.0, 127.0, 14.0, 0.5)",
           "rgba(255.0, 127.0, 14.0, 0.5)",
           "rgba(255.0, 127.0, 14.0, 0.5)",
           "rgba(255.0, 127.0, 14.0, 0.5)",
           "rgba(255.0, 127.0, 14.0, 0.5)",
           "rgba(255.0, 127.0, 14.0, 0.5)",
           "rgba(255.0, 127.0, 14.0, 0.5)",
           "rgba(255.0, 127.0, 14.0, 0.5)",
           "rgba(255.0, 127.0, 14.0, 0.5)",
           "rgba(255.0, 127.0, 14.0, 0.5)",
           "rgba(255.0, 127.0, 14.0, 0.5)",
           "rgba(255.0, 127.0, 14.0, 0.5)",
           "rgba(255.0, 127.0, 14.0, 0.5)",
           "rgba(255.0, 127.0, 14.0, 0.5)",
           "rgba(255.0, 127.0, 14.0, 0.5)",
           "rgba(255.0, 127.0, 14.0, 0.5)",
           "rgba(255.0, 127.0, 14.0, 0.5)",
           "rgba(255.0, 127.0, 14.0, 0.5)",
           "rgba(255.0, 127.0, 14.0, 0.5)",
           "rgba(255.0, 127.0, 14.0, 0.5)",
           "rgba(255.0, 127.0, 14.0, 0.5)",
           "rgba(255.0, 127.0, 14.0, 0.5)",
           "rgba(255.0, 127.0, 14.0, 0.5)",
           "rgba(255.0, 127.0, 14.0, 0.5)",
           "rgba(255.0, 127.0, 14.0, 0.5)",
           "rgba(255.0, 127.0, 14.0, 0.5)",
           "rgba(255.0, 127.0, 14.0, 0.5)",
           "rgba(255.0, 127.0, 14.0, 0.5)",
           "rgba(255.0, 127.0, 14.0, 0.5)",
           "rgba(255.0, 127.0, 14.0, 0.5)",
           "rgba(255.0, 127.0, 14.0, 0.5)",
           "rgba(255.0, 127.0, 14.0, 0.5)",
           "rgba(255.0, 127.0, 14.0, 0.5)",
           "rgba(255.0, 127.0, 14.0, 0.5)",
           "rgba(255.0, 127.0, 14.0, 0.5)",
           "rgba(255.0, 127.0, 14.0, 0.5)",
           "rgba(255.0, 127.0, 14.0, 0.5)",
           "rgba(255.0, 127.0, 14.0, 0.5)",
           "rgba(255.0, 127.0, 14.0, 0.5)",
           "rgba(255.0, 127.0, 14.0, 0.5)",
           "rgba(255.0, 127.0, 14.0, 0.5)",
           "rgba(255.0, 127.0, 14.0, 0.5)",
           "rgba(255.0, 127.0, 14.0, 0.5)",
           "rgba(255.0, 127.0, 14.0, 0.5)",
           "rgba(255.0, 127.0, 14.0, 0.5)",
           "rgba(255.0, 127.0, 14.0, 0.5)",
           "rgba(255.0, 127.0, 14.0, 0.5)",
           "rgba(255.0, 127.0, 14.0, 0.5)",
           "rgba(255.0, 127.0, 14.0, 0.5)",
           "rgba(255.0, 127.0, 14.0, 0.5)",
           "rgba(255.0, 127.0, 14.0, 0.5)",
           "rgba(255.0, 127.0, 14.0, 0.5)",
           "rgba(255.0, 127.0, 14.0, 0.5)",
           "rgba(255.0, 127.0, 14.0, 0.5)",
           "rgba(255.0, 127.0, 14.0, 0.5)",
           "rgba(255.0, 127.0, 14.0, 0.5)",
           "rgba(255.0, 127.0, 14.0, 0.5)",
           "rgba(255.0, 127.0, 14.0, 0.5)",
           "rgba(255.0, 127.0, 14.0, 0.5)",
           "rgba(255.0, 127.0, 14.0, 0.5)",
           "rgba(255.0, 127.0, 14.0, 0.5)",
           "rgba(255.0, 127.0, 14.0, 0.5)",
           "rgba(255.0, 127.0, 14.0, 0.5)",
           "rgba(255.0, 127.0, 14.0, 0.5)",
           "rgba(255.0, 127.0, 14.0, 0.5)",
           "rgba(255.0, 127.0, 14.0, 0.5)",
           "rgba(255.0, 127.0, 14.0, 0.5)",
           "rgba(255.0, 127.0, 14.0, 0.5)",
           "rgba(255.0, 127.0, 14.0, 0.5)",
           "rgba(255.0, 127.0, 14.0, 0.5)",
           "rgba(255.0, 127.0, 14.0, 0.5)",
           "rgba(255.0, 127.0, 14.0, 0.5)",
           "rgba(255.0, 127.0, 14.0, 0.5)",
           "rgba(255.0, 127.0, 14.0, 0.5)",
           "rgba(255.0, 127.0, 14.0, 0.5)",
           "rgba(255.0, 127.0, 14.0, 0.5)",
           "rgba(255.0, 127.0, 14.0, 0.5)",
           "rgba(255.0, 127.0, 14.0, 0.5)",
           "rgba(255.0, 127.0, 14.0, 0.5)",
           "rgba(255.0, 127.0, 14.0, 0.5)",
           "rgba(255.0, 127.0, 14.0, 0.5)",
           "rgba(255.0, 127.0, 14.0, 0.5)",
           "rgba(255.0, 127.0, 14.0, 0.5)",
           "rgba(255.0, 127.0, 14.0, 0.5)",
           "rgba(255.0, 127.0, 14.0, 0.5)",
           "rgba(255.0, 127.0, 14.0, 0.5)",
           "rgba(255.0, 127.0, 14.0, 0.5)",
           "rgba(255.0, 127.0, 14.0, 0.5)",
           "rgba(255.0, 127.0, 14.0, 0.5)",
           "rgba(255.0, 127.0, 14.0, 0.5)",
           "rgba(255.0, 127.0, 14.0, 0.5)",
           "rgba(255.0, 127.0, 14.0, 0.5)",
           "rgba(255.0, 127.0, 14.0, 0.5)",
           "rgba(255.0, 127.0, 14.0, 0.5)",
           "rgba(255.0, 127.0, 14.0, 0.5)",
           "rgba(255.0, 127.0, 14.0, 0.5)",
           "rgba(255.0, 127.0, 14.0, 0.5)",
           "rgba(255.0, 127.0, 14.0, 0.5)",
           "rgba(255.0, 127.0, 14.0, 0.5)",
           "rgba(255.0, 127.0, 14.0, 0.5)",
           "rgba(255.0, 127.0, 14.0, 0.5)",
           "rgba(255.0, 127.0, 14.0, 0.5)",
           "rgba(255.0, 127.0, 14.0, 0.5)",
           "rgba(255.0, 127.0, 14.0, 0.5)",
           "rgba(255.0, 127.0, 14.0, 0.5)",
           "rgba(255.0, 127.0, 14.0, 0.5)",
           "rgba(255.0, 127.0, 14.0, 0.5)",
           "rgba(255.0, 127.0, 14.0, 0.5)",
           "rgba(255.0, 127.0, 14.0, 0.5)",
           "rgba(255.0, 127.0, 14.0, 0.5)",
           "rgba(255.0, 127.0, 14.0, 0.5)",
           "rgba(255.0, 127.0, 14.0, 0.5)",
           "rgba(255.0, 127.0, 14.0, 0.5)",
           "rgba(255.0, 127.0, 14.0, 0.5)",
           "rgba(255.0, 127.0, 14.0, 0.5)",
           "rgba(255.0, 127.0, 14.0, 0.5)",
           "rgba(255.0, 127.0, 14.0, 0.5)",
           "rgba(255.0, 127.0, 14.0, 0.5)",
           "rgba(255.0, 127.0, 14.0, 0.5)",
           "rgba(255.0, 127.0, 14.0, 0.5)",
           "rgba(255.0, 127.0, 14.0, 0.5)",
           "rgba(255.0, 127.0, 14.0, 0.5)",
           "rgba(255.0, 127.0, 14.0, 0.5)",
           "rgba(255.0, 127.0, 14.0, 0.5)",
           "rgba(255.0, 127.0, 14.0, 0.5)",
           "rgba(255.0, 127.0, 14.0, 0.5)",
           "rgba(255.0, 127.0, 14.0, 0.5)",
           "rgba(255.0, 127.0, 14.0, 0.5)",
           "rgba(255.0, 127.0, 14.0, 0.5)",
           "rgba(255.0, 127.0, 14.0, 0.5)",
           "rgba(255.0, 127.0, 14.0, 0.5)",
           "rgba(255.0, 127.0, 14.0, 0.5)",
           "rgba(255.0, 127.0, 14.0, 0.5)",
           "rgba(255.0, 127.0, 14.0, 0.5)",
           "rgba(255.0, 127.0, 14.0, 0.5)",
           "rgba(255.0, 127.0, 14.0, 0.5)",
           "rgba(255.0, 127.0, 14.0, 0.5)",
           "rgba(255.0, 127.0, 14.0, 0.5)",
           "rgba(255.0, 127.0, 14.0, 0.5)",
           "rgba(255.0, 127.0, 14.0, 0.5)",
           "rgba(255.0, 127.0, 14.0, 0.5)",
           "rgba(255.0, 127.0, 14.0, 0.5)",
           "rgba(255.0, 127.0, 14.0, 0.5)",
           "rgba(255.0, 127.0, 14.0, 0.5)",
           "rgba(255.0, 127.0, 14.0, 0.5)",
           "rgba(255.0, 127.0, 14.0, 0.5)",
           "rgba(255.0, 127.0, 14.0, 0.5)",
           "rgba(255.0, 127.0, 14.0, 0.5)",
           "rgba(255.0, 127.0, 14.0, 0.5)",
           "rgba(255.0, 127.0, 14.0, 0.5)",
           "rgba(255.0, 127.0, 14.0, 0.5)",
           "rgba(255.0, 127.0, 14.0, 0.5)",
           "rgba(255.0, 127.0, 14.0, 0.5)",
           "rgba(255.0, 127.0, 14.0, 0.5)",
           "rgba(255.0, 127.0, 14.0, 0.5)",
           "rgba(255.0, 127.0, 14.0, 0.5)",
           "rgba(255.0, 127.0, 14.0, 0.5)",
           "rgba(255.0, 127.0, 14.0, 0.5)",
           "rgba(255.0, 127.0, 14.0, 0.5)",
           "rgba(255.0, 127.0, 14.0, 0.5)",
           "rgba(255.0, 127.0, 14.0, 0.5)",
           "rgba(255.0, 127.0, 14.0, 0.5)",
           "rgba(255.0, 127.0, 14.0, 0.5)",
           "rgba(255.0, 127.0, 14.0, 0.5)",
           "rgba(255.0, 127.0, 14.0, 0.5)",
           "rgba(255.0, 127.0, 14.0, 0.5)",
           "rgba(255.0, 127.0, 14.0, 0.5)",
           "rgba(255.0, 127.0, 14.0, 0.5)",
           "rgba(255.0, 127.0, 14.0, 0.5)",
           "rgba(255.0, 127.0, 14.0, 0.5)",
           "rgba(255.0, 127.0, 14.0, 0.5)",
           "rgba(255.0, 127.0, 14.0, 0.5)",
           "rgba(255.0, 127.0, 14.0, 0.5)",
           "rgba(255.0, 127.0, 14.0, 0.5)",
           "rgba(255.0, 127.0, 14.0, 0.5)",
           "rgba(255.0, 127.0, 14.0, 0.5)",
           "rgba(255.0, 127.0, 14.0, 0.5)",
           "rgba(255.0, 127.0, 14.0, 0.5)",
           "rgba(255.0, 127.0, 14.0, 0.5)",
           "rgba(255.0, 127.0, 14.0, 0.5)",
           "rgba(255.0, 127.0, 14.0, 0.5)",
           "rgba(255.0, 127.0, 14.0, 0.5)",
           "rgba(255.0, 127.0, 14.0, 0.5)",
           "rgba(255.0, 127.0, 14.0, 0.5)",
           "rgba(255.0, 127.0, 14.0, 0.5)",
           "rgba(255.0, 127.0, 14.0, 0.5)",
           "rgba(255.0, 127.0, 14.0, 0.5)",
           "rgba(255.0, 127.0, 14.0, 0.5)",
           "rgba(255.0, 127.0, 14.0, 0.5)",
           "rgba(255.0, 127.0, 14.0, 0.5)",
           "rgba(255.0, 127.0, 14.0, 0.5)",
           "rgba(255.0, 127.0, 14.0, 0.5)",
           "rgba(255.0, 127.0, 14.0, 0.5)",
           "rgba(255.0, 127.0, 14.0, 0.5)",
           "rgba(255.0, 127.0, 14.0, 0.5)",
           "rgba(255.0, 127.0, 14.0, 0.5)",
           "rgba(255.0, 127.0, 14.0, 0.5)",
           "rgba(255.0, 127.0, 14.0, 0.5)",
           "rgba(255.0, 127.0, 14.0, 0.5)",
           "rgba(255.0, 127.0, 14.0, 0.5)",
           "rgba(255.0, 127.0, 14.0, 0.5)",
           "rgba(255.0, 127.0, 14.0, 0.5)",
           "rgba(255.0, 127.0, 14.0, 0.5)",
           "rgba(255.0, 127.0, 14.0, 0.5)",
           "rgba(255.0, 127.0, 14.0, 0.5)",
           "rgba(255.0, 127.0, 14.0, 0.5)",
           "rgba(255.0, 127.0, 14.0, 0.5)",
           "rgba(255.0, 127.0, 14.0, 0.5)",
           "rgba(255.0, 127.0, 14.0, 0.5)",
           "rgba(255.0, 127.0, 14.0, 0.5)",
           "rgba(255.0, 127.0, 14.0, 0.5)",
           "rgba(255.0, 127.0, 14.0, 0.5)",
           "rgba(255.0, 127.0, 14.0, 0.5)",
           "rgba(255.0, 127.0, 14.0, 0.5)",
           "rgba(255.0, 127.0, 14.0, 0.5)",
           "rgba(255.0, 127.0, 14.0, 0.5)",
           "rgba(255.0, 127.0, 14.0, 0.5)",
           "rgba(255.0, 127.0, 14.0, 0.5)",
           "rgba(255.0, 127.0, 14.0, 0.5)",
           "rgba(255.0, 127.0, 14.0, 0.5)",
           "rgba(255.0, 127.0, 14.0, 0.5)",
           "rgba(255.0, 127.0, 14.0, 0.5)",
           "rgba(255.0, 127.0, 14.0, 0.5)",
           "rgba(255.0, 127.0, 14.0, 0.5)",
           "rgba(255.0, 127.0, 14.0, 0.5)",
           "rgba(255.0, 127.0, 14.0, 0.5)",
           "rgba(255.0, 127.0, 14.0, 0.5)",
           "rgba(255.0, 127.0, 14.0, 0.5)",
           "rgba(255.0, 127.0, 14.0, 0.5)",
           "rgba(255.0, 127.0, 14.0, 0.5)",
           "rgba(255.0, 127.0, 14.0, 0.5)",
           "rgba(255.0, 127.0, 14.0, 0.5)",
           "rgba(255.0, 127.0, 14.0, 0.5)",
           "rgba(255.0, 127.0, 14.0, 0.5)",
           "rgba(255.0, 127.0, 14.0, 0.5)",
           "rgba(255.0, 127.0, 14.0, 0.5)",
           "rgba(255.0, 127.0, 14.0, 0.5)",
           "rgba(255.0, 127.0, 14.0, 0.5)",
           "rgba(255.0, 127.0, 14.0, 0.5)",
           "rgba(255.0, 127.0, 14.0, 0.5)",
           "rgba(255.0, 127.0, 14.0, 0.5)",
           "rgba(255.0, 127.0, 14.0, 0.5)",
           "rgba(255.0, 127.0, 14.0, 0.5)",
           "rgba(255.0, 127.0, 14.0, 0.5)",
           "rgba(255.0, 127.0, 14.0, 0.5)",
           "rgba(255.0, 127.0, 14.0, 0.5)",
           "rgba(255.0, 127.0, 14.0, 0.5)",
           "rgba(255.0, 127.0, 14.0, 0.5)",
           "rgba(255.0, 127.0, 14.0, 0.5)",
           "rgba(255.0, 127.0, 14.0, 0.5)",
           "rgba(255.0, 127.0, 14.0, 0.5)",
           "rgba(255.0, 127.0, 14.0, 0.5)",
           "rgba(255.0, 127.0, 14.0, 0.5)",
           "rgba(255.0, 127.0, 14.0, 0.5)",
           "rgba(255.0, 127.0, 14.0, 0.5)",
           "rgba(255.0, 127.0, 14.0, 0.5)",
           "rgba(255.0, 127.0, 14.0, 0.5)",
           "rgba(255.0, 127.0, 14.0, 0.5)",
           "rgba(255.0, 127.0, 14.0, 0.5)",
           "rgba(255.0, 127.0, 14.0, 0.5)",
           "rgba(255.0, 127.0, 14.0, 0.5)",
           "rgba(255.0, 127.0, 14.0, 0.5)",
           "rgba(255.0, 127.0, 14.0, 0.5)",
           "rgba(255.0, 127.0, 14.0, 0.5)",
           "rgba(255.0, 127.0, 14.0, 0.5)",
           "rgba(255.0, 127.0, 14.0, 0.5)",
           "rgba(255.0, 127.0, 14.0, 0.5)",
           "rgba(255.0, 127.0, 14.0, 0.5)",
           "rgba(255.0, 127.0, 14.0, 0.5)",
           "rgba(255.0, 127.0, 14.0, 0.5)",
           "rgba(255.0, 127.0, 14.0, 0.5)",
           "rgba(255.0, 127.0, 14.0, 0.5)",
           "rgba(255.0, 127.0, 14.0, 0.5)",
           "rgba(255.0, 127.0, 14.0, 0.5)",
           "rgba(255.0, 127.0, 14.0, 0.5)",
           "rgba(255.0, 127.0, 14.0, 0.5)",
           "rgba(255.0, 127.0, 14.0, 0.5)",
           "rgba(255.0, 127.0, 14.0, 0.5)",
           "rgba(255.0, 127.0, 14.0, 0.5)",
           "rgba(255.0, 127.0, 14.0, 0.5)",
           "rgba(255.0, 127.0, 14.0, 0.5)",
           "rgba(255.0, 127.0, 14.0, 0.5)",
           "rgba(255.0, 127.0, 14.0, 0.5)",
           "rgba(255.0, 127.0, 14.0, 0.5)",
           "rgba(255.0, 127.0, 14.0, 0.5)",
           "rgba(255.0, 127.0, 14.0, 0.5)",
           "rgba(255.0, 127.0, 14.0, 0.5)",
           "rgba(255.0, 127.0, 14.0, 0.5)",
           "rgba(255.0, 127.0, 14.0, 0.5)",
           "rgba(255.0, 127.0, 14.0, 0.5)",
           "rgba(255.0, 127.0, 14.0, 0.5)",
           "rgba(255.0, 127.0, 14.0, 0.5)",
           "rgba(255.0, 127.0, 14.0, 0.5)",
           "rgba(255.0, 127.0, 14.0, 0.5)",
           "rgba(255.0, 127.0, 14.0, 0.5)",
           "rgba(255.0, 127.0, 14.0, 0.5)",
           "rgba(255.0, 127.0, 14.0, 0.5)",
           "rgba(255.0, 127.0, 14.0, 0.5)",
           "rgba(255.0, 127.0, 14.0, 0.5)",
           "rgba(255.0, 127.0, 14.0, 0.5)",
           "rgba(255.0, 127.0, 14.0, 0.5)",
           "rgba(255.0, 127.0, 14.0, 0.5)",
           "rgba(255.0, 127.0, 14.0, 0.5)",
           "rgba(255.0, 127.0, 14.0, 0.5)",
           "rgba(255.0, 127.0, 14.0, 0.5)",
           "rgba(255.0, 127.0, 14.0, 0.5)",
           "rgba(255.0, 127.0, 14.0, 0.5)",
           "rgba(255.0, 127.0, 14.0, 0.5)",
           "rgba(255.0, 127.0, 14.0, 0.5)",
           "rgba(255.0, 127.0, 14.0, 0.5)",
           "rgba(255.0, 127.0, 14.0, 0.5)",
           "rgba(255.0, 127.0, 14.0, 0.5)",
           "rgba(255.0, 127.0, 14.0, 0.5)",
           "rgba(255.0, 127.0, 14.0, 0.5)",
           "rgba(255.0, 127.0, 14.0, 0.5)",
           "rgba(255.0, 127.0, 14.0, 0.5)",
           "rgba(255.0, 127.0, 14.0, 0.5)",
           "rgba(255.0, 127.0, 14.0, 0.5)",
           "rgba(255.0, 127.0, 14.0, 0.5)",
           "rgba(255.0, 127.0, 14.0, 0.5)",
           "rgba(255.0, 127.0, 14.0, 0.5)",
           "rgba(255.0, 127.0, 14.0, 0.5)",
           "rgba(255.0, 127.0, 14.0, 0.5)",
           "rgba(255.0, 127.0, 14.0, 0.5)",
           "rgba(255.0, 127.0, 14.0, 0.5)",
           "rgba(255.0, 127.0, 14.0, 0.5)",
           "rgba(255.0, 127.0, 14.0, 0.5)",
           "rgba(255.0, 127.0, 14.0, 0.5)",
           "rgba(255.0, 127.0, 14.0, 0.5)",
           "rgba(255.0, 127.0, 14.0, 0.5)",
           "rgba(255.0, 127.0, 14.0, 0.5)",
           "rgba(255.0, 127.0, 14.0, 0.5)",
           "rgba(255.0, 127.0, 14.0, 0.5)",
           "rgba(255.0, 127.0, 14.0, 0.5)",
           "rgba(255.0, 127.0, 14.0, 0.5)",
           "rgba(255.0, 127.0, 14.0, 0.5)",
           "rgba(255.0, 127.0, 14.0, 0.5)",
           "rgba(255.0, 127.0, 14.0, 0.5)",
           "rgba(255.0, 127.0, 14.0, 0.5)",
           "rgba(255.0, 127.0, 14.0, 0.5)",
           "rgba(255.0, 127.0, 14.0, 0.5)",
           "rgba(255.0, 127.0, 14.0, 0.5)",
           "rgba(255.0, 127.0, 14.0, 0.5)",
           "rgba(255.0, 127.0, 14.0, 0.5)",
           "rgba(255.0, 127.0, 14.0, 0.5)",
           "rgba(255.0, 127.0, 14.0, 0.5)",
           "rgba(255.0, 127.0, 14.0, 0.5)",
           "rgba(255.0, 127.0, 14.0, 0.5)",
           "rgba(255.0, 127.0, 14.0, 0.5)",
           "rgba(255.0, 127.0, 14.0, 0.5)",
           "rgba(255.0, 127.0, 14.0, 0.5)",
           "rgba(255.0, 127.0, 14.0, 0.5)",
           "rgba(255.0, 127.0, 14.0, 0.5)",
           "rgba(255.0, 127.0, 14.0, 0.5)",
           "rgba(255.0, 127.0, 14.0, 0.5)",
           "rgba(255.0, 127.0, 14.0, 0.5)",
           "rgba(255.0, 127.0, 14.0, 0.5)",
           "rgba(255.0, 127.0, 14.0, 0.5)",
           "rgba(255.0, 127.0, 14.0, 0.5)",
           "rgba(255.0, 127.0, 14.0, 0.5)",
           "rgba(255.0, 127.0, 14.0, 0.5)",
           "rgba(255.0, 127.0, 14.0, 0.5)",
           "rgba(255.0, 127.0, 14.0, 0.5)",
           "rgba(255.0, 127.0, 14.0, 0.5)",
           "rgba(255.0, 127.0, 14.0, 0.5)",
           "rgba(255.0, 127.0, 14.0, 0.5)",
           "rgba(255.0, 127.0, 14.0, 0.5)",
           "rgba(255.0, 127.0, 14.0, 0.5)",
           "rgba(255.0, 127.0, 14.0, 0.5)",
           "rgba(255.0, 127.0, 14.0, 0.5)",
           "rgba(255.0, 127.0, 14.0, 0.5)",
           "rgba(255.0, 127.0, 14.0, 0.5)",
           "rgba(255.0, 127.0, 14.0, 0.5)",
           "rgba(255.0, 127.0, 14.0, 0.5)",
           "rgba(255.0, 127.0, 14.0, 0.5)",
           "rgba(255.0, 127.0, 14.0, 0.5)",
           "rgba(255.0, 127.0, 14.0, 0.5)",
           "rgba(255.0, 127.0, 14.0, 0.5)",
           "rgba(255.0, 127.0, 14.0, 0.5)",
           "rgba(255.0, 127.0, 14.0, 0.5)",
           "rgba(255.0, 127.0, 14.0, 0.5)",
           "rgba(255.0, 127.0, 14.0, 0.5)",
           "rgba(255.0, 127.0, 14.0, 0.5)",
           "rgba(255.0, 127.0, 14.0, 0.5)",
           "rgba(255.0, 127.0, 14.0, 0.5)",
           "rgba(255.0, 127.0, 14.0, 0.5)",
           "rgba(255.0, 127.0, 14.0, 0.5)",
           "rgba(255.0, 127.0, 14.0, 0.5)",
           "rgba(255.0, 127.0, 14.0, 0.5)",
           "rgba(255.0, 127.0, 14.0, 0.5)",
           "rgba(255.0, 127.0, 14.0, 0.5)",
           "rgba(255.0, 127.0, 14.0, 0.5)",
           "rgba(255.0, 127.0, 14.0, 0.5)",
           "rgba(255.0, 127.0, 14.0, 0.5)",
           "rgba(255.0, 127.0, 14.0, 0.5)",
           "rgba(255.0, 127.0, 14.0, 0.5)",
           "rgba(255.0, 127.0, 14.0, 0.5)",
           "rgba(255.0, 127.0, 14.0, 0.5)",
           "rgba(255.0, 127.0, 14.0, 0.5)",
           "rgba(255.0, 127.0, 14.0, 0.5)",
           "rgba(255.0, 127.0, 14.0, 0.5)",
           "rgba(255.0, 127.0, 14.0, 0.5)",
           "rgba(255.0, 127.0, 14.0, 0.5)",
           "rgba(255.0, 127.0, 14.0, 0.5)",
           "rgba(255.0, 127.0, 14.0, 0.5)",
           "rgba(255.0, 127.0, 14.0, 0.5)",
           "rgba(255.0, 127.0, 14.0, 0.5)",
           "rgba(255.0, 127.0, 14.0, 0.5)",
           "rgba(255.0, 127.0, 14.0, 0.5)",
           "rgba(255.0, 127.0, 14.0, 0.5)",
           "rgba(255.0, 127.0, 14.0, 0.5)",
           "rgba(255.0, 127.0, 14.0, 0.5)",
           "rgba(255.0, 127.0, 14.0, 0.5)",
           "rgba(255.0, 127.0, 14.0, 0.5)",
           "rgba(255.0, 127.0, 14.0, 0.5)",
           "rgba(255.0, 127.0, 14.0, 0.5)",
           "rgba(255.0, 127.0, 14.0, 0.5)",
           "rgba(255.0, 127.0, 14.0, 0.5)",
           "rgba(255.0, 127.0, 14.0, 0.5)",
           "rgba(255.0, 127.0, 14.0, 0.5)",
           "rgba(255.0, 127.0, 14.0, 0.5)",
           "rgba(255.0, 127.0, 14.0, 0.5)",
           "rgba(255.0, 127.0, 14.0, 0.5)",
           "rgba(255.0, 127.0, 14.0, 0.5)",
           "rgba(255.0, 127.0, 14.0, 0.5)",
           "rgba(255.0, 127.0, 14.0, 0.5)",
           "rgba(255.0, 127.0, 14.0, 0.5)",
           "rgba(255.0, 127.0, 14.0, 0.5)",
           "rgba(255.0, 127.0, 14.0, 0.5)",
           "rgba(255.0, 127.0, 14.0, 0.5)",
           "rgba(255.0, 127.0, 14.0, 0.5)",
           "rgba(255.0, 127.0, 14.0, 0.5)",
           "rgba(255.0, 127.0, 14.0, 0.5)",
           "rgba(255.0, 127.0, 14.0, 0.5)",
           "rgba(255.0, 127.0, 14.0, 0.5)",
           "rgba(255.0, 127.0, 14.0, 0.5)",
           "rgba(255.0, 127.0, 14.0, 0.5)",
           "rgba(255.0, 127.0, 14.0, 0.5)",
           "rgba(255.0, 127.0, 14.0, 0.5)",
           "rgba(255.0, 127.0, 14.0, 0.5)",
           "rgba(255.0, 127.0, 14.0, 0.5)",
           "rgba(255.0, 127.0, 14.0, 0.5)",
           "rgba(255.0, 127.0, 14.0, 0.5)",
           "rgba(255.0, 127.0, 14.0, 0.5)",
           "rgba(255.0, 127.0, 14.0, 0.5)",
           "rgba(255.0, 127.0, 14.0, 0.5)",
           "rgba(255.0, 127.0, 14.0, 0.5)",
           "rgba(255.0, 127.0, 14.0, 0.5)",
           "rgba(255.0, 127.0, 14.0, 0.5)",
           "rgba(255.0, 127.0, 14.0, 0.5)",
           "rgba(255.0, 127.0, 14.0, 0.5)",
           "rgba(255.0, 127.0, 14.0, 0.5)",
           "rgba(255.0, 127.0, 14.0, 0.5)",
           "rgba(255.0, 127.0, 14.0, 0.5)",
           "rgba(255.0, 127.0, 14.0, 0.5)",
           "rgba(255.0, 127.0, 14.0, 0.5)",
           "rgba(255.0, 127.0, 14.0, 0.5)",
           "rgba(255.0, 127.0, 14.0, 0.5)",
           "rgba(255.0, 127.0, 14.0, 0.5)",
           "rgba(255.0, 127.0, 14.0, 0.5)",
           "rgba(255.0, 127.0, 14.0, 0.5)",
           "rgba(255.0, 127.0, 14.0, 0.5)",
           "rgba(255.0, 127.0, 14.0, 0.5)",
           "rgba(255.0, 127.0, 14.0, 0.5)",
           "rgba(255.0, 127.0, 14.0, 0.5)",
           "rgba(255.0, 127.0, 14.0, 0.5)",
           "rgba(255.0, 127.0, 14.0, 0.5)",
           "rgba(255.0, 127.0, 14.0, 0.5)",
           "rgba(255.0, 127.0, 14.0, 0.5)",
           "rgba(255.0, 127.0, 14.0, 0.5)",
           "rgba(255.0, 127.0, 14.0, 0.5)",
           "rgba(255.0, 127.0, 14.0, 0.5)",
           "rgba(255.0, 127.0, 14.0, 0.5)",
           "rgba(255.0, 127.0, 14.0, 0.5)",
           "rgba(255.0, 127.0, 14.0, 0.5)",
           "rgba(255.0, 127.0, 14.0, 0.5)",
           "rgba(255.0, 127.0, 14.0, 0.5)",
           "rgba(255.0, 127.0, 14.0, 0.5)",
           "rgba(255.0, 127.0, 14.0, 0.5)",
           "rgba(255.0, 127.0, 14.0, 0.5)",
           "rgba(255.0, 127.0, 14.0, 0.5)",
           "rgba(255.0, 127.0, 14.0, 0.5)",
           "rgba(255.0, 127.0, 14.0, 0.5)",
           "rgba(255.0, 127.0, 14.0, 0.5)",
           "rgba(255.0, 127.0, 14.0, 0.5)",
           "rgba(255.0, 127.0, 14.0, 0.5)",
           "rgba(255.0, 127.0, 14.0, 0.5)",
           "rgba(255.0, 127.0, 14.0, 0.5)",
           "rgba(255.0, 127.0, 14.0, 0.5)",
           "rgba(255.0, 127.0, 14.0, 0.5)",
           "rgba(255.0, 127.0, 14.0, 0.5)",
           "rgba(255.0, 127.0, 14.0, 0.5)",
           "rgba(255.0, 127.0, 14.0, 0.5)",
           "rgba(255.0, 127.0, 14.0, 0.5)",
           "rgba(255.0, 127.0, 14.0, 0.5)"
          ],
          "hovertemplate": "%{source.label} → %{target.label}: %{value} step_time_units<br>",
          "line": {
           "color": "lightgray",
           "width": 0.1
          },
          "source": {
           "bdata": "AQEBAQEBAQEBAQEBAQEBAQEBAQEBAQEBAQEBAQEBAQEBAQEBAQEBAQEBAQEBAQEBAQEBAQEBAQEBAQEBAQEBAQEBAQEBAQEBAQEBAQEBAQEBAQEBAQEBAQEBAQEBAQEBAQEBAQEBAQEBAQEBAQEBAQEBAQEBAQEBAQEBAQEBAQEBAQEBAQEBAQEBAQEBAQEBAQEBAQEBAQEBAQEBAQEBAQEBAQEBAQEBAQEBAQEBAQEBAQEBAQEBAQEBAQEBAQEBAQEBAQEBAQEBAQEBAQEBAQEBAQEBAQEBAQEBAQEBAQEBAQEBAQEBAQEBAQgIBwgIBwgIBwEBCAgHAQEBBwgIAQcHCAgIBwEIAQcBAQcBCAEICAcBAQEIBwcBCAcAAQgBAQcBCAgHAQcBAQEBAQcHAAEBAQEACAEBCAEIAQEBAQEHAQEBCAMBAQABAQgBCAEBBwABAQcBAQgBBwEBAQEABwABAQEBAQMDAQcBAQEBBwEIAQEBBwABAQEBAQEBCAIIAwEDAQEHAQcBAQEHAQEBBwEDAQEBAQEBAQgBAQEIAQcBAQEBAQEBAQgBAQEBAQEICAEHAQcBBwEBAQMIAQcBAwEBAQEBCAEBBwABAQEBAQEIAQEBBwEBAQEBAQgBAAEHAQEBAQEAAQEDAQEBAQEIAQIHAQgBAQcBAQEIAQcBAQEDCAEBAQEBAQIBAAEBAQEBAgEBAQEBAQEBAQEHAQEBAQEBAQEBAQEBAQEBAQEBAQEBAQEBCAEBAQEBAQEBAQgDAQEBAQEBBwEBAAABBwgBAQEBCAEBBwEBAQgBAQEBAQEBAQEBAQEBAQEBAQEBAQEBAQEBAQEBAQEBAQEBAQEBAQEBAQEBAQEBAQEBAQEBAQEBAQEBAQEBAQEBAQEBAQEBAQEBAQEBAQEBAQEBAQEBAQEBAQEBAQEBAQEBAQEBAQEBAQEBAQEBAQEBAQEBAQEBAQEBAQEBAQEBAQEBAQEBAQEBAQEBAQEBAQEBAQEBAQEBAQEBAQEBAQEBAQEBAQEBAQEBAQEBAQEBAQEBAQEBAQEBAQEBAQEBAQEBAQEBAQEBAQEBAQEBAQEBAQEBAQEBAQEBAQEBAQEBAQEBAQEBAQEBAQEBAQEBAQEBAQEBAQEBAQEBAQEBAQEBAQEBAQEBAQEBAQEBAQEBAQEBAQEBAQEBAQEBAQEBAQEBAQEBAQEBAQEBAQEBAQEBAQEBAQEBAQEBAQEBAQEBAQEBAQEBAQEBAQEBAQEBAQEBAQEBAQEBAQEBAQEBAQEBAQEBAQEBAQEBAQEBAQEBAQEBAQEBAQEBAQEBAQEBAQEBAQEBAQEBAQEBAQEBAQEBAQEBAQEBAQEBAQEBAQEBAQEBAQEBAQEBAQEBAQEBAQEBAQEBAQEBAQEBAQEBAQEBAQEBAQEBAQEBAQEBAQEBAQEBAQEBAQEBAQEBAQEBAQEBAQEBAQEBAQEBAQEBAQEBAQEBAQEBAQEBAQEBAQEBAQEBAQEBAQEBAQEBAQ==",
           "dtype": "i1"
          },
          "target": {
           "bdata": "AwMIAAMDAwMDAwMDAwMDCAMDAwgDAwMDAwMIAwMDAwMIAwMDAwgDAwMDAwMDAwMDAwMDAwMDAwMDAwMDAwMDAwMIAwMDCAMDAwMDAwMDAwMDAwMIAwMDAwgIAwMDAwMDCAMDCAMDAwMDAwMDAwMDAwMDCAgDAwMDAwMDAwMDAwMDAwMDAwMDAwMIAwMDCAMDAwMDAwMDAwgDAwMIAwMDCAMDAwMDAwMDAwMDAwMIAwMDAwMDAwMDAwMDAwMDCAMDAwMDAwMCAwMDAwgDAwMDAwMDAwMDCAgDAwMDAwMDAwMDAwMDAwMDAwMDAwcHAAcHAAAHAAgDBwcAAwMDAAcHAwIABwcHAgMHAwADAwIDBwMHBwADAwgAAAADBwABAwcDAwIDAgcCAwADAwMDAwQEAQMIAwMBAAgDAAMHAwMDAwMAAwMDBwIDAwEDAwcDBwMDAAEDAwADAwcDAAgDAwMBAgEDAwMDAwcHAwAIAwgDAAMHAwgDBAEDAwMDAwMIBwEHBwMHAwMACAIDAwgAAwMDAAMECAMDAwMDAwcDAwMACAAIAwMDAwMDAwcIAwMDAwMHBwMAAwADAAMDCAcHAwADAAMDAwgDAAMDAAUICAgDAwMHAwMDAAMDAwMDAwcDAQMCAwMDAwMFAwMHAwMDAwMHAwEAAwcDAwQDCAMCAwADAwMHBAMDAwMDAwUDAQgDAwgDAQMDAwMDAwMDAwMCAwMDAwgICAMDAwMDAwMDCAMDAwMDAwMDBwMDCAMDAwMDAwcIAwMDCAMDAgMDBQEDAAcDAwMDBwgDBAMDAwcGBgYGBgYGBgYGBgYGBgYGBgYGBgYGBgYGBgYGBgYGBgYGBgYGBgYGBgYGBgYGBgYGBgYGBgYGBgYGBgYGBgYGBgYGBgYGBgYGBgYGBgYGBgYGBgYGBgYGBgYGBgYGBgYGBgYGBgYGBgYGBgYGBgYGBgYGBgYGBgYGBgYGBgYGBgYGBgYGBgYGBgYGBgYGBgYGBgYGBgYGBgYGBgYGBgYGBgYGBgYGBgYGBgYGBgYGBgYGBgYGBgYGBgYGBgYGBgYGBgYGBgYGBgYGBgYGBgYGBgYGBgYGBgYGBgYGBgYGBgYGBgYGBgYGBgYGBgYGBgYGBgYGBgYGBgYGBgYGBgYGBgYGBgYGBgYGBgYGBgYGBgYGBgYGBgYGBgYGBgYGBgYGBgYGBgYGBgYGBgYGBgYGBgYGBgYGBgYGBgYGBgYGBgYGBgYGBgYGBgYGBgYGBgYGBgYGBgYGBgYGBgYGBgYGBgYGBgYGBgYGBgYGBgYGBgYGBgYGBgYGBgYGBgYGBgYGBgYGBgYGBgYGBgYGBgYGBgYGBgYGBgYGBgYGBgYGBgYGBgYGBgYGBgYGBgYGBgYGBgYGBgYGBgYGBgYGBgYGBgYGBgYGBgYGBgYGBgYGBgYGBgYGBgYGBgYGBgYGBgYGBgYGBgYGBgYGBgYGBgYGBgYGBgYGBgYGBgYGBgYGBgYGBgYGBgYGBgYGBg==",
           "dtype": "i1"
          },
          "value": {
           "bdata": "AAAAAAAAAAAAAAAAAAAAAAAAAAAAAAAAAAAAAAAAAAAAAAAAAAAAAAAAAAAAAAAAAAAAAAAAAAAAAAAAAAAAAAAAAAAAAAAAAAAAAAAAAAAAAAAAAAAAAAAAAAAAAAAAAAAAAAAAAAAAAAAAAAAAAAAAAAAAAAAAAAAAAAAAAAAAAAAAAAAAAAAAAAAAAAAAAAAAAAAAAAAAAAAAAAAAAAAAAAAAAAAAAAAAAAAAAAAAAAAAAAAAAAAAAAAAAAAAAAAAAAAAAAAAAAAAAAAAAAAAAAAAAAAAAAAAAAAAAAAAAAAAAAAAAAAAAAAAAAAAAAAAAAAAAAAAAAAAAAAAAAAAAAAAAAAAAAAAAAAAAAAAAAAAAAAAAAAAAAAAAAAAAAAAAAAAAAAAAAAAAAAAAAAAAAAAAAAAAAAAAAAAAAAAAAAAAAAAAAAAAAAAAAAAAAAAAAAAAAAAAAAAAAAAAAAAAAAAAAAAAAAAAAAAAAAAAAAAAAAAAAAAAAAAAAAAAAAAAAAAAAAAAAAAAAAAAAAAAAAAAAAAAAAAAAAAAAAAAAAAAAAAAAAAAAAAAAAAAAAAAAAAAAAAAAAAAAAAAAAAAAAAAAAAAAAAAAAAAAAAAAAAAAAAAAAAAAAAAAAAAAAAAAAAAAAAAAAAAAAAAAAAAAAAAAAAAAAAAAAAAAAAAAAAAAAAAAAAAAAAAAAAAAAAAAAAAAAAAAAAAAAAAAAAAAAAAAAAAAAAAAAAAAAAAAAAAAAAAAAAAAAAAAAAAAAAAAAAAAAAAAAAAAAAAAAAAAAAAAAAAAAAAAAAAAAAAAAAAAAAAAAAAAAAAAAAAAAAAAAAAAAAAAAAAAAAAAAAAAAAAAAAAAAAAAAAAAAAAAAAAAAAAAAAAAAAAAAAAAAAAAAAAAAAAAAAAAAAAAAAAAAAAAAAAAAAAAAAAAAAAAAAAAAAAAAAAAAAAAAAAAAAAAAAAAAAAAAAAAAAAAAAAAAAAAAAAAAAAAAAAAAAAAAAAAAAAAAAAAAAAAAAAAAAAAAAAAAAAAAAAAAAAAAAAAAAAAAAAAAAAAAAAAAAAAAAAAAAAAAAAAAAAAAAAAAAAAAAAAAAAAAAAAAAAAAAAAAAAAAAAAAAAAAAAAAAAAAAAAAAAAAAAAAAAAAAAAAAAAAAAAAAAAAAAAAAAAAAAAAAAAAAAAAAAAAAAAAAAAAAAAAAAAAAAAAAAAAAAAAAAAAAAAAAAAAAAAAAAAAAAAAAAAAAAAAAAAAAAAAAAAAAAAAAAAAAAAAAAAAAAAAAAAAAAAAAAAAAAAAAAAAAAAAAAAAAAAAAAAAAAAAAAAAAAAAAAAAAAAAAAAAAAAAAAAAAAAAAAAAAAAAAAAAAAAAAAAAAAAAAAAAAAAAAAAAAAAAAAAAAAAAAAAAAAAAAAAAAAAAAAAAAAAAAAAAAAAAAAAAAAAAAAAAAAAAAAAAAAAAAAAAAAAAAAAAAAAAAAAAAAAAAAAAAAAAAAAAAAAAAAAAAAAAAAAAAAAAAAAAAAAAAAAAAAAAAAAAAAAAAAAAAAAAAAAAAAAAAAAAAAAAAAAAAAAAAAAAAAAAAAAAAAAAAAAAAAAAAAAAAAAAAAAAAAAAAAAAAAAAAAAAAAAAAAAAAAAAAAAAAAAAAAAAAAAAAAAAAAAAAAAAAAAAAAAAAAAAAAAAAAAAAAAAAAAAAAAAAAAAAAAAAAAAAAAAAAAAAAAAAAAAAAAAAAAAAAAAAAAAAAAAAAAAAAAAAAAAAAAAAAAAAAAAAAAAAAAAAAAAAAAAAAAAAAAAAAAAAAAAAAAAAAAAAAAAAAAAAAAAAAAAAAAAAAAAAAAAAAAAAAAAAAAAAAAAAAAAAAAAAAAAAAAAAAAAAAAAAAAAAAAAAAAAAAAAAAAAAAAAAAAAAAAAAAAAAAAAAAAAAAAAAAAAAAAAAAAAAAAAAAAAAAAAAAAAAAAAAAAAAAAAAAAAAAAAAAAAAAAAAAAAAAAAAAAAAAAAAAAAAAAAAAAAAAAAAAAAAAAAAAAAAAAAAAAAAAAAAAAAAAAAAAAAAAAAAAAAAAAAAAAAAAAAAAAAAAAAAAAAAAAAAAAAAAAAAAAAAAAAAAAAAAAAAAAAAAAAAAAAAAAAAAAAAAAAAAAAAAAAAAAAAAAAAAAAAAAAAAAAAAAAAAAAAAAAAAAAAAAAAAAAAAAAAAAAAAAAAAAAAAAAAAAAAAAAAAAAAAAAAAAAAAAAAAAAAAAAAAAAAAAAAAAAAAAAAAAAAAAAAAAAAAAAAAAAAAAAAAAAAAAAAAAAAAAAAAAAAAAAAAAAAAAAAAAAAAAAAAAAAAAAAAAAAAAAAAAAAAAAAAAAAAAAAAAAAAAAAAAAAAAAAAAAAAAAAAAAAAAAAAAAAAAAAAAAAAAAAAAAAAAAAAAAAAAAAAAAAAAAAAAAAAAAAAAAAAAAAAAAAAAAAAAAAAAAAAAAAAAAAAAAAAAAAAAAAAAAAAAAAAAAAAAAAAAAAAAAAAAAAAAAAAAAAAAAAAADwPwAAAAAAAPA/AAAAAAAA8D8AAAAAAAAIQAAAAAAAAAhAAAAAAAAA8D8AAAAAAAAUQAAAAAAAABRAAAAAAAAAAEAAAAAAAAAUQAAAAAAAABhAAAAAAAAAIEAAAAAAAAAgQAAAAAAAAPA/AAAAAAAAIkAAAAAAAAAiQAAAAAAAACRAAAAAAAAAIkAAAAAAAAAoQAAAAAAAAChAAAAAAAAAKkAAAAAAAAAQQAAAAAAAACJAAAAAAAAANEAAAAAAAAA0QAAAAAAAADRAAAAAAAAAMEAAAAAAAAA3QAAAAAAAADdAAAAAAAAAOEAAAAAAAAAQQAAAAAAAADhAAAAAAAAAOUAAAAAAAAAUQAAAAAAAADtAAAAAAAAAPUAAAAAAAAA9QAAAAAAAAD1AAAAAAAAAPkAAAAAAAADwPwAAAAAAAD9AAAAAAAAAP0AAAAAAAAA/QAAAAAAAAD9AAAAAAAAACEAAAAAAAAAiQAAAAAAAgEBAAAAAAAAAAEAAAAAAAAAIQAAAAAAAAD1AAAAAAACAQEAAAAAAAIBAQAAAAAAAgEBAAAAAAAAAQUAAAAAAAAA2QAAAAAAAAEFAAAAAAACAQUAAAAAAAIBBQAAAAAAAABBAAAAAAAAAQ0AAAAAAAAA0QAAAAAAAgERAAAAAAACAREAAAAAAAABFQAAAAAAAAEVAAAAAAACARUAAAAAAAAAgQAAAAAAAACZAAAAAAAAAFEAAAAAAAIBGQAAAAAAAgEZAAAAAAACAR0AAAAAAAIBHQAAAAAAAAEdAAAAAAACASEAAAAAAAIBIQAAAAAAAAElAAAAAAACASUAAAAAAAABKQAAAAAAAABxAAAAAAACASkAAAAAAAIBLQAAAAAAAgEtAAAAAAAAATEAAAAAAAABMQAAAAAAAABRAAAAAAACATEAAAAAAAABNQAAAAAAAAE1AAAAAAACATUAAAAAAAABOQAAAAAAAgE5AAAAAAACATkAAAAAAAAAoQAAAAAAAgE5AAAAAAACAT0AAAAAAAABNQAAAAAAAgE9AAAAAAAAAUEAAAAAAAABQQAAAAAAAAFBAAAAAAAAAGEAAAAAAAABBQAAAAAAAQFBAAAAAAACAUEAAAAAAAAAIQAAAAAAAwFBAAAAAAADAUEAAAAAAAAAzQAAAAAAAQFFAAAAAAAAA8D8AAAAAAIBRQAAAAAAAwFFAAAAAAAAAUkAAAAAAAEBSQAAAAAAAABRAAAAAAAAAJkAAAAAAAIBRQAAAAAAAAFNAAAAAAACAU0AAAAAAAMBTQAAAAAAAwFNAAAAAAADAU0AAAAAAAABUQAAAAAAAQFRAAAAAAACAVEAAAAAAAAAAQAAAAAAAgFRAAAAAAADAVEAAAAAAAMBUQAAAAAAAwFRAAAAAAAAACEAAAAAAAABVQAAAAAAAAABAAAAAAABAVUAAAAAAAEBVQAAAAAAAQFVAAAAAAAAA8D8AAAAAAIBRQAAAAAAAAFZAAAAAAABAVkAAAAAAAMBWQAAAAAAAwFZAAAAAAABAV0AAAAAAAEBXQAAAAAAAgFdAAAAAAAAAIkAAAAAAAABOQAAAAAAAAPA/AAAAAADAV0AAAAAAAMBXQAAAAAAAwFdAAAAAAAAAWEAAAAAAAIBYQAAAAAAAAAhAAAAAAACAWEAAAAAAAAAIQAAAAAAAgFhAAAAAAAAAWUAAAAAAAABZQAAAAAAAACBAAAAAAAAAWkAAAAAAAEBaQAAAAAAAQFpAAAAAAAAAKEAAAAAAAIBaQAAAAAAAwFpAAAAAAAAAW0AAAAAAAABbQAAAAAAAgFtAAAAAAADAW0AAAAAAAABcQAAAAAAAAFxAAAAAAABAXEAAAAAAAAAwQAAAAAAAgFxAAAAAAACAXEAAAAAAAMBcQAAAAAAAAEdAAAAAAABAXUAAAAAAAAAIQAAAAAAAQF1AAAAAAACAXUAAAAAAAMBdQAAAAAAAQF5AAAAAAACAXkAAAAAAAIBeQAAAAAAAgF5AAAAAAACAXkAAAAAAAAAYQAAAAAAAwF5AAAAAAADAXkAAAAAAAMBeQAAAAAAAAF9AAAAAAABAX0AAAAAAAEBfQAAAAAAAAEVAAAAAAAAAIkAAAAAAAIBfQAAAAAAAABBAAAAAAADAX0AAAAAAAADwPwAAAAAAwF9AAAAAAAAAAEAAAAAAAABgQAAAAAAAIGBAAAAAAAAgYEAAAAAAAEBgQAAAAAAAAD5AAAAAAABAYEAAAAAAAADwPwAAAAAAYGBAAAAAAABgYEAAAAAAAIBgQAAAAAAAoGBAAAAAAACgYEAAAAAAAKBgQAAAAAAAoGBAAAAAAAAAEEAAAAAAAKBgQAAAAAAAwGBAAAAAAAAAEEAAAAAAAABAQAAAAAAA4GBAAAAAAAAAYUAAAAAAAABhQAAAAAAAIGFAAAAAAABAYUAAAAAAAGBhQAAAAAAAAAhAAAAAAABgYUAAAAAAAIBhQAAAAAAAgGFAAAAAAAAA8D8AAAAAAKBhQAAAAAAAoGFAAAAAAADAYUAAAAAAAMBhQAAAAAAAwGFAAAAAAADgYUAAAAAAAAAcQAAAAAAA4GFAAAAAAACgYEAAAAAAAOBhQAAAAAAAAPA/AAAAAAAAYkAAAAAAACBiQAAAAAAAQGJAAAAAAABAYkAAAAAAAEBiQAAAAAAAgGJAAAAAAACAYkAAAAAAAKBiQAAAAAAAAAhAAAAAAACgYkAAAAAAAKBiQAAAAAAAwGJAAAAAAADAYkAAAAAAAMBiQAAAAAAAAC5AAAAAAADAYkAAAAAAAMBWQAAAAAAAAABAAAAAAAAgY0AAAAAAAAA+QAAAAAAAIGNAAAAAAAAgY0AAAAAAAAAYQAAAAAAAYGNAAAAAAABgY0AAAAAAAGBjQAAAAAAAADdAAAAAAACAVEAAAAAAAAAQQAAAAAAAoGNAAAAAAACgY0AAAAAAAMBjQAAAAAAAwGNAAAAAAAAASkAAAAAAAABkQAAAAAAAAGRAAAAAAAAAZEAAAAAAACBkQAAAAAAAIGRAAAAAAABAZEAAAAAAAKBhQAAAAAAAQGRAAAAAAACgY0AAAAAAAIBkQAAAAAAAgGRAAAAAAADAZEAAAAAAACBlQAAAAAAAIGVAAAAAAADgYEAAAAAAAIBlQAAAAAAAgGVAAAAAAACAZUAAAAAAAKBlQAAAAAAAwGVAAAAAAADAZUAAAAAAAOBlQAAAAAAAAGZAAAAAAAAAZkAAAAAAACBmQAAAAAAAADNAAAAAAABAZkAAAAAAAGBmQAAAAAAAYGZAAAAAAACAZkAAAAAAAKBmQAAAAAAAwGZAAAAAAADAZkAAAAAAAOBmQAAAAAAAAGdAAAAAAAAAZ0AAAAAAACBnQAAAAAAAIGdAAAAAAABAZ0AAAAAAAEBnQAAAAAAAQGdAAAAAAABgZ0AAAAAAAGBnQAAAAAAAgGdAAAAAAACAZ0AAAAAAAIBnQAAAAAAAgGdAAAAAAACgZ0AAAAAAAKBnQAAAAAAAoGdAAAAAAAAAIEAAAAAAAMBnQAAAAAAAwGdAAAAAAADgZ0AAAAAAAOBnQAAAAAAA4GdAAAAAAADgZ0AAAAAAAOBnQAAAAAAAIGhAAAAAAABAaEAAAAAAAAAQQAAAAAAAYGhAAAAAAABgaEAAAAAAAGBoQAAAAAAAoGhAAAAAAACgaEAAAAAAAKBoQAAAAAAAwGhAAAAAAAAAIEAAAAAAAOBoQAAAAAAA4GhAAAAAAACATUAAAAAAAOBnQAAAAAAAIGlAAAAAAAAAGEAAAAAAAAAUQAAAAAAAYGlAAAAAAABgaUAAAAAAAGBpQAAAAAAAgGlAAAAAAACAQUAAAAAAAKBpQAAAAAAAoGlAAAAAAAAA8D8AAAAAAMBpQAAAAAAA4GlAAAAAAADgaUAAAAAAAAA1QAAAAAAAAGpAAAAAAAAAakAAAAAAAABqQAAAAAAAAGpAAAAAAAAAakAAAAAAAABqQAAAAAAAAGpAAAAAAAAAakAAAAAAAABqQAAAAAAAAGpAAAAAAAAAakAAAAAAAABqQAAAAAAAAGpAAAAAAAAAakAAAAAAAABqQAAAAAAAAGpAAAAAAAAAakAAAAAAAABqQAAAAAAAAGpAAAAAAAAAakAAAAAAAABqQAAAAAAAAGpAAAAAAAAAakAAAAAAAABqQAAAAAAAAGpAAAAAAAAAakAAAAAAAABqQAAAAAAAAGpAAAAAAAAAakAAAAAAAABqQAAAAAAAAGpAAAAAAAAAakAAAAAAAABqQAAAAAAAAGpAAAAAAAAAakAAAAAAAABqQAAAAAAAAGpAAAAAAAAAakAAAAAAAABqQAAAAAAAAGpAAAAAAAAAakAAAAAAAABqQAAAAAAAAGpAAAAAAAAAakAAAAAAAABqQAAAAAAAAGpAAAAAAAAAakAAAAAAAABqQAAAAAAAAGpAAAAAAAAAakAAAAAAAABqQAAAAAAAAGpAAAAAAAAAakAAAAAAAABqQAAAAAAAAGpAAAAAAAAAakAAAAAAAABqQAAAAAAAAGpAAAAAAAAAakAAAAAAAABqQAAAAAAAAGpAAAAAAAAAakAAAAAAAABqQAAAAAAAAGpAAAAAAAAAakAAAAAAAABqQAAAAAAAAGpAAAAAAAAAakAAAAAAAABqQAAAAAAAAGpAAAAAAAAAakAAAAAAAABqQAAAAAAAAGpAAAAAAAAAakAAAAAAAABqQAAAAAAAAGpAAAAAAAAAakAAAAAAAABqQAAAAAAAAGpAAAAAAAAAakAAAAAAAABqQAAAAAAAAGpAAAAAAAAAakAAAAAAAABqQAAAAAAAAGpAAAAAAAAAakAAAAAAAABqQAAAAAAAAGpAAAAAAAAAakAAAAAAAABqQAAAAAAAAGpAAAAAAAAAakAAAAAAAABqQAAAAAAAAGpAAAAAAAAAakAAAAAAAABqQAAAAAAAAGpAAAAAAAAAakAAAAAAAABqQAAAAAAAAGpAAAAAAAAAakAAAAAAAABqQAAAAAAAAGpAAAAAAAAAakAAAAAAAABqQAAAAAAAAGpAAAAAAAAAakAAAAAAAABqQAAAAAAAAGpAAAAAAAAAakAAAAAAAABqQAAAAAAAAGpAAAAAAAAAakAAAAAAAABqQAAAAAAAAGpAAAAAAAAAakAAAAAAAABqQAAAAAAAAGpAAAAAAAAAakAAAAAAAABqQAAAAAAAAGpAAAAAAAAAakAAAAAAAABqQAAAAAAAAGpAAAAAAAAAakAAAAAAAABqQAAAAAAAAGpAAAAAAAAAakAAAAAAAABqQAAAAAAAAGpAAAAAAAAAakAAAAAAAABqQAAAAAAAAGpAAAAAAAAAakAAAAAAAABqQAAAAAAAAGpAAAAAAAAAakAAAAAAAABqQAAAAAAAAGpAAAAAAAAAakAAAAAAAABqQAAAAAAAAGpAAAAAAAAAakAAAAAAAABqQAAAAAAAAGpAAAAAAAAAakAAAAAAAABqQAAAAAAAAGpAAAAAAAAAakAAAAAAAABqQAAAAAAAAGpAAAAAAAAAakAAAAAAAABqQAAAAAAAAGpAAAAAAAAAakAAAAAAAABqQAAAAAAAAGpAAAAAAAAAakAAAAAAAABqQAAAAAAAAGpAAAAAAAAAakAAAAAAAABqQAAAAAAAAGpAAAAAAAAAakAAAAAAAABqQAAAAAAAAGpAAAAAAAAAakAAAAAAAABqQAAAAAAAAGpAAAAAAAAAakAAAAAAAABqQAAAAAAAAGpAAAAAAAAAakAAAAAAAABqQAAAAAAAAGpAAAAAAAAAakAAAAAAAABqQAAAAAAAAGpAAAAAAAAAakAAAAAAAABqQAAAAAAAAGpAAAAAAAAAakAAAAAAAABqQAAAAAAAAGpAAAAAAAAAakAAAAAAAABqQAAAAAAAAGpAAAAAAAAAakAAAAAAAABqQAAAAAAAAGpAAAAAAAAAakAAAAAAAABqQAAAAAAAAGpAAAAAAAAAakAAAAAAAABqQAAAAAAAAGpAAAAAAAAAakAAAAAAAABqQAAAAAAAAGpAAAAAAAAAakAAAAAAAABqQAAAAAAAAGpAAAAAAAAAakAAAAAAAABqQAAAAAAAAGpAAAAAAAAAakAAAAAAAABqQAAAAAAAAGpAAAAAAAAAakAAAAAAAABqQAAAAAAAAGpAAAAAAAAAakAAAAAAAABqQAAAAAAAAGpAAAAAAAAAakAAAAAAAABqQAAAAAAAAGpAAAAAAAAAakAAAAAAAABqQAAAAAAAAGpAAAAAAAAAakAAAAAAAABqQAAAAAAAAGpAAAAAAAAAakAAAAAAAABqQAAAAAAAAGpAAAAAAAAAakAAAAAAAABqQAAAAAAAAGpAAAAAAAAAakAAAAAAAABqQAAAAAAAAGpAAAAAAAAAakAAAAAAAABqQAAAAAAAAGpAAAAAAAAAakAAAAAAAABqQAAAAAAAAGpAAAAAAAAAakAAAAAAAABqQAAAAAAAAGpAAAAAAAAAakAAAAAAAABqQAAAAAAAAGpAAAAAAAAAakAAAAAAAABqQAAAAAAAAGpAAAAAAAAAakAAAAAAAABqQAAAAAAAAGpAAAAAAAAAakAAAAAAAABqQAAAAAAAAGpAAAAAAAAAakAAAAAAAABqQAAAAAAAAGpAAAAAAAAAakAAAAAAAABqQAAAAAAAAGpAAAAAAAAAakAAAAAAAABqQAAAAAAAAGpAAAAAAAAAakAAAAAAAABqQAAAAAAAAGpAAAAAAAAAakAAAAAAAABqQAAAAAAAAGpAAAAAAAAAakAAAAAAAABqQAAAAAAAAGpAAAAAAAAAakAAAAAAAABqQAAAAAAAAGpAAAAAAAAAakAAAAAAAABqQAAAAAAAAGpAAAAAAAAAakAAAAAAAABqQAAAAAAAAGpAAAAAAAAAakAAAAAAAABqQAAAAAAAAGpAAAAAAAAAakAAAAAAAABqQAAAAAAAAGpAAAAAAAAAakAAAAAAAABqQAAAAAAAAGpAAAAAAAAAakAAAAAAAABqQAAAAAAAAGpAAAAAAAAAakAAAAAAAABqQAAAAAAAAGpAAAAAAAAAakAAAAAAAABqQAAAAAAAAGpAAAAAAAAAakAAAAAAAABqQAAAAAAAAGpAAAAAAAAAakAAAAAAAABqQAAAAAAAAGpAAAAAAAAAakAAAAAAAABqQAAAAAAAAGpAAAAAAAAAakAAAAAAAABqQAAAAAAAAGpAAAAAAAAAakAAAAAAAABqQAAAAAAAAGpAAAAAAAAAakAAAAAAAABqQAAAAAAAAGpAAAAAAAAAakAAAAAAAABqQAAAAAAAAGpAAAAAAAAAakAAAAAAAABqQAAAAAAAAGpAAAAAAAAAakAAAAAAAABqQAAAAAAAAGpAAAAAAAAAakAAAAAAAABqQAAAAAAAAGpAAAAAAAAAakAAAAAAAABqQAAAAAAAAGpAAAAAAAAAakAAAAAAAABqQAAAAAAAAGpAAAAAAAAAakAAAAAAAABqQAAAAAAAAGpAAAAAAAAAakAAAAAAAABqQAAAAAAAAGpAAAAAAAAAakAAAAAAAABqQAAAAAAAAGpAAAAAAAAAakAAAAAAAABqQAAAAAAAAGpAAAAAAAAAakAAAAAAAABqQAAAAAAAAGpAAAAAAAAAakAAAAAAAABqQAAAAAAAAGpAAAAAAAAAakAAAAAAAABqQAAAAAAAAGpAAAAAAAAAakAAAAAAAABqQAAAAAAAAGpAAAAAAAAAakAAAAAAAABqQAAAAAAAAGpAAAAAAAAAakAAAAAAAABqQAAAAAAAAGpAAAAAAAAAakAAAAAAAABqQAAAAAAAAGpAAAAAAAAAakAAAAAAAABqQAAAAAAAAGpAAAAAAAAAakAAAAAAAABqQAAAAAAAAGpAAAAAAAAAakAAAAAAAABqQAAAAAAAAGpAAAAAAAAAakAAAAAAAABqQAAAAAAAAGpAAAAAAAAAakAAAAAAAABqQAAAAAAAAGpAAAAAAAAAakAAAAAAAABqQAAAAAAAAGpAAAAAAAAAakAAAAAAAABqQAAAAAAAAGpAAAAAAAAAakAAAAAAAABqQAAAAAAAAGpAAAAAAAAAakAAAAAAAABqQAAAAAAAAGpAAAAAAAAAakAAAAAAAABqQAAAAAAAAGpAAAAAAAAAakAAAAAAAABqQAAAAAAAAGpAAAAAAAAAakAAAAAAAABqQAAAAAAAAGpAAAAAAAAAakAAAAAAAABqQAAAAAAAAGpAAAAAAAAAakAAAAAAAABqQAAAAAAAAGpAAAAAAAAAakAAAAAAAABqQAAAAAAAAGpAAAAAAAAAakAAAAAAAABqQAAAAAAAAGpAAAAAAAAAakAAAAAAAABqQAAAAAAAAGpAAAAAAAAAakAAAAAAAABqQAAAAAAAAGpAAAAAAAAAakAAAAAAAABqQAAAAAAAAGpAAAAAAAAAakAAAAAAAABqQAAAAAAAAGpAAAAAAAAAakAAAAAAAABqQAAAAAAAAGpAAAAAAAAAakAAAAAAAABqQAAAAAAAAGpAAAAAAAAAakAAAAAAAABqQAAAAAAAAGpAAAAAAAAAakAAAAAAAABqQAAAAAAAAGpAAAAAAAAAakAAAAAAAABqQAAAAAAAAGpAAAAAAAAAakAAAAAAAABqQAAAAAAAAGpAAAAAAAAAakAAAAAAAABqQAAAAAAAAGpAAAAAAAAAakAAAAAAAABqQAAAAAAAAGpAAAAAAAAAakAAAAAAAABqQAAAAAAAAGpAAAAAAAAAakAAAAAAAABqQAAAAAAAAGpAAAAAAAAAakAAAAAAAABqQAAAAAAAAGpAAAAAAAAAakAAAAAAAABqQAAAAAAAAGpAAAAAAAAAakAAAAAAAABqQAAAAAAAAGpAAAAAAAAAakAAAAAAAABqQAAAAAAAAGpAAAAAAAAAakAAAAAAAABqQAAAAAAAAGpAAAAAAAAAakAAAAAAAABqQAAAAAAAAGpAAAAAAAAAakAAAAAAAABqQAAAAAAAAGpAAAAAAAAAakAAAAAAAABqQAAAAAAAAGpAAAAAAAAAakAAAAAAAABqQAAAAAAAAGpAAAAAAAAAakAAAAAAAABqQAAAAAAAAGpAAAAAAAAAakAAAAAAAABqQAAAAAAAAGpAAAAAAAAAakAAAAAAAABqQAAAAAAAAGpAAAAAAAAAakAAAAAAAABqQAAAAAAAAGpAAAAAAAAAakAAAAAAAABqQAAAAAAAAGpAAAAAAAAAakAAAAAAAABqQAAAAAAAAGpAAAAAAAAAakAAAAAAAABqQAAAAAAAAGpAAAAAAAAAakAAAAAAAABqQAAAAAAAAGpAAAAAAAAAakAAAAAAAABqQAAAAAAAAGpAAAAAAAAAakAAAAAAAABqQAAAAAAAAGpAAAAAAAAAakAAAAAAAABqQAAAAAAAAGpAAAAAAAAAakAAAAAAAABqQAAAAAAAAGpAAAAAAAAAakAAAAAAAABqQAAAAAAAAGpAAAAAAAAAakA=",
           "dtype": "f8"
          }
         },
         "node": {
          "color": [
           "rgba(31.0, 119.0, 180.0, 1.0)",
           "rgba(255.0, 127.0, 14.0, 1.0)",
           "rgba(152.0, 223.0, 138.0, 1.0)",
           "rgba(255.0, 152.0, 150.0, 1.0)",
           "rgba(140.0, 86.0, 75.0, 1.0)",
           "rgba(227.0, 119.0, 194.0, 1.0)",
           "rgba(199.0, 199.0, 199.0, 1.0)",
           "rgba(219.0, 219.0, 141.0, 1.0)",
           "rgba(158.0, 218.0, 229.0, 1.0)"
          ],
          "label": [
           "3.0.Active Smpos",
           "-1.0.None",
           "4.0.Active Smneg",
           "0.0.Latent Slow",
           "5.0.Active Exptb",
           "8.0.Dead",
           "-2.0.NEVER INFECTED",
           "2.0.Active Presymp",
           "1.0.Latent Fast"
          ],
          "line": {
           "color": "black",
           "width": 0.2
          },
          "pad": 15,
          "thickness": 20
         },
         "type": "sankey"
        }
       ],
       "layout": {
        "font": {
         "color": "black",
         "size": 10
        },
        "margin": {
         "b": 20,
         "l": 20,
         "r": 20,
         "t": 40
        },
        "template": {
         "data": {
          "bar": [
           {
            "error_x": {
             "color": "#2a3f5f"
            },
            "error_y": {
             "color": "#2a3f5f"
            },
            "marker": {
             "line": {
              "color": "#E5ECF6",
              "width": 0.5
             },
             "pattern": {
              "fillmode": "overlay",
              "size": 10,
              "solidity": 0.2
             }
            },
            "type": "bar"
           }
          ],
          "barpolar": [
           {
            "marker": {
             "line": {
              "color": "#E5ECF6",
              "width": 0.5
             },
             "pattern": {
              "fillmode": "overlay",
              "size": 10,
              "solidity": 0.2
             }
            },
            "type": "barpolar"
           }
          ],
          "carpet": [
           {
            "aaxis": {
             "endlinecolor": "#2a3f5f",
             "gridcolor": "white",
             "linecolor": "white",
             "minorgridcolor": "white",
             "startlinecolor": "#2a3f5f"
            },
            "baxis": {
             "endlinecolor": "#2a3f5f",
             "gridcolor": "white",
             "linecolor": "white",
             "minorgridcolor": "white",
             "startlinecolor": "#2a3f5f"
            },
            "type": "carpet"
           }
          ],
          "choropleth": [
           {
            "colorbar": {
             "outlinewidth": 0,
             "ticks": ""
            },
            "type": "choropleth"
           }
          ],
          "contour": [
           {
            "colorbar": {
             "outlinewidth": 0,
             "ticks": ""
            },
            "colorscale": [
             [
              0,
              "#0d0887"
             ],
             [
              0.1111111111111111,
              "#46039f"
             ],
             [
              0.2222222222222222,
              "#7201a8"
             ],
             [
              0.3333333333333333,
              "#9c179e"
             ],
             [
              0.4444444444444444,
              "#bd3786"
             ],
             [
              0.5555555555555556,
              "#d8576b"
             ],
             [
              0.6666666666666666,
              "#ed7953"
             ],
             [
              0.7777777777777778,
              "#fb9f3a"
             ],
             [
              0.8888888888888888,
              "#fdca26"
             ],
             [
              1,
              "#f0f921"
             ]
            ],
            "type": "contour"
           }
          ],
          "contourcarpet": [
           {
            "colorbar": {
             "outlinewidth": 0,
             "ticks": ""
            },
            "type": "contourcarpet"
           }
          ],
          "heatmap": [
           {
            "colorbar": {
             "outlinewidth": 0,
             "ticks": ""
            },
            "colorscale": [
             [
              0,
              "#0d0887"
             ],
             [
              0.1111111111111111,
              "#46039f"
             ],
             [
              0.2222222222222222,
              "#7201a8"
             ],
             [
              0.3333333333333333,
              "#9c179e"
             ],
             [
              0.4444444444444444,
              "#bd3786"
             ],
             [
              0.5555555555555556,
              "#d8576b"
             ],
             [
              0.6666666666666666,
              "#ed7953"
             ],
             [
              0.7777777777777778,
              "#fb9f3a"
             ],
             [
              0.8888888888888888,
              "#fdca26"
             ],
             [
              1,
              "#f0f921"
             ]
            ],
            "type": "heatmap"
           }
          ],
          "histogram": [
           {
            "marker": {
             "pattern": {
              "fillmode": "overlay",
              "size": 10,
              "solidity": 0.2
             }
            },
            "type": "histogram"
           }
          ],
          "histogram2d": [
           {
            "colorbar": {
             "outlinewidth": 0,
             "ticks": ""
            },
            "colorscale": [
             [
              0,
              "#0d0887"
             ],
             [
              0.1111111111111111,
              "#46039f"
             ],
             [
              0.2222222222222222,
              "#7201a8"
             ],
             [
              0.3333333333333333,
              "#9c179e"
             ],
             [
              0.4444444444444444,
              "#bd3786"
             ],
             [
              0.5555555555555556,
              "#d8576b"
             ],
             [
              0.6666666666666666,
              "#ed7953"
             ],
             [
              0.7777777777777778,
              "#fb9f3a"
             ],
             [
              0.8888888888888888,
              "#fdca26"
             ],
             [
              1,
              "#f0f921"
             ]
            ],
            "type": "histogram2d"
           }
          ],
          "histogram2dcontour": [
           {
            "colorbar": {
             "outlinewidth": 0,
             "ticks": ""
            },
            "colorscale": [
             [
              0,
              "#0d0887"
             ],
             [
              0.1111111111111111,
              "#46039f"
             ],
             [
              0.2222222222222222,
              "#7201a8"
             ],
             [
              0.3333333333333333,
              "#9c179e"
             ],
             [
              0.4444444444444444,
              "#bd3786"
             ],
             [
              0.5555555555555556,
              "#d8576b"
             ],
             [
              0.6666666666666666,
              "#ed7953"
             ],
             [
              0.7777777777777778,
              "#fb9f3a"
             ],
             [
              0.8888888888888888,
              "#fdca26"
             ],
             [
              1,
              "#f0f921"
             ]
            ],
            "type": "histogram2dcontour"
           }
          ],
          "mesh3d": [
           {
            "colorbar": {
             "outlinewidth": 0,
             "ticks": ""
            },
            "type": "mesh3d"
           }
          ],
          "parcoords": [
           {
            "line": {
             "colorbar": {
              "outlinewidth": 0,
              "ticks": ""
             }
            },
            "type": "parcoords"
           }
          ],
          "pie": [
           {
            "automargin": true,
            "type": "pie"
           }
          ],
          "scatter": [
           {
            "fillpattern": {
             "fillmode": "overlay",
             "size": 10,
             "solidity": 0.2
            },
            "type": "scatter"
           }
          ],
          "scatter3d": [
           {
            "line": {
             "colorbar": {
              "outlinewidth": 0,
              "ticks": ""
             }
            },
            "marker": {
             "colorbar": {
              "outlinewidth": 0,
              "ticks": ""
             }
            },
            "type": "scatter3d"
           }
          ],
          "scattercarpet": [
           {
            "marker": {
             "colorbar": {
              "outlinewidth": 0,
              "ticks": ""
             }
            },
            "type": "scattercarpet"
           }
          ],
          "scattergeo": [
           {
            "marker": {
             "colorbar": {
              "outlinewidth": 0,
              "ticks": ""
             }
            },
            "type": "scattergeo"
           }
          ],
          "scattergl": [
           {
            "marker": {
             "colorbar": {
              "outlinewidth": 0,
              "ticks": ""
             }
            },
            "type": "scattergl"
           }
          ],
          "scattermap": [
           {
            "marker": {
             "colorbar": {
              "outlinewidth": 0,
              "ticks": ""
             }
            },
            "type": "scattermap"
           }
          ],
          "scattermapbox": [
           {
            "marker": {
             "colorbar": {
              "outlinewidth": 0,
              "ticks": ""
             }
            },
            "type": "scattermapbox"
           }
          ],
          "scatterpolar": [
           {
            "marker": {
             "colorbar": {
              "outlinewidth": 0,
              "ticks": ""
             }
            },
            "type": "scatterpolar"
           }
          ],
          "scatterpolargl": [
           {
            "marker": {
             "colorbar": {
              "outlinewidth": 0,
              "ticks": ""
             }
            },
            "type": "scatterpolargl"
           }
          ],
          "scatterternary": [
           {
            "marker": {
             "colorbar": {
              "outlinewidth": 0,
              "ticks": ""
             }
            },
            "type": "scatterternary"
           }
          ],
          "surface": [
           {
            "colorbar": {
             "outlinewidth": 0,
             "ticks": ""
            },
            "colorscale": [
             [
              0,
              "#0d0887"
             ],
             [
              0.1111111111111111,
              "#46039f"
             ],
             [
              0.2222222222222222,
              "#7201a8"
             ],
             [
              0.3333333333333333,
              "#9c179e"
             ],
             [
              0.4444444444444444,
              "#bd3786"
             ],
             [
              0.5555555555555556,
              "#d8576b"
             ],
             [
              0.6666666666666666,
              "#ed7953"
             ],
             [
              0.7777777777777778,
              "#fb9f3a"
             ],
             [
              0.8888888888888888,
              "#fdca26"
             ],
             [
              1,
              "#f0f921"
             ]
            ],
            "type": "surface"
           }
          ],
          "table": [
           {
            "cells": {
             "fill": {
              "color": "#EBF0F8"
             },
             "line": {
              "color": "white"
             }
            },
            "header": {
             "fill": {
              "color": "#C8D4E3"
             },
             "line": {
              "color": "white"
             }
            },
            "type": "table"
           }
          ]
         },
         "layout": {
          "annotationdefaults": {
           "arrowcolor": "#2a3f5f",
           "arrowhead": 0,
           "arrowwidth": 1
          },
          "autotypenumbers": "strict",
          "coloraxis": {
           "colorbar": {
            "outlinewidth": 0,
            "ticks": ""
           }
          },
          "colorscale": {
           "diverging": [
            [
             0,
             "#8e0152"
            ],
            [
             0.1,
             "#c51b7d"
            ],
            [
             0.2,
             "#de77ae"
            ],
            [
             0.3,
             "#f1b6da"
            ],
            [
             0.4,
             "#fde0ef"
            ],
            [
             0.5,
             "#f7f7f7"
            ],
            [
             0.6,
             "#e6f5d0"
            ],
            [
             0.7,
             "#b8e186"
            ],
            [
             0.8,
             "#7fbc41"
            ],
            [
             0.9,
             "#4d9221"
            ],
            [
             1,
             "#276419"
            ]
           ],
           "sequential": [
            [
             0,
             "#0d0887"
            ],
            [
             0.1111111111111111,
             "#46039f"
            ],
            [
             0.2222222222222222,
             "#7201a8"
            ],
            [
             0.3333333333333333,
             "#9c179e"
            ],
            [
             0.4444444444444444,
             "#bd3786"
            ],
            [
             0.5555555555555556,
             "#d8576b"
            ],
            [
             0.6666666666666666,
             "#ed7953"
            ],
            [
             0.7777777777777778,
             "#fb9f3a"
            ],
            [
             0.8888888888888888,
             "#fdca26"
            ],
            [
             1,
             "#f0f921"
            ]
           ],
           "sequentialminus": [
            [
             0,
             "#0d0887"
            ],
            [
             0.1111111111111111,
             "#46039f"
            ],
            [
             0.2222222222222222,
             "#7201a8"
            ],
            [
             0.3333333333333333,
             "#9c179e"
            ],
            [
             0.4444444444444444,
             "#bd3786"
            ],
            [
             0.5555555555555556,
             "#d8576b"
            ],
            [
             0.6666666666666666,
             "#ed7953"
            ],
            [
             0.7777777777777778,
             "#fb9f3a"
            ],
            [
             0.8888888888888888,
             "#fdca26"
            ],
            [
             1,
             "#f0f921"
            ]
           ]
          },
          "colorway": [
           "#636efa",
           "#EF553B",
           "#00cc96",
           "#ab63fa",
           "#FFA15A",
           "#19d3f3",
           "#FF6692",
           "#B6E880",
           "#FF97FF",
           "#FECB52"
          ],
          "font": {
           "color": "#2a3f5f"
          },
          "geo": {
           "bgcolor": "white",
           "lakecolor": "white",
           "landcolor": "#E5ECF6",
           "showlakes": true,
           "showland": true,
           "subunitcolor": "white"
          },
          "hoverlabel": {
           "align": "left"
          },
          "hovermode": "closest",
          "mapbox": {
           "style": "light"
          },
          "paper_bgcolor": "white",
          "plot_bgcolor": "#E5ECF6",
          "polar": {
           "angularaxis": {
            "gridcolor": "white",
            "linecolor": "white",
            "ticks": ""
           },
           "bgcolor": "#E5ECF6",
           "radialaxis": {
            "gridcolor": "white",
            "linecolor": "white",
            "ticks": ""
           }
          },
          "scene": {
           "xaxis": {
            "backgroundcolor": "#E5ECF6",
            "gridcolor": "white",
            "gridwidth": 2,
            "linecolor": "white",
            "showbackground": true,
            "ticks": "",
            "zerolinecolor": "white"
           },
           "yaxis": {
            "backgroundcolor": "#E5ECF6",
            "gridcolor": "white",
            "gridwidth": 2,
            "linecolor": "white",
            "showbackground": true,
            "ticks": "",
            "zerolinecolor": "white"
           },
           "zaxis": {
            "backgroundcolor": "#E5ECF6",
            "gridcolor": "white",
            "gridwidth": 2,
            "linecolor": "white",
            "showbackground": true,
            "ticks": "",
            "zerolinecolor": "white"
           }
          },
          "shapedefaults": {
           "line": {
            "color": "#2a3f5f"
           }
          },
          "ternary": {
           "aaxis": {
            "gridcolor": "white",
            "linecolor": "white",
            "ticks": ""
           },
           "baxis": {
            "gridcolor": "white",
            "linecolor": "white",
            "ticks": ""
           },
           "bgcolor": "#E5ECF6",
           "caxis": {
            "gridcolor": "white",
            "linecolor": "white",
            "ticks": ""
           }
          },
          "title": {
           "x": 0.05
          },
          "xaxis": {
           "automargin": true,
           "gridcolor": "white",
           "linecolor": "white",
           "ticks": "",
           "title": {
            "standoff": 15
           },
           "zerolinecolor": "white",
           "zerolinewidth": 2
          },
          "yaxis": {
           "automargin": true,
           "gridcolor": "white",
           "linecolor": "white",
           "ticks": "",
           "title": {
            "standoff": 15
           },
           "zerolinecolor": "white",
           "zerolinewidth": 2
          }
         }
        },
        "title": {
         "font": {
          "size": 12
         },
         "text": "State Transitions - Dwell Times<br>State Transitions with Dwell Times  (DwtPlotter.sankey_dwelltimes())"
        }
       }
      }
     },
     "metadata": {},
     "output_type": "display_data"
    }
   ],
   "source": [
    "\n",
    "# Sankey diagram with dwell times\n",
    "analyzer.sankey_dwelltimes(subtitle=\"State Transitions with Dwell Times\")\n"
   ]
  },
  {
   "cell_type": "code",
   "execution_count": 10,
   "id": "2fe7e7ec",
   "metadata": {},
   "outputs": [
    {
     "data": {
      "application/vnd.plotly.v1+json": {
       "config": {
        "plotlyServerURL": "https://plot.ly"
       },
       "data": [
        {
         "link": {
          "source": {
           "bdata": "AQEBBQQA",
           "dtype": "i1"
          },
          "target": {
           "bdata": "AwIFBAAB",
           "dtype": "i1"
          },
          "value": {
           "bdata": "GBQDAwMB",
           "dtype": "i1"
          }
         },
         "node": {
          "label": [
           "3.0.Active Smpos",
           "-1.0.None",
           "0.0.Latent Slow",
           "-2.0.NEVER INFECTED",
           "2.0.Active Presymp",
           "1.0.Latent Fast"
          ],
          "pad": 15,
          "thickness": 20
         },
         "type": "sankey"
        }
       ],
       "layout": {
        "template": {
         "data": {
          "bar": [
           {
            "error_x": {
             "color": "#2a3f5f"
            },
            "error_y": {
             "color": "#2a3f5f"
            },
            "marker": {
             "line": {
              "color": "#E5ECF6",
              "width": 0.5
             },
             "pattern": {
              "fillmode": "overlay",
              "size": 10,
              "solidity": 0.2
             }
            },
            "type": "bar"
           }
          ],
          "barpolar": [
           {
            "marker": {
             "line": {
              "color": "#E5ECF6",
              "width": 0.5
             },
             "pattern": {
              "fillmode": "overlay",
              "size": 10,
              "solidity": 0.2
             }
            },
            "type": "barpolar"
           }
          ],
          "carpet": [
           {
            "aaxis": {
             "endlinecolor": "#2a3f5f",
             "gridcolor": "white",
             "linecolor": "white",
             "minorgridcolor": "white",
             "startlinecolor": "#2a3f5f"
            },
            "baxis": {
             "endlinecolor": "#2a3f5f",
             "gridcolor": "white",
             "linecolor": "white",
             "minorgridcolor": "white",
             "startlinecolor": "#2a3f5f"
            },
            "type": "carpet"
           }
          ],
          "choropleth": [
           {
            "colorbar": {
             "outlinewidth": 0,
             "ticks": ""
            },
            "type": "choropleth"
           }
          ],
          "contour": [
           {
            "colorbar": {
             "outlinewidth": 0,
             "ticks": ""
            },
            "colorscale": [
             [
              0,
              "#0d0887"
             ],
             [
              0.1111111111111111,
              "#46039f"
             ],
             [
              0.2222222222222222,
              "#7201a8"
             ],
             [
              0.3333333333333333,
              "#9c179e"
             ],
             [
              0.4444444444444444,
              "#bd3786"
             ],
             [
              0.5555555555555556,
              "#d8576b"
             ],
             [
              0.6666666666666666,
              "#ed7953"
             ],
             [
              0.7777777777777778,
              "#fb9f3a"
             ],
             [
              0.8888888888888888,
              "#fdca26"
             ],
             [
              1,
              "#f0f921"
             ]
            ],
            "type": "contour"
           }
          ],
          "contourcarpet": [
           {
            "colorbar": {
             "outlinewidth": 0,
             "ticks": ""
            },
            "type": "contourcarpet"
           }
          ],
          "heatmap": [
           {
            "colorbar": {
             "outlinewidth": 0,
             "ticks": ""
            },
            "colorscale": [
             [
              0,
              "#0d0887"
             ],
             [
              0.1111111111111111,
              "#46039f"
             ],
             [
              0.2222222222222222,
              "#7201a8"
             ],
             [
              0.3333333333333333,
              "#9c179e"
             ],
             [
              0.4444444444444444,
              "#bd3786"
             ],
             [
              0.5555555555555556,
              "#d8576b"
             ],
             [
              0.6666666666666666,
              "#ed7953"
             ],
             [
              0.7777777777777778,
              "#fb9f3a"
             ],
             [
              0.8888888888888888,
              "#fdca26"
             ],
             [
              1,
              "#f0f921"
             ]
            ],
            "type": "heatmap"
           }
          ],
          "histogram": [
           {
            "marker": {
             "pattern": {
              "fillmode": "overlay",
              "size": 10,
              "solidity": 0.2
             }
            },
            "type": "histogram"
           }
          ],
          "histogram2d": [
           {
            "colorbar": {
             "outlinewidth": 0,
             "ticks": ""
            },
            "colorscale": [
             [
              0,
              "#0d0887"
             ],
             [
              0.1111111111111111,
              "#46039f"
             ],
             [
              0.2222222222222222,
              "#7201a8"
             ],
             [
              0.3333333333333333,
              "#9c179e"
             ],
             [
              0.4444444444444444,
              "#bd3786"
             ],
             [
              0.5555555555555556,
              "#d8576b"
             ],
             [
              0.6666666666666666,
              "#ed7953"
             ],
             [
              0.7777777777777778,
              "#fb9f3a"
             ],
             [
              0.8888888888888888,
              "#fdca26"
             ],
             [
              1,
              "#f0f921"
             ]
            ],
            "type": "histogram2d"
           }
          ],
          "histogram2dcontour": [
           {
            "colorbar": {
             "outlinewidth": 0,
             "ticks": ""
            },
            "colorscale": [
             [
              0,
              "#0d0887"
             ],
             [
              0.1111111111111111,
              "#46039f"
             ],
             [
              0.2222222222222222,
              "#7201a8"
             ],
             [
              0.3333333333333333,
              "#9c179e"
             ],
             [
              0.4444444444444444,
              "#bd3786"
             ],
             [
              0.5555555555555556,
              "#d8576b"
             ],
             [
              0.6666666666666666,
              "#ed7953"
             ],
             [
              0.7777777777777778,
              "#fb9f3a"
             ],
             [
              0.8888888888888888,
              "#fdca26"
             ],
             [
              1,
              "#f0f921"
             ]
            ],
            "type": "histogram2dcontour"
           }
          ],
          "mesh3d": [
           {
            "colorbar": {
             "outlinewidth": 0,
             "ticks": ""
            },
            "type": "mesh3d"
           }
          ],
          "parcoords": [
           {
            "line": {
             "colorbar": {
              "outlinewidth": 0,
              "ticks": ""
             }
            },
            "type": "parcoords"
           }
          ],
          "pie": [
           {
            "automargin": true,
            "type": "pie"
           }
          ],
          "scatter": [
           {
            "fillpattern": {
             "fillmode": "overlay",
             "size": 10,
             "solidity": 0.2
            },
            "type": "scatter"
           }
          ],
          "scatter3d": [
           {
            "line": {
             "colorbar": {
              "outlinewidth": 0,
              "ticks": ""
             }
            },
            "marker": {
             "colorbar": {
              "outlinewidth": 0,
              "ticks": ""
             }
            },
            "type": "scatter3d"
           }
          ],
          "scattercarpet": [
           {
            "marker": {
             "colorbar": {
              "outlinewidth": 0,
              "ticks": ""
             }
            },
            "type": "scattercarpet"
           }
          ],
          "scattergeo": [
           {
            "marker": {
             "colorbar": {
              "outlinewidth": 0,
              "ticks": ""
             }
            },
            "type": "scattergeo"
           }
          ],
          "scattergl": [
           {
            "marker": {
             "colorbar": {
              "outlinewidth": 0,
              "ticks": ""
             }
            },
            "type": "scattergl"
           }
          ],
          "scattermap": [
           {
            "marker": {
             "colorbar": {
              "outlinewidth": 0,
              "ticks": ""
             }
            },
            "type": "scattermap"
           }
          ],
          "scattermapbox": [
           {
            "marker": {
             "colorbar": {
              "outlinewidth": 0,
              "ticks": ""
             }
            },
            "type": "scattermapbox"
           }
          ],
          "scatterpolar": [
           {
            "marker": {
             "colorbar": {
              "outlinewidth": 0,
              "ticks": ""
             }
            },
            "type": "scatterpolar"
           }
          ],
          "scatterpolargl": [
           {
            "marker": {
             "colorbar": {
              "outlinewidth": 0,
              "ticks": ""
             }
            },
            "type": "scatterpolargl"
           }
          ],
          "scatterternary": [
           {
            "marker": {
             "colorbar": {
              "outlinewidth": 0,
              "ticks": ""
             }
            },
            "type": "scatterternary"
           }
          ],
          "surface": [
           {
            "colorbar": {
             "outlinewidth": 0,
             "ticks": ""
            },
            "colorscale": [
             [
              0,
              "#0d0887"
             ],
             [
              0.1111111111111111,
              "#46039f"
             ],
             [
              0.2222222222222222,
              "#7201a8"
             ],
             [
              0.3333333333333333,
              "#9c179e"
             ],
             [
              0.4444444444444444,
              "#bd3786"
             ],
             [
              0.5555555555555556,
              "#d8576b"
             ],
             [
              0.6666666666666666,
              "#ed7953"
             ],
             [
              0.7777777777777778,
              "#fb9f3a"
             ],
             [
              0.8888888888888888,
              "#fdca26"
             ],
             [
              1,
              "#f0f921"
             ]
            ],
            "type": "surface"
           }
          ],
          "table": [
           {
            "cells": {
             "fill": {
              "color": "#EBF0F8"
             },
             "line": {
              "color": "white"
             }
            },
            "header": {
             "fill": {
              "color": "#C8D4E3"
             },
             "line": {
              "color": "white"
             }
            },
            "type": "table"
           }
          ]
         },
         "layout": {
          "annotationdefaults": {
           "arrowcolor": "#2a3f5f",
           "arrowhead": 0,
           "arrowwidth": 1
          },
          "autotypenumbers": "strict",
          "coloraxis": {
           "colorbar": {
            "outlinewidth": 0,
            "ticks": ""
           }
          },
          "colorscale": {
           "diverging": [
            [
             0,
             "#8e0152"
            ],
            [
             0.1,
             "#c51b7d"
            ],
            [
             0.2,
             "#de77ae"
            ],
            [
             0.3,
             "#f1b6da"
            ],
            [
             0.4,
             "#fde0ef"
            ],
            [
             0.5,
             "#f7f7f7"
            ],
            [
             0.6,
             "#e6f5d0"
            ],
            [
             0.7,
             "#b8e186"
            ],
            [
             0.8,
             "#7fbc41"
            ],
            [
             0.9,
             "#4d9221"
            ],
            [
             1,
             "#276419"
            ]
           ],
           "sequential": [
            [
             0,
             "#0d0887"
            ],
            [
             0.1111111111111111,
             "#46039f"
            ],
            [
             0.2222222222222222,
             "#7201a8"
            ],
            [
             0.3333333333333333,
             "#9c179e"
            ],
            [
             0.4444444444444444,
             "#bd3786"
            ],
            [
             0.5555555555555556,
             "#d8576b"
            ],
            [
             0.6666666666666666,
             "#ed7953"
            ],
            [
             0.7777777777777778,
             "#fb9f3a"
            ],
            [
             0.8888888888888888,
             "#fdca26"
            ],
            [
             1,
             "#f0f921"
            ]
           ],
           "sequentialminus": [
            [
             0,
             "#0d0887"
            ],
            [
             0.1111111111111111,
             "#46039f"
            ],
            [
             0.2222222222222222,
             "#7201a8"
            ],
            [
             0.3333333333333333,
             "#9c179e"
            ],
            [
             0.4444444444444444,
             "#bd3786"
            ],
            [
             0.5555555555555556,
             "#d8576b"
            ],
            [
             0.6666666666666666,
             "#ed7953"
            ],
            [
             0.7777777777777778,
             "#fb9f3a"
            ],
            [
             0.8888888888888888,
             "#fdca26"
            ],
            [
             1,
             "#f0f921"
            ]
           ]
          },
          "colorway": [
           "#636efa",
           "#EF553B",
           "#00cc96",
           "#ab63fa",
           "#FFA15A",
           "#19d3f3",
           "#FF6692",
           "#B6E880",
           "#FF97FF",
           "#FECB52"
          ],
          "font": {
           "color": "#2a3f5f"
          },
          "geo": {
           "bgcolor": "white",
           "lakecolor": "white",
           "landcolor": "#E5ECF6",
           "showlakes": true,
           "showland": true,
           "subunitcolor": "white"
          },
          "hoverlabel": {
           "align": "left"
          },
          "hovermode": "closest",
          "mapbox": {
           "style": "light"
          },
          "paper_bgcolor": "white",
          "plot_bgcolor": "#E5ECF6",
          "polar": {
           "angularaxis": {
            "gridcolor": "white",
            "linecolor": "white",
            "ticks": ""
           },
           "bgcolor": "#E5ECF6",
           "radialaxis": {
            "gridcolor": "white",
            "linecolor": "white",
            "ticks": ""
           }
          },
          "scene": {
           "xaxis": {
            "backgroundcolor": "#E5ECF6",
            "gridcolor": "white",
            "gridwidth": 2,
            "linecolor": "white",
            "showbackground": true,
            "ticks": "",
            "zerolinecolor": "white"
           },
           "yaxis": {
            "backgroundcolor": "#E5ECF6",
            "gridcolor": "white",
            "gridwidth": 2,
            "linecolor": "white",
            "showbackground": true,
            "ticks": "",
            "zerolinecolor": "white"
           },
           "zaxis": {
            "backgroundcolor": "#E5ECF6",
            "gridcolor": "white",
            "gridwidth": 2,
            "linecolor": "white",
            "showbackground": true,
            "ticks": "",
            "zerolinecolor": "white"
           }
          },
          "shapedefaults": {
           "line": {
            "color": "#2a3f5f"
           }
          },
          "ternary": {
           "aaxis": {
            "gridcolor": "white",
            "linecolor": "white",
            "ticks": ""
           },
           "baxis": {
            "gridcolor": "white",
            "linecolor": "white",
            "ticks": ""
           },
           "bgcolor": "#E5ECF6",
           "caxis": {
            "gridcolor": "white",
            "linecolor": "white",
            "ticks": ""
           }
          },
          "title": {
           "x": 0.05
          },
          "xaxis": {
           "automargin": true,
           "gridcolor": "white",
           "linecolor": "white",
           "ticks": "",
           "title": {
            "standoff": 15
           },
           "zerolinecolor": "white",
           "zerolinewidth": 2
          },
          "yaxis": {
           "automargin": true,
           "gridcolor": "white",
           "linecolor": "white",
           "ticks": "",
           "title": {
            "standoff": 15
           },
           "zerolinecolor": "white",
           "zerolinewidth": 2
          }
         }
        },
        "title": {
         "text": "Sankey Diagram (Ages >= 0 and <5),<br> Age-stratified Analysis <br> DwtPlotter.sankey_agents_by_age_subplots()"
        }
       }
      }
     },
     "metadata": {},
     "output_type": "display_data"
    },
    {
     "data": {
      "application/vnd.plotly.v1+json": {
       "config": {
        "plotlyServerURL": "https://plot.ly"
       },
       "data": [
        {
         "link": {
          "source": {
           "bdata": "AQEBAgYFAA==",
           "dtype": "i1"
          },
          "target": {
           "bdata": "AwIGBgUABA==",
           "dtype": "i1"
          },
          "value": {
           "bdata": "ODQDAQICAQ==",
           "dtype": "i1"
          }
         },
         "node": {
          "label": [
           "3.0.Active Smpos",
           "-1.0.None",
           "0.0.Latent Slow",
           "-2.0.NEVER INFECTED",
           "8.0.Dead",
           "2.0.Active Presymp",
           "1.0.Latent Fast"
          ],
          "pad": 15,
          "thickness": 20
         },
         "type": "sankey"
        }
       ],
       "layout": {
        "template": {
         "data": {
          "bar": [
           {
            "error_x": {
             "color": "#2a3f5f"
            },
            "error_y": {
             "color": "#2a3f5f"
            },
            "marker": {
             "line": {
              "color": "#E5ECF6",
              "width": 0.5
             },
             "pattern": {
              "fillmode": "overlay",
              "size": 10,
              "solidity": 0.2
             }
            },
            "type": "bar"
           }
          ],
          "barpolar": [
           {
            "marker": {
             "line": {
              "color": "#E5ECF6",
              "width": 0.5
             },
             "pattern": {
              "fillmode": "overlay",
              "size": 10,
              "solidity": 0.2
             }
            },
            "type": "barpolar"
           }
          ],
          "carpet": [
           {
            "aaxis": {
             "endlinecolor": "#2a3f5f",
             "gridcolor": "white",
             "linecolor": "white",
             "minorgridcolor": "white",
             "startlinecolor": "#2a3f5f"
            },
            "baxis": {
             "endlinecolor": "#2a3f5f",
             "gridcolor": "white",
             "linecolor": "white",
             "minorgridcolor": "white",
             "startlinecolor": "#2a3f5f"
            },
            "type": "carpet"
           }
          ],
          "choropleth": [
           {
            "colorbar": {
             "outlinewidth": 0,
             "ticks": ""
            },
            "type": "choropleth"
           }
          ],
          "contour": [
           {
            "colorbar": {
             "outlinewidth": 0,
             "ticks": ""
            },
            "colorscale": [
             [
              0,
              "#0d0887"
             ],
             [
              0.1111111111111111,
              "#46039f"
             ],
             [
              0.2222222222222222,
              "#7201a8"
             ],
             [
              0.3333333333333333,
              "#9c179e"
             ],
             [
              0.4444444444444444,
              "#bd3786"
             ],
             [
              0.5555555555555556,
              "#d8576b"
             ],
             [
              0.6666666666666666,
              "#ed7953"
             ],
             [
              0.7777777777777778,
              "#fb9f3a"
             ],
             [
              0.8888888888888888,
              "#fdca26"
             ],
             [
              1,
              "#f0f921"
             ]
            ],
            "type": "contour"
           }
          ],
          "contourcarpet": [
           {
            "colorbar": {
             "outlinewidth": 0,
             "ticks": ""
            },
            "type": "contourcarpet"
           }
          ],
          "heatmap": [
           {
            "colorbar": {
             "outlinewidth": 0,
             "ticks": ""
            },
            "colorscale": [
             [
              0,
              "#0d0887"
             ],
             [
              0.1111111111111111,
              "#46039f"
             ],
             [
              0.2222222222222222,
              "#7201a8"
             ],
             [
              0.3333333333333333,
              "#9c179e"
             ],
             [
              0.4444444444444444,
              "#bd3786"
             ],
             [
              0.5555555555555556,
              "#d8576b"
             ],
             [
              0.6666666666666666,
              "#ed7953"
             ],
             [
              0.7777777777777778,
              "#fb9f3a"
             ],
             [
              0.8888888888888888,
              "#fdca26"
             ],
             [
              1,
              "#f0f921"
             ]
            ],
            "type": "heatmap"
           }
          ],
          "histogram": [
           {
            "marker": {
             "pattern": {
              "fillmode": "overlay",
              "size": 10,
              "solidity": 0.2
             }
            },
            "type": "histogram"
           }
          ],
          "histogram2d": [
           {
            "colorbar": {
             "outlinewidth": 0,
             "ticks": ""
            },
            "colorscale": [
             [
              0,
              "#0d0887"
             ],
             [
              0.1111111111111111,
              "#46039f"
             ],
             [
              0.2222222222222222,
              "#7201a8"
             ],
             [
              0.3333333333333333,
              "#9c179e"
             ],
             [
              0.4444444444444444,
              "#bd3786"
             ],
             [
              0.5555555555555556,
              "#d8576b"
             ],
             [
              0.6666666666666666,
              "#ed7953"
             ],
             [
              0.7777777777777778,
              "#fb9f3a"
             ],
             [
              0.8888888888888888,
              "#fdca26"
             ],
             [
              1,
              "#f0f921"
             ]
            ],
            "type": "histogram2d"
           }
          ],
          "histogram2dcontour": [
           {
            "colorbar": {
             "outlinewidth": 0,
             "ticks": ""
            },
            "colorscale": [
             [
              0,
              "#0d0887"
             ],
             [
              0.1111111111111111,
              "#46039f"
             ],
             [
              0.2222222222222222,
              "#7201a8"
             ],
             [
              0.3333333333333333,
              "#9c179e"
             ],
             [
              0.4444444444444444,
              "#bd3786"
             ],
             [
              0.5555555555555556,
              "#d8576b"
             ],
             [
              0.6666666666666666,
              "#ed7953"
             ],
             [
              0.7777777777777778,
              "#fb9f3a"
             ],
             [
              0.8888888888888888,
              "#fdca26"
             ],
             [
              1,
              "#f0f921"
             ]
            ],
            "type": "histogram2dcontour"
           }
          ],
          "mesh3d": [
           {
            "colorbar": {
             "outlinewidth": 0,
             "ticks": ""
            },
            "type": "mesh3d"
           }
          ],
          "parcoords": [
           {
            "line": {
             "colorbar": {
              "outlinewidth": 0,
              "ticks": ""
             }
            },
            "type": "parcoords"
           }
          ],
          "pie": [
           {
            "automargin": true,
            "type": "pie"
           }
          ],
          "scatter": [
           {
            "fillpattern": {
             "fillmode": "overlay",
             "size": 10,
             "solidity": 0.2
            },
            "type": "scatter"
           }
          ],
          "scatter3d": [
           {
            "line": {
             "colorbar": {
              "outlinewidth": 0,
              "ticks": ""
             }
            },
            "marker": {
             "colorbar": {
              "outlinewidth": 0,
              "ticks": ""
             }
            },
            "type": "scatter3d"
           }
          ],
          "scattercarpet": [
           {
            "marker": {
             "colorbar": {
              "outlinewidth": 0,
              "ticks": ""
             }
            },
            "type": "scattercarpet"
           }
          ],
          "scattergeo": [
           {
            "marker": {
             "colorbar": {
              "outlinewidth": 0,
              "ticks": ""
             }
            },
            "type": "scattergeo"
           }
          ],
          "scattergl": [
           {
            "marker": {
             "colorbar": {
              "outlinewidth": 0,
              "ticks": ""
             }
            },
            "type": "scattergl"
           }
          ],
          "scattermap": [
           {
            "marker": {
             "colorbar": {
              "outlinewidth": 0,
              "ticks": ""
             }
            },
            "type": "scattermap"
           }
          ],
          "scattermapbox": [
           {
            "marker": {
             "colorbar": {
              "outlinewidth": 0,
              "ticks": ""
             }
            },
            "type": "scattermapbox"
           }
          ],
          "scatterpolar": [
           {
            "marker": {
             "colorbar": {
              "outlinewidth": 0,
              "ticks": ""
             }
            },
            "type": "scatterpolar"
           }
          ],
          "scatterpolargl": [
           {
            "marker": {
             "colorbar": {
              "outlinewidth": 0,
              "ticks": ""
             }
            },
            "type": "scatterpolargl"
           }
          ],
          "scatterternary": [
           {
            "marker": {
             "colorbar": {
              "outlinewidth": 0,
              "ticks": ""
             }
            },
            "type": "scatterternary"
           }
          ],
          "surface": [
           {
            "colorbar": {
             "outlinewidth": 0,
             "ticks": ""
            },
            "colorscale": [
             [
              0,
              "#0d0887"
             ],
             [
              0.1111111111111111,
              "#46039f"
             ],
             [
              0.2222222222222222,
              "#7201a8"
             ],
             [
              0.3333333333333333,
              "#9c179e"
             ],
             [
              0.4444444444444444,
              "#bd3786"
             ],
             [
              0.5555555555555556,
              "#d8576b"
             ],
             [
              0.6666666666666666,
              "#ed7953"
             ],
             [
              0.7777777777777778,
              "#fb9f3a"
             ],
             [
              0.8888888888888888,
              "#fdca26"
             ],
             [
              1,
              "#f0f921"
             ]
            ],
            "type": "surface"
           }
          ],
          "table": [
           {
            "cells": {
             "fill": {
              "color": "#EBF0F8"
             },
             "line": {
              "color": "white"
             }
            },
            "header": {
             "fill": {
              "color": "#C8D4E3"
             },
             "line": {
              "color": "white"
             }
            },
            "type": "table"
           }
          ]
         },
         "layout": {
          "annotationdefaults": {
           "arrowcolor": "#2a3f5f",
           "arrowhead": 0,
           "arrowwidth": 1
          },
          "autotypenumbers": "strict",
          "coloraxis": {
           "colorbar": {
            "outlinewidth": 0,
            "ticks": ""
           }
          },
          "colorscale": {
           "diverging": [
            [
             0,
             "#8e0152"
            ],
            [
             0.1,
             "#c51b7d"
            ],
            [
             0.2,
             "#de77ae"
            ],
            [
             0.3,
             "#f1b6da"
            ],
            [
             0.4,
             "#fde0ef"
            ],
            [
             0.5,
             "#f7f7f7"
            ],
            [
             0.6,
             "#e6f5d0"
            ],
            [
             0.7,
             "#b8e186"
            ],
            [
             0.8,
             "#7fbc41"
            ],
            [
             0.9,
             "#4d9221"
            ],
            [
             1,
             "#276419"
            ]
           ],
           "sequential": [
            [
             0,
             "#0d0887"
            ],
            [
             0.1111111111111111,
             "#46039f"
            ],
            [
             0.2222222222222222,
             "#7201a8"
            ],
            [
             0.3333333333333333,
             "#9c179e"
            ],
            [
             0.4444444444444444,
             "#bd3786"
            ],
            [
             0.5555555555555556,
             "#d8576b"
            ],
            [
             0.6666666666666666,
             "#ed7953"
            ],
            [
             0.7777777777777778,
             "#fb9f3a"
            ],
            [
             0.8888888888888888,
             "#fdca26"
            ],
            [
             1,
             "#f0f921"
            ]
           ],
           "sequentialminus": [
            [
             0,
             "#0d0887"
            ],
            [
             0.1111111111111111,
             "#46039f"
            ],
            [
             0.2222222222222222,
             "#7201a8"
            ],
            [
             0.3333333333333333,
             "#9c179e"
            ],
            [
             0.4444444444444444,
             "#bd3786"
            ],
            [
             0.5555555555555556,
             "#d8576b"
            ],
            [
             0.6666666666666666,
             "#ed7953"
            ],
            [
             0.7777777777777778,
             "#fb9f3a"
            ],
            [
             0.8888888888888888,
             "#fdca26"
            ],
            [
             1,
             "#f0f921"
            ]
           ]
          },
          "colorway": [
           "#636efa",
           "#EF553B",
           "#00cc96",
           "#ab63fa",
           "#FFA15A",
           "#19d3f3",
           "#FF6692",
           "#B6E880",
           "#FF97FF",
           "#FECB52"
          ],
          "font": {
           "color": "#2a3f5f"
          },
          "geo": {
           "bgcolor": "white",
           "lakecolor": "white",
           "landcolor": "#E5ECF6",
           "showlakes": true,
           "showland": true,
           "subunitcolor": "white"
          },
          "hoverlabel": {
           "align": "left"
          },
          "hovermode": "closest",
          "mapbox": {
           "style": "light"
          },
          "paper_bgcolor": "white",
          "plot_bgcolor": "#E5ECF6",
          "polar": {
           "angularaxis": {
            "gridcolor": "white",
            "linecolor": "white",
            "ticks": ""
           },
           "bgcolor": "#E5ECF6",
           "radialaxis": {
            "gridcolor": "white",
            "linecolor": "white",
            "ticks": ""
           }
          },
          "scene": {
           "xaxis": {
            "backgroundcolor": "#E5ECF6",
            "gridcolor": "white",
            "gridwidth": 2,
            "linecolor": "white",
            "showbackground": true,
            "ticks": "",
            "zerolinecolor": "white"
           },
           "yaxis": {
            "backgroundcolor": "#E5ECF6",
            "gridcolor": "white",
            "gridwidth": 2,
            "linecolor": "white",
            "showbackground": true,
            "ticks": "",
            "zerolinecolor": "white"
           },
           "zaxis": {
            "backgroundcolor": "#E5ECF6",
            "gridcolor": "white",
            "gridwidth": 2,
            "linecolor": "white",
            "showbackground": true,
            "ticks": "",
            "zerolinecolor": "white"
           }
          },
          "shapedefaults": {
           "line": {
            "color": "#2a3f5f"
           }
          },
          "ternary": {
           "aaxis": {
            "gridcolor": "white",
            "linecolor": "white",
            "ticks": ""
           },
           "baxis": {
            "gridcolor": "white",
            "linecolor": "white",
            "ticks": ""
           },
           "bgcolor": "#E5ECF6",
           "caxis": {
            "gridcolor": "white",
            "linecolor": "white",
            "ticks": ""
           }
          },
          "title": {
           "x": 0.05
          },
          "xaxis": {
           "automargin": true,
           "gridcolor": "white",
           "linecolor": "white",
           "ticks": "",
           "title": {
            "standoff": 15
           },
           "zerolinecolor": "white",
           "zerolinewidth": 2
          },
          "yaxis": {
           "automargin": true,
           "gridcolor": "white",
           "linecolor": "white",
           "ticks": "",
           "title": {
            "standoff": 15
           },
           "zerolinecolor": "white",
           "zerolinewidth": 2
          }
         }
        },
        "title": {
         "text": "Sankey Diagram (Ages >= 5 and <15),<br> Age-stratified Analysis <br> DwtPlotter.sankey_agents_by_age_subplots()"
        }
       }
      }
     },
     "metadata": {},
     "output_type": "display_data"
    },
    {
     "data": {
      "application/vnd.plotly.v1+json": {
       "config": {
        "plotlyServerURL": "https://plot.ly"
       },
       "data": [
        {
         "link": {
          "source": {
           "bdata": "AQEBBgUF",
           "dtype": "i1"
          },
          "target": {
           "bdata": "BAIGBQAD",
           "dtype": "i1"
          },
          "value": {
           "bdata": "XT4FBQQB",
           "dtype": "i1"
          }
         },
         "node": {
          "label": [
           "3.0.Active Smpos",
           "-1.0.None",
           "0.0.Latent Slow",
           "5.0.Active Exptb",
           "-2.0.NEVER INFECTED",
           "2.0.Active Presymp",
           "1.0.Latent Fast"
          ],
          "pad": 15,
          "thickness": 20
         },
         "type": "sankey"
        }
       ],
       "layout": {
        "template": {
         "data": {
          "bar": [
           {
            "error_x": {
             "color": "#2a3f5f"
            },
            "error_y": {
             "color": "#2a3f5f"
            },
            "marker": {
             "line": {
              "color": "#E5ECF6",
              "width": 0.5
             },
             "pattern": {
              "fillmode": "overlay",
              "size": 10,
              "solidity": 0.2
             }
            },
            "type": "bar"
           }
          ],
          "barpolar": [
           {
            "marker": {
             "line": {
              "color": "#E5ECF6",
              "width": 0.5
             },
             "pattern": {
              "fillmode": "overlay",
              "size": 10,
              "solidity": 0.2
             }
            },
            "type": "barpolar"
           }
          ],
          "carpet": [
           {
            "aaxis": {
             "endlinecolor": "#2a3f5f",
             "gridcolor": "white",
             "linecolor": "white",
             "minorgridcolor": "white",
             "startlinecolor": "#2a3f5f"
            },
            "baxis": {
             "endlinecolor": "#2a3f5f",
             "gridcolor": "white",
             "linecolor": "white",
             "minorgridcolor": "white",
             "startlinecolor": "#2a3f5f"
            },
            "type": "carpet"
           }
          ],
          "choropleth": [
           {
            "colorbar": {
             "outlinewidth": 0,
             "ticks": ""
            },
            "type": "choropleth"
           }
          ],
          "contour": [
           {
            "colorbar": {
             "outlinewidth": 0,
             "ticks": ""
            },
            "colorscale": [
             [
              0,
              "#0d0887"
             ],
             [
              0.1111111111111111,
              "#46039f"
             ],
             [
              0.2222222222222222,
              "#7201a8"
             ],
             [
              0.3333333333333333,
              "#9c179e"
             ],
             [
              0.4444444444444444,
              "#bd3786"
             ],
             [
              0.5555555555555556,
              "#d8576b"
             ],
             [
              0.6666666666666666,
              "#ed7953"
             ],
             [
              0.7777777777777778,
              "#fb9f3a"
             ],
             [
              0.8888888888888888,
              "#fdca26"
             ],
             [
              1,
              "#f0f921"
             ]
            ],
            "type": "contour"
           }
          ],
          "contourcarpet": [
           {
            "colorbar": {
             "outlinewidth": 0,
             "ticks": ""
            },
            "type": "contourcarpet"
           }
          ],
          "heatmap": [
           {
            "colorbar": {
             "outlinewidth": 0,
             "ticks": ""
            },
            "colorscale": [
             [
              0,
              "#0d0887"
             ],
             [
              0.1111111111111111,
              "#46039f"
             ],
             [
              0.2222222222222222,
              "#7201a8"
             ],
             [
              0.3333333333333333,
              "#9c179e"
             ],
             [
              0.4444444444444444,
              "#bd3786"
             ],
             [
              0.5555555555555556,
              "#d8576b"
             ],
             [
              0.6666666666666666,
              "#ed7953"
             ],
             [
              0.7777777777777778,
              "#fb9f3a"
             ],
             [
              0.8888888888888888,
              "#fdca26"
             ],
             [
              1,
              "#f0f921"
             ]
            ],
            "type": "heatmap"
           }
          ],
          "histogram": [
           {
            "marker": {
             "pattern": {
              "fillmode": "overlay",
              "size": 10,
              "solidity": 0.2
             }
            },
            "type": "histogram"
           }
          ],
          "histogram2d": [
           {
            "colorbar": {
             "outlinewidth": 0,
             "ticks": ""
            },
            "colorscale": [
             [
              0,
              "#0d0887"
             ],
             [
              0.1111111111111111,
              "#46039f"
             ],
             [
              0.2222222222222222,
              "#7201a8"
             ],
             [
              0.3333333333333333,
              "#9c179e"
             ],
             [
              0.4444444444444444,
              "#bd3786"
             ],
             [
              0.5555555555555556,
              "#d8576b"
             ],
             [
              0.6666666666666666,
              "#ed7953"
             ],
             [
              0.7777777777777778,
              "#fb9f3a"
             ],
             [
              0.8888888888888888,
              "#fdca26"
             ],
             [
              1,
              "#f0f921"
             ]
            ],
            "type": "histogram2d"
           }
          ],
          "histogram2dcontour": [
           {
            "colorbar": {
             "outlinewidth": 0,
             "ticks": ""
            },
            "colorscale": [
             [
              0,
              "#0d0887"
             ],
             [
              0.1111111111111111,
              "#46039f"
             ],
             [
              0.2222222222222222,
              "#7201a8"
             ],
             [
              0.3333333333333333,
              "#9c179e"
             ],
             [
              0.4444444444444444,
              "#bd3786"
             ],
             [
              0.5555555555555556,
              "#d8576b"
             ],
             [
              0.6666666666666666,
              "#ed7953"
             ],
             [
              0.7777777777777778,
              "#fb9f3a"
             ],
             [
              0.8888888888888888,
              "#fdca26"
             ],
             [
              1,
              "#f0f921"
             ]
            ],
            "type": "histogram2dcontour"
           }
          ],
          "mesh3d": [
           {
            "colorbar": {
             "outlinewidth": 0,
             "ticks": ""
            },
            "type": "mesh3d"
           }
          ],
          "parcoords": [
           {
            "line": {
             "colorbar": {
              "outlinewidth": 0,
              "ticks": ""
             }
            },
            "type": "parcoords"
           }
          ],
          "pie": [
           {
            "automargin": true,
            "type": "pie"
           }
          ],
          "scatter": [
           {
            "fillpattern": {
             "fillmode": "overlay",
             "size": 10,
             "solidity": 0.2
            },
            "type": "scatter"
           }
          ],
          "scatter3d": [
           {
            "line": {
             "colorbar": {
              "outlinewidth": 0,
              "ticks": ""
             }
            },
            "marker": {
             "colorbar": {
              "outlinewidth": 0,
              "ticks": ""
             }
            },
            "type": "scatter3d"
           }
          ],
          "scattercarpet": [
           {
            "marker": {
             "colorbar": {
              "outlinewidth": 0,
              "ticks": ""
             }
            },
            "type": "scattercarpet"
           }
          ],
          "scattergeo": [
           {
            "marker": {
             "colorbar": {
              "outlinewidth": 0,
              "ticks": ""
             }
            },
            "type": "scattergeo"
           }
          ],
          "scattergl": [
           {
            "marker": {
             "colorbar": {
              "outlinewidth": 0,
              "ticks": ""
             }
            },
            "type": "scattergl"
           }
          ],
          "scattermap": [
           {
            "marker": {
             "colorbar": {
              "outlinewidth": 0,
              "ticks": ""
             }
            },
            "type": "scattermap"
           }
          ],
          "scattermapbox": [
           {
            "marker": {
             "colorbar": {
              "outlinewidth": 0,
              "ticks": ""
             }
            },
            "type": "scattermapbox"
           }
          ],
          "scatterpolar": [
           {
            "marker": {
             "colorbar": {
              "outlinewidth": 0,
              "ticks": ""
             }
            },
            "type": "scatterpolar"
           }
          ],
          "scatterpolargl": [
           {
            "marker": {
             "colorbar": {
              "outlinewidth": 0,
              "ticks": ""
             }
            },
            "type": "scatterpolargl"
           }
          ],
          "scatterternary": [
           {
            "marker": {
             "colorbar": {
              "outlinewidth": 0,
              "ticks": ""
             }
            },
            "type": "scatterternary"
           }
          ],
          "surface": [
           {
            "colorbar": {
             "outlinewidth": 0,
             "ticks": ""
            },
            "colorscale": [
             [
              0,
              "#0d0887"
             ],
             [
              0.1111111111111111,
              "#46039f"
             ],
             [
              0.2222222222222222,
              "#7201a8"
             ],
             [
              0.3333333333333333,
              "#9c179e"
             ],
             [
              0.4444444444444444,
              "#bd3786"
             ],
             [
              0.5555555555555556,
              "#d8576b"
             ],
             [
              0.6666666666666666,
              "#ed7953"
             ],
             [
              0.7777777777777778,
              "#fb9f3a"
             ],
             [
              0.8888888888888888,
              "#fdca26"
             ],
             [
              1,
              "#f0f921"
             ]
            ],
            "type": "surface"
           }
          ],
          "table": [
           {
            "cells": {
             "fill": {
              "color": "#EBF0F8"
             },
             "line": {
              "color": "white"
             }
            },
            "header": {
             "fill": {
              "color": "#C8D4E3"
             },
             "line": {
              "color": "white"
             }
            },
            "type": "table"
           }
          ]
         },
         "layout": {
          "annotationdefaults": {
           "arrowcolor": "#2a3f5f",
           "arrowhead": 0,
           "arrowwidth": 1
          },
          "autotypenumbers": "strict",
          "coloraxis": {
           "colorbar": {
            "outlinewidth": 0,
            "ticks": ""
           }
          },
          "colorscale": {
           "diverging": [
            [
             0,
             "#8e0152"
            ],
            [
             0.1,
             "#c51b7d"
            ],
            [
             0.2,
             "#de77ae"
            ],
            [
             0.3,
             "#f1b6da"
            ],
            [
             0.4,
             "#fde0ef"
            ],
            [
             0.5,
             "#f7f7f7"
            ],
            [
             0.6,
             "#e6f5d0"
            ],
            [
             0.7,
             "#b8e186"
            ],
            [
             0.8,
             "#7fbc41"
            ],
            [
             0.9,
             "#4d9221"
            ],
            [
             1,
             "#276419"
            ]
           ],
           "sequential": [
            [
             0,
             "#0d0887"
            ],
            [
             0.1111111111111111,
             "#46039f"
            ],
            [
             0.2222222222222222,
             "#7201a8"
            ],
            [
             0.3333333333333333,
             "#9c179e"
            ],
            [
             0.4444444444444444,
             "#bd3786"
            ],
            [
             0.5555555555555556,
             "#d8576b"
            ],
            [
             0.6666666666666666,
             "#ed7953"
            ],
            [
             0.7777777777777778,
             "#fb9f3a"
            ],
            [
             0.8888888888888888,
             "#fdca26"
            ],
            [
             1,
             "#f0f921"
            ]
           ],
           "sequentialminus": [
            [
             0,
             "#0d0887"
            ],
            [
             0.1111111111111111,
             "#46039f"
            ],
            [
             0.2222222222222222,
             "#7201a8"
            ],
            [
             0.3333333333333333,
             "#9c179e"
            ],
            [
             0.4444444444444444,
             "#bd3786"
            ],
            [
             0.5555555555555556,
             "#d8576b"
            ],
            [
             0.6666666666666666,
             "#ed7953"
            ],
            [
             0.7777777777777778,
             "#fb9f3a"
            ],
            [
             0.8888888888888888,
             "#fdca26"
            ],
            [
             1,
             "#f0f921"
            ]
           ]
          },
          "colorway": [
           "#636efa",
           "#EF553B",
           "#00cc96",
           "#ab63fa",
           "#FFA15A",
           "#19d3f3",
           "#FF6692",
           "#B6E880",
           "#FF97FF",
           "#FECB52"
          ],
          "font": {
           "color": "#2a3f5f"
          },
          "geo": {
           "bgcolor": "white",
           "lakecolor": "white",
           "landcolor": "#E5ECF6",
           "showlakes": true,
           "showland": true,
           "subunitcolor": "white"
          },
          "hoverlabel": {
           "align": "left"
          },
          "hovermode": "closest",
          "mapbox": {
           "style": "light"
          },
          "paper_bgcolor": "white",
          "plot_bgcolor": "#E5ECF6",
          "polar": {
           "angularaxis": {
            "gridcolor": "white",
            "linecolor": "white",
            "ticks": ""
           },
           "bgcolor": "#E5ECF6",
           "radialaxis": {
            "gridcolor": "white",
            "linecolor": "white",
            "ticks": ""
           }
          },
          "scene": {
           "xaxis": {
            "backgroundcolor": "#E5ECF6",
            "gridcolor": "white",
            "gridwidth": 2,
            "linecolor": "white",
            "showbackground": true,
            "ticks": "",
            "zerolinecolor": "white"
           },
           "yaxis": {
            "backgroundcolor": "#E5ECF6",
            "gridcolor": "white",
            "gridwidth": 2,
            "linecolor": "white",
            "showbackground": true,
            "ticks": "",
            "zerolinecolor": "white"
           },
           "zaxis": {
            "backgroundcolor": "#E5ECF6",
            "gridcolor": "white",
            "gridwidth": 2,
            "linecolor": "white",
            "showbackground": true,
            "ticks": "",
            "zerolinecolor": "white"
           }
          },
          "shapedefaults": {
           "line": {
            "color": "#2a3f5f"
           }
          },
          "ternary": {
           "aaxis": {
            "gridcolor": "white",
            "linecolor": "white",
            "ticks": ""
           },
           "baxis": {
            "gridcolor": "white",
            "linecolor": "white",
            "ticks": ""
           },
           "bgcolor": "#E5ECF6",
           "caxis": {
            "gridcolor": "white",
            "linecolor": "white",
            "ticks": ""
           }
          },
          "title": {
           "x": 0.05
          },
          "xaxis": {
           "automargin": true,
           "gridcolor": "white",
           "linecolor": "white",
           "ticks": "",
           "title": {
            "standoff": 15
           },
           "zerolinecolor": "white",
           "zerolinewidth": 2
          },
          "yaxis": {
           "automargin": true,
           "gridcolor": "white",
           "linecolor": "white",
           "ticks": "",
           "title": {
            "standoff": 15
           },
           "zerolinecolor": "white",
           "zerolinewidth": 2
          }
         }
        },
        "title": {
         "text": "Sankey Diagram (Ages >= 15 and <30),<br> Age-stratified Analysis <br> DwtPlotter.sankey_agents_by_age_subplots()"
        }
       }
      }
     },
     "metadata": {},
     "output_type": "display_data"
    },
    {
     "data": {
      "application/vnd.plotly.v1+json": {
       "config": {
        "plotlyServerURL": "https://plot.ly"
       },
       "data": [
        {
         "link": {
          "source": {
           "bdata": "AQEBAQMDAwgICAcHAAACAg==",
           "dtype": "i1"
          },
          "target": {
           "bdata": "BgMIAAcCBAcABAACAQUBBQ==",
           "dtype": "i1"
          },
          "value": {
           "bdata": "YE0GAQMBAQQBAQQDAgEBAQ==",
           "dtype": "i1"
          }
         },
         "node": {
          "label": [
           "3.0.Active Smpos",
           "-1.0.None",
           "4.0.Active Smneg",
           "0.0.Latent Slow",
           "5.0.Active Exptb",
           "8.0.Dead",
           "-2.0.NEVER INFECTED",
           "2.0.Active Presymp",
           "1.0.Latent Fast"
          ],
          "pad": 15,
          "thickness": 20
         },
         "type": "sankey"
        }
       ],
       "layout": {
        "template": {
         "data": {
          "bar": [
           {
            "error_x": {
             "color": "#2a3f5f"
            },
            "error_y": {
             "color": "#2a3f5f"
            },
            "marker": {
             "line": {
              "color": "#E5ECF6",
              "width": 0.5
             },
             "pattern": {
              "fillmode": "overlay",
              "size": 10,
              "solidity": 0.2
             }
            },
            "type": "bar"
           }
          ],
          "barpolar": [
           {
            "marker": {
             "line": {
              "color": "#E5ECF6",
              "width": 0.5
             },
             "pattern": {
              "fillmode": "overlay",
              "size": 10,
              "solidity": 0.2
             }
            },
            "type": "barpolar"
           }
          ],
          "carpet": [
           {
            "aaxis": {
             "endlinecolor": "#2a3f5f",
             "gridcolor": "white",
             "linecolor": "white",
             "minorgridcolor": "white",
             "startlinecolor": "#2a3f5f"
            },
            "baxis": {
             "endlinecolor": "#2a3f5f",
             "gridcolor": "white",
             "linecolor": "white",
             "minorgridcolor": "white",
             "startlinecolor": "#2a3f5f"
            },
            "type": "carpet"
           }
          ],
          "choropleth": [
           {
            "colorbar": {
             "outlinewidth": 0,
             "ticks": ""
            },
            "type": "choropleth"
           }
          ],
          "contour": [
           {
            "colorbar": {
             "outlinewidth": 0,
             "ticks": ""
            },
            "colorscale": [
             [
              0,
              "#0d0887"
             ],
             [
              0.1111111111111111,
              "#46039f"
             ],
             [
              0.2222222222222222,
              "#7201a8"
             ],
             [
              0.3333333333333333,
              "#9c179e"
             ],
             [
              0.4444444444444444,
              "#bd3786"
             ],
             [
              0.5555555555555556,
              "#d8576b"
             ],
             [
              0.6666666666666666,
              "#ed7953"
             ],
             [
              0.7777777777777778,
              "#fb9f3a"
             ],
             [
              0.8888888888888888,
              "#fdca26"
             ],
             [
              1,
              "#f0f921"
             ]
            ],
            "type": "contour"
           }
          ],
          "contourcarpet": [
           {
            "colorbar": {
             "outlinewidth": 0,
             "ticks": ""
            },
            "type": "contourcarpet"
           }
          ],
          "heatmap": [
           {
            "colorbar": {
             "outlinewidth": 0,
             "ticks": ""
            },
            "colorscale": [
             [
              0,
              "#0d0887"
             ],
             [
              0.1111111111111111,
              "#46039f"
             ],
             [
              0.2222222222222222,
              "#7201a8"
             ],
             [
              0.3333333333333333,
              "#9c179e"
             ],
             [
              0.4444444444444444,
              "#bd3786"
             ],
             [
              0.5555555555555556,
              "#d8576b"
             ],
             [
              0.6666666666666666,
              "#ed7953"
             ],
             [
              0.7777777777777778,
              "#fb9f3a"
             ],
             [
              0.8888888888888888,
              "#fdca26"
             ],
             [
              1,
              "#f0f921"
             ]
            ],
            "type": "heatmap"
           }
          ],
          "histogram": [
           {
            "marker": {
             "pattern": {
              "fillmode": "overlay",
              "size": 10,
              "solidity": 0.2
             }
            },
            "type": "histogram"
           }
          ],
          "histogram2d": [
           {
            "colorbar": {
             "outlinewidth": 0,
             "ticks": ""
            },
            "colorscale": [
             [
              0,
              "#0d0887"
             ],
             [
              0.1111111111111111,
              "#46039f"
             ],
             [
              0.2222222222222222,
              "#7201a8"
             ],
             [
              0.3333333333333333,
              "#9c179e"
             ],
             [
              0.4444444444444444,
              "#bd3786"
             ],
             [
              0.5555555555555556,
              "#d8576b"
             ],
             [
              0.6666666666666666,
              "#ed7953"
             ],
             [
              0.7777777777777778,
              "#fb9f3a"
             ],
             [
              0.8888888888888888,
              "#fdca26"
             ],
             [
              1,
              "#f0f921"
             ]
            ],
            "type": "histogram2d"
           }
          ],
          "histogram2dcontour": [
           {
            "colorbar": {
             "outlinewidth": 0,
             "ticks": ""
            },
            "colorscale": [
             [
              0,
              "#0d0887"
             ],
             [
              0.1111111111111111,
              "#46039f"
             ],
             [
              0.2222222222222222,
              "#7201a8"
             ],
             [
              0.3333333333333333,
              "#9c179e"
             ],
             [
              0.4444444444444444,
              "#bd3786"
             ],
             [
              0.5555555555555556,
              "#d8576b"
             ],
             [
              0.6666666666666666,
              "#ed7953"
             ],
             [
              0.7777777777777778,
              "#fb9f3a"
             ],
             [
              0.8888888888888888,
              "#fdca26"
             ],
             [
              1,
              "#f0f921"
             ]
            ],
            "type": "histogram2dcontour"
           }
          ],
          "mesh3d": [
           {
            "colorbar": {
             "outlinewidth": 0,
             "ticks": ""
            },
            "type": "mesh3d"
           }
          ],
          "parcoords": [
           {
            "line": {
             "colorbar": {
              "outlinewidth": 0,
              "ticks": ""
             }
            },
            "type": "parcoords"
           }
          ],
          "pie": [
           {
            "automargin": true,
            "type": "pie"
           }
          ],
          "scatter": [
           {
            "fillpattern": {
             "fillmode": "overlay",
             "size": 10,
             "solidity": 0.2
            },
            "type": "scatter"
           }
          ],
          "scatter3d": [
           {
            "line": {
             "colorbar": {
              "outlinewidth": 0,
              "ticks": ""
             }
            },
            "marker": {
             "colorbar": {
              "outlinewidth": 0,
              "ticks": ""
             }
            },
            "type": "scatter3d"
           }
          ],
          "scattercarpet": [
           {
            "marker": {
             "colorbar": {
              "outlinewidth": 0,
              "ticks": ""
             }
            },
            "type": "scattercarpet"
           }
          ],
          "scattergeo": [
           {
            "marker": {
             "colorbar": {
              "outlinewidth": 0,
              "ticks": ""
             }
            },
            "type": "scattergeo"
           }
          ],
          "scattergl": [
           {
            "marker": {
             "colorbar": {
              "outlinewidth": 0,
              "ticks": ""
             }
            },
            "type": "scattergl"
           }
          ],
          "scattermap": [
           {
            "marker": {
             "colorbar": {
              "outlinewidth": 0,
              "ticks": ""
             }
            },
            "type": "scattermap"
           }
          ],
          "scattermapbox": [
           {
            "marker": {
             "colorbar": {
              "outlinewidth": 0,
              "ticks": ""
             }
            },
            "type": "scattermapbox"
           }
          ],
          "scatterpolar": [
           {
            "marker": {
             "colorbar": {
              "outlinewidth": 0,
              "ticks": ""
             }
            },
            "type": "scatterpolar"
           }
          ],
          "scatterpolargl": [
           {
            "marker": {
             "colorbar": {
              "outlinewidth": 0,
              "ticks": ""
             }
            },
            "type": "scatterpolargl"
           }
          ],
          "scatterternary": [
           {
            "marker": {
             "colorbar": {
              "outlinewidth": 0,
              "ticks": ""
             }
            },
            "type": "scatterternary"
           }
          ],
          "surface": [
           {
            "colorbar": {
             "outlinewidth": 0,
             "ticks": ""
            },
            "colorscale": [
             [
              0,
              "#0d0887"
             ],
             [
              0.1111111111111111,
              "#46039f"
             ],
             [
              0.2222222222222222,
              "#7201a8"
             ],
             [
              0.3333333333333333,
              "#9c179e"
             ],
             [
              0.4444444444444444,
              "#bd3786"
             ],
             [
              0.5555555555555556,
              "#d8576b"
             ],
             [
              0.6666666666666666,
              "#ed7953"
             ],
             [
              0.7777777777777778,
              "#fb9f3a"
             ],
             [
              0.8888888888888888,
              "#fdca26"
             ],
             [
              1,
              "#f0f921"
             ]
            ],
            "type": "surface"
           }
          ],
          "table": [
           {
            "cells": {
             "fill": {
              "color": "#EBF0F8"
             },
             "line": {
              "color": "white"
             }
            },
            "header": {
             "fill": {
              "color": "#C8D4E3"
             },
             "line": {
              "color": "white"
             }
            },
            "type": "table"
           }
          ]
         },
         "layout": {
          "annotationdefaults": {
           "arrowcolor": "#2a3f5f",
           "arrowhead": 0,
           "arrowwidth": 1
          },
          "autotypenumbers": "strict",
          "coloraxis": {
           "colorbar": {
            "outlinewidth": 0,
            "ticks": ""
           }
          },
          "colorscale": {
           "diverging": [
            [
             0,
             "#8e0152"
            ],
            [
             0.1,
             "#c51b7d"
            ],
            [
             0.2,
             "#de77ae"
            ],
            [
             0.3,
             "#f1b6da"
            ],
            [
             0.4,
             "#fde0ef"
            ],
            [
             0.5,
             "#f7f7f7"
            ],
            [
             0.6,
             "#e6f5d0"
            ],
            [
             0.7,
             "#b8e186"
            ],
            [
             0.8,
             "#7fbc41"
            ],
            [
             0.9,
             "#4d9221"
            ],
            [
             1,
             "#276419"
            ]
           ],
           "sequential": [
            [
             0,
             "#0d0887"
            ],
            [
             0.1111111111111111,
             "#46039f"
            ],
            [
             0.2222222222222222,
             "#7201a8"
            ],
            [
             0.3333333333333333,
             "#9c179e"
            ],
            [
             0.4444444444444444,
             "#bd3786"
            ],
            [
             0.5555555555555556,
             "#d8576b"
            ],
            [
             0.6666666666666666,
             "#ed7953"
            ],
            [
             0.7777777777777778,
             "#fb9f3a"
            ],
            [
             0.8888888888888888,
             "#fdca26"
            ],
            [
             1,
             "#f0f921"
            ]
           ],
           "sequentialminus": [
            [
             0,
             "#0d0887"
            ],
            [
             0.1111111111111111,
             "#46039f"
            ],
            [
             0.2222222222222222,
             "#7201a8"
            ],
            [
             0.3333333333333333,
             "#9c179e"
            ],
            [
             0.4444444444444444,
             "#bd3786"
            ],
            [
             0.5555555555555556,
             "#d8576b"
            ],
            [
             0.6666666666666666,
             "#ed7953"
            ],
            [
             0.7777777777777778,
             "#fb9f3a"
            ],
            [
             0.8888888888888888,
             "#fdca26"
            ],
            [
             1,
             "#f0f921"
            ]
           ]
          },
          "colorway": [
           "#636efa",
           "#EF553B",
           "#00cc96",
           "#ab63fa",
           "#FFA15A",
           "#19d3f3",
           "#FF6692",
           "#B6E880",
           "#FF97FF",
           "#FECB52"
          ],
          "font": {
           "color": "#2a3f5f"
          },
          "geo": {
           "bgcolor": "white",
           "lakecolor": "white",
           "landcolor": "#E5ECF6",
           "showlakes": true,
           "showland": true,
           "subunitcolor": "white"
          },
          "hoverlabel": {
           "align": "left"
          },
          "hovermode": "closest",
          "mapbox": {
           "style": "light"
          },
          "paper_bgcolor": "white",
          "plot_bgcolor": "#E5ECF6",
          "polar": {
           "angularaxis": {
            "gridcolor": "white",
            "linecolor": "white",
            "ticks": ""
           },
           "bgcolor": "#E5ECF6",
           "radialaxis": {
            "gridcolor": "white",
            "linecolor": "white",
            "ticks": ""
           }
          },
          "scene": {
           "xaxis": {
            "backgroundcolor": "#E5ECF6",
            "gridcolor": "white",
            "gridwidth": 2,
            "linecolor": "white",
            "showbackground": true,
            "ticks": "",
            "zerolinecolor": "white"
           },
           "yaxis": {
            "backgroundcolor": "#E5ECF6",
            "gridcolor": "white",
            "gridwidth": 2,
            "linecolor": "white",
            "showbackground": true,
            "ticks": "",
            "zerolinecolor": "white"
           },
           "zaxis": {
            "backgroundcolor": "#E5ECF6",
            "gridcolor": "white",
            "gridwidth": 2,
            "linecolor": "white",
            "showbackground": true,
            "ticks": "",
            "zerolinecolor": "white"
           }
          },
          "shapedefaults": {
           "line": {
            "color": "#2a3f5f"
           }
          },
          "ternary": {
           "aaxis": {
            "gridcolor": "white",
            "linecolor": "white",
            "ticks": ""
           },
           "baxis": {
            "gridcolor": "white",
            "linecolor": "white",
            "ticks": ""
           },
           "bgcolor": "#E5ECF6",
           "caxis": {
            "gridcolor": "white",
            "linecolor": "white",
            "ticks": ""
           }
          },
          "title": {
           "x": 0.05
          },
          "xaxis": {
           "automargin": true,
           "gridcolor": "white",
           "linecolor": "white",
           "ticks": "",
           "title": {
            "standoff": 15
           },
           "zerolinecolor": "white",
           "zerolinewidth": 2
          },
          "yaxis": {
           "automargin": true,
           "gridcolor": "white",
           "linecolor": "white",
           "ticks": "",
           "title": {
            "standoff": 15
           },
           "zerolinecolor": "white",
           "zerolinewidth": 2
          }
         }
        },
        "title": {
         "text": "Sankey Diagram (Ages >= 30 and <50),<br> Age-stratified Analysis <br> DwtPlotter.sankey_agents_by_age_subplots()"
        }
       }
      }
     },
     "metadata": {},
     "output_type": "display_data"
    },
    {
     "data": {
      "application/vnd.plotly.v1+json": {
       "config": {
        "plotlyServerURL": "https://plot.ly"
       },
       "data": [
        {
         "link": {
          "source": {
           "bdata": "AQEBAQMDCAgIBwcHAAAC",
           "dtype": "i1"
          },
          "target": {
           "bdata": "BgMIAgcABwACAAIEAQUB",
           "dtype": "i1"
          },
          "value": {
           "bdata": "/wDRACYAAQAEAAEAGwAFAAIAEgAHAAQACAABAAIA",
           "dtype": "i2"
          }
         },
         "node": {
          "label": [
           "3.0.Active Smpos",
           "-1.0.None",
           "4.0.Active Smneg",
           "0.0.Latent Slow",
           "5.0.Active Exptb",
           "8.0.Dead",
           "-2.0.NEVER INFECTED",
           "2.0.Active Presymp",
           "1.0.Latent Fast"
          ],
          "pad": 15,
          "thickness": 20
         },
         "type": "sankey"
        }
       ],
       "layout": {
        "template": {
         "data": {
          "bar": [
           {
            "error_x": {
             "color": "#2a3f5f"
            },
            "error_y": {
             "color": "#2a3f5f"
            },
            "marker": {
             "line": {
              "color": "#E5ECF6",
              "width": 0.5
             },
             "pattern": {
              "fillmode": "overlay",
              "size": 10,
              "solidity": 0.2
             }
            },
            "type": "bar"
           }
          ],
          "barpolar": [
           {
            "marker": {
             "line": {
              "color": "#E5ECF6",
              "width": 0.5
             },
             "pattern": {
              "fillmode": "overlay",
              "size": 10,
              "solidity": 0.2
             }
            },
            "type": "barpolar"
           }
          ],
          "carpet": [
           {
            "aaxis": {
             "endlinecolor": "#2a3f5f",
             "gridcolor": "white",
             "linecolor": "white",
             "minorgridcolor": "white",
             "startlinecolor": "#2a3f5f"
            },
            "baxis": {
             "endlinecolor": "#2a3f5f",
             "gridcolor": "white",
             "linecolor": "white",
             "minorgridcolor": "white",
             "startlinecolor": "#2a3f5f"
            },
            "type": "carpet"
           }
          ],
          "choropleth": [
           {
            "colorbar": {
             "outlinewidth": 0,
             "ticks": ""
            },
            "type": "choropleth"
           }
          ],
          "contour": [
           {
            "colorbar": {
             "outlinewidth": 0,
             "ticks": ""
            },
            "colorscale": [
             [
              0,
              "#0d0887"
             ],
             [
              0.1111111111111111,
              "#46039f"
             ],
             [
              0.2222222222222222,
              "#7201a8"
             ],
             [
              0.3333333333333333,
              "#9c179e"
             ],
             [
              0.4444444444444444,
              "#bd3786"
             ],
             [
              0.5555555555555556,
              "#d8576b"
             ],
             [
              0.6666666666666666,
              "#ed7953"
             ],
             [
              0.7777777777777778,
              "#fb9f3a"
             ],
             [
              0.8888888888888888,
              "#fdca26"
             ],
             [
              1,
              "#f0f921"
             ]
            ],
            "type": "contour"
           }
          ],
          "contourcarpet": [
           {
            "colorbar": {
             "outlinewidth": 0,
             "ticks": ""
            },
            "type": "contourcarpet"
           }
          ],
          "heatmap": [
           {
            "colorbar": {
             "outlinewidth": 0,
             "ticks": ""
            },
            "colorscale": [
             [
              0,
              "#0d0887"
             ],
             [
              0.1111111111111111,
              "#46039f"
             ],
             [
              0.2222222222222222,
              "#7201a8"
             ],
             [
              0.3333333333333333,
              "#9c179e"
             ],
             [
              0.4444444444444444,
              "#bd3786"
             ],
             [
              0.5555555555555556,
              "#d8576b"
             ],
             [
              0.6666666666666666,
              "#ed7953"
             ],
             [
              0.7777777777777778,
              "#fb9f3a"
             ],
             [
              0.8888888888888888,
              "#fdca26"
             ],
             [
              1,
              "#f0f921"
             ]
            ],
            "type": "heatmap"
           }
          ],
          "histogram": [
           {
            "marker": {
             "pattern": {
              "fillmode": "overlay",
              "size": 10,
              "solidity": 0.2
             }
            },
            "type": "histogram"
           }
          ],
          "histogram2d": [
           {
            "colorbar": {
             "outlinewidth": 0,
             "ticks": ""
            },
            "colorscale": [
             [
              0,
              "#0d0887"
             ],
             [
              0.1111111111111111,
              "#46039f"
             ],
             [
              0.2222222222222222,
              "#7201a8"
             ],
             [
              0.3333333333333333,
              "#9c179e"
             ],
             [
              0.4444444444444444,
              "#bd3786"
             ],
             [
              0.5555555555555556,
              "#d8576b"
             ],
             [
              0.6666666666666666,
              "#ed7953"
             ],
             [
              0.7777777777777778,
              "#fb9f3a"
             ],
             [
              0.8888888888888888,
              "#fdca26"
             ],
             [
              1,
              "#f0f921"
             ]
            ],
            "type": "histogram2d"
           }
          ],
          "histogram2dcontour": [
           {
            "colorbar": {
             "outlinewidth": 0,
             "ticks": ""
            },
            "colorscale": [
             [
              0,
              "#0d0887"
             ],
             [
              0.1111111111111111,
              "#46039f"
             ],
             [
              0.2222222222222222,
              "#7201a8"
             ],
             [
              0.3333333333333333,
              "#9c179e"
             ],
             [
              0.4444444444444444,
              "#bd3786"
             ],
             [
              0.5555555555555556,
              "#d8576b"
             ],
             [
              0.6666666666666666,
              "#ed7953"
             ],
             [
              0.7777777777777778,
              "#fb9f3a"
             ],
             [
              0.8888888888888888,
              "#fdca26"
             ],
             [
              1,
              "#f0f921"
             ]
            ],
            "type": "histogram2dcontour"
           }
          ],
          "mesh3d": [
           {
            "colorbar": {
             "outlinewidth": 0,
             "ticks": ""
            },
            "type": "mesh3d"
           }
          ],
          "parcoords": [
           {
            "line": {
             "colorbar": {
              "outlinewidth": 0,
              "ticks": ""
             }
            },
            "type": "parcoords"
           }
          ],
          "pie": [
           {
            "automargin": true,
            "type": "pie"
           }
          ],
          "scatter": [
           {
            "fillpattern": {
             "fillmode": "overlay",
             "size": 10,
             "solidity": 0.2
            },
            "type": "scatter"
           }
          ],
          "scatter3d": [
           {
            "line": {
             "colorbar": {
              "outlinewidth": 0,
              "ticks": ""
             }
            },
            "marker": {
             "colorbar": {
              "outlinewidth": 0,
              "ticks": ""
             }
            },
            "type": "scatter3d"
           }
          ],
          "scattercarpet": [
           {
            "marker": {
             "colorbar": {
              "outlinewidth": 0,
              "ticks": ""
             }
            },
            "type": "scattercarpet"
           }
          ],
          "scattergeo": [
           {
            "marker": {
             "colorbar": {
              "outlinewidth": 0,
              "ticks": ""
             }
            },
            "type": "scattergeo"
           }
          ],
          "scattergl": [
           {
            "marker": {
             "colorbar": {
              "outlinewidth": 0,
              "ticks": ""
             }
            },
            "type": "scattergl"
           }
          ],
          "scattermap": [
           {
            "marker": {
             "colorbar": {
              "outlinewidth": 0,
              "ticks": ""
             }
            },
            "type": "scattermap"
           }
          ],
          "scattermapbox": [
           {
            "marker": {
             "colorbar": {
              "outlinewidth": 0,
              "ticks": ""
             }
            },
            "type": "scattermapbox"
           }
          ],
          "scatterpolar": [
           {
            "marker": {
             "colorbar": {
              "outlinewidth": 0,
              "ticks": ""
             }
            },
            "type": "scatterpolar"
           }
          ],
          "scatterpolargl": [
           {
            "marker": {
             "colorbar": {
              "outlinewidth": 0,
              "ticks": ""
             }
            },
            "type": "scatterpolargl"
           }
          ],
          "scatterternary": [
           {
            "marker": {
             "colorbar": {
              "outlinewidth": 0,
              "ticks": ""
             }
            },
            "type": "scatterternary"
           }
          ],
          "surface": [
           {
            "colorbar": {
             "outlinewidth": 0,
             "ticks": ""
            },
            "colorscale": [
             [
              0,
              "#0d0887"
             ],
             [
              0.1111111111111111,
              "#46039f"
             ],
             [
              0.2222222222222222,
              "#7201a8"
             ],
             [
              0.3333333333333333,
              "#9c179e"
             ],
             [
              0.4444444444444444,
              "#bd3786"
             ],
             [
              0.5555555555555556,
              "#d8576b"
             ],
             [
              0.6666666666666666,
              "#ed7953"
             ],
             [
              0.7777777777777778,
              "#fb9f3a"
             ],
             [
              0.8888888888888888,
              "#fdca26"
             ],
             [
              1,
              "#f0f921"
             ]
            ],
            "type": "surface"
           }
          ],
          "table": [
           {
            "cells": {
             "fill": {
              "color": "#EBF0F8"
             },
             "line": {
              "color": "white"
             }
            },
            "header": {
             "fill": {
              "color": "#C8D4E3"
             },
             "line": {
              "color": "white"
             }
            },
            "type": "table"
           }
          ]
         },
         "layout": {
          "annotationdefaults": {
           "arrowcolor": "#2a3f5f",
           "arrowhead": 0,
           "arrowwidth": 1
          },
          "autotypenumbers": "strict",
          "coloraxis": {
           "colorbar": {
            "outlinewidth": 0,
            "ticks": ""
           }
          },
          "colorscale": {
           "diverging": [
            [
             0,
             "#8e0152"
            ],
            [
             0.1,
             "#c51b7d"
            ],
            [
             0.2,
             "#de77ae"
            ],
            [
             0.3,
             "#f1b6da"
            ],
            [
             0.4,
             "#fde0ef"
            ],
            [
             0.5,
             "#f7f7f7"
            ],
            [
             0.6,
             "#e6f5d0"
            ],
            [
             0.7,
             "#b8e186"
            ],
            [
             0.8,
             "#7fbc41"
            ],
            [
             0.9,
             "#4d9221"
            ],
            [
             1,
             "#276419"
            ]
           ],
           "sequential": [
            [
             0,
             "#0d0887"
            ],
            [
             0.1111111111111111,
             "#46039f"
            ],
            [
             0.2222222222222222,
             "#7201a8"
            ],
            [
             0.3333333333333333,
             "#9c179e"
            ],
            [
             0.4444444444444444,
             "#bd3786"
            ],
            [
             0.5555555555555556,
             "#d8576b"
            ],
            [
             0.6666666666666666,
             "#ed7953"
            ],
            [
             0.7777777777777778,
             "#fb9f3a"
            ],
            [
             0.8888888888888888,
             "#fdca26"
            ],
            [
             1,
             "#f0f921"
            ]
           ],
           "sequentialminus": [
            [
             0,
             "#0d0887"
            ],
            [
             0.1111111111111111,
             "#46039f"
            ],
            [
             0.2222222222222222,
             "#7201a8"
            ],
            [
             0.3333333333333333,
             "#9c179e"
            ],
            [
             0.4444444444444444,
             "#bd3786"
            ],
            [
             0.5555555555555556,
             "#d8576b"
            ],
            [
             0.6666666666666666,
             "#ed7953"
            ],
            [
             0.7777777777777778,
             "#fb9f3a"
            ],
            [
             0.8888888888888888,
             "#fdca26"
            ],
            [
             1,
             "#f0f921"
            ]
           ]
          },
          "colorway": [
           "#636efa",
           "#EF553B",
           "#00cc96",
           "#ab63fa",
           "#FFA15A",
           "#19d3f3",
           "#FF6692",
           "#B6E880",
           "#FF97FF",
           "#FECB52"
          ],
          "font": {
           "color": "#2a3f5f"
          },
          "geo": {
           "bgcolor": "white",
           "lakecolor": "white",
           "landcolor": "#E5ECF6",
           "showlakes": true,
           "showland": true,
           "subunitcolor": "white"
          },
          "hoverlabel": {
           "align": "left"
          },
          "hovermode": "closest",
          "mapbox": {
           "style": "light"
          },
          "paper_bgcolor": "white",
          "plot_bgcolor": "#E5ECF6",
          "polar": {
           "angularaxis": {
            "gridcolor": "white",
            "linecolor": "white",
            "ticks": ""
           },
           "bgcolor": "#E5ECF6",
           "radialaxis": {
            "gridcolor": "white",
            "linecolor": "white",
            "ticks": ""
           }
          },
          "scene": {
           "xaxis": {
            "backgroundcolor": "#E5ECF6",
            "gridcolor": "white",
            "gridwidth": 2,
            "linecolor": "white",
            "showbackground": true,
            "ticks": "",
            "zerolinecolor": "white"
           },
           "yaxis": {
            "backgroundcolor": "#E5ECF6",
            "gridcolor": "white",
            "gridwidth": 2,
            "linecolor": "white",
            "showbackground": true,
            "ticks": "",
            "zerolinecolor": "white"
           },
           "zaxis": {
            "backgroundcolor": "#E5ECF6",
            "gridcolor": "white",
            "gridwidth": 2,
            "linecolor": "white",
            "showbackground": true,
            "ticks": "",
            "zerolinecolor": "white"
           }
          },
          "shapedefaults": {
           "line": {
            "color": "#2a3f5f"
           }
          },
          "ternary": {
           "aaxis": {
            "gridcolor": "white",
            "linecolor": "white",
            "ticks": ""
           },
           "baxis": {
            "gridcolor": "white",
            "linecolor": "white",
            "ticks": ""
           },
           "bgcolor": "#E5ECF6",
           "caxis": {
            "gridcolor": "white",
            "linecolor": "white",
            "ticks": ""
           }
          },
          "title": {
           "x": 0.05
          },
          "xaxis": {
           "automargin": true,
           "gridcolor": "white",
           "linecolor": "white",
           "ticks": "",
           "title": {
            "standoff": 15
           },
           "zerolinecolor": "white",
           "zerolinewidth": 2
          },
          "yaxis": {
           "automargin": true,
           "gridcolor": "white",
           "linecolor": "white",
           "ticks": "",
           "title": {
            "standoff": 15
           },
           "zerolinecolor": "white",
           "zerolinewidth": 2
          }
         }
        },
        "title": {
         "text": "Sankey Diagram (Ages >= 50 and <200),<br> Age-stratified Analysis <br> DwtPlotter.sankey_agents_by_age_subplots()"
        }
       }
      }
     },
     "metadata": {},
     "output_type": "display_data"
    }
   ],
   "source": [
    "\n",
    "# Sankey diagrams by age groups\n",
    "analyzer.sankey_agents_by_age_subplots(bins=[0, 5, 15, 30, 50, 200], scenario=\"Age-stratified Analysis\")\n"
   ]
  },
  {
   "cell_type": "code",
   "execution_count": 11,
   "id": "3dd5878f",
   "metadata": {},
   "outputs": [
    {
     "data": {
      "application/vnd.plotly.v1+json": {
       "config": {
        "plotlyServerURL": "https://plot.ly"
       },
       "data": [
        {
         "link": {
          "source": {
           "bdata": "AQEBAwMIBwcHAAA=",
           "dtype": "i1"
          },
          "target": {
           "bdata": "BgMICAcHAAIEAQU=",
           "dtype": "i1"
          },
          "value": {
           "bdata": "tACXAA0AAQABAAwACgACAAEAAgABAA==",
           "dtype": "i2"
          }
         },
         "node": {
          "label": [
           "3.0.Active Smpos",
           "-1.0.None",
           "4.0.Active Smneg",
           "0.0.Latent Slow",
           "5.0.Active Exptb",
           "8.0.Dead",
           "-2.0.NEVER INFECTED",
           "2.0.Active Presymp",
           "1.0.Latent Fast"
          ],
          "pad": 15,
          "thickness": 20
         },
         "type": "sankey"
        }
       ],
       "layout": {
        "annotations": [
         {
          "font": {
           "color": "black",
           "size": 8
          },
          "showarrow": false,
          "text": "DwtPlotter.sankey_agents_even_age_ranges()",
          "x": -0.05,
          "xref": "paper",
          "y": -0.2,
          "yref": "paper"
         }
        ],
        "template": {
         "data": {
          "bar": [
           {
            "error_x": {
             "color": "#2a3f5f"
            },
            "error_y": {
             "color": "#2a3f5f"
            },
            "marker": {
             "line": {
              "color": "#E5ECF6",
              "width": 0.5
             },
             "pattern": {
              "fillmode": "overlay",
              "size": 10,
              "solidity": 0.2
             }
            },
            "type": "bar"
           }
          ],
          "barpolar": [
           {
            "marker": {
             "line": {
              "color": "#E5ECF6",
              "width": 0.5
             },
             "pattern": {
              "fillmode": "overlay",
              "size": 10,
              "solidity": 0.2
             }
            },
            "type": "barpolar"
           }
          ],
          "carpet": [
           {
            "aaxis": {
             "endlinecolor": "#2a3f5f",
             "gridcolor": "white",
             "linecolor": "white",
             "minorgridcolor": "white",
             "startlinecolor": "#2a3f5f"
            },
            "baxis": {
             "endlinecolor": "#2a3f5f",
             "gridcolor": "white",
             "linecolor": "white",
             "minorgridcolor": "white",
             "startlinecolor": "#2a3f5f"
            },
            "type": "carpet"
           }
          ],
          "choropleth": [
           {
            "colorbar": {
             "outlinewidth": 0,
             "ticks": ""
            },
            "type": "choropleth"
           }
          ],
          "contour": [
           {
            "colorbar": {
             "outlinewidth": 0,
             "ticks": ""
            },
            "colorscale": [
             [
              0,
              "#0d0887"
             ],
             [
              0.1111111111111111,
              "#46039f"
             ],
             [
              0.2222222222222222,
              "#7201a8"
             ],
             [
              0.3333333333333333,
              "#9c179e"
             ],
             [
              0.4444444444444444,
              "#bd3786"
             ],
             [
              0.5555555555555556,
              "#d8576b"
             ],
             [
              0.6666666666666666,
              "#ed7953"
             ],
             [
              0.7777777777777778,
              "#fb9f3a"
             ],
             [
              0.8888888888888888,
              "#fdca26"
             ],
             [
              1,
              "#f0f921"
             ]
            ],
            "type": "contour"
           }
          ],
          "contourcarpet": [
           {
            "colorbar": {
             "outlinewidth": 0,
             "ticks": ""
            },
            "type": "contourcarpet"
           }
          ],
          "heatmap": [
           {
            "colorbar": {
             "outlinewidth": 0,
             "ticks": ""
            },
            "colorscale": [
             [
              0,
              "#0d0887"
             ],
             [
              0.1111111111111111,
              "#46039f"
             ],
             [
              0.2222222222222222,
              "#7201a8"
             ],
             [
              0.3333333333333333,
              "#9c179e"
             ],
             [
              0.4444444444444444,
              "#bd3786"
             ],
             [
              0.5555555555555556,
              "#d8576b"
             ],
             [
              0.6666666666666666,
              "#ed7953"
             ],
             [
              0.7777777777777778,
              "#fb9f3a"
             ],
             [
              0.8888888888888888,
              "#fdca26"
             ],
             [
              1,
              "#f0f921"
             ]
            ],
            "type": "heatmap"
           }
          ],
          "histogram": [
           {
            "marker": {
             "pattern": {
              "fillmode": "overlay",
              "size": 10,
              "solidity": 0.2
             }
            },
            "type": "histogram"
           }
          ],
          "histogram2d": [
           {
            "colorbar": {
             "outlinewidth": 0,
             "ticks": ""
            },
            "colorscale": [
             [
              0,
              "#0d0887"
             ],
             [
              0.1111111111111111,
              "#46039f"
             ],
             [
              0.2222222222222222,
              "#7201a8"
             ],
             [
              0.3333333333333333,
              "#9c179e"
             ],
             [
              0.4444444444444444,
              "#bd3786"
             ],
             [
              0.5555555555555556,
              "#d8576b"
             ],
             [
              0.6666666666666666,
              "#ed7953"
             ],
             [
              0.7777777777777778,
              "#fb9f3a"
             ],
             [
              0.8888888888888888,
              "#fdca26"
             ],
             [
              1,
              "#f0f921"
             ]
            ],
            "type": "histogram2d"
           }
          ],
          "histogram2dcontour": [
           {
            "colorbar": {
             "outlinewidth": 0,
             "ticks": ""
            },
            "colorscale": [
             [
              0,
              "#0d0887"
             ],
             [
              0.1111111111111111,
              "#46039f"
             ],
             [
              0.2222222222222222,
              "#7201a8"
             ],
             [
              0.3333333333333333,
              "#9c179e"
             ],
             [
              0.4444444444444444,
              "#bd3786"
             ],
             [
              0.5555555555555556,
              "#d8576b"
             ],
             [
              0.6666666666666666,
              "#ed7953"
             ],
             [
              0.7777777777777778,
              "#fb9f3a"
             ],
             [
              0.8888888888888888,
              "#fdca26"
             ],
             [
              1,
              "#f0f921"
             ]
            ],
            "type": "histogram2dcontour"
           }
          ],
          "mesh3d": [
           {
            "colorbar": {
             "outlinewidth": 0,
             "ticks": ""
            },
            "type": "mesh3d"
           }
          ],
          "parcoords": [
           {
            "line": {
             "colorbar": {
              "outlinewidth": 0,
              "ticks": ""
             }
            },
            "type": "parcoords"
           }
          ],
          "pie": [
           {
            "automargin": true,
            "type": "pie"
           }
          ],
          "scatter": [
           {
            "fillpattern": {
             "fillmode": "overlay",
             "size": 10,
             "solidity": 0.2
            },
            "type": "scatter"
           }
          ],
          "scatter3d": [
           {
            "line": {
             "colorbar": {
              "outlinewidth": 0,
              "ticks": ""
             }
            },
            "marker": {
             "colorbar": {
              "outlinewidth": 0,
              "ticks": ""
             }
            },
            "type": "scatter3d"
           }
          ],
          "scattercarpet": [
           {
            "marker": {
             "colorbar": {
              "outlinewidth": 0,
              "ticks": ""
             }
            },
            "type": "scattercarpet"
           }
          ],
          "scattergeo": [
           {
            "marker": {
             "colorbar": {
              "outlinewidth": 0,
              "ticks": ""
             }
            },
            "type": "scattergeo"
           }
          ],
          "scattergl": [
           {
            "marker": {
             "colorbar": {
              "outlinewidth": 0,
              "ticks": ""
             }
            },
            "type": "scattergl"
           }
          ],
          "scattermap": [
           {
            "marker": {
             "colorbar": {
              "outlinewidth": 0,
              "ticks": ""
             }
            },
            "type": "scattermap"
           }
          ],
          "scattermapbox": [
           {
            "marker": {
             "colorbar": {
              "outlinewidth": 0,
              "ticks": ""
             }
            },
            "type": "scattermapbox"
           }
          ],
          "scatterpolar": [
           {
            "marker": {
             "colorbar": {
              "outlinewidth": 0,
              "ticks": ""
             }
            },
            "type": "scatterpolar"
           }
          ],
          "scatterpolargl": [
           {
            "marker": {
             "colorbar": {
              "outlinewidth": 0,
              "ticks": ""
             }
            },
            "type": "scatterpolargl"
           }
          ],
          "scatterternary": [
           {
            "marker": {
             "colorbar": {
              "outlinewidth": 0,
              "ticks": ""
             }
            },
            "type": "scatterternary"
           }
          ],
          "surface": [
           {
            "colorbar": {
             "outlinewidth": 0,
             "ticks": ""
            },
            "colorscale": [
             [
              0,
              "#0d0887"
             ],
             [
              0.1111111111111111,
              "#46039f"
             ],
             [
              0.2222222222222222,
              "#7201a8"
             ],
             [
              0.3333333333333333,
              "#9c179e"
             ],
             [
              0.4444444444444444,
              "#bd3786"
             ],
             [
              0.5555555555555556,
              "#d8576b"
             ],
             [
              0.6666666666666666,
              "#ed7953"
             ],
             [
              0.7777777777777778,
              "#fb9f3a"
             ],
             [
              0.8888888888888888,
              "#fdca26"
             ],
             [
              1,
              "#f0f921"
             ]
            ],
            "type": "surface"
           }
          ],
          "table": [
           {
            "cells": {
             "fill": {
              "color": "#EBF0F8"
             },
             "line": {
              "color": "white"
             }
            },
            "header": {
             "fill": {
              "color": "#C8D4E3"
             },
             "line": {
              "color": "white"
             }
            },
            "type": "table"
           }
          ]
         },
         "layout": {
          "annotationdefaults": {
           "arrowcolor": "#2a3f5f",
           "arrowhead": 0,
           "arrowwidth": 1
          },
          "autotypenumbers": "strict",
          "coloraxis": {
           "colorbar": {
            "outlinewidth": 0,
            "ticks": ""
           }
          },
          "colorscale": {
           "diverging": [
            [
             0,
             "#8e0152"
            ],
            [
             0.1,
             "#c51b7d"
            ],
            [
             0.2,
             "#de77ae"
            ],
            [
             0.3,
             "#f1b6da"
            ],
            [
             0.4,
             "#fde0ef"
            ],
            [
             0.5,
             "#f7f7f7"
            ],
            [
             0.6,
             "#e6f5d0"
            ],
            [
             0.7,
             "#b8e186"
            ],
            [
             0.8,
             "#7fbc41"
            ],
            [
             0.9,
             "#4d9221"
            ],
            [
             1,
             "#276419"
            ]
           ],
           "sequential": [
            [
             0,
             "#0d0887"
            ],
            [
             0.1111111111111111,
             "#46039f"
            ],
            [
             0.2222222222222222,
             "#7201a8"
            ],
            [
             0.3333333333333333,
             "#9c179e"
            ],
            [
             0.4444444444444444,
             "#bd3786"
            ],
            [
             0.5555555555555556,
             "#d8576b"
            ],
            [
             0.6666666666666666,
             "#ed7953"
            ],
            [
             0.7777777777777778,
             "#fb9f3a"
            ],
            [
             0.8888888888888888,
             "#fdca26"
            ],
            [
             1,
             "#f0f921"
            ]
           ],
           "sequentialminus": [
            [
             0,
             "#0d0887"
            ],
            [
             0.1111111111111111,
             "#46039f"
            ],
            [
             0.2222222222222222,
             "#7201a8"
            ],
            [
             0.3333333333333333,
             "#9c179e"
            ],
            [
             0.4444444444444444,
             "#bd3786"
            ],
            [
             0.5555555555555556,
             "#d8576b"
            ],
            [
             0.6666666666666666,
             "#ed7953"
            ],
            [
             0.7777777777777778,
             "#fb9f3a"
            ],
            [
             0.8888888888888888,
             "#fdca26"
            ],
            [
             1,
             "#f0f921"
            ]
           ]
          },
          "colorway": [
           "#636efa",
           "#EF553B",
           "#00cc96",
           "#ab63fa",
           "#FFA15A",
           "#19d3f3",
           "#FF6692",
           "#B6E880",
           "#FF97FF",
           "#FECB52"
          ],
          "font": {
           "color": "#2a3f5f"
          },
          "geo": {
           "bgcolor": "white",
           "lakecolor": "white",
           "landcolor": "#E5ECF6",
           "showlakes": true,
           "showland": true,
           "subunitcolor": "white"
          },
          "hoverlabel": {
           "align": "left"
          },
          "hovermode": "closest",
          "mapbox": {
           "style": "light"
          },
          "paper_bgcolor": "white",
          "plot_bgcolor": "#E5ECF6",
          "polar": {
           "angularaxis": {
            "gridcolor": "white",
            "linecolor": "white",
            "ticks": ""
           },
           "bgcolor": "#E5ECF6",
           "radialaxis": {
            "gridcolor": "white",
            "linecolor": "white",
            "ticks": ""
           }
          },
          "scene": {
           "xaxis": {
            "backgroundcolor": "#E5ECF6",
            "gridcolor": "white",
            "gridwidth": 2,
            "linecolor": "white",
            "showbackground": true,
            "ticks": "",
            "zerolinecolor": "white"
           },
           "yaxis": {
            "backgroundcolor": "#E5ECF6",
            "gridcolor": "white",
            "gridwidth": 2,
            "linecolor": "white",
            "showbackground": true,
            "ticks": "",
            "zerolinecolor": "white"
           },
           "zaxis": {
            "backgroundcolor": "#E5ECF6",
            "gridcolor": "white",
            "gridwidth": 2,
            "linecolor": "white",
            "showbackground": true,
            "ticks": "",
            "zerolinecolor": "white"
           }
          },
          "shapedefaults": {
           "line": {
            "color": "#2a3f5f"
           }
          },
          "ternary": {
           "aaxis": {
            "gridcolor": "white",
            "linecolor": "white",
            "ticks": ""
           },
           "baxis": {
            "gridcolor": "white",
            "linecolor": "white",
            "ticks": ""
           },
           "bgcolor": "#E5ECF6",
           "caxis": {
            "gridcolor": "white",
            "linecolor": "white",
            "ticks": ""
           }
          },
          "title": {
           "x": 0.05
          },
          "xaxis": {
           "automargin": true,
           "gridcolor": "white",
           "linecolor": "white",
           "ticks": "",
           "title": {
            "standoff": 15
           },
           "zerolinecolor": "white",
           "zerolinewidth": 2
          },
          "yaxis": {
           "automargin": true,
           "gridcolor": "white",
           "linecolor": "white",
           "ticks": "",
           "title": {
            "standoff": 15
           },
           "zerolinecolor": "white",
           "zerolinewidth": 2
          }
         }
        },
        "title": {
         "text": "Sankey Diagram (Ages 0.1 - 33.4)<br> Even Age Distribution <br> DwtPlotter.sankey_agents_even_age_ranges()"
        }
       }
      }
     },
     "metadata": {},
     "output_type": "display_data"
    },
    {
     "data": {
      "application/vnd.plotly.v1+json": {
       "config": {
        "plotlyServerURL": "https://plot.ly"
       },
       "data": [
        {
         "link": {
          "source": {
           "bdata": "AQEBAQEDAwMDCAgICAcHBwAAAgI=",
           "dtype": "i1"
          },
          "target": {
           "bdata": "BgMIAAIHAAIEBwACBAACBAEFAQU=",
           "dtype": "i1"
          },
          "value": {
           "bdata": "qgB+AA8AAQABAAQAAQABAAEACwACAAEAAQAJAAMAAwAEAAEAAQABAA==",
           "dtype": "i2"
          }
         },
         "node": {
          "label": [
           "3.0.Active Smpos",
           "-1.0.None",
           "4.0.Active Smneg",
           "0.0.Latent Slow",
           "5.0.Active Exptb",
           "8.0.Dead",
           "-2.0.NEVER INFECTED",
           "2.0.Active Presymp",
           "1.0.Latent Fast"
          ],
          "pad": 15,
          "thickness": 20
         },
         "type": "sankey"
        }
       ],
       "layout": {
        "annotations": [
         {
          "font": {
           "color": "black",
           "size": 8
          },
          "showarrow": false,
          "text": "DwtPlotter.sankey_agents_even_age_ranges()",
          "x": -0.05,
          "xref": "paper",
          "y": -0.2,
          "yref": "paper"
         }
        ],
        "template": {
         "data": {
          "bar": [
           {
            "error_x": {
             "color": "#2a3f5f"
            },
            "error_y": {
             "color": "#2a3f5f"
            },
            "marker": {
             "line": {
              "color": "#E5ECF6",
              "width": 0.5
             },
             "pattern": {
              "fillmode": "overlay",
              "size": 10,
              "solidity": 0.2
             }
            },
            "type": "bar"
           }
          ],
          "barpolar": [
           {
            "marker": {
             "line": {
              "color": "#E5ECF6",
              "width": 0.5
             },
             "pattern": {
              "fillmode": "overlay",
              "size": 10,
              "solidity": 0.2
             }
            },
            "type": "barpolar"
           }
          ],
          "carpet": [
           {
            "aaxis": {
             "endlinecolor": "#2a3f5f",
             "gridcolor": "white",
             "linecolor": "white",
             "minorgridcolor": "white",
             "startlinecolor": "#2a3f5f"
            },
            "baxis": {
             "endlinecolor": "#2a3f5f",
             "gridcolor": "white",
             "linecolor": "white",
             "minorgridcolor": "white",
             "startlinecolor": "#2a3f5f"
            },
            "type": "carpet"
           }
          ],
          "choropleth": [
           {
            "colorbar": {
             "outlinewidth": 0,
             "ticks": ""
            },
            "type": "choropleth"
           }
          ],
          "contour": [
           {
            "colorbar": {
             "outlinewidth": 0,
             "ticks": ""
            },
            "colorscale": [
             [
              0,
              "#0d0887"
             ],
             [
              0.1111111111111111,
              "#46039f"
             ],
             [
              0.2222222222222222,
              "#7201a8"
             ],
             [
              0.3333333333333333,
              "#9c179e"
             ],
             [
              0.4444444444444444,
              "#bd3786"
             ],
             [
              0.5555555555555556,
              "#d8576b"
             ],
             [
              0.6666666666666666,
              "#ed7953"
             ],
             [
              0.7777777777777778,
              "#fb9f3a"
             ],
             [
              0.8888888888888888,
              "#fdca26"
             ],
             [
              1,
              "#f0f921"
             ]
            ],
            "type": "contour"
           }
          ],
          "contourcarpet": [
           {
            "colorbar": {
             "outlinewidth": 0,
             "ticks": ""
            },
            "type": "contourcarpet"
           }
          ],
          "heatmap": [
           {
            "colorbar": {
             "outlinewidth": 0,
             "ticks": ""
            },
            "colorscale": [
             [
              0,
              "#0d0887"
             ],
             [
              0.1111111111111111,
              "#46039f"
             ],
             [
              0.2222222222222222,
              "#7201a8"
             ],
             [
              0.3333333333333333,
              "#9c179e"
             ],
             [
              0.4444444444444444,
              "#bd3786"
             ],
             [
              0.5555555555555556,
              "#d8576b"
             ],
             [
              0.6666666666666666,
              "#ed7953"
             ],
             [
              0.7777777777777778,
              "#fb9f3a"
             ],
             [
              0.8888888888888888,
              "#fdca26"
             ],
             [
              1,
              "#f0f921"
             ]
            ],
            "type": "heatmap"
           }
          ],
          "histogram": [
           {
            "marker": {
             "pattern": {
              "fillmode": "overlay",
              "size": 10,
              "solidity": 0.2
             }
            },
            "type": "histogram"
           }
          ],
          "histogram2d": [
           {
            "colorbar": {
             "outlinewidth": 0,
             "ticks": ""
            },
            "colorscale": [
             [
              0,
              "#0d0887"
             ],
             [
              0.1111111111111111,
              "#46039f"
             ],
             [
              0.2222222222222222,
              "#7201a8"
             ],
             [
              0.3333333333333333,
              "#9c179e"
             ],
             [
              0.4444444444444444,
              "#bd3786"
             ],
             [
              0.5555555555555556,
              "#d8576b"
             ],
             [
              0.6666666666666666,
              "#ed7953"
             ],
             [
              0.7777777777777778,
              "#fb9f3a"
             ],
             [
              0.8888888888888888,
              "#fdca26"
             ],
             [
              1,
              "#f0f921"
             ]
            ],
            "type": "histogram2d"
           }
          ],
          "histogram2dcontour": [
           {
            "colorbar": {
             "outlinewidth": 0,
             "ticks": ""
            },
            "colorscale": [
             [
              0,
              "#0d0887"
             ],
             [
              0.1111111111111111,
              "#46039f"
             ],
             [
              0.2222222222222222,
              "#7201a8"
             ],
             [
              0.3333333333333333,
              "#9c179e"
             ],
             [
              0.4444444444444444,
              "#bd3786"
             ],
             [
              0.5555555555555556,
              "#d8576b"
             ],
             [
              0.6666666666666666,
              "#ed7953"
             ],
             [
              0.7777777777777778,
              "#fb9f3a"
             ],
             [
              0.8888888888888888,
              "#fdca26"
             ],
             [
              1,
              "#f0f921"
             ]
            ],
            "type": "histogram2dcontour"
           }
          ],
          "mesh3d": [
           {
            "colorbar": {
             "outlinewidth": 0,
             "ticks": ""
            },
            "type": "mesh3d"
           }
          ],
          "parcoords": [
           {
            "line": {
             "colorbar": {
              "outlinewidth": 0,
              "ticks": ""
             }
            },
            "type": "parcoords"
           }
          ],
          "pie": [
           {
            "automargin": true,
            "type": "pie"
           }
          ],
          "scatter": [
           {
            "fillpattern": {
             "fillmode": "overlay",
             "size": 10,
             "solidity": 0.2
            },
            "type": "scatter"
           }
          ],
          "scatter3d": [
           {
            "line": {
             "colorbar": {
              "outlinewidth": 0,
              "ticks": ""
             }
            },
            "marker": {
             "colorbar": {
              "outlinewidth": 0,
              "ticks": ""
             }
            },
            "type": "scatter3d"
           }
          ],
          "scattercarpet": [
           {
            "marker": {
             "colorbar": {
              "outlinewidth": 0,
              "ticks": ""
             }
            },
            "type": "scattercarpet"
           }
          ],
          "scattergeo": [
           {
            "marker": {
             "colorbar": {
              "outlinewidth": 0,
              "ticks": ""
             }
            },
            "type": "scattergeo"
           }
          ],
          "scattergl": [
           {
            "marker": {
             "colorbar": {
              "outlinewidth": 0,
              "ticks": ""
             }
            },
            "type": "scattergl"
           }
          ],
          "scattermap": [
           {
            "marker": {
             "colorbar": {
              "outlinewidth": 0,
              "ticks": ""
             }
            },
            "type": "scattermap"
           }
          ],
          "scattermapbox": [
           {
            "marker": {
             "colorbar": {
              "outlinewidth": 0,
              "ticks": ""
             }
            },
            "type": "scattermapbox"
           }
          ],
          "scatterpolar": [
           {
            "marker": {
             "colorbar": {
              "outlinewidth": 0,
              "ticks": ""
             }
            },
            "type": "scatterpolar"
           }
          ],
          "scatterpolargl": [
           {
            "marker": {
             "colorbar": {
              "outlinewidth": 0,
              "ticks": ""
             }
            },
            "type": "scatterpolargl"
           }
          ],
          "scatterternary": [
           {
            "marker": {
             "colorbar": {
              "outlinewidth": 0,
              "ticks": ""
             }
            },
            "type": "scatterternary"
           }
          ],
          "surface": [
           {
            "colorbar": {
             "outlinewidth": 0,
             "ticks": ""
            },
            "colorscale": [
             [
              0,
              "#0d0887"
             ],
             [
              0.1111111111111111,
              "#46039f"
             ],
             [
              0.2222222222222222,
              "#7201a8"
             ],
             [
              0.3333333333333333,
              "#9c179e"
             ],
             [
              0.4444444444444444,
              "#bd3786"
             ],
             [
              0.5555555555555556,
              "#d8576b"
             ],
             [
              0.6666666666666666,
              "#ed7953"
             ],
             [
              0.7777777777777778,
              "#fb9f3a"
             ],
             [
              0.8888888888888888,
              "#fdca26"
             ],
             [
              1,
              "#f0f921"
             ]
            ],
            "type": "surface"
           }
          ],
          "table": [
           {
            "cells": {
             "fill": {
              "color": "#EBF0F8"
             },
             "line": {
              "color": "white"
             }
            },
            "header": {
             "fill": {
              "color": "#C8D4E3"
             },
             "line": {
              "color": "white"
             }
            },
            "type": "table"
           }
          ]
         },
         "layout": {
          "annotationdefaults": {
           "arrowcolor": "#2a3f5f",
           "arrowhead": 0,
           "arrowwidth": 1
          },
          "autotypenumbers": "strict",
          "coloraxis": {
           "colorbar": {
            "outlinewidth": 0,
            "ticks": ""
           }
          },
          "colorscale": {
           "diverging": [
            [
             0,
             "#8e0152"
            ],
            [
             0.1,
             "#c51b7d"
            ],
            [
             0.2,
             "#de77ae"
            ],
            [
             0.3,
             "#f1b6da"
            ],
            [
             0.4,
             "#fde0ef"
            ],
            [
             0.5,
             "#f7f7f7"
            ],
            [
             0.6,
             "#e6f5d0"
            ],
            [
             0.7,
             "#b8e186"
            ],
            [
             0.8,
             "#7fbc41"
            ],
            [
             0.9,
             "#4d9221"
            ],
            [
             1,
             "#276419"
            ]
           ],
           "sequential": [
            [
             0,
             "#0d0887"
            ],
            [
             0.1111111111111111,
             "#46039f"
            ],
            [
             0.2222222222222222,
             "#7201a8"
            ],
            [
             0.3333333333333333,
             "#9c179e"
            ],
            [
             0.4444444444444444,
             "#bd3786"
            ],
            [
             0.5555555555555556,
             "#d8576b"
            ],
            [
             0.6666666666666666,
             "#ed7953"
            ],
            [
             0.7777777777777778,
             "#fb9f3a"
            ],
            [
             0.8888888888888888,
             "#fdca26"
            ],
            [
             1,
             "#f0f921"
            ]
           ],
           "sequentialminus": [
            [
             0,
             "#0d0887"
            ],
            [
             0.1111111111111111,
             "#46039f"
            ],
            [
             0.2222222222222222,
             "#7201a8"
            ],
            [
             0.3333333333333333,
             "#9c179e"
            ],
            [
             0.4444444444444444,
             "#bd3786"
            ],
            [
             0.5555555555555556,
             "#d8576b"
            ],
            [
             0.6666666666666666,
             "#ed7953"
            ],
            [
             0.7777777777777778,
             "#fb9f3a"
            ],
            [
             0.8888888888888888,
             "#fdca26"
            ],
            [
             1,
             "#f0f921"
            ]
           ]
          },
          "colorway": [
           "#636efa",
           "#EF553B",
           "#00cc96",
           "#ab63fa",
           "#FFA15A",
           "#19d3f3",
           "#FF6692",
           "#B6E880",
           "#FF97FF",
           "#FECB52"
          ],
          "font": {
           "color": "#2a3f5f"
          },
          "geo": {
           "bgcolor": "white",
           "lakecolor": "white",
           "landcolor": "#E5ECF6",
           "showlakes": true,
           "showland": true,
           "subunitcolor": "white"
          },
          "hoverlabel": {
           "align": "left"
          },
          "hovermode": "closest",
          "mapbox": {
           "style": "light"
          },
          "paper_bgcolor": "white",
          "plot_bgcolor": "#E5ECF6",
          "polar": {
           "angularaxis": {
            "gridcolor": "white",
            "linecolor": "white",
            "ticks": ""
           },
           "bgcolor": "#E5ECF6",
           "radialaxis": {
            "gridcolor": "white",
            "linecolor": "white",
            "ticks": ""
           }
          },
          "scene": {
           "xaxis": {
            "backgroundcolor": "#E5ECF6",
            "gridcolor": "white",
            "gridwidth": 2,
            "linecolor": "white",
            "showbackground": true,
            "ticks": "",
            "zerolinecolor": "white"
           },
           "yaxis": {
            "backgroundcolor": "#E5ECF6",
            "gridcolor": "white",
            "gridwidth": 2,
            "linecolor": "white",
            "showbackground": true,
            "ticks": "",
            "zerolinecolor": "white"
           },
           "zaxis": {
            "backgroundcolor": "#E5ECF6",
            "gridcolor": "white",
            "gridwidth": 2,
            "linecolor": "white",
            "showbackground": true,
            "ticks": "",
            "zerolinecolor": "white"
           }
          },
          "shapedefaults": {
           "line": {
            "color": "#2a3f5f"
           }
          },
          "ternary": {
           "aaxis": {
            "gridcolor": "white",
            "linecolor": "white",
            "ticks": ""
           },
           "baxis": {
            "gridcolor": "white",
            "linecolor": "white",
            "ticks": ""
           },
           "bgcolor": "#E5ECF6",
           "caxis": {
            "gridcolor": "white",
            "linecolor": "white",
            "ticks": ""
           }
          },
          "title": {
           "x": 0.05
          },
          "xaxis": {
           "automargin": true,
           "gridcolor": "white",
           "linecolor": "white",
           "ticks": "",
           "title": {
            "standoff": 15
           },
           "zerolinecolor": "white",
           "zerolinewidth": 2
          },
          "yaxis": {
           "automargin": true,
           "gridcolor": "white",
           "linecolor": "white",
           "ticks": "",
           "title": {
            "standoff": 15
           },
           "zerolinecolor": "white",
           "zerolinewidth": 2
          }
         }
        },
        "title": {
         "text": "Sankey Diagram (Ages 33.4 - 66.6)<br> Even Age Distribution <br> DwtPlotter.sankey_agents_even_age_ranges()"
        }
       }
      }
     },
     "metadata": {},
     "output_type": "display_data"
    },
    {
     "data": {
      "application/vnd.plotly.v1+json": {
       "config": {
        "plotlyServerURL": "https://plot.ly"
       },
       "data": [
        {
         "link": {
          "source": {
           "bdata": "AQEBAwgICAcHBwAAAg==",
           "dtype": "i1"
          },
          "target": {
           "bdata": "BgMIBwcAAgACBAEFAQ==",
           "dtype": "i1"
          },
          "value": {
           "bdata": "rQCPABsAAgASAAQAAQAMAAUAAQAFAAEAAgA=",
           "dtype": "i2"
          }
         },
         "node": {
          "label": [
           "3.0.Active Smpos",
           "-1.0.None",
           "4.0.Active Smneg",
           "0.0.Latent Slow",
           "5.0.Active Exptb",
           "8.0.Dead",
           "-2.0.NEVER INFECTED",
           "2.0.Active Presymp",
           "1.0.Latent Fast"
          ],
          "pad": 15,
          "thickness": 20
         },
         "type": "sankey"
        }
       ],
       "layout": {
        "annotations": [
         {
          "font": {
           "color": "black",
           "size": 8
          },
          "showarrow": false,
          "text": "DwtPlotter.sankey_agents_even_age_ranges()",
          "x": -0.05,
          "xref": "paper",
          "y": -0.2,
          "yref": "paper"
         }
        ],
        "template": {
         "data": {
          "bar": [
           {
            "error_x": {
             "color": "#2a3f5f"
            },
            "error_y": {
             "color": "#2a3f5f"
            },
            "marker": {
             "line": {
              "color": "#E5ECF6",
              "width": 0.5
             },
             "pattern": {
              "fillmode": "overlay",
              "size": 10,
              "solidity": 0.2
             }
            },
            "type": "bar"
           }
          ],
          "barpolar": [
           {
            "marker": {
             "line": {
              "color": "#E5ECF6",
              "width": 0.5
             },
             "pattern": {
              "fillmode": "overlay",
              "size": 10,
              "solidity": 0.2
             }
            },
            "type": "barpolar"
           }
          ],
          "carpet": [
           {
            "aaxis": {
             "endlinecolor": "#2a3f5f",
             "gridcolor": "white",
             "linecolor": "white",
             "minorgridcolor": "white",
             "startlinecolor": "#2a3f5f"
            },
            "baxis": {
             "endlinecolor": "#2a3f5f",
             "gridcolor": "white",
             "linecolor": "white",
             "minorgridcolor": "white",
             "startlinecolor": "#2a3f5f"
            },
            "type": "carpet"
           }
          ],
          "choropleth": [
           {
            "colorbar": {
             "outlinewidth": 0,
             "ticks": ""
            },
            "type": "choropleth"
           }
          ],
          "contour": [
           {
            "colorbar": {
             "outlinewidth": 0,
             "ticks": ""
            },
            "colorscale": [
             [
              0,
              "#0d0887"
             ],
             [
              0.1111111111111111,
              "#46039f"
             ],
             [
              0.2222222222222222,
              "#7201a8"
             ],
             [
              0.3333333333333333,
              "#9c179e"
             ],
             [
              0.4444444444444444,
              "#bd3786"
             ],
             [
              0.5555555555555556,
              "#d8576b"
             ],
             [
              0.6666666666666666,
              "#ed7953"
             ],
             [
              0.7777777777777778,
              "#fb9f3a"
             ],
             [
              0.8888888888888888,
              "#fdca26"
             ],
             [
              1,
              "#f0f921"
             ]
            ],
            "type": "contour"
           }
          ],
          "contourcarpet": [
           {
            "colorbar": {
             "outlinewidth": 0,
             "ticks": ""
            },
            "type": "contourcarpet"
           }
          ],
          "heatmap": [
           {
            "colorbar": {
             "outlinewidth": 0,
             "ticks": ""
            },
            "colorscale": [
             [
              0,
              "#0d0887"
             ],
             [
              0.1111111111111111,
              "#46039f"
             ],
             [
              0.2222222222222222,
              "#7201a8"
             ],
             [
              0.3333333333333333,
              "#9c179e"
             ],
             [
              0.4444444444444444,
              "#bd3786"
             ],
             [
              0.5555555555555556,
              "#d8576b"
             ],
             [
              0.6666666666666666,
              "#ed7953"
             ],
             [
              0.7777777777777778,
              "#fb9f3a"
             ],
             [
              0.8888888888888888,
              "#fdca26"
             ],
             [
              1,
              "#f0f921"
             ]
            ],
            "type": "heatmap"
           }
          ],
          "histogram": [
           {
            "marker": {
             "pattern": {
              "fillmode": "overlay",
              "size": 10,
              "solidity": 0.2
             }
            },
            "type": "histogram"
           }
          ],
          "histogram2d": [
           {
            "colorbar": {
             "outlinewidth": 0,
             "ticks": ""
            },
            "colorscale": [
             [
              0,
              "#0d0887"
             ],
             [
              0.1111111111111111,
              "#46039f"
             ],
             [
              0.2222222222222222,
              "#7201a8"
             ],
             [
              0.3333333333333333,
              "#9c179e"
             ],
             [
              0.4444444444444444,
              "#bd3786"
             ],
             [
              0.5555555555555556,
              "#d8576b"
             ],
             [
              0.6666666666666666,
              "#ed7953"
             ],
             [
              0.7777777777777778,
              "#fb9f3a"
             ],
             [
              0.8888888888888888,
              "#fdca26"
             ],
             [
              1,
              "#f0f921"
             ]
            ],
            "type": "histogram2d"
           }
          ],
          "histogram2dcontour": [
           {
            "colorbar": {
             "outlinewidth": 0,
             "ticks": ""
            },
            "colorscale": [
             [
              0,
              "#0d0887"
             ],
             [
              0.1111111111111111,
              "#46039f"
             ],
             [
              0.2222222222222222,
              "#7201a8"
             ],
             [
              0.3333333333333333,
              "#9c179e"
             ],
             [
              0.4444444444444444,
              "#bd3786"
             ],
             [
              0.5555555555555556,
              "#d8576b"
             ],
             [
              0.6666666666666666,
              "#ed7953"
             ],
             [
              0.7777777777777778,
              "#fb9f3a"
             ],
             [
              0.8888888888888888,
              "#fdca26"
             ],
             [
              1,
              "#f0f921"
             ]
            ],
            "type": "histogram2dcontour"
           }
          ],
          "mesh3d": [
           {
            "colorbar": {
             "outlinewidth": 0,
             "ticks": ""
            },
            "type": "mesh3d"
           }
          ],
          "parcoords": [
           {
            "line": {
             "colorbar": {
              "outlinewidth": 0,
              "ticks": ""
             }
            },
            "type": "parcoords"
           }
          ],
          "pie": [
           {
            "automargin": true,
            "type": "pie"
           }
          ],
          "scatter": [
           {
            "fillpattern": {
             "fillmode": "overlay",
             "size": 10,
             "solidity": 0.2
            },
            "type": "scatter"
           }
          ],
          "scatter3d": [
           {
            "line": {
             "colorbar": {
              "outlinewidth": 0,
              "ticks": ""
             }
            },
            "marker": {
             "colorbar": {
              "outlinewidth": 0,
              "ticks": ""
             }
            },
            "type": "scatter3d"
           }
          ],
          "scattercarpet": [
           {
            "marker": {
             "colorbar": {
              "outlinewidth": 0,
              "ticks": ""
             }
            },
            "type": "scattercarpet"
           }
          ],
          "scattergeo": [
           {
            "marker": {
             "colorbar": {
              "outlinewidth": 0,
              "ticks": ""
             }
            },
            "type": "scattergeo"
           }
          ],
          "scattergl": [
           {
            "marker": {
             "colorbar": {
              "outlinewidth": 0,
              "ticks": ""
             }
            },
            "type": "scattergl"
           }
          ],
          "scattermap": [
           {
            "marker": {
             "colorbar": {
              "outlinewidth": 0,
              "ticks": ""
             }
            },
            "type": "scattermap"
           }
          ],
          "scattermapbox": [
           {
            "marker": {
             "colorbar": {
              "outlinewidth": 0,
              "ticks": ""
             }
            },
            "type": "scattermapbox"
           }
          ],
          "scatterpolar": [
           {
            "marker": {
             "colorbar": {
              "outlinewidth": 0,
              "ticks": ""
             }
            },
            "type": "scatterpolar"
           }
          ],
          "scatterpolargl": [
           {
            "marker": {
             "colorbar": {
              "outlinewidth": 0,
              "ticks": ""
             }
            },
            "type": "scatterpolargl"
           }
          ],
          "scatterternary": [
           {
            "marker": {
             "colorbar": {
              "outlinewidth": 0,
              "ticks": ""
             }
            },
            "type": "scatterternary"
           }
          ],
          "surface": [
           {
            "colorbar": {
             "outlinewidth": 0,
             "ticks": ""
            },
            "colorscale": [
             [
              0,
              "#0d0887"
             ],
             [
              0.1111111111111111,
              "#46039f"
             ],
             [
              0.2222222222222222,
              "#7201a8"
             ],
             [
              0.3333333333333333,
              "#9c179e"
             ],
             [
              0.4444444444444444,
              "#bd3786"
             ],
             [
              0.5555555555555556,
              "#d8576b"
             ],
             [
              0.6666666666666666,
              "#ed7953"
             ],
             [
              0.7777777777777778,
              "#fb9f3a"
             ],
             [
              0.8888888888888888,
              "#fdca26"
             ],
             [
              1,
              "#f0f921"
             ]
            ],
            "type": "surface"
           }
          ],
          "table": [
           {
            "cells": {
             "fill": {
              "color": "#EBF0F8"
             },
             "line": {
              "color": "white"
             }
            },
            "header": {
             "fill": {
              "color": "#C8D4E3"
             },
             "line": {
              "color": "white"
             }
            },
            "type": "table"
           }
          ]
         },
         "layout": {
          "annotationdefaults": {
           "arrowcolor": "#2a3f5f",
           "arrowhead": 0,
           "arrowwidth": 1
          },
          "autotypenumbers": "strict",
          "coloraxis": {
           "colorbar": {
            "outlinewidth": 0,
            "ticks": ""
           }
          },
          "colorscale": {
           "diverging": [
            [
             0,
             "#8e0152"
            ],
            [
             0.1,
             "#c51b7d"
            ],
            [
             0.2,
             "#de77ae"
            ],
            [
             0.3,
             "#f1b6da"
            ],
            [
             0.4,
             "#fde0ef"
            ],
            [
             0.5,
             "#f7f7f7"
            ],
            [
             0.6,
             "#e6f5d0"
            ],
            [
             0.7,
             "#b8e186"
            ],
            [
             0.8,
             "#7fbc41"
            ],
            [
             0.9,
             "#4d9221"
            ],
            [
             1,
             "#276419"
            ]
           ],
           "sequential": [
            [
             0,
             "#0d0887"
            ],
            [
             0.1111111111111111,
             "#46039f"
            ],
            [
             0.2222222222222222,
             "#7201a8"
            ],
            [
             0.3333333333333333,
             "#9c179e"
            ],
            [
             0.4444444444444444,
             "#bd3786"
            ],
            [
             0.5555555555555556,
             "#d8576b"
            ],
            [
             0.6666666666666666,
             "#ed7953"
            ],
            [
             0.7777777777777778,
             "#fb9f3a"
            ],
            [
             0.8888888888888888,
             "#fdca26"
            ],
            [
             1,
             "#f0f921"
            ]
           ],
           "sequentialminus": [
            [
             0,
             "#0d0887"
            ],
            [
             0.1111111111111111,
             "#46039f"
            ],
            [
             0.2222222222222222,
             "#7201a8"
            ],
            [
             0.3333333333333333,
             "#9c179e"
            ],
            [
             0.4444444444444444,
             "#bd3786"
            ],
            [
             0.5555555555555556,
             "#d8576b"
            ],
            [
             0.6666666666666666,
             "#ed7953"
            ],
            [
             0.7777777777777778,
             "#fb9f3a"
            ],
            [
             0.8888888888888888,
             "#fdca26"
            ],
            [
             1,
             "#f0f921"
            ]
           ]
          },
          "colorway": [
           "#636efa",
           "#EF553B",
           "#00cc96",
           "#ab63fa",
           "#FFA15A",
           "#19d3f3",
           "#FF6692",
           "#B6E880",
           "#FF97FF",
           "#FECB52"
          ],
          "font": {
           "color": "#2a3f5f"
          },
          "geo": {
           "bgcolor": "white",
           "lakecolor": "white",
           "landcolor": "#E5ECF6",
           "showlakes": true,
           "showland": true,
           "subunitcolor": "white"
          },
          "hoverlabel": {
           "align": "left"
          },
          "hovermode": "closest",
          "mapbox": {
           "style": "light"
          },
          "paper_bgcolor": "white",
          "plot_bgcolor": "#E5ECF6",
          "polar": {
           "angularaxis": {
            "gridcolor": "white",
            "linecolor": "white",
            "ticks": ""
           },
           "bgcolor": "#E5ECF6",
           "radialaxis": {
            "gridcolor": "white",
            "linecolor": "white",
            "ticks": ""
           }
          },
          "scene": {
           "xaxis": {
            "backgroundcolor": "#E5ECF6",
            "gridcolor": "white",
            "gridwidth": 2,
            "linecolor": "white",
            "showbackground": true,
            "ticks": "",
            "zerolinecolor": "white"
           },
           "yaxis": {
            "backgroundcolor": "#E5ECF6",
            "gridcolor": "white",
            "gridwidth": 2,
            "linecolor": "white",
            "showbackground": true,
            "ticks": "",
            "zerolinecolor": "white"
           },
           "zaxis": {
            "backgroundcolor": "#E5ECF6",
            "gridcolor": "white",
            "gridwidth": 2,
            "linecolor": "white",
            "showbackground": true,
            "ticks": "",
            "zerolinecolor": "white"
           }
          },
          "shapedefaults": {
           "line": {
            "color": "#2a3f5f"
           }
          },
          "ternary": {
           "aaxis": {
            "gridcolor": "white",
            "linecolor": "white",
            "ticks": ""
           },
           "baxis": {
            "gridcolor": "white",
            "linecolor": "white",
            "ticks": ""
           },
           "bgcolor": "#E5ECF6",
           "caxis": {
            "gridcolor": "white",
            "linecolor": "white",
            "ticks": ""
           }
          },
          "title": {
           "x": 0.05
          },
          "xaxis": {
           "automargin": true,
           "gridcolor": "white",
           "linecolor": "white",
           "ticks": "",
           "title": {
            "standoff": 15
           },
           "zerolinecolor": "white",
           "zerolinewidth": 2
          },
          "yaxis": {
           "automargin": true,
           "gridcolor": "white",
           "linecolor": "white",
           "ticks": "",
           "title": {
            "standoff": 15
           },
           "zerolinecolor": "white",
           "zerolinewidth": 2
          }
         }
        },
        "title": {
         "text": "Sankey Diagram (Ages 66.6 - 99.9)<br> Even Age Distribution <br> DwtPlotter.sankey_agents_even_age_ranges()"
        }
       }
      }
     },
     "metadata": {},
     "output_type": "display_data"
    }
   ],
   "source": [
    "\n",
    "# Sankey diagrams with even age ranges\n",
    "analyzer.sankey_agents_even_age_ranges(number_of_plots=3, scenario=\"Even Age Distribution\")"
   ]
  },
  {
   "cell_type": "markdown",
   "id": "6381fa47",
   "metadata": {},
   "source": [
    "## 2. Network Graphs\n",
    "Visualize state transition networks."
   ]
  },
  {
   "cell_type": "code",
   "execution_count": 12,
   "id": "6ff86554",
   "metadata": {},
   "outputs": [
    {
     "data": {
      "image/png": "[encoded data removed]",
      "text/plain": [
       "<Figure size 1500x1000 with 1 Axes>"
      ]
     },
     "metadata": {},
     "output_type": "display_data"
    }
   ],
   "source": [
    "analyzer.graph_state_transitions(subtitle=\"State Transition Network\", colormap='tab20')\n"
   ]
  },
  {
   "cell_type": "code",
   "execution_count": 15,
   "id": "9454e47e",
   "metadata": {},
   "outputs": [
    {
     "data": {
      "text/plain": [
       "<Figure size 1500x1000 with 0 Axes>"
      ]
     },
     "metadata": {},
     "output_type": "display_data"
    },
    {
     "data": {
      "image/png": "[encoded data removed]",
      "text/plain": [
       "<Figure size 640x480 with 1 Axes>"
      ]
     },
     "metadata": {},
     "output_type": "display_data"
    }
   ],
   "source": [
    "\n",
    "analyzer.graph_state_transitions_curved(subtitle=\"Curved State Transitions\", colormap='plasma')"
   ]
  },
  {
   "cell_type": "markdown",
   "id": "ce1b7215",
   "metadata": {},
   "source": [
    "## 3. Histograms and Distributions\n",
    "Explore dwell time distributions."
   ]
  },
  {
   "cell_type": "code",
   "execution_count": 17,
   "id": "558829fa",
   "metadata": {},
   "outputs": [
    {
     "name": "stdout",
     "output_type": "stream",
     "text": [
      "Help on method histogram_with_kde in module tbsim.analyzers:\n",
      "\n",
      "histogram_with_kde(subtitle='') method of tbsim.analyzers.DwtAnalyzer instance\n",
      "    Create histograms with kernel density estimation for dwell time distributions.\n",
      "\n",
      "    Generates a multi-panel visualization showing the distribution of dwell\n",
      "    times for each state, including both histograms and kernel density\n",
      "    estimation curves. This provides both discrete and continuous views\n",
      "    of the dwell time distributions.\n",
      "\n",
      "    Mathematical Model:\n",
      "        For each state i:\n",
      "        - Extract dwell times: T_i = {dwell_time for state i}\n",
      "        - Create histogram: H_i(bin) = count(T_i in bin)\n",
      "        - Calculate KDE: KDE_i(t) = Σ(K(t-t_j, h)) / (n*h)\n",
      "            where K is kernel function, h is bandwidth, n = |T_i|\n",
      "        - Plot: histogram + KDE curve\n",
      "\n",
      "    Args:\n",
      "        subtitle (str): Additional subtitle for the plot\n",
      "\n",
      "    Returns:\n",
      "        None: Displays matplotlib subplot figure\n",
      "\n",
      "    Example:\n",
      "    ```python\n",
      "    plotter = DwtPlotter(file_path='data.csv')\n",
      "\n",
      "    # Analyze dwell time distributions\n",
      "    plotter.histogram_with_kde(subtitle=\"Distribution Analysis\")\n",
      "    ```\n",
      "\n",
      "    Features:\n",
      "    - Multi-panel layout (4 columns)\n",
      "    - Histogram + KDE visualization\n",
      "    - State-specific analysis\n",
      "    - Automatic bin sizing\n",
      "    - Professional styling with legends\n",
      "\n"
     ]
    }
   ],
   "source": [
    "help(analyzer.histogram_with_kde)\n",
    "\n"
   ]
  },
  {
   "cell_type": "markdown",
   "id": "d716b2d1",
   "metadata": {},
   "source": [
    "## 4. Interactive Bar Charts\n",
    "Interactive bar charts for state transitions and reinfections."
   ]
  },
  {
   "cell_type": "code",
   "execution_count": 14,
   "id": "1f2a960e",
   "metadata": {},
   "outputs": [
    {
     "ename": "OverflowError",
     "evalue": "cannot convert float infinity to integer",
     "output_type": "error",
     "traceback": [
      "\u001b[31m---------------------------------------------------------------------------\u001b[39m",
      "\u001b[31mOverflowError\u001b[39m                             Traceback (most recent call last)",
      "\u001b[36mCell\u001b[39m\u001b[36m \u001b[39m\u001b[32mIn[14]\u001b[39m\u001b[32m, line 1\u001b[39m\n\u001b[32m----> \u001b[39m\u001b[32m1\u001b[39m \u001b[43manalyzer\u001b[49m\u001b[43m.\u001b[49m\u001b[43mbarchar_all_state_transitions_interactive\u001b[49m\u001b[43m(\u001b[49m\n\u001b[32m      2\u001b[39m \u001b[43m    \u001b[49m\u001b[43mdwell_time_bins\u001b[49m\u001b[43m=\u001b[49m\u001b[43m[\u001b[49m\u001b[32;43m0\u001b[39;49m\u001b[43m,\u001b[49m\u001b[43m \u001b[49m\u001b[32;43m30\u001b[39;49m\u001b[43m,\u001b[49m\u001b[43m \u001b[49m\u001b[32;43m90\u001b[39;49m\u001b[43m,\u001b[49m\u001b[43m \u001b[49m\u001b[32;43m180\u001b[39;49m\u001b[43m,\u001b[49m\u001b[43m \u001b[49m\u001b[32;43m365\u001b[39;49m\u001b[43m,\u001b[49m\u001b[43m \u001b[49m\u001b[38;5;28;43mfloat\u001b[39;49m\u001b[43m(\u001b[49m\u001b[33;43m'\u001b[39;49m\u001b[33;43minf\u001b[39;49m\u001b[33;43m'\u001b[39;49m\u001b[43m)\u001b[49m\u001b[43m]\u001b[49m\u001b[43m,\u001b[49m\n\u001b[32m      3\u001b[39m \u001b[43m    \u001b[49m\u001b[43mfilter_states\u001b[49m\u001b[43m=\u001b[49m\u001b[43m[\u001b[49m\u001b[33;43m'\u001b[39;49m\u001b[33;43m-1.0.None\u001b[39;49m\u001b[33;43m'\u001b[39;49m\u001b[43m,\u001b[49m\u001b[43m \u001b[49m\u001b[33;43m'\u001b[39;49m\u001b[33;43m0.0.Latent Slow\u001b[39;49m\u001b[33;43m'\u001b[39;49m\u001b[43m,\u001b[49m\u001b[43m \u001b[49m\u001b[33;43m'\u001b[39;49m\u001b[33;43m1.0.Latent Fast\u001b[39;49m\u001b[33;43m'\u001b[39;49m\u001b[43m,\u001b[49m\u001b[43m \u001b[49m\u001b[33;43m'\u001b[39;49m\u001b[33;43m2.0.Active Presymp\u001b[39;49m\u001b[33;43m'\u001b[39;49m\u001b[43m]\u001b[49m\n\u001b[32m      4\u001b[39m \u001b[43m)\u001b[49m\n",
      "\u001b[36mFile \u001b[39m\u001b[32m~/git/tbdocs/tbsim/analyzers.py:596\u001b[39m, in \u001b[36mDwtPlotter.barchar_all_state_transitions_interactive\u001b[39m\u001b[34m(self, dwell_time_bins, filter_states)\u001b[39m\n\u001b[32m    592\u001b[39m dwell_time_bins.append(np.inf)\n\u001b[32m    594\u001b[39m \u001b[38;5;66;03m# Create bin labels, handling infinity separately\u001b[39;00m\n\u001b[32m    595\u001b[39m dwell_time_labels = [\n\u001b[32m--> \u001b[39m\u001b[32m596\u001b[39m     \u001b[33mf\u001b[39m\u001b[33m\"\u001b[39m\u001b[38;5;132;01m{\u001b[39;00m\u001b[38;5;28mint\u001b[39m(b)\u001b[38;5;132;01m}\u001b[39;00m\u001b[33m-\u001b[39m\u001b[38;5;132;01m{\u001b[39;00m\u001b[38;5;28mint\u001b[39m(d)\u001b[38;5;132;01m}\u001b[39;00m\u001b[33m step_time_units\u001b[39m\u001b[33m\"\u001b[39m \u001b[38;5;28;01mif\u001b[39;00m d != np.inf \u001b[38;5;28;01melse\u001b[39;00m \u001b[33mf\u001b[39m\u001b[33m\"\u001b[39m\u001b[38;5;132;01m{\u001b[39;00m\u001b[38;5;28;43mint\u001b[39;49m\u001b[43m(\u001b[49m\u001b[43mb\u001b[49m\u001b[43m)\u001b[49m\u001b[38;5;132;01m}\u001b[39;00m\u001b[33m+ step_time_units\u001b[39m\u001b[33m\"\u001b[39m\n\u001b[32m    597\u001b[39m     \u001b[38;5;28;01mfor\u001b[39;00m b, d \u001b[38;5;129;01min\u001b[39;00m \u001b[38;5;28mzip\u001b[39m(dwell_time_bins[:-\u001b[32m1\u001b[39m], dwell_time_bins[\u001b[32m1\u001b[39m:])\n\u001b[32m    598\u001b[39m ]\n\u001b[32m    600\u001b[39m \u001b[38;5;66;03m# Create a dwell time category column\u001b[39;00m\n\u001b[32m    601\u001b[39m \u001b[38;5;28mself\u001b[39m.data[\u001b[33m'\u001b[39m\u001b[33mdwell_time_category\u001b[39m\u001b[33m'\u001b[39m] = pd.cut(\n\u001b[32m    602\u001b[39m     \u001b[38;5;28mself\u001b[39m.data[\u001b[33m'\u001b[39m\u001b[33mdwell_time\u001b[39m\u001b[33m'\u001b[39m],\n\u001b[32m    603\u001b[39m     bins=dwell_time_bins,\n\u001b[32m    604\u001b[39m     labels=dwell_time_labels,\n\u001b[32m    605\u001b[39m     include_lowest=\u001b[38;5;28;01mTrue\u001b[39;00m\n\u001b[32m    606\u001b[39m )\n",
      "\u001b[31mOverflowError\u001b[39m: cannot convert float infinity to integer"
     ]
    }
   ],
   "source": [
    "analyzer.barchar_all_state_transitions_interactive(\n",
    "    dwell_time_bins=[0, 30, 90, 180, 365, float('inf')],\n",
    "    filter_states=['-1.0.None', '0.0.Latent Slow', '1.0.Latent Fast', '2.0.Active Presymp']\n",
    ")\n",
    "\n"
   ]
  },
  {
   "cell_type": "code",
   "execution_count": null,
   "id": "113c6213",
   "metadata": {},
   "outputs": [],
   "source": [
    "\n",
    "analyzer.reinfections_age_bins_bars_interactive(\n",
    "    target_states=[0.0, 1.0],\n",
    "    barmode='group',\n",
    "    scenario=\"Age-stratified Reinfection Analysis\"\n",
    ")\n"
   ]
  },
  {
   "cell_type": "code",
   "execution_count": null,
   "id": "18a1ab85",
   "metadata": {},
   "outputs": [],
   "source": [
    "analyzer.reinfections_percents_bars_interactive(\n",
    "    target_states=[0.0, 1.0],\n",
    "    scenario=\"Population Reinfection Analysis\"\n",
    ")\n",
    "\n",
    "analyzer.reinfections_bystates_bars_interactive(\n",
    "    target_states=[0.0, 1.0],\n",
    "    scenario=\"State Transition Reinfection Analysis\",\n",
    "    barmode='group'\n",
    ")"
   ]
  },
  {
   "cell_type": "markdown",
   "id": "6e5b92a7",
   "metadata": {},
   "source": [
    "## 5. Stacked Bar Charts\n",
    "Stacked bar charts for cumulative time and dwell time analysis."
   ]
  },
  {
   "cell_type": "code",
   "execution_count": null,
   "id": "82c58ef8",
   "metadata": {},
   "outputs": [],
   "source": [
    "analyzer.stacked_bars_states_per_agent_static()\n",
    "analyzer.stackedbars_dwelltime_state_interactive(bin_size=5, num_bins=15)\n",
    "analyzer.stackedbars_subplots_state_transitions(bin_size=2, num_bins=25)"
   ]
  },
  {
   "cell_type": "markdown",
   "id": "14a1718b",
   "metadata": {},
   "source": [
    "## 6. Custom Transition Analysis\n",
    "Custom transition subplots."
   ]
  },
  {
   "cell_type": "code",
   "execution_count": null,
   "id": "22abcc72",
   "metadata": {},
   "outputs": [],
   "source": [
    "custom_transitions = {\n",
    "    '-1.0.None': ['0.0.Latent Slow', '1.0.Latent Fast'],\n",
    "    '0.0.Latent Slow': ['2.0.Active Presymp', '-1.0.None'],\n",
    "    '1.0.Latent Fast': ['2.0.Active Presymp', '-1.0.None']\n",
    "}\n",
    "analyzer.subplot_custom_transitions(transitions_dict=custom_transitions)"
   ]
  },
  {
   "cell_type": "markdown",
   "id": "5d89270c",
   "metadata": {},
   "source": [
    "## 7. Survival Analysis\n",
    "Kaplan-Meier survival curve for dwell times."
   ]
  },
  {
   "cell_type": "code",
   "execution_count": null,
   "id": "3c53750c",
   "metadata": {},
   "outputs": [],
   "source": [
    "analyzer.plot_kaplan_meier(dwell_time_col='dwell_time')"
   ]
  },
  {
   "cell_type": "markdown",
   "id": "e9e988ae",
   "metadata": {},
   "source": [
    "## 8. Using DwtPlotter Directly\n",
    "Demonstrate additional plots using the DwtPlotter class."
   ]
  },
  {
   "cell_type": "code",
   "execution_count": null,
   "id": "6b05aa24",
   "metadata": {},
   "outputs": [],
   "source": [
    "file_path = analyzer.file_path\n",
    "print(f'Generated data file: {file_path}')\n",
    "plotter = mtb.DwtPlotter(file_path=file_path)\n",
    "plotter.histogram_with_kde(subtitle=\"From Generated File\")\n",
    "plotter.sankey_agents(subtitle=\"From Generated File\")"
   ]
  },
  {
   "cell_type": "markdown",
   "id": "3e33910f",
   "metadata": {},
   "source": [
    "## 9. Post Processor Demonstration\n",
    "Example usage of the DwtPostProcessor for multiple simulation results. (This is informational; actual usage requires multiple result files.)"
   ]
  },
  {
   "cell_type": "code",
   "execution_count": null,
   "id": "1ce5320a",
   "metadata": {},
   "outputs": [],
   "source": [
    "# Example usage (commented out):\n",
    "# postproc = mtb.DwtPostProcessor(directory='results', prefix='Baseline')\n",
    "# postproc.sankey_agents(subtitle=\"Aggregated Results\")\n",
    "# postproc.histogram_with_kde(subtitle=\"Aggregated Distributions\")\n",
    "# postproc.reinfections_percents_bars_interactive(\n",
    "#     target_states=[0.0, 1.0],\n",
    "#     scenario=\"Aggregated Reinfection Analysis\"\n",
    "# )"
   ]
  }
 ],
 "metadata": {
  "kernelspec": {
   "display_name": "venv",
   "language": "python",
   "name": "python3"
  },
  "language_info": {
   "codemirror_mode": {
    "name": "ipython",
    "version": 3
   },
   "file_extension": ".py",
   "mimetype": "text/x-python",
   "name": "python",
   "nbconvert_exporter": "python",
   "pygments_lexer": "ipython3",
   "version": "3.12.8"
  }
 },
 "nbformat": 4,
 "nbformat_minor": 5
}
