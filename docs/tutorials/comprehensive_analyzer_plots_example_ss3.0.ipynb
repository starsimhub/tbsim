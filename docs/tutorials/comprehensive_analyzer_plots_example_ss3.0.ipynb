{
 "cells": [
  {
   "cell_type": "markdown",
   "id": "396fe94b",
   "metadata": {},
   "source": [
    "# Comprehensive Analyzer Plots Example\n",
    "This notebook demonstrates all available plotting methods in the `DwtAnalyzer` class from the `tbsim` package. It is adapted from the original Python script for interactive exploration."
   ]
  },
  {
   "cell_type": "code",
   "execution_count": 19,
   "id": "f0c53a6d",
   "metadata": {},
   "outputs": [],
   "source": [
    "import tbsim as mtb\n",
    "import starsim as ss\n",
    "import matplotlib.pyplot as plt\n",
    "import numpy as np\n",
    "import scipy.stats as stats\n",
    "TBS = mtb.TBS"
   ]
  },
  {
   "cell_type": "markdown",
   "id": "27b0fece",
   "metadata": {},
   "source": [
    "## Build a TB simulation with dwell time analyzer"
   ]
  },
  {
   "cell_type": "code",
   "execution_count": 20,
   "id": "23039f35",
   "metadata": {},
   "outputs": [],
   "source": [
    "def build_tbsim():\n",
    "    sim_params = dict(\n",
    "        start = ss.date('2013'),\n",
    "        stop = ss.date('2016'),\n",
    "        rand_seed=1,\n",
    "        dt=ss.days(7),\n",
    "    )\n",
    "    pop = ss.People(n_agents=1000)\n",
    "    tb_params = dict(\n",
    "        beta=ss.rate_prob(0.0025),\n",
    "        init_prev=ss.bernoulli(p=0.25),\n",
    "        rel_sus_latentslow=0.1,\n",
    "        dt=ss.days(7),\n",
    "    )\n",
    "    tb = mtb.TB(tb_params)\n",
    "    net = ss.RandomNet(dict(n_contacts=ss.poisson(lam=5), dur=0))\n",
    "    dwell_analyzer = mtb.DwtAnalyzer(adjust_to_unit=True, unit=1.0, scenario_name='comprehensive_plots_example')\n",
    "    sim = ss.Sim(\n",
    "        people=pop,\n",
    "        networks=net,\n",
    "        diseases=tb,\n",
    "        pars=sim_params,\n",
    "        analyzers=dwell_analyzer,\n",
    "    )\n",
    "    sim.pars.verbose = 0\n",
    "    return sim"
   ]
  },
  {
   "cell_type": "markdown",
   "id": "c5eeca6f",
   "metadata": {},
   "source": [
    "## Run the simulation and extract the analyzer"
   ]
  },
  {
   "cell_type": "code",
   "execution_count": 21,
   "id": "4d3f96e3",
   "metadata": {},
   "outputs": [
    {
     "name": "stdout",
     "output_type": "stream",
     "text": [
      "Building and running TB simulation...\n",
      "No dwell time data available to plot.\n",
      "No data provided, or data is corrupted\n"
     ]
    },
    {
     "name": "stderr",
     "output_type": "stream",
     "text": [
      "/Users/mine/newgit/newtbsim/venv/lib/python3.12/site-packages/starsim/time.py:2092: RuntimeWarning:\n",
      "\n",
      "\n",
      "The Starsim v2 class ss.rate_prob() is deprecated. Please use an ss.Rate() subclass, e.g. ss.year(0.0025) instead. The subclasses of ss.Rate() are: \n",
      "• ss.per() (rate at which an event happens, e.g. mortality rate), \n",
      "• ss.prob() (unitless probability, e.g. symptomatic infection), and \n",
      "• ss.freq() (number of events per time, e.g. acts per year). \n",
      "Although ss.freq() is the closest equivalent to ss.rate() in Starsim 2.0, in most cases (e.g. birth, death, or infection rates) you actually want ss.per().\n",
      "\n",
      "/Users/mine/newgit/newtbsim/venv/lib/python3.12/site-packages/starsim/time.py:1441: RuntimeWarning:\n",
      "\n",
      "\n",
      "Creating <class 'starsim.time.per'> with no unit specified is valid, but defaults to year. Set ss.options.warn_convert = False to disable this warning.\n",
      "\n"
     ]
    },
    {
     "name": "stdout",
     "output_type": "stream",
     "text": [
      "===> Dwell time logs saved to:\n",
      " /Users/mine/newgit/newtbsim/docs/tutorials/results/comprehensiveplotsexample-0908140330.csv\n",
      "\n"
     ]
    }
   ],
   "source": [
    "print(\"Building and running TB simulation...\")\n",
    "sim_tb = build_tbsim()\n",
    "sim_tb.run()\n",
    "analyzer = sim_tb.analyzers[0]"
   ]
  },
  {
   "cell_type": "markdown",
   "id": "6844b798",
   "metadata": {},
   "source": [
    "## 1. Sankey Diagrams\n",
    "Demonstrate Sankey diagrams for state transitions."
   ]
  },
  {
   "cell_type": "code",
   "execution_count": 22,
   "id": "5e9069b4",
   "metadata": {},
   "outputs": [
    {
     "data": {
      "application/vnd.plotly.v1+json": {
       "config": {
        "plotlyServerURL": "https://plot.ly"
       },
       "data": [
        {
         "arrangement": "snap",
         "link": {
          "color": [
           "rgba(148.0, 103.0, 189.0, 0.5)",
           "rgba(148.0, 103.0, 189.0, 0.5)",
           "rgba(148.0, 103.0, 189.0, 0.5)",
           "rgba(127.0, 127.0, 127.0, 0.5)",
           "rgba(127.0, 127.0, 127.0, 0.5)",
           "rgba(158.0, 218.0, 229.0, 0.5)",
           "rgba(158.0, 218.0, 229.0, 0.5)",
           "rgba(158.0, 218.0, 229.0, 0.5)"
          ],
          "hovertemplate": "%{source.label} → %{target.label}: %{value} agents<br>",
          "label": {
           "bdata": "4QLiACUAFgABAAIACgADAA==",
           "dtype": "i2"
          },
          "line": {
           "color": "lightgray",
           "width": 0.1
          },
          "source": {
           "bdata": "AwMDBQUHBwc=",
           "dtype": "i1"
          },
          "target": {
           "bdata": "AAIFBwYBBgQ=",
           "dtype": "i1"
          },
          "value": {
           "bdata": "4QLiACUAFgABAAIACgADAA==",
           "dtype": "i2"
          }
         },
         "node": {
          "color": [
           "rgba(31.0, 119.0, 180.0, 1.0)",
           "rgba(255.0, 127.0, 14.0, 1.0)",
           "rgba(152.0, 223.0, 138.0, 1.0)",
           "rgba(148.0, 103.0, 189.0, 1.0)",
           "rgba(196.0, 156.0, 148.0, 1.0)",
           "rgba(127.0, 127.0, 127.0, 1.0)",
           "rgba(219.0, 219.0, 141.0, 1.0)",
           "rgba(158.0, 218.0, 229.0, 1.0)"
          ],
          "label": [
           "-2.0.NEVER INFECTED",
           "3.0.Active Smpos",
           "0.0.Latent Slow",
           "-1.0.None",
           "5.0.Active Exptb",
           "1.0.Latent Fast",
           "4.0.Active Smneg",
           "2.0.Active Presymp"
          ],
          "line": {
           "color": "black",
           "width": 0.2
          },
          "pad": 15,
          "thickness": 20
         },
         "type": "sankey"
        }
       ],
       "layout": {
        "font": {
         "color": "black",
         "size": 12
        },
        "hovermode": "x",
        "template": {
         "data": {
          "bar": [
           {
            "error_x": {
             "color": "#2a3f5f"
            },
            "error_y": {
             "color": "#2a3f5f"
            },
            "marker": {
             "line": {
              "color": "#E5ECF6",
              "width": 0.5
             },
             "pattern": {
              "fillmode": "overlay",
              "size": 10,
              "solidity": 0.2
             }
            },
            "type": "bar"
           }
          ],
          "barpolar": [
           {
            "marker": {
             "line": {
              "color": "#E5ECF6",
              "width": 0.5
             },
             "pattern": {
              "fillmode": "overlay",
              "size": 10,
              "solidity": 0.2
             }
            },
            "type": "barpolar"
           }
          ],
          "carpet": [
           {
            "aaxis": {
             "endlinecolor": "#2a3f5f",
             "gridcolor": "white",
             "linecolor": "white",
             "minorgridcolor": "white",
             "startlinecolor": "#2a3f5f"
            },
            "baxis": {
             "endlinecolor": "#2a3f5f",
             "gridcolor": "white",
             "linecolor": "white",
             "minorgridcolor": "white",
             "startlinecolor": "#2a3f5f"
            },
            "type": "carpet"
           }
          ],
          "choropleth": [
           {
            "colorbar": {
             "outlinewidth": 0,
             "ticks": ""
            },
            "type": "choropleth"
           }
          ],
          "contour": [
           {
            "colorbar": {
             "outlinewidth": 0,
             "ticks": ""
            },
            "colorscale": [
             [
              0,
              "#0d0887"
             ],
             [
              0.1111111111111111,
              "#46039f"
             ],
             [
              0.2222222222222222,
              "#7201a8"
             ],
             [
              0.3333333333333333,
              "#9c179e"
             ],
             [
              0.4444444444444444,
              "#bd3786"
             ],
             [
              0.5555555555555556,
              "#d8576b"
             ],
             [
              0.6666666666666666,
              "#ed7953"
             ],
             [
              0.7777777777777778,
              "#fb9f3a"
             ],
             [
              0.8888888888888888,
              "#fdca26"
             ],
             [
              1,
              "#f0f921"
             ]
            ],
            "type": "contour"
           }
          ],
          "contourcarpet": [
           {
            "colorbar": {
             "outlinewidth": 0,
             "ticks": ""
            },
            "type": "contourcarpet"
           }
          ],
          "heatmap": [
           {
            "colorbar": {
             "outlinewidth": 0,
             "ticks": ""
            },
            "colorscale": [
             [
              0,
              "#0d0887"
             ],
             [
              0.1111111111111111,
              "#46039f"
             ],
             [
              0.2222222222222222,
              "#7201a8"
             ],
             [
              0.3333333333333333,
              "#9c179e"
             ],
             [
              0.4444444444444444,
              "#bd3786"
             ],
             [
              0.5555555555555556,
              "#d8576b"
             ],
             [
              0.6666666666666666,
              "#ed7953"
             ],
             [
              0.7777777777777778,
              "#fb9f3a"
             ],
             [
              0.8888888888888888,
              "#fdca26"
             ],
             [
              1,
              "#f0f921"
             ]
            ],
            "type": "heatmap"
           }
          ],
          "histogram": [
           {
            "marker": {
             "pattern": {
              "fillmode": "overlay",
              "size": 10,
              "solidity": 0.2
             }
            },
            "type": "histogram"
           }
          ],
          "histogram2d": [
           {
            "colorbar": {
             "outlinewidth": 0,
             "ticks": ""
            },
            "colorscale": [
             [
              0,
              "#0d0887"
             ],
             [
              0.1111111111111111,
              "#46039f"
             ],
             [
              0.2222222222222222,
              "#7201a8"
             ],
             [
              0.3333333333333333,
              "#9c179e"
             ],
             [
              0.4444444444444444,
              "#bd3786"
             ],
             [
              0.5555555555555556,
              "#d8576b"
             ],
             [
              0.6666666666666666,
              "#ed7953"
             ],
             [
              0.7777777777777778,
              "#fb9f3a"
             ],
             [
              0.8888888888888888,
              "#fdca26"
             ],
             [
              1,
              "#f0f921"
             ]
            ],
            "type": "histogram2d"
           }
          ],
          "histogram2dcontour": [
           {
            "colorbar": {
             "outlinewidth": 0,
             "ticks": ""
            },
            "colorscale": [
             [
              0,
              "#0d0887"
             ],
             [
              0.1111111111111111,
              "#46039f"
             ],
             [
              0.2222222222222222,
              "#7201a8"
             ],
             [
              0.3333333333333333,
              "#9c179e"
             ],
             [
              0.4444444444444444,
              "#bd3786"
             ],
             [
              0.5555555555555556,
              "#d8576b"
             ],
             [
              0.6666666666666666,
              "#ed7953"
             ],
             [
              0.7777777777777778,
              "#fb9f3a"
             ],
             [
              0.8888888888888888,
              "#fdca26"
             ],
             [
              1,
              "#f0f921"
             ]
            ],
            "type": "histogram2dcontour"
           }
          ],
          "mesh3d": [
           {
            "colorbar": {
             "outlinewidth": 0,
             "ticks": ""
            },
            "type": "mesh3d"
           }
          ],
          "parcoords": [
           {
            "line": {
             "colorbar": {
              "outlinewidth": 0,
              "ticks": ""
             }
            },
            "type": "parcoords"
           }
          ],
          "pie": [
           {
            "automargin": true,
            "type": "pie"
           }
          ],
          "scatter": [
           {
            "fillpattern": {
             "fillmode": "overlay",
             "size": 10,
             "solidity": 0.2
            },
            "type": "scatter"
           }
          ],
          "scatter3d": [
           {
            "line": {
             "colorbar": {
              "outlinewidth": 0,
              "ticks": ""
             }
            },
            "marker": {
             "colorbar": {
              "outlinewidth": 0,
              "ticks": ""
             }
            },
            "type": "scatter3d"
           }
          ],
          "scattercarpet": [
           {
            "marker": {
             "colorbar": {
              "outlinewidth": 0,
              "ticks": ""
             }
            },
            "type": "scattercarpet"
           }
          ],
          "scattergeo": [
           {
            "marker": {
             "colorbar": {
              "outlinewidth": 0,
              "ticks": ""
             }
            },
            "type": "scattergeo"
           }
          ],
          "scattergl": [
           {
            "marker": {
             "colorbar": {
              "outlinewidth": 0,
              "ticks": ""
             }
            },
            "type": "scattergl"
           }
          ],
          "scattermap": [
           {
            "marker": {
             "colorbar": {
              "outlinewidth": 0,
              "ticks": ""
             }
            },
            "type": "scattermap"
           }
          ],
          "scattermapbox": [
           {
            "marker": {
             "colorbar": {
              "outlinewidth": 0,
              "ticks": ""
             }
            },
            "type": "scattermapbox"
           }
          ],
          "scatterpolar": [
           {
            "marker": {
             "colorbar": {
              "outlinewidth": 0,
              "ticks": ""
             }
            },
            "type": "scatterpolar"
           }
          ],
          "scatterpolargl": [
           {
            "marker": {
             "colorbar": {
              "outlinewidth": 0,
              "ticks": ""
             }
            },
            "type": "scatterpolargl"
           }
          ],
          "scatterternary": [
           {
            "marker": {
             "colorbar": {
              "outlinewidth": 0,
              "ticks": ""
             }
            },
            "type": "scatterternary"
           }
          ],
          "surface": [
           {
            "colorbar": {
             "outlinewidth": 0,
             "ticks": ""
            },
            "colorscale": [
             [
              0,
              "#0d0887"
             ],
             [
              0.1111111111111111,
              "#46039f"
             ],
             [
              0.2222222222222222,
              "#7201a8"
             ],
             [
              0.3333333333333333,
              "#9c179e"
             ],
             [
              0.4444444444444444,
              "#bd3786"
             ],
             [
              0.5555555555555556,
              "#d8576b"
             ],
             [
              0.6666666666666666,
              "#ed7953"
             ],
             [
              0.7777777777777778,
              "#fb9f3a"
             ],
             [
              0.8888888888888888,
              "#fdca26"
             ],
             [
              1,
              "#f0f921"
             ]
            ],
            "type": "surface"
           }
          ],
          "table": [
           {
            "cells": {
             "fill": {
              "color": "#EBF0F8"
             },
             "line": {
              "color": "white"
             }
            },
            "header": {
             "fill": {
              "color": "#C8D4E3"
             },
             "line": {
              "color": "white"
             }
            },
            "type": "table"
           }
          ]
         },
         "layout": {
          "annotationdefaults": {
           "arrowcolor": "#2a3f5f",
           "arrowhead": 0,
           "arrowwidth": 1
          },
          "autotypenumbers": "strict",
          "coloraxis": {
           "colorbar": {
            "outlinewidth": 0,
            "ticks": ""
           }
          },
          "colorscale": {
           "diverging": [
            [
             0,
             "#8e0152"
            ],
            [
             0.1,
             "#c51b7d"
            ],
            [
             0.2,
             "#de77ae"
            ],
            [
             0.3,
             "#f1b6da"
            ],
            [
             0.4,
             "#fde0ef"
            ],
            [
             0.5,
             "#f7f7f7"
            ],
            [
             0.6,
             "#e6f5d0"
            ],
            [
             0.7,
             "#b8e186"
            ],
            [
             0.8,
             "#7fbc41"
            ],
            [
             0.9,
             "#4d9221"
            ],
            [
             1,
             "#276419"
            ]
           ],
           "sequential": [
            [
             0,
             "#0d0887"
            ],
            [
             0.1111111111111111,
             "#46039f"
            ],
            [
             0.2222222222222222,
             "#7201a8"
            ],
            [
             0.3333333333333333,
             "#9c179e"
            ],
            [
             0.4444444444444444,
             "#bd3786"
            ],
            [
             0.5555555555555556,
             "#d8576b"
            ],
            [
             0.6666666666666666,
             "#ed7953"
            ],
            [
             0.7777777777777778,
             "#fb9f3a"
            ],
            [
             0.8888888888888888,
             "#fdca26"
            ],
            [
             1,
             "#f0f921"
            ]
           ],
           "sequentialminus": [
            [
             0,
             "#0d0887"
            ],
            [
             0.1111111111111111,
             "#46039f"
            ],
            [
             0.2222222222222222,
             "#7201a8"
            ],
            [
             0.3333333333333333,
             "#9c179e"
            ],
            [
             0.4444444444444444,
             "#bd3786"
            ],
            [
             0.5555555555555556,
             "#d8576b"
            ],
            [
             0.6666666666666666,
             "#ed7953"
            ],
            [
             0.7777777777777778,
             "#fb9f3a"
            ],
            [
             0.8888888888888888,
             "#fdca26"
            ],
            [
             1,
             "#f0f921"
            ]
           ]
          },
          "colorway": [
           "#636efa",
           "#EF553B",
           "#00cc96",
           "#ab63fa",
           "#FFA15A",
           "#19d3f3",
           "#FF6692",
           "#B6E880",
           "#FF97FF",
           "#FECB52"
          ],
          "font": {
           "color": "#2a3f5f"
          },
          "geo": {
           "bgcolor": "white",
           "lakecolor": "white",
           "landcolor": "#E5ECF6",
           "showlakes": true,
           "showland": true,
           "subunitcolor": "white"
          },
          "hoverlabel": {
           "align": "left"
          },
          "hovermode": "closest",
          "mapbox": {
           "style": "light"
          },
          "paper_bgcolor": "white",
          "plot_bgcolor": "#E5ECF6",
          "polar": {
           "angularaxis": {
            "gridcolor": "white",
            "linecolor": "white",
            "ticks": ""
           },
           "bgcolor": "#E5ECF6",
           "radialaxis": {
            "gridcolor": "white",
            "linecolor": "white",
            "ticks": ""
           }
          },
          "scene": {
           "xaxis": {
            "backgroundcolor": "#E5ECF6",
            "gridcolor": "white",
            "gridwidth": 2,
            "linecolor": "white",
            "showbackground": true,
            "ticks": "",
            "zerolinecolor": "white"
           },
           "yaxis": {
            "backgroundcolor": "#E5ECF6",
            "gridcolor": "white",
            "gridwidth": 2,
            "linecolor": "white",
            "showbackground": true,
            "ticks": "",
            "zerolinecolor": "white"
           },
           "zaxis": {
            "backgroundcolor": "#E5ECF6",
            "gridcolor": "white",
            "gridwidth": 2,
            "linecolor": "white",
            "showbackground": true,
            "ticks": "",
            "zerolinecolor": "white"
           }
          },
          "shapedefaults": {
           "line": {
            "color": "#2a3f5f"
           }
          },
          "ternary": {
           "aaxis": {
            "gridcolor": "white",
            "linecolor": "white",
            "ticks": ""
           },
           "baxis": {
            "gridcolor": "white",
            "linecolor": "white",
            "ticks": ""
           },
           "bgcolor": "#E5ECF6",
           "caxis": {
            "gridcolor": "white",
            "linecolor": "white",
            "ticks": ""
           }
          },
          "title": {
           "x": 0.05
          },
          "xaxis": {
           "automargin": true,
           "gridcolor": "white",
           "linecolor": "white",
           "ticks": "",
           "title": {
            "standoff": 15
           },
           "zerolinecolor": "white",
           "zerolinewidth": 2
          },
          "yaxis": {
           "automargin": true,
           "gridcolor": "white",
           "linecolor": "white",
           "ticks": "",
           "title": {
            "standoff": 15
           },
           "zerolinecolor": "white",
           "zerolinewidth": 2
          }
         }
        },
        "title": {
         "font": {
          "size": 12
         },
         "text": "State Transitions  - Agents Count<br> (DwtPlotter.sankey_agents())"
        }
       }
      }
     },
     "metadata": {},
     "output_type": "display_data"
    }
   ],
   "source": [
    "# Basic Sankey diagram for all agents\n",
    "analyzer.sankey_agents()\n"
   ]
  },
  {
   "cell_type": "code",
   "execution_count": 23,
   "id": "54c18025",
   "metadata": {},
   "outputs": [
    {
     "data": {
      "application/vnd.plotly.v1+json": {
       "config": {
        "plotlyServerURL": "https://plot.ly"
       },
       "data": [
        {
         "arrangement": "snap",
         "link": {
          "color": [
           "rgba(148.0, 103.0, 189.0, 0.5)",
           "rgba(148.0, 103.0, 189.0, 0.5)",
           "rgba(148.0, 103.0, 189.0, 0.5)",
           "rgba(148.0, 103.0, 189.0, 0.5)",
           "rgba(148.0, 103.0, 189.0, 0.5)",
           "rgba(148.0, 103.0, 189.0, 0.5)",
           "rgba(148.0, 103.0, 189.0, 0.5)",
           "rgba(148.0, 103.0, 189.0, 0.5)",
           "rgba(148.0, 103.0, 189.0, 0.5)",
           "rgba(148.0, 103.0, 189.0, 0.5)",
           "rgba(148.0, 103.0, 189.0, 0.5)",
           "rgba(148.0, 103.0, 189.0, 0.5)",
           "rgba(148.0, 103.0, 189.0, 0.5)",
           "rgba(148.0, 103.0, 189.0, 0.5)",
           "rgba(148.0, 103.0, 189.0, 0.5)",
           "rgba(148.0, 103.0, 189.0, 0.5)",
           "rgba(148.0, 103.0, 189.0, 0.5)",
           "rgba(148.0, 103.0, 189.0, 0.5)",
           "rgba(148.0, 103.0, 189.0, 0.5)",
           "rgba(148.0, 103.0, 189.0, 0.5)",
           "rgba(148.0, 103.0, 189.0, 0.5)",
           "rgba(148.0, 103.0, 189.0, 0.5)",
           "rgba(148.0, 103.0, 189.0, 0.5)",
           "rgba(148.0, 103.0, 189.0, 0.5)",
           "rgba(148.0, 103.0, 189.0, 0.5)",
           "rgba(148.0, 103.0, 189.0, 0.5)",
           "rgba(148.0, 103.0, 189.0, 0.5)",
           "rgba(148.0, 103.0, 189.0, 0.5)",
           "rgba(148.0, 103.0, 189.0, 0.5)",
           "rgba(148.0, 103.0, 189.0, 0.5)",
           "rgba(148.0, 103.0, 189.0, 0.5)",
           "rgba(148.0, 103.0, 189.0, 0.5)",
           "rgba(148.0, 103.0, 189.0, 0.5)",
           "rgba(148.0, 103.0, 189.0, 0.5)",
           "rgba(148.0, 103.0, 189.0, 0.5)",
           "rgba(148.0, 103.0, 189.0, 0.5)",
           "rgba(148.0, 103.0, 189.0, 0.5)",
           "rgba(148.0, 103.0, 189.0, 0.5)",
           "rgba(148.0, 103.0, 189.0, 0.5)",
           "rgba(148.0, 103.0, 189.0, 0.5)",
           "rgba(148.0, 103.0, 189.0, 0.5)",
           "rgba(148.0, 103.0, 189.0, 0.5)",
           "rgba(148.0, 103.0, 189.0, 0.5)",
           "rgba(148.0, 103.0, 189.0, 0.5)",
           "rgba(148.0, 103.0, 189.0, 0.5)",
           "rgba(148.0, 103.0, 189.0, 0.5)",
           "rgba(148.0, 103.0, 189.0, 0.5)",
           "rgba(148.0, 103.0, 189.0, 0.5)",
           "rgba(148.0, 103.0, 189.0, 0.5)",
           "rgba(148.0, 103.0, 189.0, 0.5)",
           "rgba(148.0, 103.0, 189.0, 0.5)",
           "rgba(148.0, 103.0, 189.0, 0.5)",
           "rgba(148.0, 103.0, 189.0, 0.5)",
           "rgba(148.0, 103.0, 189.0, 0.5)",
           "rgba(148.0, 103.0, 189.0, 0.5)",
           "rgba(148.0, 103.0, 189.0, 0.5)",
           "rgba(148.0, 103.0, 189.0, 0.5)",
           "rgba(148.0, 103.0, 189.0, 0.5)",
           "rgba(148.0, 103.0, 189.0, 0.5)",
           "rgba(148.0, 103.0, 189.0, 0.5)",
           "rgba(148.0, 103.0, 189.0, 0.5)",
           "rgba(148.0, 103.0, 189.0, 0.5)",
           "rgba(148.0, 103.0, 189.0, 0.5)",
           "rgba(148.0, 103.0, 189.0, 0.5)",
           "rgba(148.0, 103.0, 189.0, 0.5)",
           "rgba(148.0, 103.0, 189.0, 0.5)",
           "rgba(148.0, 103.0, 189.0, 0.5)",
           "rgba(148.0, 103.0, 189.0, 0.5)",
           "rgba(148.0, 103.0, 189.0, 0.5)",
           "rgba(148.0, 103.0, 189.0, 0.5)",
           "rgba(148.0, 103.0, 189.0, 0.5)",
           "rgba(148.0, 103.0, 189.0, 0.5)",
           "rgba(148.0, 103.0, 189.0, 0.5)",
           "rgba(148.0, 103.0, 189.0, 0.5)",
           "rgba(148.0, 103.0, 189.0, 0.5)",
           "rgba(148.0, 103.0, 189.0, 0.5)",
           "rgba(148.0, 103.0, 189.0, 0.5)",
           "rgba(148.0, 103.0, 189.0, 0.5)",
           "rgba(148.0, 103.0, 189.0, 0.5)",
           "rgba(148.0, 103.0, 189.0, 0.5)",
           "rgba(148.0, 103.0, 189.0, 0.5)",
           "rgba(148.0, 103.0, 189.0, 0.5)",
           "rgba(148.0, 103.0, 189.0, 0.5)",
           "rgba(148.0, 103.0, 189.0, 0.5)",
           "rgba(148.0, 103.0, 189.0, 0.5)",
           "rgba(148.0, 103.0, 189.0, 0.5)",
           "rgba(148.0, 103.0, 189.0, 0.5)",
           "rgba(148.0, 103.0, 189.0, 0.5)",
           "rgba(148.0, 103.0, 189.0, 0.5)",
           "rgba(148.0, 103.0, 189.0, 0.5)",
           "rgba(148.0, 103.0, 189.0, 0.5)",
           "rgba(148.0, 103.0, 189.0, 0.5)",
           "rgba(148.0, 103.0, 189.0, 0.5)",
           "rgba(148.0, 103.0, 189.0, 0.5)",
           "rgba(148.0, 103.0, 189.0, 0.5)",
           "rgba(148.0, 103.0, 189.0, 0.5)",
           "rgba(148.0, 103.0, 189.0, 0.5)",
           "rgba(148.0, 103.0, 189.0, 0.5)",
           "rgba(148.0, 103.0, 189.0, 0.5)",
           "rgba(148.0, 103.0, 189.0, 0.5)",
           "rgba(148.0, 103.0, 189.0, 0.5)",
           "rgba(148.0, 103.0, 189.0, 0.5)",
           "rgba(148.0, 103.0, 189.0, 0.5)",
           "rgba(148.0, 103.0, 189.0, 0.5)",
           "rgba(148.0, 103.0, 189.0, 0.5)",
           "rgba(148.0, 103.0, 189.0, 0.5)",
           "rgba(148.0, 103.0, 189.0, 0.5)",
           "rgba(148.0, 103.0, 189.0, 0.5)",
           "rgba(148.0, 103.0, 189.0, 0.5)",
           "rgba(148.0, 103.0, 189.0, 0.5)",
           "rgba(148.0, 103.0, 189.0, 0.5)",
           "rgba(148.0, 103.0, 189.0, 0.5)",
           "rgba(148.0, 103.0, 189.0, 0.5)",
           "rgba(148.0, 103.0, 189.0, 0.5)",
           "rgba(148.0, 103.0, 189.0, 0.5)",
           "rgba(148.0, 103.0, 189.0, 0.5)",
           "rgba(148.0, 103.0, 189.0, 0.5)",
           "rgba(148.0, 103.0, 189.0, 0.5)",
           "rgba(148.0, 103.0, 189.0, 0.5)",
           "rgba(148.0, 103.0, 189.0, 0.5)",
           "rgba(148.0, 103.0, 189.0, 0.5)",
           "rgba(148.0, 103.0, 189.0, 0.5)",
           "rgba(148.0, 103.0, 189.0, 0.5)",
           "rgba(148.0, 103.0, 189.0, 0.5)",
           "rgba(148.0, 103.0, 189.0, 0.5)",
           "rgba(148.0, 103.0, 189.0, 0.5)",
           "rgba(148.0, 103.0, 189.0, 0.5)",
           "rgba(148.0, 103.0, 189.0, 0.5)",
           "rgba(148.0, 103.0, 189.0, 0.5)",
           "rgba(148.0, 103.0, 189.0, 0.5)",
           "rgba(148.0, 103.0, 189.0, 0.5)",
           "rgba(148.0, 103.0, 189.0, 0.5)",
           "rgba(148.0, 103.0, 189.0, 0.5)",
           "rgba(148.0, 103.0, 189.0, 0.5)",
           "rgba(148.0, 103.0, 189.0, 0.5)",
           "rgba(148.0, 103.0, 189.0, 0.5)",
           "rgba(148.0, 103.0, 189.0, 0.5)",
           "rgba(148.0, 103.0, 189.0, 0.5)",
           "rgba(148.0, 103.0, 189.0, 0.5)",
           "rgba(148.0, 103.0, 189.0, 0.5)",
           "rgba(148.0, 103.0, 189.0, 0.5)",
           "rgba(148.0, 103.0, 189.0, 0.5)",
           "rgba(148.0, 103.0, 189.0, 0.5)",
           "rgba(148.0, 103.0, 189.0, 0.5)",
           "rgba(148.0, 103.0, 189.0, 0.5)",
           "rgba(148.0, 103.0, 189.0, 0.5)",
           "rgba(148.0, 103.0, 189.0, 0.5)",
           "rgba(148.0, 103.0, 189.0, 0.5)",
           "rgba(148.0, 103.0, 189.0, 0.5)",
           "rgba(148.0, 103.0, 189.0, 0.5)",
           "rgba(148.0, 103.0, 189.0, 0.5)",
           "rgba(148.0, 103.0, 189.0, 0.5)",
           "rgba(148.0, 103.0, 189.0, 0.5)",
           "rgba(148.0, 103.0, 189.0, 0.5)",
           "rgba(148.0, 103.0, 189.0, 0.5)",
           "rgba(148.0, 103.0, 189.0, 0.5)",
           "rgba(148.0, 103.0, 189.0, 0.5)",
           "rgba(148.0, 103.0, 189.0, 0.5)",
           "rgba(148.0, 103.0, 189.0, 0.5)",
           "rgba(148.0, 103.0, 189.0, 0.5)",
           "rgba(148.0, 103.0, 189.0, 0.5)",
           "rgba(148.0, 103.0, 189.0, 0.5)",
           "rgba(148.0, 103.0, 189.0, 0.5)",
           "rgba(148.0, 103.0, 189.0, 0.5)",
           "rgba(148.0, 103.0, 189.0, 0.5)",
           "rgba(148.0, 103.0, 189.0, 0.5)",
           "rgba(148.0, 103.0, 189.0, 0.5)",
           "rgba(148.0, 103.0, 189.0, 0.5)",
           "rgba(148.0, 103.0, 189.0, 0.5)",
           "rgba(148.0, 103.0, 189.0, 0.5)",
           "rgba(148.0, 103.0, 189.0, 0.5)",
           "rgba(148.0, 103.0, 189.0, 0.5)",
           "rgba(148.0, 103.0, 189.0, 0.5)",
           "rgba(148.0, 103.0, 189.0, 0.5)",
           "rgba(148.0, 103.0, 189.0, 0.5)",
           "rgba(148.0, 103.0, 189.0, 0.5)",
           "rgba(148.0, 103.0, 189.0, 0.5)",
           "rgba(148.0, 103.0, 189.0, 0.5)",
           "rgba(148.0, 103.0, 189.0, 0.5)",
           "rgba(148.0, 103.0, 189.0, 0.5)",
           "rgba(148.0, 103.0, 189.0, 0.5)",
           "rgba(148.0, 103.0, 189.0, 0.5)",
           "rgba(148.0, 103.0, 189.0, 0.5)",
           "rgba(148.0, 103.0, 189.0, 0.5)",
           "rgba(148.0, 103.0, 189.0, 0.5)",
           "rgba(148.0, 103.0, 189.0, 0.5)",
           "rgba(148.0, 103.0, 189.0, 0.5)",
           "rgba(148.0, 103.0, 189.0, 0.5)",
           "rgba(148.0, 103.0, 189.0, 0.5)",
           "rgba(148.0, 103.0, 189.0, 0.5)",
           "rgba(148.0, 103.0, 189.0, 0.5)",
           "rgba(148.0, 103.0, 189.0, 0.5)",
           "rgba(148.0, 103.0, 189.0, 0.5)",
           "rgba(148.0, 103.0, 189.0, 0.5)",
           "rgba(148.0, 103.0, 189.0, 0.5)",
           "rgba(148.0, 103.0, 189.0, 0.5)",
           "rgba(148.0, 103.0, 189.0, 0.5)",
           "rgba(148.0, 103.0, 189.0, 0.5)",
           "rgba(148.0, 103.0, 189.0, 0.5)",
           "rgba(148.0, 103.0, 189.0, 0.5)",
           "rgba(148.0, 103.0, 189.0, 0.5)",
           "rgba(148.0, 103.0, 189.0, 0.5)",
           "rgba(148.0, 103.0, 189.0, 0.5)",
           "rgba(148.0, 103.0, 189.0, 0.5)",
           "rgba(148.0, 103.0, 189.0, 0.5)",
           "rgba(148.0, 103.0, 189.0, 0.5)",
           "rgba(148.0, 103.0, 189.0, 0.5)",
           "rgba(148.0, 103.0, 189.0, 0.5)",
           "rgba(148.0, 103.0, 189.0, 0.5)",
           "rgba(148.0, 103.0, 189.0, 0.5)",
           "rgba(148.0, 103.0, 189.0, 0.5)",
           "rgba(148.0, 103.0, 189.0, 0.5)",
           "rgba(148.0, 103.0, 189.0, 0.5)",
           "rgba(148.0, 103.0, 189.0, 0.5)",
           "rgba(148.0, 103.0, 189.0, 0.5)",
           "rgba(148.0, 103.0, 189.0, 0.5)",
           "rgba(148.0, 103.0, 189.0, 0.5)",
           "rgba(148.0, 103.0, 189.0, 0.5)",
           "rgba(148.0, 103.0, 189.0, 0.5)",
           "rgba(148.0, 103.0, 189.0, 0.5)",
           "rgba(148.0, 103.0, 189.0, 0.5)",
           "rgba(148.0, 103.0, 189.0, 0.5)",
           "rgba(148.0, 103.0, 189.0, 0.5)",
           "rgba(148.0, 103.0, 189.0, 0.5)",
           "rgba(148.0, 103.0, 189.0, 0.5)",
           "rgba(148.0, 103.0, 189.0, 0.5)",
           "rgba(148.0, 103.0, 189.0, 0.5)",
           "rgba(148.0, 103.0, 189.0, 0.5)",
           "rgba(148.0, 103.0, 189.0, 0.5)",
           "rgba(148.0, 103.0, 189.0, 0.5)",
           "rgba(148.0, 103.0, 189.0, 0.5)",
           "rgba(148.0, 103.0, 189.0, 0.5)",
           "rgba(148.0, 103.0, 189.0, 0.5)",
           "rgba(148.0, 103.0, 189.0, 0.5)",
           "rgba(148.0, 103.0, 189.0, 0.5)",
           "rgba(148.0, 103.0, 189.0, 0.5)",
           "rgba(148.0, 103.0, 189.0, 0.5)",
           "rgba(148.0, 103.0, 189.0, 0.5)",
           "rgba(148.0, 103.0, 189.0, 0.5)",
           "rgba(148.0, 103.0, 189.0, 0.5)",
           "rgba(148.0, 103.0, 189.0, 0.5)",
           "rgba(148.0, 103.0, 189.0, 0.5)",
           "rgba(148.0, 103.0, 189.0, 0.5)",
           "rgba(148.0, 103.0, 189.0, 0.5)",
           "rgba(148.0, 103.0, 189.0, 0.5)",
           "rgba(148.0, 103.0, 189.0, 0.5)",
           "rgba(148.0, 103.0, 189.0, 0.5)",
           "rgba(148.0, 103.0, 189.0, 0.5)",
           "rgba(148.0, 103.0, 189.0, 0.5)",
           "rgba(148.0, 103.0, 189.0, 0.5)",
           "rgba(148.0, 103.0, 189.0, 0.5)",
           "rgba(148.0, 103.0, 189.0, 0.5)",
           "rgba(148.0, 103.0, 189.0, 0.5)",
           "rgba(148.0, 103.0, 189.0, 0.5)",
           "rgba(148.0, 103.0, 189.0, 0.5)",
           "rgba(148.0, 103.0, 189.0, 0.5)",
           "rgba(148.0, 103.0, 189.0, 0.5)",
           "rgba(148.0, 103.0, 189.0, 0.5)",
           "rgba(148.0, 103.0, 189.0, 0.5)",
           "rgba(148.0, 103.0, 189.0, 0.5)",
           "rgba(148.0, 103.0, 189.0, 0.5)",
           "rgba(148.0, 103.0, 189.0, 0.5)",
           "rgba(148.0, 103.0, 189.0, 0.5)",
           "rgba(127.0, 127.0, 127.0, 0.5)",
           "rgba(127.0, 127.0, 127.0, 0.5)",
           "rgba(127.0, 127.0, 127.0, 0.5)",
           "rgba(127.0, 127.0, 127.0, 0.5)",
           "rgba(127.0, 127.0, 127.0, 0.5)",
           "rgba(127.0, 127.0, 127.0, 0.5)",
           "rgba(127.0, 127.0, 127.0, 0.5)",
           "rgba(127.0, 127.0, 127.0, 0.5)",
           "rgba(158.0, 218.0, 229.0, 0.5)",
           "rgba(158.0, 218.0, 229.0, 0.5)",
           "rgba(158.0, 218.0, 229.0, 0.5)",
           "rgba(127.0, 127.0, 127.0, 0.5)",
           "rgba(127.0, 127.0, 127.0, 0.5)",
           "rgba(127.0, 127.0, 127.0, 0.5)",
           "rgba(127.0, 127.0, 127.0, 0.5)",
           "rgba(158.0, 218.0, 229.0, 0.5)",
           "rgba(127.0, 127.0, 127.0, 0.5)",
           "rgba(158.0, 218.0, 229.0, 0.5)",
           "rgba(127.0, 127.0, 127.0, 0.5)",
           "rgba(127.0, 127.0, 127.0, 0.5)",
           "rgba(158.0, 218.0, 229.0, 0.5)",
           "rgba(127.0, 127.0, 127.0, 0.5)",
           "rgba(127.0, 127.0, 127.0, 0.5)",
           "rgba(158.0, 218.0, 229.0, 0.5)",
           "rgba(158.0, 218.0, 229.0, 0.5)",
           "rgba(127.0, 127.0, 127.0, 0.5)",
           "rgba(158.0, 218.0, 229.0, 0.5)",
           "rgba(127.0, 127.0, 127.0, 0.5)",
           "rgba(158.0, 218.0, 229.0, 0.5)",
           "rgba(158.0, 218.0, 229.0, 0.5)",
           "rgba(158.0, 218.0, 229.0, 0.5)",
           "rgba(158.0, 218.0, 229.0, 0.5)",
           "rgba(158.0, 218.0, 229.0, 0.5)",
           "rgba(127.0, 127.0, 127.0, 0.5)",
           "rgba(127.0, 127.0, 127.0, 0.5)",
           "rgba(158.0, 218.0, 229.0, 0.5)",
           "rgba(127.0, 127.0, 127.0, 0.5)",
           "rgba(127.0, 127.0, 127.0, 0.5)",
           "rgba(148.0, 103.0, 189.0, 0.5)",
           "rgba(148.0, 103.0, 189.0, 0.5)",
           "rgba(148.0, 103.0, 189.0, 0.5)",
           "rgba(148.0, 103.0, 189.0, 0.5)",
           "rgba(148.0, 103.0, 189.0, 0.5)",
           "rgba(148.0, 103.0, 189.0, 0.5)",
           "rgba(148.0, 103.0, 189.0, 0.5)",
           "rgba(148.0, 103.0, 189.0, 0.5)",
           "rgba(148.0, 103.0, 189.0, 0.5)",
           "rgba(148.0, 103.0, 189.0, 0.5)",
           "rgba(148.0, 103.0, 189.0, 0.5)",
           "rgba(148.0, 103.0, 189.0, 0.5)",
           "rgba(148.0, 103.0, 189.0, 0.5)",
           "rgba(148.0, 103.0, 189.0, 0.5)",
           "rgba(148.0, 103.0, 189.0, 0.5)",
           "rgba(148.0, 103.0, 189.0, 0.5)",
           "rgba(148.0, 103.0, 189.0, 0.5)",
           "rgba(148.0, 103.0, 189.0, 0.5)",
           "rgba(148.0, 103.0, 189.0, 0.5)",
           "rgba(148.0, 103.0, 189.0, 0.5)",
           "rgba(148.0, 103.0, 189.0, 0.5)",
           "rgba(148.0, 103.0, 189.0, 0.5)",
           "rgba(148.0, 103.0, 189.0, 0.5)",
           "rgba(148.0, 103.0, 189.0, 0.5)",
           "rgba(148.0, 103.0, 189.0, 0.5)",
           "rgba(148.0, 103.0, 189.0, 0.5)",
           "rgba(148.0, 103.0, 189.0, 0.5)",
           "rgba(148.0, 103.0, 189.0, 0.5)",
           "rgba(148.0, 103.0, 189.0, 0.5)",
           "rgba(148.0, 103.0, 189.0, 0.5)",
           "rgba(148.0, 103.0, 189.0, 0.5)",
           "rgba(148.0, 103.0, 189.0, 0.5)",
           "rgba(148.0, 103.0, 189.0, 0.5)",
           "rgba(148.0, 103.0, 189.0, 0.5)",
           "rgba(148.0, 103.0, 189.0, 0.5)",
           "rgba(148.0, 103.0, 189.0, 0.5)",
           "rgba(148.0, 103.0, 189.0, 0.5)",
           "rgba(148.0, 103.0, 189.0, 0.5)",
           "rgba(148.0, 103.0, 189.0, 0.5)",
           "rgba(148.0, 103.0, 189.0, 0.5)",
           "rgba(148.0, 103.0, 189.0, 0.5)",
           "rgba(148.0, 103.0, 189.0, 0.5)",
           "rgba(148.0, 103.0, 189.0, 0.5)",
           "rgba(148.0, 103.0, 189.0, 0.5)",
           "rgba(148.0, 103.0, 189.0, 0.5)",
           "rgba(148.0, 103.0, 189.0, 0.5)",
           "rgba(148.0, 103.0, 189.0, 0.5)",
           "rgba(148.0, 103.0, 189.0, 0.5)",
           "rgba(148.0, 103.0, 189.0, 0.5)",
           "rgba(148.0, 103.0, 189.0, 0.5)",
           "rgba(148.0, 103.0, 189.0, 0.5)",
           "rgba(148.0, 103.0, 189.0, 0.5)",
           "rgba(148.0, 103.0, 189.0, 0.5)",
           "rgba(148.0, 103.0, 189.0, 0.5)",
           "rgba(148.0, 103.0, 189.0, 0.5)",
           "rgba(148.0, 103.0, 189.0, 0.5)",
           "rgba(148.0, 103.0, 189.0, 0.5)",
           "rgba(148.0, 103.0, 189.0, 0.5)",
           "rgba(148.0, 103.0, 189.0, 0.5)",
           "rgba(148.0, 103.0, 189.0, 0.5)",
           "rgba(148.0, 103.0, 189.0, 0.5)",
           "rgba(148.0, 103.0, 189.0, 0.5)",
           "rgba(148.0, 103.0, 189.0, 0.5)",
           "rgba(148.0, 103.0, 189.0, 0.5)",
           "rgba(148.0, 103.0, 189.0, 0.5)",
           "rgba(148.0, 103.0, 189.0, 0.5)",
           "rgba(148.0, 103.0, 189.0, 0.5)",
           "rgba(148.0, 103.0, 189.0, 0.5)",
           "rgba(148.0, 103.0, 189.0, 0.5)",
           "rgba(148.0, 103.0, 189.0, 0.5)",
           "rgba(148.0, 103.0, 189.0, 0.5)",
           "rgba(148.0, 103.0, 189.0, 0.5)",
           "rgba(148.0, 103.0, 189.0, 0.5)",
           "rgba(148.0, 103.0, 189.0, 0.5)",
           "rgba(148.0, 103.0, 189.0, 0.5)",
           "rgba(148.0, 103.0, 189.0, 0.5)",
           "rgba(148.0, 103.0, 189.0, 0.5)",
           "rgba(148.0, 103.0, 189.0, 0.5)",
           "rgba(148.0, 103.0, 189.0, 0.5)",
           "rgba(148.0, 103.0, 189.0, 0.5)",
           "rgba(148.0, 103.0, 189.0, 0.5)",
           "rgba(148.0, 103.0, 189.0, 0.5)",
           "rgba(148.0, 103.0, 189.0, 0.5)",
           "rgba(148.0, 103.0, 189.0, 0.5)",
           "rgba(148.0, 103.0, 189.0, 0.5)",
           "rgba(148.0, 103.0, 189.0, 0.5)",
           "rgba(148.0, 103.0, 189.0, 0.5)",
           "rgba(148.0, 103.0, 189.0, 0.5)",
           "rgba(148.0, 103.0, 189.0, 0.5)",
           "rgba(148.0, 103.0, 189.0, 0.5)",
           "rgba(148.0, 103.0, 189.0, 0.5)",
           "rgba(148.0, 103.0, 189.0, 0.5)",
           "rgba(148.0, 103.0, 189.0, 0.5)",
           "rgba(148.0, 103.0, 189.0, 0.5)",
           "rgba(148.0, 103.0, 189.0, 0.5)",
           "rgba(148.0, 103.0, 189.0, 0.5)",
           "rgba(148.0, 103.0, 189.0, 0.5)",
           "rgba(148.0, 103.0, 189.0, 0.5)",
           "rgba(148.0, 103.0, 189.0, 0.5)",
           "rgba(148.0, 103.0, 189.0, 0.5)",
           "rgba(148.0, 103.0, 189.0, 0.5)",
           "rgba(148.0, 103.0, 189.0, 0.5)",
           "rgba(148.0, 103.0, 189.0, 0.5)",
           "rgba(148.0, 103.0, 189.0, 0.5)",
           "rgba(148.0, 103.0, 189.0, 0.5)",
           "rgba(148.0, 103.0, 189.0, 0.5)",
           "rgba(148.0, 103.0, 189.0, 0.5)",
           "rgba(148.0, 103.0, 189.0, 0.5)",
           "rgba(148.0, 103.0, 189.0, 0.5)",
           "rgba(148.0, 103.0, 189.0, 0.5)",
           "rgba(148.0, 103.0, 189.0, 0.5)",
           "rgba(148.0, 103.0, 189.0, 0.5)",
           "rgba(148.0, 103.0, 189.0, 0.5)",
           "rgba(148.0, 103.0, 189.0, 0.5)",
           "rgba(148.0, 103.0, 189.0, 0.5)",
           "rgba(148.0, 103.0, 189.0, 0.5)",
           "rgba(148.0, 103.0, 189.0, 0.5)",
           "rgba(148.0, 103.0, 189.0, 0.5)",
           "rgba(148.0, 103.0, 189.0, 0.5)",
           "rgba(148.0, 103.0, 189.0, 0.5)",
           "rgba(148.0, 103.0, 189.0, 0.5)",
           "rgba(148.0, 103.0, 189.0, 0.5)",
           "rgba(148.0, 103.0, 189.0, 0.5)",
           "rgba(148.0, 103.0, 189.0, 0.5)",
           "rgba(148.0, 103.0, 189.0, 0.5)",
           "rgba(148.0, 103.0, 189.0, 0.5)",
           "rgba(148.0, 103.0, 189.0, 0.5)",
           "rgba(148.0, 103.0, 189.0, 0.5)",
           "rgba(148.0, 103.0, 189.0, 0.5)",
           "rgba(148.0, 103.0, 189.0, 0.5)",
           "rgba(148.0, 103.0, 189.0, 0.5)",
           "rgba(148.0, 103.0, 189.0, 0.5)",
           "rgba(148.0, 103.0, 189.0, 0.5)",
           "rgba(148.0, 103.0, 189.0, 0.5)",
           "rgba(148.0, 103.0, 189.0, 0.5)",
           "rgba(148.0, 103.0, 189.0, 0.5)",
           "rgba(148.0, 103.0, 189.0, 0.5)",
           "rgba(148.0, 103.0, 189.0, 0.5)",
           "rgba(148.0, 103.0, 189.0, 0.5)",
           "rgba(148.0, 103.0, 189.0, 0.5)",
           "rgba(148.0, 103.0, 189.0, 0.5)",
           "rgba(148.0, 103.0, 189.0, 0.5)",
           "rgba(148.0, 103.0, 189.0, 0.5)",
           "rgba(148.0, 103.0, 189.0, 0.5)",
           "rgba(148.0, 103.0, 189.0, 0.5)",
           "rgba(148.0, 103.0, 189.0, 0.5)",
           "rgba(148.0, 103.0, 189.0, 0.5)",
           "rgba(148.0, 103.0, 189.0, 0.5)",
           "rgba(148.0, 103.0, 189.0, 0.5)",
           "rgba(148.0, 103.0, 189.0, 0.5)",
           "rgba(148.0, 103.0, 189.0, 0.5)",
           "rgba(148.0, 103.0, 189.0, 0.5)",
           "rgba(148.0, 103.0, 189.0, 0.5)",
           "rgba(148.0, 103.0, 189.0, 0.5)",
           "rgba(148.0, 103.0, 189.0, 0.5)",
           "rgba(148.0, 103.0, 189.0, 0.5)",
           "rgba(148.0, 103.0, 189.0, 0.5)",
           "rgba(148.0, 103.0, 189.0, 0.5)",
           "rgba(148.0, 103.0, 189.0, 0.5)",
           "rgba(148.0, 103.0, 189.0, 0.5)",
           "rgba(148.0, 103.0, 189.0, 0.5)",
           "rgba(148.0, 103.0, 189.0, 0.5)",
           "rgba(148.0, 103.0, 189.0, 0.5)",
           "rgba(148.0, 103.0, 189.0, 0.5)",
           "rgba(148.0, 103.0, 189.0, 0.5)",
           "rgba(148.0, 103.0, 189.0, 0.5)",
           "rgba(148.0, 103.0, 189.0, 0.5)",
           "rgba(148.0, 103.0, 189.0, 0.5)",
           "rgba(148.0, 103.0, 189.0, 0.5)",
           "rgba(148.0, 103.0, 189.0, 0.5)",
           "rgba(148.0, 103.0, 189.0, 0.5)",
           "rgba(148.0, 103.0, 189.0, 0.5)",
           "rgba(148.0, 103.0, 189.0, 0.5)",
           "rgba(148.0, 103.0, 189.0, 0.5)",
           "rgba(148.0, 103.0, 189.0, 0.5)",
           "rgba(148.0, 103.0, 189.0, 0.5)",
           "rgba(148.0, 103.0, 189.0, 0.5)",
           "rgba(148.0, 103.0, 189.0, 0.5)",
           "rgba(148.0, 103.0, 189.0, 0.5)",
           "rgba(148.0, 103.0, 189.0, 0.5)",
           "rgba(148.0, 103.0, 189.0, 0.5)",
           "rgba(148.0, 103.0, 189.0, 0.5)",
           "rgba(148.0, 103.0, 189.0, 0.5)",
           "rgba(148.0, 103.0, 189.0, 0.5)",
           "rgba(148.0, 103.0, 189.0, 0.5)",
           "rgba(148.0, 103.0, 189.0, 0.5)",
           "rgba(148.0, 103.0, 189.0, 0.5)",
           "rgba(148.0, 103.0, 189.0, 0.5)",
           "rgba(148.0, 103.0, 189.0, 0.5)",
           "rgba(148.0, 103.0, 189.0, 0.5)",
           "rgba(148.0, 103.0, 189.0, 0.5)",
           "rgba(148.0, 103.0, 189.0, 0.5)",
           "rgba(148.0, 103.0, 189.0, 0.5)",
           "rgba(148.0, 103.0, 189.0, 0.5)",
           "rgba(148.0, 103.0, 189.0, 0.5)",
           "rgba(148.0, 103.0, 189.0, 0.5)",
           "rgba(148.0, 103.0, 189.0, 0.5)",
           "rgba(148.0, 103.0, 189.0, 0.5)",
           "rgba(148.0, 103.0, 189.0, 0.5)",
           "rgba(148.0, 103.0, 189.0, 0.5)",
           "rgba(148.0, 103.0, 189.0, 0.5)",
           "rgba(148.0, 103.0, 189.0, 0.5)",
           "rgba(148.0, 103.0, 189.0, 0.5)",
           "rgba(148.0, 103.0, 189.0, 0.5)",
           "rgba(148.0, 103.0, 189.0, 0.5)",
           "rgba(148.0, 103.0, 189.0, 0.5)",
           "rgba(148.0, 103.0, 189.0, 0.5)",
           "rgba(148.0, 103.0, 189.0, 0.5)",
           "rgba(148.0, 103.0, 189.0, 0.5)",
           "rgba(148.0, 103.0, 189.0, 0.5)",
           "rgba(148.0, 103.0, 189.0, 0.5)",
           "rgba(148.0, 103.0, 189.0, 0.5)",
           "rgba(148.0, 103.0, 189.0, 0.5)",
           "rgba(148.0, 103.0, 189.0, 0.5)",
           "rgba(148.0, 103.0, 189.0, 0.5)",
           "rgba(148.0, 103.0, 189.0, 0.5)",
           "rgba(148.0, 103.0, 189.0, 0.5)",
           "rgba(148.0, 103.0, 189.0, 0.5)",
           "rgba(148.0, 103.0, 189.0, 0.5)",
           "rgba(148.0, 103.0, 189.0, 0.5)",
           "rgba(148.0, 103.0, 189.0, 0.5)",
           "rgba(148.0, 103.0, 189.0, 0.5)",
           "rgba(148.0, 103.0, 189.0, 0.5)",
           "rgba(148.0, 103.0, 189.0, 0.5)",
           "rgba(148.0, 103.0, 189.0, 0.5)",
           "rgba(148.0, 103.0, 189.0, 0.5)",
           "rgba(148.0, 103.0, 189.0, 0.5)",
           "rgba(148.0, 103.0, 189.0, 0.5)",
           "rgba(148.0, 103.0, 189.0, 0.5)",
           "rgba(148.0, 103.0, 189.0, 0.5)",
           "rgba(148.0, 103.0, 189.0, 0.5)",
           "rgba(148.0, 103.0, 189.0, 0.5)",
           "rgba(148.0, 103.0, 189.0, 0.5)",
           "rgba(148.0, 103.0, 189.0, 0.5)",
           "rgba(148.0, 103.0, 189.0, 0.5)",
           "rgba(148.0, 103.0, 189.0, 0.5)",
           "rgba(148.0, 103.0, 189.0, 0.5)",
           "rgba(148.0, 103.0, 189.0, 0.5)",
           "rgba(148.0, 103.0, 189.0, 0.5)",
           "rgba(148.0, 103.0, 189.0, 0.5)",
           "rgba(148.0, 103.0, 189.0, 0.5)",
           "rgba(148.0, 103.0, 189.0, 0.5)",
           "rgba(148.0, 103.0, 189.0, 0.5)",
           "rgba(148.0, 103.0, 189.0, 0.5)",
           "rgba(148.0, 103.0, 189.0, 0.5)",
           "rgba(148.0, 103.0, 189.0, 0.5)",
           "rgba(148.0, 103.0, 189.0, 0.5)",
           "rgba(148.0, 103.0, 189.0, 0.5)",
           "rgba(148.0, 103.0, 189.0, 0.5)",
           "rgba(148.0, 103.0, 189.0, 0.5)",
           "rgba(148.0, 103.0, 189.0, 0.5)",
           "rgba(148.0, 103.0, 189.0, 0.5)",
           "rgba(148.0, 103.0, 189.0, 0.5)",
           "rgba(148.0, 103.0, 189.0, 0.5)",
           "rgba(148.0, 103.0, 189.0, 0.5)",
           "rgba(148.0, 103.0, 189.0, 0.5)",
           "rgba(148.0, 103.0, 189.0, 0.5)",
           "rgba(148.0, 103.0, 189.0, 0.5)",
           "rgba(148.0, 103.0, 189.0, 0.5)",
           "rgba(148.0, 103.0, 189.0, 0.5)",
           "rgba(148.0, 103.0, 189.0, 0.5)",
           "rgba(148.0, 103.0, 189.0, 0.5)",
           "rgba(148.0, 103.0, 189.0, 0.5)",
           "rgba(148.0, 103.0, 189.0, 0.5)",
           "rgba(148.0, 103.0, 189.0, 0.5)",
           "rgba(148.0, 103.0, 189.0, 0.5)",
           "rgba(148.0, 103.0, 189.0, 0.5)",
           "rgba(148.0, 103.0, 189.0, 0.5)",
           "rgba(148.0, 103.0, 189.0, 0.5)",
           "rgba(148.0, 103.0, 189.0, 0.5)",
           "rgba(148.0, 103.0, 189.0, 0.5)",
           "rgba(148.0, 103.0, 189.0, 0.5)",
           "rgba(148.0, 103.0, 189.0, 0.5)",
           "rgba(148.0, 103.0, 189.0, 0.5)",
           "rgba(148.0, 103.0, 189.0, 0.5)",
           "rgba(148.0, 103.0, 189.0, 0.5)",
           "rgba(148.0, 103.0, 189.0, 0.5)",
           "rgba(148.0, 103.0, 189.0, 0.5)",
           "rgba(148.0, 103.0, 189.0, 0.5)",
           "rgba(148.0, 103.0, 189.0, 0.5)",
           "rgba(148.0, 103.0, 189.0, 0.5)",
           "rgba(148.0, 103.0, 189.0, 0.5)",
           "rgba(148.0, 103.0, 189.0, 0.5)",
           "rgba(148.0, 103.0, 189.0, 0.5)",
           "rgba(148.0, 103.0, 189.0, 0.5)",
           "rgba(148.0, 103.0, 189.0, 0.5)",
           "rgba(148.0, 103.0, 189.0, 0.5)",
           "rgba(148.0, 103.0, 189.0, 0.5)",
           "rgba(148.0, 103.0, 189.0, 0.5)",
           "rgba(148.0, 103.0, 189.0, 0.5)",
           "rgba(148.0, 103.0, 189.0, 0.5)",
           "rgba(148.0, 103.0, 189.0, 0.5)",
           "rgba(148.0, 103.0, 189.0, 0.5)",
           "rgba(148.0, 103.0, 189.0, 0.5)",
           "rgba(148.0, 103.0, 189.0, 0.5)",
           "rgba(148.0, 103.0, 189.0, 0.5)",
           "rgba(148.0, 103.0, 189.0, 0.5)",
           "rgba(148.0, 103.0, 189.0, 0.5)",
           "rgba(148.0, 103.0, 189.0, 0.5)",
           "rgba(148.0, 103.0, 189.0, 0.5)",
           "rgba(148.0, 103.0, 189.0, 0.5)",
           "rgba(148.0, 103.0, 189.0, 0.5)",
           "rgba(148.0, 103.0, 189.0, 0.5)",
           "rgba(148.0, 103.0, 189.0, 0.5)",
           "rgba(148.0, 103.0, 189.0, 0.5)",
           "rgba(148.0, 103.0, 189.0, 0.5)",
           "rgba(148.0, 103.0, 189.0, 0.5)",
           "rgba(148.0, 103.0, 189.0, 0.5)",
           "rgba(148.0, 103.0, 189.0, 0.5)",
           "rgba(148.0, 103.0, 189.0, 0.5)",
           "rgba(148.0, 103.0, 189.0, 0.5)",
           "rgba(148.0, 103.0, 189.0, 0.5)",
           "rgba(148.0, 103.0, 189.0, 0.5)",
           "rgba(148.0, 103.0, 189.0, 0.5)",
           "rgba(148.0, 103.0, 189.0, 0.5)",
           "rgba(148.0, 103.0, 189.0, 0.5)",
           "rgba(148.0, 103.0, 189.0, 0.5)",
           "rgba(148.0, 103.0, 189.0, 0.5)",
           "rgba(148.0, 103.0, 189.0, 0.5)",
           "rgba(148.0, 103.0, 189.0, 0.5)",
           "rgba(148.0, 103.0, 189.0, 0.5)",
           "rgba(148.0, 103.0, 189.0, 0.5)",
           "rgba(148.0, 103.0, 189.0, 0.5)",
           "rgba(148.0, 103.0, 189.0, 0.5)",
           "rgba(148.0, 103.0, 189.0, 0.5)",
           "rgba(148.0, 103.0, 189.0, 0.5)",
           "rgba(148.0, 103.0, 189.0, 0.5)",
           "rgba(148.0, 103.0, 189.0, 0.5)",
           "rgba(148.0, 103.0, 189.0, 0.5)",
           "rgba(148.0, 103.0, 189.0, 0.5)",
           "rgba(148.0, 103.0, 189.0, 0.5)",
           "rgba(148.0, 103.0, 189.0, 0.5)",
           "rgba(148.0, 103.0, 189.0, 0.5)",
           "rgba(148.0, 103.0, 189.0, 0.5)",
           "rgba(148.0, 103.0, 189.0, 0.5)",
           "rgba(148.0, 103.0, 189.0, 0.5)",
           "rgba(148.0, 103.0, 189.0, 0.5)",
           "rgba(148.0, 103.0, 189.0, 0.5)",
           "rgba(148.0, 103.0, 189.0, 0.5)",
           "rgba(148.0, 103.0, 189.0, 0.5)",
           "rgba(148.0, 103.0, 189.0, 0.5)",
           "rgba(148.0, 103.0, 189.0, 0.5)",
           "rgba(148.0, 103.0, 189.0, 0.5)",
           "rgba(148.0, 103.0, 189.0, 0.5)",
           "rgba(148.0, 103.0, 189.0, 0.5)",
           "rgba(148.0, 103.0, 189.0, 0.5)",
           "rgba(148.0, 103.0, 189.0, 0.5)",
           "rgba(148.0, 103.0, 189.0, 0.5)",
           "rgba(148.0, 103.0, 189.0, 0.5)",
           "rgba(148.0, 103.0, 189.0, 0.5)",
           "rgba(148.0, 103.0, 189.0, 0.5)",
           "rgba(148.0, 103.0, 189.0, 0.5)",
           "rgba(148.0, 103.0, 189.0, 0.5)",
           "rgba(148.0, 103.0, 189.0, 0.5)",
           "rgba(148.0, 103.0, 189.0, 0.5)",
           "rgba(148.0, 103.0, 189.0, 0.5)",
           "rgba(148.0, 103.0, 189.0, 0.5)",
           "rgba(148.0, 103.0, 189.0, 0.5)",
           "rgba(148.0, 103.0, 189.0, 0.5)",
           "rgba(148.0, 103.0, 189.0, 0.5)",
           "rgba(148.0, 103.0, 189.0, 0.5)",
           "rgba(148.0, 103.0, 189.0, 0.5)",
           "rgba(148.0, 103.0, 189.0, 0.5)",
           "rgba(148.0, 103.0, 189.0, 0.5)",
           "rgba(148.0, 103.0, 189.0, 0.5)",
           "rgba(148.0, 103.0, 189.0, 0.5)",
           "rgba(148.0, 103.0, 189.0, 0.5)",
           "rgba(148.0, 103.0, 189.0, 0.5)",
           "rgba(148.0, 103.0, 189.0, 0.5)",
           "rgba(148.0, 103.0, 189.0, 0.5)",
           "rgba(148.0, 103.0, 189.0, 0.5)",
           "rgba(148.0, 103.0, 189.0, 0.5)",
           "rgba(148.0, 103.0, 189.0, 0.5)",
           "rgba(148.0, 103.0, 189.0, 0.5)",
           "rgba(148.0, 103.0, 189.0, 0.5)",
           "rgba(148.0, 103.0, 189.0, 0.5)",
           "rgba(148.0, 103.0, 189.0, 0.5)",
           "rgba(148.0, 103.0, 189.0, 0.5)",
           "rgba(148.0, 103.0, 189.0, 0.5)",
           "rgba(148.0, 103.0, 189.0, 0.5)",
           "rgba(148.0, 103.0, 189.0, 0.5)",
           "rgba(148.0, 103.0, 189.0, 0.5)",
           "rgba(148.0, 103.0, 189.0, 0.5)",
           "rgba(148.0, 103.0, 189.0, 0.5)",
           "rgba(148.0, 103.0, 189.0, 0.5)",
           "rgba(148.0, 103.0, 189.0, 0.5)",
           "rgba(148.0, 103.0, 189.0, 0.5)",
           "rgba(148.0, 103.0, 189.0, 0.5)",
           "rgba(148.0, 103.0, 189.0, 0.5)",
           "rgba(148.0, 103.0, 189.0, 0.5)",
           "rgba(148.0, 103.0, 189.0, 0.5)",
           "rgba(148.0, 103.0, 189.0, 0.5)",
           "rgba(148.0, 103.0, 189.0, 0.5)",
           "rgba(148.0, 103.0, 189.0, 0.5)",
           "rgba(148.0, 103.0, 189.0, 0.5)",
           "rgba(148.0, 103.0, 189.0, 0.5)",
           "rgba(148.0, 103.0, 189.0, 0.5)",
           "rgba(148.0, 103.0, 189.0, 0.5)",
           "rgba(148.0, 103.0, 189.0, 0.5)",
           "rgba(148.0, 103.0, 189.0, 0.5)",
           "rgba(148.0, 103.0, 189.0, 0.5)",
           "rgba(148.0, 103.0, 189.0, 0.5)",
           "rgba(148.0, 103.0, 189.0, 0.5)",
           "rgba(148.0, 103.0, 189.0, 0.5)",
           "rgba(148.0, 103.0, 189.0, 0.5)",
           "rgba(148.0, 103.0, 189.0, 0.5)",
           "rgba(148.0, 103.0, 189.0, 0.5)",
           "rgba(148.0, 103.0, 189.0, 0.5)",
           "rgba(148.0, 103.0, 189.0, 0.5)",
           "rgba(148.0, 103.0, 189.0, 0.5)",
           "rgba(148.0, 103.0, 189.0, 0.5)",
           "rgba(148.0, 103.0, 189.0, 0.5)",
           "rgba(148.0, 103.0, 189.0, 0.5)",
           "rgba(148.0, 103.0, 189.0, 0.5)",
           "rgba(148.0, 103.0, 189.0, 0.5)",
           "rgba(148.0, 103.0, 189.0, 0.5)",
           "rgba(148.0, 103.0, 189.0, 0.5)",
           "rgba(148.0, 103.0, 189.0, 0.5)",
           "rgba(148.0, 103.0, 189.0, 0.5)",
           "rgba(148.0, 103.0, 189.0, 0.5)",
           "rgba(148.0, 103.0, 189.0, 0.5)",
           "rgba(148.0, 103.0, 189.0, 0.5)",
           "rgba(148.0, 103.0, 189.0, 0.5)",
           "rgba(148.0, 103.0, 189.0, 0.5)",
           "rgba(148.0, 103.0, 189.0, 0.5)",
           "rgba(148.0, 103.0, 189.0, 0.5)",
           "rgba(148.0, 103.0, 189.0, 0.5)",
           "rgba(148.0, 103.0, 189.0, 0.5)",
           "rgba(148.0, 103.0, 189.0, 0.5)",
           "rgba(148.0, 103.0, 189.0, 0.5)",
           "rgba(148.0, 103.0, 189.0, 0.5)",
           "rgba(148.0, 103.0, 189.0, 0.5)",
           "rgba(148.0, 103.0, 189.0, 0.5)",
           "rgba(148.0, 103.0, 189.0, 0.5)",
           "rgba(148.0, 103.0, 189.0, 0.5)",
           "rgba(148.0, 103.0, 189.0, 0.5)",
           "rgba(148.0, 103.0, 189.0, 0.5)",
           "rgba(148.0, 103.0, 189.0, 0.5)",
           "rgba(148.0, 103.0, 189.0, 0.5)",
           "rgba(148.0, 103.0, 189.0, 0.5)",
           "rgba(148.0, 103.0, 189.0, 0.5)",
           "rgba(148.0, 103.0, 189.0, 0.5)",
           "rgba(148.0, 103.0, 189.0, 0.5)",
           "rgba(148.0, 103.0, 189.0, 0.5)",
           "rgba(148.0, 103.0, 189.0, 0.5)",
           "rgba(148.0, 103.0, 189.0, 0.5)",
           "rgba(148.0, 103.0, 189.0, 0.5)",
           "rgba(148.0, 103.0, 189.0, 0.5)",
           "rgba(148.0, 103.0, 189.0, 0.5)",
           "rgba(148.0, 103.0, 189.0, 0.5)",
           "rgba(148.0, 103.0, 189.0, 0.5)",
           "rgba(148.0, 103.0, 189.0, 0.5)",
           "rgba(148.0, 103.0, 189.0, 0.5)",
           "rgba(148.0, 103.0, 189.0, 0.5)",
           "rgba(148.0, 103.0, 189.0, 0.5)",
           "rgba(148.0, 103.0, 189.0, 0.5)",
           "rgba(148.0, 103.0, 189.0, 0.5)",
           "rgba(148.0, 103.0, 189.0, 0.5)",
           "rgba(148.0, 103.0, 189.0, 0.5)",
           "rgba(148.0, 103.0, 189.0, 0.5)",
           "rgba(148.0, 103.0, 189.0, 0.5)",
           "rgba(148.0, 103.0, 189.0, 0.5)",
           "rgba(148.0, 103.0, 189.0, 0.5)",
           "rgba(148.0, 103.0, 189.0, 0.5)",
           "rgba(148.0, 103.0, 189.0, 0.5)",
           "rgba(148.0, 103.0, 189.0, 0.5)",
           "rgba(148.0, 103.0, 189.0, 0.5)",
           "rgba(148.0, 103.0, 189.0, 0.5)",
           "rgba(148.0, 103.0, 189.0, 0.5)",
           "rgba(148.0, 103.0, 189.0, 0.5)",
           "rgba(148.0, 103.0, 189.0, 0.5)",
           "rgba(148.0, 103.0, 189.0, 0.5)",
           "rgba(148.0, 103.0, 189.0, 0.5)",
           "rgba(148.0, 103.0, 189.0, 0.5)",
           "rgba(148.0, 103.0, 189.0, 0.5)",
           "rgba(148.0, 103.0, 189.0, 0.5)",
           "rgba(148.0, 103.0, 189.0, 0.5)",
           "rgba(148.0, 103.0, 189.0, 0.5)",
           "rgba(148.0, 103.0, 189.0, 0.5)",
           "rgba(148.0, 103.0, 189.0, 0.5)",
           "rgba(148.0, 103.0, 189.0, 0.5)",
           "rgba(148.0, 103.0, 189.0, 0.5)",
           "rgba(148.0, 103.0, 189.0, 0.5)",
           "rgba(148.0, 103.0, 189.0, 0.5)",
           "rgba(148.0, 103.0, 189.0, 0.5)",
           "rgba(148.0, 103.0, 189.0, 0.5)",
           "rgba(148.0, 103.0, 189.0, 0.5)",
           "rgba(148.0, 103.0, 189.0, 0.5)",
           "rgba(148.0, 103.0, 189.0, 0.5)",
           "rgba(148.0, 103.0, 189.0, 0.5)",
           "rgba(148.0, 103.0, 189.0, 0.5)",
           "rgba(148.0, 103.0, 189.0, 0.5)",
           "rgba(148.0, 103.0, 189.0, 0.5)",
           "rgba(148.0, 103.0, 189.0, 0.5)",
           "rgba(148.0, 103.0, 189.0, 0.5)",
           "rgba(148.0, 103.0, 189.0, 0.5)",
           "rgba(148.0, 103.0, 189.0, 0.5)",
           "rgba(148.0, 103.0, 189.0, 0.5)",
           "rgba(148.0, 103.0, 189.0, 0.5)",
           "rgba(148.0, 103.0, 189.0, 0.5)",
           "rgba(148.0, 103.0, 189.0, 0.5)",
           "rgba(148.0, 103.0, 189.0, 0.5)",
           "rgba(148.0, 103.0, 189.0, 0.5)",
           "rgba(148.0, 103.0, 189.0, 0.5)",
           "rgba(148.0, 103.0, 189.0, 0.5)",
           "rgba(148.0, 103.0, 189.0, 0.5)",
           "rgba(148.0, 103.0, 189.0, 0.5)",
           "rgba(148.0, 103.0, 189.0, 0.5)",
           "rgba(148.0, 103.0, 189.0, 0.5)",
           "rgba(148.0, 103.0, 189.0, 0.5)",
           "rgba(148.0, 103.0, 189.0, 0.5)",
           "rgba(148.0, 103.0, 189.0, 0.5)",
           "rgba(148.0, 103.0, 189.0, 0.5)",
           "rgba(148.0, 103.0, 189.0, 0.5)",
           "rgba(148.0, 103.0, 189.0, 0.5)",
           "rgba(148.0, 103.0, 189.0, 0.5)",
           "rgba(148.0, 103.0, 189.0, 0.5)",
           "rgba(148.0, 103.0, 189.0, 0.5)",
           "rgba(148.0, 103.0, 189.0, 0.5)",
           "rgba(148.0, 103.0, 189.0, 0.5)",
           "rgba(148.0, 103.0, 189.0, 0.5)",
           "rgba(148.0, 103.0, 189.0, 0.5)",
           "rgba(148.0, 103.0, 189.0, 0.5)",
           "rgba(148.0, 103.0, 189.0, 0.5)",
           "rgba(148.0, 103.0, 189.0, 0.5)",
           "rgba(148.0, 103.0, 189.0, 0.5)",
           "rgba(148.0, 103.0, 189.0, 0.5)",
           "rgba(148.0, 103.0, 189.0, 0.5)",
           "rgba(148.0, 103.0, 189.0, 0.5)",
           "rgba(148.0, 103.0, 189.0, 0.5)",
           "rgba(148.0, 103.0, 189.0, 0.5)",
           "rgba(148.0, 103.0, 189.0, 0.5)",
           "rgba(148.0, 103.0, 189.0, 0.5)",
           "rgba(148.0, 103.0, 189.0, 0.5)",
           "rgba(148.0, 103.0, 189.0, 0.5)",
           "rgba(148.0, 103.0, 189.0, 0.5)",
           "rgba(148.0, 103.0, 189.0, 0.5)",
           "rgba(148.0, 103.0, 189.0, 0.5)",
           "rgba(148.0, 103.0, 189.0, 0.5)",
           "rgba(148.0, 103.0, 189.0, 0.5)",
           "rgba(148.0, 103.0, 189.0, 0.5)",
           "rgba(148.0, 103.0, 189.0, 0.5)",
           "rgba(148.0, 103.0, 189.0, 0.5)",
           "rgba(148.0, 103.0, 189.0, 0.5)",
           "rgba(148.0, 103.0, 189.0, 0.5)",
           "rgba(148.0, 103.0, 189.0, 0.5)",
           "rgba(148.0, 103.0, 189.0, 0.5)",
           "rgba(148.0, 103.0, 189.0, 0.5)",
           "rgba(148.0, 103.0, 189.0, 0.5)",
           "rgba(148.0, 103.0, 189.0, 0.5)",
           "rgba(148.0, 103.0, 189.0, 0.5)",
           "rgba(148.0, 103.0, 189.0, 0.5)",
           "rgba(148.0, 103.0, 189.0, 0.5)",
           "rgba(148.0, 103.0, 189.0, 0.5)",
           "rgba(148.0, 103.0, 189.0, 0.5)",
           "rgba(148.0, 103.0, 189.0, 0.5)",
           "rgba(148.0, 103.0, 189.0, 0.5)",
           "rgba(148.0, 103.0, 189.0, 0.5)",
           "rgba(148.0, 103.0, 189.0, 0.5)",
           "rgba(148.0, 103.0, 189.0, 0.5)",
           "rgba(148.0, 103.0, 189.0, 0.5)",
           "rgba(148.0, 103.0, 189.0, 0.5)",
           "rgba(148.0, 103.0, 189.0, 0.5)",
           "rgba(148.0, 103.0, 189.0, 0.5)",
           "rgba(148.0, 103.0, 189.0, 0.5)",
           "rgba(148.0, 103.0, 189.0, 0.5)",
           "rgba(148.0, 103.0, 189.0, 0.5)",
           "rgba(148.0, 103.0, 189.0, 0.5)",
           "rgba(148.0, 103.0, 189.0, 0.5)",
           "rgba(148.0, 103.0, 189.0, 0.5)",
           "rgba(148.0, 103.0, 189.0, 0.5)",
           "rgba(148.0, 103.0, 189.0, 0.5)",
           "rgba(148.0, 103.0, 189.0, 0.5)",
           "rgba(148.0, 103.0, 189.0, 0.5)",
           "rgba(148.0, 103.0, 189.0, 0.5)",
           "rgba(148.0, 103.0, 189.0, 0.5)",
           "rgba(148.0, 103.0, 189.0, 0.5)",
           "rgba(148.0, 103.0, 189.0, 0.5)",
           "rgba(148.0, 103.0, 189.0, 0.5)",
           "rgba(148.0, 103.0, 189.0, 0.5)",
           "rgba(148.0, 103.0, 189.0, 0.5)",
           "rgba(148.0, 103.0, 189.0, 0.5)",
           "rgba(148.0, 103.0, 189.0, 0.5)",
           "rgba(148.0, 103.0, 189.0, 0.5)",
           "rgba(148.0, 103.0, 189.0, 0.5)",
           "rgba(148.0, 103.0, 189.0, 0.5)",
           "rgba(148.0, 103.0, 189.0, 0.5)",
           "rgba(148.0, 103.0, 189.0, 0.5)",
           "rgba(148.0, 103.0, 189.0, 0.5)",
           "rgba(148.0, 103.0, 189.0, 0.5)",
           "rgba(148.0, 103.0, 189.0, 0.5)",
           "rgba(148.0, 103.0, 189.0, 0.5)",
           "rgba(148.0, 103.0, 189.0, 0.5)",
           "rgba(148.0, 103.0, 189.0, 0.5)",
           "rgba(148.0, 103.0, 189.0, 0.5)",
           "rgba(148.0, 103.0, 189.0, 0.5)",
           "rgba(148.0, 103.0, 189.0, 0.5)",
           "rgba(148.0, 103.0, 189.0, 0.5)",
           "rgba(148.0, 103.0, 189.0, 0.5)",
           "rgba(148.0, 103.0, 189.0, 0.5)",
           "rgba(148.0, 103.0, 189.0, 0.5)",
           "rgba(148.0, 103.0, 189.0, 0.5)",
           "rgba(148.0, 103.0, 189.0, 0.5)",
           "rgba(148.0, 103.0, 189.0, 0.5)",
           "rgba(148.0, 103.0, 189.0, 0.5)",
           "rgba(148.0, 103.0, 189.0, 0.5)",
           "rgba(148.0, 103.0, 189.0, 0.5)",
           "rgba(148.0, 103.0, 189.0, 0.5)",
           "rgba(148.0, 103.0, 189.0, 0.5)",
           "rgba(148.0, 103.0, 189.0, 0.5)",
           "rgba(148.0, 103.0, 189.0, 0.5)",
           "rgba(148.0, 103.0, 189.0, 0.5)",
           "rgba(148.0, 103.0, 189.0, 0.5)",
           "rgba(148.0, 103.0, 189.0, 0.5)",
           "rgba(148.0, 103.0, 189.0, 0.5)",
           "rgba(148.0, 103.0, 189.0, 0.5)",
           "rgba(148.0, 103.0, 189.0, 0.5)",
           "rgba(148.0, 103.0, 189.0, 0.5)",
           "rgba(148.0, 103.0, 189.0, 0.5)",
           "rgba(148.0, 103.0, 189.0, 0.5)",
           "rgba(148.0, 103.0, 189.0, 0.5)",
           "rgba(148.0, 103.0, 189.0, 0.5)",
           "rgba(148.0, 103.0, 189.0, 0.5)",
           "rgba(148.0, 103.0, 189.0, 0.5)",
           "rgba(148.0, 103.0, 189.0, 0.5)",
           "rgba(148.0, 103.0, 189.0, 0.5)",
           "rgba(148.0, 103.0, 189.0, 0.5)",
           "rgba(148.0, 103.0, 189.0, 0.5)",
           "rgba(148.0, 103.0, 189.0, 0.5)",
           "rgba(148.0, 103.0, 189.0, 0.5)",
           "rgba(148.0, 103.0, 189.0, 0.5)",
           "rgba(148.0, 103.0, 189.0, 0.5)",
           "rgba(148.0, 103.0, 189.0, 0.5)",
           "rgba(148.0, 103.0, 189.0, 0.5)",
           "rgba(148.0, 103.0, 189.0, 0.5)",
           "rgba(148.0, 103.0, 189.0, 0.5)",
           "rgba(148.0, 103.0, 189.0, 0.5)",
           "rgba(148.0, 103.0, 189.0, 0.5)",
           "rgba(148.0, 103.0, 189.0, 0.5)",
           "rgba(148.0, 103.0, 189.0, 0.5)",
           "rgba(148.0, 103.0, 189.0, 0.5)",
           "rgba(148.0, 103.0, 189.0, 0.5)",
           "rgba(148.0, 103.0, 189.0, 0.5)",
           "rgba(148.0, 103.0, 189.0, 0.5)",
           "rgba(148.0, 103.0, 189.0, 0.5)",
           "rgba(148.0, 103.0, 189.0, 0.5)",
           "rgba(148.0, 103.0, 189.0, 0.5)",
           "rgba(148.0, 103.0, 189.0, 0.5)",
           "rgba(148.0, 103.0, 189.0, 0.5)",
           "rgba(148.0, 103.0, 189.0, 0.5)",
           "rgba(148.0, 103.0, 189.0, 0.5)",
           "rgba(148.0, 103.0, 189.0, 0.5)",
           "rgba(148.0, 103.0, 189.0, 0.5)",
           "rgba(148.0, 103.0, 189.0, 0.5)",
           "rgba(148.0, 103.0, 189.0, 0.5)",
           "rgba(148.0, 103.0, 189.0, 0.5)",
           "rgba(148.0, 103.0, 189.0, 0.5)",
           "rgba(148.0, 103.0, 189.0, 0.5)",
           "rgba(148.0, 103.0, 189.0, 0.5)",
           "rgba(148.0, 103.0, 189.0, 0.5)",
           "rgba(148.0, 103.0, 189.0, 0.5)",
           "rgba(148.0, 103.0, 189.0, 0.5)",
           "rgba(148.0, 103.0, 189.0, 0.5)",
           "rgba(148.0, 103.0, 189.0, 0.5)",
           "rgba(148.0, 103.0, 189.0, 0.5)",
           "rgba(148.0, 103.0, 189.0, 0.5)",
           "rgba(148.0, 103.0, 189.0, 0.5)",
           "rgba(148.0, 103.0, 189.0, 0.5)",
           "rgba(148.0, 103.0, 189.0, 0.5)",
           "rgba(148.0, 103.0, 189.0, 0.5)",
           "rgba(148.0, 103.0, 189.0, 0.5)",
           "rgba(148.0, 103.0, 189.0, 0.5)",
           "rgba(148.0, 103.0, 189.0, 0.5)",
           "rgba(148.0, 103.0, 189.0, 0.5)",
           "rgba(148.0, 103.0, 189.0, 0.5)",
           "rgba(148.0, 103.0, 189.0, 0.5)",
           "rgba(148.0, 103.0, 189.0, 0.5)",
           "rgba(148.0, 103.0, 189.0, 0.5)",
           "rgba(148.0, 103.0, 189.0, 0.5)",
           "rgba(148.0, 103.0, 189.0, 0.5)",
           "rgba(148.0, 103.0, 189.0, 0.5)",
           "rgba(148.0, 103.0, 189.0, 0.5)",
           "rgba(148.0, 103.0, 189.0, 0.5)",
           "rgba(148.0, 103.0, 189.0, 0.5)",
           "rgba(148.0, 103.0, 189.0, 0.5)",
           "rgba(148.0, 103.0, 189.0, 0.5)",
           "rgba(148.0, 103.0, 189.0, 0.5)",
           "rgba(148.0, 103.0, 189.0, 0.5)",
           "rgba(148.0, 103.0, 189.0, 0.5)",
           "rgba(148.0, 103.0, 189.0, 0.5)",
           "rgba(148.0, 103.0, 189.0, 0.5)",
           "rgba(148.0, 103.0, 189.0, 0.5)",
           "rgba(148.0, 103.0, 189.0, 0.5)",
           "rgba(148.0, 103.0, 189.0, 0.5)",
           "rgba(148.0, 103.0, 189.0, 0.5)",
           "rgba(148.0, 103.0, 189.0, 0.5)",
           "rgba(148.0, 103.0, 189.0, 0.5)",
           "rgba(148.0, 103.0, 189.0, 0.5)",
           "rgba(148.0, 103.0, 189.0, 0.5)",
           "rgba(148.0, 103.0, 189.0, 0.5)",
           "rgba(148.0, 103.0, 189.0, 0.5)",
           "rgba(148.0, 103.0, 189.0, 0.5)",
           "rgba(148.0, 103.0, 189.0, 0.5)",
           "rgba(148.0, 103.0, 189.0, 0.5)",
           "rgba(148.0, 103.0, 189.0, 0.5)",
           "rgba(148.0, 103.0, 189.0, 0.5)",
           "rgba(148.0, 103.0, 189.0, 0.5)",
           "rgba(148.0, 103.0, 189.0, 0.5)",
           "rgba(148.0, 103.0, 189.0, 0.5)",
           "rgba(148.0, 103.0, 189.0, 0.5)",
           "rgba(148.0, 103.0, 189.0, 0.5)",
           "rgba(148.0, 103.0, 189.0, 0.5)",
           "rgba(148.0, 103.0, 189.0, 0.5)",
           "rgba(148.0, 103.0, 189.0, 0.5)",
           "rgba(148.0, 103.0, 189.0, 0.5)",
           "rgba(148.0, 103.0, 189.0, 0.5)",
           "rgba(148.0, 103.0, 189.0, 0.5)",
           "rgba(148.0, 103.0, 189.0, 0.5)",
           "rgba(148.0, 103.0, 189.0, 0.5)",
           "rgba(148.0, 103.0, 189.0, 0.5)",
           "rgba(148.0, 103.0, 189.0, 0.5)",
           "rgba(148.0, 103.0, 189.0, 0.5)",
           "rgba(148.0, 103.0, 189.0, 0.5)",
           "rgba(148.0, 103.0, 189.0, 0.5)",
           "rgba(148.0, 103.0, 189.0, 0.5)",
           "rgba(148.0, 103.0, 189.0, 0.5)",
           "rgba(148.0, 103.0, 189.0, 0.5)",
           "rgba(148.0, 103.0, 189.0, 0.5)",
           "rgba(148.0, 103.0, 189.0, 0.5)",
           "rgba(148.0, 103.0, 189.0, 0.5)",
           "rgba(148.0, 103.0, 189.0, 0.5)",
           "rgba(148.0, 103.0, 189.0, 0.5)",
           "rgba(148.0, 103.0, 189.0, 0.5)",
           "rgba(148.0, 103.0, 189.0, 0.5)",
           "rgba(148.0, 103.0, 189.0, 0.5)",
           "rgba(148.0, 103.0, 189.0, 0.5)",
           "rgba(148.0, 103.0, 189.0, 0.5)"
          ],
          "hovertemplate": "%{source.label} → %{target.label}: %{value} step_time_units<br>",
          "line": {
           "color": "lightgray",
           "width": 0.1
          },
          "source": {
           "bdata": "AwMDAwMDAwMDAwMDAwMDAwMDAwMDAwMDAwMDAwMDAwMDAwMDAwMDAwMDAwMDAwMDAwMDAwMDAwMDAwMDAwMDAwMDAwMDAwMDAwMDAwMDAwMDAwMDAwMDAwMDAwMDAwMDAwMDAwMDAwMDAwMDAwMDAwMDAwMDAwMDAwMDAwMDAwMDAwMDAwMDAwMDAwMDAwMDAwMDAwMDAwMDAwMDAwMDAwMDAwMDAwMDAwMDAwMDAwMDAwMDAwMDAwMDAwMDAwMDAwMDAwMDAwMDAwMDAwMDAwMDAwMDAwMDAwMDAwMDAwMDAwMDAwMDAwMDAwMDAwMDAwMDAwMDAwMDAwMDAwMDAwMDAwMDAwMFBQUFBQUFBQcHBwUFBQUHBQcFBQcFBQcHBQcFBwcHBwcFBQcFBQMDAwMDAwMDAwMDAwMDAwMDAwMDAwMDAwMDAwMDAwMDAwMDAwMDAwMDAwMDAwMDAwMDAwMDAwMDAwMDAwMDAwMDAwMDAwMDAwMDAwMDAwMDAwMDAwMDAwMDAwMDAwMDAwMDAwMDAwMDAwMDAwMDAwMDAwMDAwMDAwMDAwMDAwMDAwMDAwMDAwMDAwMDAwMDAwMDAwMDAwMDAwMDAwMDAwMDAwMDAwMDAwMDAwMDAwMDAwMDAwMDAwMDAwMDAwMDAwMDAwMDAwMDAwMDAwMDAwMDAwMDAwMDAwMDAwMDAwMDAwMDAwMDAwMDAwMDAwMDAwMDAwMDAwMDAwMDAwMDAwMDAwMDAwMDAwMDAwMDAwMDAwMDAwMDAwMDAwMDAwMDAwMDAwMDAwMDAwMDAwMDAwMDAwMDAwMDAwMDAwMDAwMDAwMDAwMDAwMDAwMDAwMDAwMDAwMDAwMDAwMDAwMDAwMDAwMDAwMDAwMDAwMDAwMDAwMDAwMDAwMDAwMDAwMDAwMDAwMDAwMDAwMDAwMDAwMDAwMDAwMDAwMDAwMDAwMDAwMDAwMDAwMDAwMDAwMDAwMDAwMDAwMDAwMDAwMDAwMDAwMDAwMDAwMDAwMDAwMDAwMDAwMDAwMDAwMDAwMDAwMDAwMDAwMDAwMDAwMDAwMDAwMDAwMDAwMDAwMDAwMDAwMDAwMDAwMDAwMDAwMDAwMDAwMDAwMDAwMDAwMDAwMDAwMDAwMDAwMDAwMDAwMDAwMDAwMDAwMDAwMDAwMDAwMDAwMDAwMDAwMDAwMDAwMDAwMDAwMDAwMDAwMDAwMDAwMDAwMDAwMDAwMDAwMDAwMDAwMDAwMDAwMDAwMDAwMDAwMDAwMDAwMDAwMDAwMDAwMDAwMDAwMDAwMDAwMDAwMDAwMDAwMDAwMDAwMDAwMDAwMDAwMDAwMDAwMDAwMDAwMDAwMDAwMDAwMDAwMDAwMDAwMDAwMDAwMDAwMDAwMD",
           "dtype": "i1"
          },
          "target": {
           "bdata": "AgICAgICAgICAgICAgIFAgICAgICAgUCAgUCAgICAgUCBQIFAgICAgICAgICAgUFAgICAgICAgUCAgICAgICBQICAgICBQICAgICAgICAgICAgIFAgUCAgICAgIFAgICAgICAgIFAgICAgICAgIFAgICAgICAgICAgICAgICAgICAgICAgICAgICAgICAgICAgUCBQIFAgICAgICAgICAgICAgUCAgICAgIFAgICAgIFAgICBQICAgICAgIFBQICAgICAgICAgUCAgICAgICAgICAgICAgIFBQICAgICAgICBQIFBQUCAgIFAgICAgUCAgICBQICAgICAgICAgUCAgICAgIFAgIHBwcHBwcHBwYBBAcHBwcGBwYHBwEHBwYEBgYHBgYGBgQHBwYHBwAAAAAAAAAAAAAAAAAAAAAAAAAAAAAAAAAAAAAAAAAAAAAAAAAAAAAAAAAAAAAAAAAAAAAAAAAAAAAAAAAAAAAAAAAAAAAAAAAAAAAAAAAAAAAAAAAAAAAAAAAAAAAAAAAAAAAAAAAAAAAAAAAAAAAAAAAAAAAAAAAAAAAAAAAAAAAAAAAAAAAAAAAAAAAAAAAAAAAAAAAAAAAAAAAAAAAAAAAAAAAAAAAAAAAAAAAAAAAAAAAAAAAAAAAAAAAAAAAAAAAAAAAAAAAAAAAAAAAAAAAAAAAAAAAAAAAAAAAAAAAAAAAAAAAAAAAAAAAAAAAAAAAAAAAAAAAAAAAAAAAAAAAAAAAAAAAAAAAAAAAAAAAAAAAAAAAAAAAAAAAAAAAAAAAAAAAAAAAAAAAAAAAAAAAAAAAAAAAAAAAAAAAAAAAAAAAAAAAAAAAAAAAAAAAAAAAAAAAAAAAAAAAAAAAAAAAAAAAAAAAAAAAAAAAAAAAAAAAAAAAAAAAAAAAAAAAAAAAAAAAAAAAAAAAAAAAAAAAAAAAAAAAAAAAAAAAAAAAAAAAAAAAAAAAAAAAAAAAAAAAAAAAAAAAAAAAAAAAAAAAAAAAAAAAAAAAAAAAAAAAAAAAAAAAAAAAAAAAAAAAAAAAAAAAAAAAAAAAAAAAAAAAAAAAAAAAAAAAAAAAAAAAAAAAAAAAAAAAAAAAAAAAAAAAAAAAAAAAAAAAAAAAAAAAAAAAAAAAAAAAAAAAAAAAAAAAAAAAAAAAAAAAAAAAAAAAAAAAAAAAAAAAAAAAAAAAAAAAAAAAAAAAAAAAAAAAAAAAAAAAAAAAAAAAAAAAAAAAAAAAAAAAAAAAAAAAAAAAAAAAAAAAAAAAAAAAAAAAAAAAAAAAAAAAAAAAAAAAAAAAAAAAAAAAAAAAAAAAAAAAAAAAAAAAAAAAAAAAAAAAAAAAAAAAAAAAAAAAAAAAAAAAAAAAAAAAAAAAAAAAA",
           "dtype": "i1"
          },
          "value": {
           "bdata": "AAAAAAAAAAAAAAAAAAAAAAAAAAAAAAAAAAAAAAAAAAAAAAAAAAAAAAAAAAAAAAAAAAAAAAAAAAAAAAAAAAAAAAAAAAAAAAAAAAAAAAAAAAAAAAAAAAAAAAAAAAAAAAAAAAAAAAAAAAAAAAAAAAAAAAAAAAAAAAAAAAAAAAAAAAAAAAAAAAAAAAAAAAAAAAAAAAAAAAAAAAAAAAAAAAAAAAAAAAAAAAAAAAAAAAAAAAAAAAAAAAAAAAAAAAAAAAAAAAAAAAAAAAAAAAAAAAAAAAAAAAAAAAAAAAAAAAAAAAAAAAAAAAAAAAAAAAAAAAAAAAAAAAAAAAAAAAAAAAAAAAAAAAAAAAAAAAAAAAAAAAAAAAAAAAAAAAAAAAAAAAAAAAAAAAAAAAAAAAAAAAAAAAAAAAAAAAAAAAAAAAAAAAAAAAAAAAAAAAAAAAAAAAAAAAAAAAAAAAAAAAAAAAAAAAAAAAAAAAAAAAAAAAAAAAAAAAAAAAAAAAAAAAAAAAAAAAAAAAAAAAAAAAAAAAAAAAAAAAAAAAAAAAAAAAAAAAAAAAAAAAAAAAAAAAAAAAAAAAAAAAAAAAAAAAAAAAAAAAAAAAAAAAAAAAAAAAAAAAAAAAAAAAAAAAAAAAAAAAAAAAAAAAAAAAAAAAAAAAAAAAAAAAAAAAAAAAAAAAAAAAAAAAAAAAAAAAAAAAAAAAAAAAAAAAAAAAAAAAAAAAAAAAAAAAAAAAAAAAAAAAAAAAAAAAAAAAAAAAAAAAAAAAAAAAAAAAAAAAAAAAAAAAAAAAAAAAAAAAAAAAAAAAAAAAAAAAAAAAAAAAAAAAAAAAAAAAAAAAAAAAAAAAAAAAAAAAAAAAAAAAAAAAAAAAAAAAAAAAAAAAAAAAAAAAAAAAAAAAAAAAAAAAAAAAAAAAAAAAAAAAAAAAAAAAAAAAAAAAAAAAAAAAAAAAAAAAAAAAAAAAAAAAAAAAAAAAAAAAAAAAAAAAAAAAAAAAAAAAAAAAAAAAAAAAAAAAAAAAAAAAAAAAAAAAAAAAAAAAAAAAAAAAAAAAAAAAAAAAAAAAAAAAAAAAAAAAAAAAAAAAAAAAAAAAAAAAAAAAAAAAAAAAAAAAAAAAAAAAAAAAAAAAAAAAAAAAAAAAAAAAAAAAAAAAAAAAAAAAAAAAAAAAAAAAAAAAAAAAAAAAAAAAAAAAAAAAAAAAAAAAAAAAAAAAAAAAAAAAAAAAAAAAAAAAAAAAAAAAAAAAAAAAAAAAAAAAAAAAAAAAAAAAAAAAAAAAAAAAAAAAAAAAAAAAAAAAAAAAAAAAAAAAAAAAAAAAAAAAAAAAAAAAAAAAAAAAAAAAAAAAAAAAAAAAAAAAAAAAAAAAAAAAAAAAAAAAAAAAAAAAAAAAAAAAAAAAAAAAAAAAAAAAAAAAAAAAAAAAAAAAAAAAAAAAAAAAAAAAAAAAAAAAAAAAAAAAAAAAAAAAAAAAAAAAAAAAAAAAAAAAAAAAAAAAAAAAAAAAAAAAAAAAAAAAAAAAAAAAAAAAAAAAAAAAAAAAAAAAAAAAAAAAAAAAAAAAAAAAAAAAAAAAAAAAAAAAAAAAAAAAAAAAAAAAAAAAAAAAAAAAAAAAAAAAAAAAAAAAAAAAAAAAAAAAAAAAAAAAAAAAAAAAAAAAAAAAAAAAAAAAAAAAAAAAAAAAAAAAAAAAAAAAAAAAAAAAAAAAAAAAAAAAAAAAAAAAAAAAAAAAAAAAAAAAAAAAAAAAAAAAAAAAAAAAAAAAAAAAAAAAAAAAAAAAAAAAAAAAAAAAAAAAAAAAAAAAAAAAAAAAAAAAAAAAAAAAAAAAAAAAAAAAAAAAAAAAAAAAAAAAAAAAAAAAAAAAAAAAAAAAAAAAAAAAAAAAAAAAAAAAAAAAAAAAAAAAAAAAAAAAAAAAAAAAAAAAAAAAAAAAAAAAAAAAAAAAAAAAAAAAAAAAAAAAAAAAAAAAAAAAAAAAAAAAAAAAAAAAAAAAAAAAAAAAAAAAAAAAAAAAAAAAAAAAAAAAAAAAAAAAAAAAAAAAAAAAAAAAAAAAAAAAAAAAAAAAAAAAAAAAAAAAAAAAAAAAAAAAAAAAAAAAAAAAAAAAAAAAAAAAAAAAAAAAAAAAAAAAAAAAAAAAAAAAAAAAAAAAAAAAAAAAAAAAAAAAAAAAAAAAAAAAAAAAAAAAAAAAAAAAAAAAAAAAAAAAAAAAAAAAAAAAAAAAAAAAAAAAAAAAAAAAAAAAAAAAAAAAAAAAAAAAAAAAAAAAAAAAAAAAAAAAAAAAAAAAAAAAAAAAAAAAAAAAAAAAAAAAAAAAAAAAAAAAAAAAAAAAAAAAAAAAAAAAAAAAAAAAAAAAAAAAAAAAAAAAAAAAAAAAAAAAAAAAAAAAAAAAAAAAAAAAAAAAAAAAAAAAAAAAAAAAAAAAAAAAAAAAAAAAAAAAAAAAAAAAAAAAAAAAAAAAAAAAAAAAAAAAAAAAAAAAAAAAAAAAAAAAAAAAAAAAAAAAAAAAAAAAAAAAAAAAAAAAAAAAAAAAAAAAAAAAAAAAAAAAAAAAAAAAAAAAAAAAAAAAAAAAAAAAAAAAAAAAAAAAAAAAAAAAAAAAAAAAAAAAAAAAAAAAAAAAAAAAAAAAAAAAAAAAAAAAAAAAAAAAAAAAAAAAAAAAAAAAAAAAAAAAAAAAAAAAAAAAAAAAAAAAAAAAAAAAAAAAAAAAAAAAAAAAAAAAAAAAAAAAAAAAAAAAAAAAAAAAAAAAAAAAAAAAAAAAAAAAAAAAAAAAAAAAAAAAAAAAAAAAAAAAAAAAAAAAAAAAAAAAAAAAAAAAAAAAAAAAAAAPA/AAAAAAAAAEAAAAAAAAAsQAAAAAAAADBAAAAAAAAAMEAAAAAAAABBQAAAAAAAAEFAAAAAAAAAQkAAAAAAAAA5QAAAAAAAAD1AAAAAAAAAIkAAAAAAAIBIQAAAAAAAAElAAAAAAACASUAAAAAAAABMQAAAAAAAADhAAAAAAACATUAAAAAAAAAcQAAAAAAAAFBAAAAAAAAAUEAAAAAAAAA3QAAAAAAAgFJAAAAAAAAAVUAAAAAAAAAxQAAAAAAAgEVAAAAAAABAV0AAAAAAAAA+QAAAAAAAgFpAAAAAAAAAR0AAAAAAAEBdQAAAAAAAAFNAAAAAAAAAM0AAAAAAAIBFQAAAAAAAwGBAAAAAAADAYEAAAAAAAAAyQAAAAAAAgGNAAAAAAACAY0AAAAAAAIBjQAAAAAAAgGNAAAAAAACAY0AAAAAAAIBjQAAAAAAAgGNAAAAAAACAY0AAAAAAAIBjQAAAAAAAgGNAAAAAAACAY0AAAAAAAIBjQAAAAAAAgGNAAAAAAACAY0AAAAAAAIBjQAAAAAAAgGNAAAAAAACAY0AAAAAAAIBjQAAAAAAAgGNAAAAAAACAY0AAAAAAAIBjQAAAAAAAgGNAAAAAAACAY0AAAAAAAIBjQAAAAAAAgGNAAAAAAACAY0AAAAAAAIBjQAAAAAAAgGNAAAAAAACAY0AAAAAAAIBjQAAAAAAAgGNAAAAAAACAY0AAAAAAAIBjQAAAAAAAgGNAAAAAAACAY0AAAAAAAIBjQAAAAAAAgGNAAAAAAACAY0AAAAAAAIBjQAAAAAAAgGNAAAAAAACAY0AAAAAAAIBjQAAAAAAAgGNAAAAAAACAY0AAAAAAAIBjQAAAAAAAgGNAAAAAAACAY0AAAAAAAIBjQAAAAAAAgGNAAAAAAACAY0AAAAAAAIBjQAAAAAAAgGNAAAAAAACAY0AAAAAAAIBjQAAAAAAAgGNAAAAAAACAY0AAAAAAAIBjQAAAAAAAgGNAAAAAAACAY0AAAAAAAIBjQAAAAAAAgGNAAAAAAACAY0AAAAAAAIBjQAAAAAAAgGNAAAAAAACAY0AAAAAAAIBjQAAAAAAAgGNAAAAAAACAY0AAAAAAAIBjQAAAAAAAgGNAAAAAAACAY0AAAAAAAIBjQAAAAAAAgGNAAAAAAACAY0AAAAAAAIBjQAAAAAAAgGNAAAAAAACAY0AAAAAAAIBjQAAAAAAAgGNAAAAAAACAY0AAAAAAAIBjQAAAAAAAgGNAAAAAAACAY0AAAAAAAIBjQAAAAAAAgGNAAAAAAACAY0AAAAAAAIBjQAAAAAAAgGNAAAAAAACAY0AAAAAAAIBjQAAAAAAAgGNAAAAAAACAY0AAAAAAAIBjQAAAAAAAgGNAAAAAAACAY0AAAAAAAIBjQAAAAAAAgGNAAAAAAACAY0AAAAAAAIBjQAAAAAAAgGNAAAAAAACAY0AAAAAAAIBjQAAAAAAAgGNAAAAAAACAY0AAAAAAAIBjQAAAAAAAgGNAAAAAAACAY0AAAAAAAIBjQAAAAAAAgGNAAAAAAACAY0AAAAAAAIBjQAAAAAAAgGNAAAAAAACAY0AAAAAAAIBjQAAAAAAAgGNAAAAAAACAY0AAAAAAAIBjQAAAAAAAgGNAAAAAAACAY0AAAAAAAIBjQAAAAAAAgGNAAAAAAACAY0AAAAAAAIBjQAAAAAAAgGNAAAAAAACAY0AAAAAAAIBjQAAAAAAAgGNAAAAAAACAY0AAAAAAAIBjQAAAAAAAgGNAAAAAAACAY0AAAAAAAIBjQAAAAAAAgGNAAAAAAACAY0AAAAAAAIBjQAAAAAAAgGNAAAAAAACAY0AAAAAAAIBjQAAAAAAAgGNAAAAAAACAY0AAAAAAAIBjQAAAAAAAgGNAAAAAAACAY0AAAAAAAIBjQAAAAAAAgGNAAAAAAACAY0AAAAAAAIBjQAAAAAAAgGNAAAAAAACAY0AAAAAAAIBjQAAAAAAAgGNAAAAAAACAY0AAAAAAAIBjQAAAAAAAgGNAAAAAAACAY0AAAAAAAIBjQAAAAAAAgGNAAAAAAACAY0AAAAAAAIBjQAAAAAAAgGNAAAAAAACAY0AAAAAAAIBjQAAAAAAAgGNAAAAAAACAY0AAAAAAAIBjQAAAAAAAgGNAAAAAAACAY0AAAAAAAIBjQAAAAAAAgGNAAAAAAACAY0AAAAAAAIBjQAAAAAAAgGNAAAAAAACAY0AAAAAAAIBjQAAAAAAAgGNAAAAAAACAY0AAAAAAAIBjQAAAAAAAgGNAAAAAAACAY0AAAAAAAIBjQAAAAAAAgGNAAAAAAACAY0AAAAAAAIBjQAAAAAAAgGNAAAAAAACAY0AAAAAAAIBjQAAAAAAAgGNAAAAAAACAY0AAAAAAAIBjQAAAAAAAgGNAAAAAAACAY0AAAAAAAIBjQAAAAAAAgGNAAAAAAACAY0AAAAAAAIBjQAAAAAAAgGNAAAAAAACAY0AAAAAAAIBjQAAAAAAAgGNAAAAAAACAY0AAAAAAAIBjQAAAAAAAgGNAAAAAAACAY0AAAAAAAIBjQAAAAAAAgGNAAAAAAACAY0AAAAAAAIBjQAAAAAAAgGNAAAAAAACAY0AAAAAAAIBjQAAAAAAAgGNAAAAAAACAY0AAAAAAAIBjQAAAAAAAgGNAAAAAAACAY0AAAAAAAIBjQAAAAAAAgGNAAAAAAACAY0AAAAAAAIBjQAAAAAAAgGNAAAAAAACAY0AAAAAAAIBjQAAAAAAAgGNAAAAAAACAY0AAAAAAAIBjQAAAAAAAgGNAAAAAAACAY0AAAAAAAIBjQAAAAAAAgGNAAAAAAACAY0AAAAAAAIBjQAAAAAAAgGNAAAAAAACAY0AAAAAAAIBjQAAAAAAAgGNAAAAAAACAY0AAAAAAAIBjQAAAAAAAgGNAAAAAAACAY0AAAAAAAIBjQAAAAAAAgGNAAAAAAACAY0AAAAAAAIBjQAAAAAAAgGNAAAAAAACAY0AAAAAAAIBjQAAAAAAAgGNAAAAAAACAY0AAAAAAAIBjQAAAAAAAgGNAAAAAAACAY0AAAAAAAIBjQAAAAAAAgGNAAAAAAACAY0AAAAAAAIBjQAAAAAAAgGNAAAAAAACAY0AAAAAAAIBjQAAAAAAAgGNAAAAAAACAY0AAAAAAAIBjQAAAAAAAgGNAAAAAAACAY0AAAAAAAIBjQAAAAAAAgGNAAAAAAACAY0AAAAAAAIBjQAAAAAAAgGNAAAAAAACAY0AAAAAAAIBjQAAAAAAAgGNAAAAAAACAY0AAAAAAAIBjQAAAAAAAgGNAAAAAAACAY0AAAAAAAIBjQAAAAAAAgGNAAAAAAACAY0AAAAAAAIBjQAAAAAAAgGNAAAAAAACAY0AAAAAAAIBjQAAAAAAAgGNAAAAAAACAY0AAAAAAAIBjQAAAAAAAgGNAAAAAAACAY0AAAAAAAIBjQAAAAAAAgGNAAAAAAACAY0AAAAAAAIBjQAAAAAAAgGNAAAAAAACAY0AAAAAAAIBjQAAAAAAAgGNAAAAAAACAY0AAAAAAAIBjQAAAAAAAgGNAAAAAAACAY0AAAAAAAIBjQAAAAAAAgGNAAAAAAACAY0AAAAAAAIBjQAAAAAAAgGNAAAAAAACAY0AAAAAAAIBjQAAAAAAAgGNAAAAAAACAY0AAAAAAAIBjQAAAAAAAgGNAAAAAAACAY0AAAAAAAIBjQAAAAAAAgGNAAAAAAACAY0AAAAAAAIBjQAAAAAAAgGNAAAAAAACAY0AAAAAAAIBjQAAAAAAAgGNAAAAAAACAY0AAAAAAAIBjQAAAAAAAgGNAAAAAAACAY0AAAAAAAIBjQAAAAAAAgGNAAAAAAACAY0AAAAAAAIBjQAAAAAAAgGNAAAAAAACAY0AAAAAAAIBjQAAAAAAAgGNAAAAAAACAY0AAAAAAAIBjQAAAAAAAgGNAAAAAAACAY0AAAAAAAIBjQAAAAAAAgGNAAAAAAACAY0AAAAAAAIBjQAAAAAAAgGNAAAAAAACAY0AAAAAAAIBjQAAAAAAAgGNAAAAAAACAY0AAAAAAAIBjQAAAAAAAgGNAAAAAAACAY0AAAAAAAIBjQAAAAAAAgGNAAAAAAACAY0AAAAAAAIBjQAAAAAAAgGNAAAAAAACAY0AAAAAAAIBjQAAAAAAAgGNAAAAAAACAY0AAAAAAAIBjQAAAAAAAgGNAAAAAAACAY0AAAAAAAIBjQAAAAAAAgGNAAAAAAACAY0AAAAAAAIBjQAAAAAAAgGNAAAAAAACAY0AAAAAAAIBjQAAAAAAAgGNAAAAAAACAY0AAAAAAAIBjQAAAAAAAgGNAAAAAAACAY0AAAAAAAIBjQAAAAAAAgGNAAAAAAACAY0AAAAAAAIBjQAAAAAAAgGNAAAAAAACAY0AAAAAAAIBjQAAAAAAAgGNAAAAAAACAY0AAAAAAAIBjQAAAAAAAgGNAAAAAAACAY0AAAAAAAIBjQAAAAAAAgGNAAAAAAACAY0AAAAAAAIBjQAAAAAAAgGNAAAAAAACAY0AAAAAAAIBjQAAAAAAAgGNAAAAAAACAY0AAAAAAAIBjQAAAAAAAgGNAAAAAAACAY0AAAAAAAIBjQAAAAAAAgGNAAAAAAACAY0AAAAAAAIBjQAAAAAAAgGNAAAAAAACAY0AAAAAAAIBjQAAAAAAAgGNAAAAAAACAY0AAAAAAAIBjQAAAAAAAgGNAAAAAAACAY0AAAAAAAIBjQAAAAAAAgGNAAAAAAACAY0AAAAAAAIBjQAAAAAAAgGNAAAAAAACAY0AAAAAAAIBjQAAAAAAAgGNAAAAAAACAY0AAAAAAAIBjQAAAAAAAgGNAAAAAAACAY0AAAAAAAIBjQAAAAAAAgGNAAAAAAACAY0AAAAAAAIBjQAAAAAAAgGNAAAAAAACAY0AAAAAAAIBjQAAAAAAAgGNAAAAAAACAY0AAAAAAAIBjQAAAAAAAgGNAAAAAAACAY0AAAAAAAIBjQAAAAAAAgGNAAAAAAACAY0AAAAAAAIBjQAAAAAAAgGNAAAAAAACAY0AAAAAAAIBjQAAAAAAAgGNAAAAAAACAY0AAAAAAAIBjQAAAAAAAgGNAAAAAAACAY0AAAAAAAIBjQAAAAAAAgGNAAAAAAACAY0AAAAAAAIBjQAAAAAAAgGNAAAAAAACAY0AAAAAAAIBjQAAAAAAAgGNAAAAAAACAY0AAAAAAAIBjQAAAAAAAgGNAAAAAAACAY0AAAAAAAIBjQAAAAAAAgGNAAAAAAACAY0AAAAAAAIBjQAAAAAAAgGNAAAAAAACAY0AAAAAAAIBjQAAAAAAAgGNAAAAAAACAY0AAAAAAAIBjQAAAAAAAgGNAAAAAAACAY0AAAAAAAIBjQAAAAAAAgGNAAAAAAACAY0AAAAAAAIBjQAAAAAAAgGNAAAAAAACAY0AAAAAAAIBjQAAAAAAAgGNAAAAAAACAY0AAAAAAAIBjQAAAAAAAgGNAAAAAAACAY0AAAAAAAIBjQAAAAAAAgGNAAAAAAACAY0AAAAAAAIBjQAAAAAAAgGNAAAAAAACAY0AAAAAAAIBjQAAAAAAAgGNAAAAAAACAY0AAAAAAAIBjQAAAAAAAgGNAAAAAAACAY0AAAAAAAIBjQAAAAAAAgGNAAAAAAACAY0AAAAAAAIBjQAAAAAAAgGNAAAAAAACAY0AAAAAAAIBjQAAAAAAAgGNAAAAAAACAY0AAAAAAAIBjQAAAAAAAgGNAAAAAAACAY0AAAAAAAIBjQAAAAAAAgGNAAAAAAACAY0AAAAAAAIBjQAAAAAAAgGNAAAAAAACAY0AAAAAAAIBjQAAAAAAAgGNAAAAAAACAY0AAAAAAAIBjQAAAAAAAgGNAAAAAAACAY0AAAAAAAIBjQAAAAAAAgGNAAAAAAACAY0AAAAAAAIBjQAAAAAAAgGNAAAAAAACAY0AAAAAAAIBjQAAAAAAAgGNAAAAAAACAY0AAAAAAAIBjQAAAAAAAgGNAAAAAAACAY0AAAAAAAIBjQAAAAAAAgGNAAAAAAACAY0AAAAAAAIBjQAAAAAAAgGNAAAAAAACAY0AAAAAAAIBjQAAAAAAAgGNAAAAAAACAY0AAAAAAAIBjQAAAAAAAgGNAAAAAAACAY0AAAAAAAIBjQAAAAAAAgGNAAAAAAACAY0AAAAAAAIBjQAAAAAAAgGNAAAAAAACAY0AAAAAAAIBjQAAAAAAAgGNAAAAAAACAY0AAAAAAAIBjQAAAAAAAgGNAAAAAAACAY0AAAAAAAIBjQAAAAAAAgGNAAAAAAACAY0AAAAAAAIBjQAAAAAAAgGNAAAAAAACAY0AAAAAAAIBjQAAAAAAAgGNAAAAAAACAY0AAAAAAAIBjQAAAAAAAgGNAAAAAAACAY0AAAAAAAIBjQAAAAAAAgGNAAAAAAACAY0AAAAAAAIBjQAAAAAAAgGNAAAAAAACAY0AAAAAAAIBjQAAAAAAAgGNAAAAAAACAY0AAAAAAAIBjQAAAAAAAgGNAAAAAAACAY0AAAAAAAIBjQAAAAAAAgGNAAAAAAACAY0AAAAAAAIBjQAAAAAAAgGNAAAAAAACAY0AAAAAAAIBjQAAAAAAAgGNAAAAAAACAY0AAAAAAAIBjQAAAAAAAgGNAAAAAAACAY0AAAAAAAIBjQAAAAAAAgGNAAAAAAACAY0AAAAAAAIBjQAAAAAAAgGNAAAAAAACAY0AAAAAAAIBjQAAAAAAAgGNAAAAAAACAY0AAAAAAAIBjQAAAAAAAgGNAAAAAAACAY0AAAAAAAIBjQAAAAAAAgGNAAAAAAACAY0AAAAAAAIBjQAAAAAAAgGNAAAAAAACAY0AAAAAAAIBjQAAAAAAAgGNAAAAAAACAY0AAAAAAAIBjQAAAAAAAgGNAAAAAAACAY0AAAAAAAIBjQAAAAAAAgGNAAAAAAACAY0AAAAAAAIBjQAAAAAAAgGNAAAAAAACAY0AAAAAAAIBjQAAAAAAAgGNAAAAAAACAY0AAAAAAAIBjQAAAAAAAgGNAAAAAAACAY0AAAAAAAIBjQAAAAAAAgGNAAAAAAACAY0AAAAAAAIBjQAAAAAAAgGNAAAAAAACAY0AAAAAAAIBjQAAAAAAAgGNAAAAAAACAY0AAAAAAAIBjQAAAAAAAgGNAAAAAAACAY0AAAAAAAIBjQAAAAAAAgGNAAAAAAACAY0AAAAAAAIBjQAAAAAAAgGNAAAAAAACAY0AAAAAAAIBjQAAAAAAAgGNAAAAAAACAY0AAAAAAAIBjQAAAAAAAgGNAAAAAAACAY0AAAAAAAIBjQAAAAAAAgGNAAAAAAACAY0AAAAAAAIBjQAAAAAAAgGNAAAAAAACAY0AAAAAAAIBjQAAAAAAAgGNAAAAAAACAY0AAAAAAAIBjQAAAAAAAgGNAAAAAAACAY0AAAAAAAIBjQAAAAAAAgGNAAAAAAACAY0AAAAAAAIBjQAAAAAAAgGNAAAAAAACAY0AAAAAAAIBjQAAAAAAAgGNAAAAAAACAY0AAAAAAAIBjQAAAAAAAgGNAAAAAAACAY0AAAAAAAIBjQAAAAAAAgGNAAAAAAACAY0AAAAAAAIBjQAAAAAAAgGNAAAAAAACAY0AAAAAAAIBjQAAAAAAAgGNAAAAAAACAY0AAAAAAAIBjQAAAAAAAgGNAAAAAAACAY0AAAAAAAIBjQAAAAAAAgGNAAAAAAACAY0AAAAAAAIBjQAAAAAAAgGNAAAAAAACAY0AAAAAAAIBjQAAAAAAAgGNAAAAAAACAY0AAAAAAAIBjQAAAAAAAgGNAAAAAAACAY0AAAAAAAIBjQAAAAAAAgGNAAAAAAACAY0AAAAAAAIBjQAAAAAAAgGNAAAAAAACAY0AAAAAAAIBjQAAAAAAAgGNAAAAAAACAY0AAAAAAAIBjQAAAAAAAgGNAAAAAAACAY0AAAAAAAIBjQAAAAAAAgGNAAAAAAACAY0AAAAAAAIBjQAAAAAAAgGNAAAAAAACAY0AAAAAAAIBjQAAAAAAAgGNAAAAAAACAY0AAAAAAAIBjQAAAAAAAgGNAAAAAAACAY0AAAAAAAIBjQAAAAAAAgGNAAAAAAACAY0AAAAAAAIBjQAAAAAAAgGNAAAAAAACAY0AAAAAAAIBjQAAAAAAAgGNAAAAAAACAY0AAAAAAAIBjQAAAAAAAgGNAAAAAAACAY0AAAAAAAIBjQAAAAAAAgGNAAAAAAACAY0AAAAAAAIBjQAAAAAAAgGNAAAAAAACAY0AAAAAAAIBjQAAAAAAAgGNA",
           "dtype": "f8"
          }
         },
         "node": {
          "color": [
           "rgba(31.0, 119.0, 180.0, 1.0)",
           "rgba(255.0, 127.0, 14.0, 1.0)",
           "rgba(152.0, 223.0, 138.0, 1.0)",
           "rgba(148.0, 103.0, 189.0, 1.0)",
           "rgba(196.0, 156.0, 148.0, 1.0)",
           "rgba(127.0, 127.0, 127.0, 1.0)",
           "rgba(219.0, 219.0, 141.0, 1.0)",
           "rgba(158.0, 218.0, 229.0, 1.0)"
          ],
          "label": [
           "-2.0.NEVER INFECTED",
           "3.0.Active Smpos",
           "0.0.Latent Slow",
           "-1.0.None",
           "5.0.Active Exptb",
           "1.0.Latent Fast",
           "4.0.Active Smneg",
           "2.0.Active Presymp"
          ],
          "line": {
           "color": "black",
           "width": 0.2
          },
          "pad": 15,
          "thickness": 20
         },
         "type": "sankey"
        }
       ],
       "layout": {
        "font": {
         "color": "black",
         "size": 10
        },
        "margin": {
         "b": 20,
         "l": 20,
         "r": 20,
         "t": 40
        },
        "template": {
         "data": {
          "bar": [
           {
            "error_x": {
             "color": "#2a3f5f"
            },
            "error_y": {
             "color": "#2a3f5f"
            },
            "marker": {
             "line": {
              "color": "#E5ECF6",
              "width": 0.5
             },
             "pattern": {
              "fillmode": "overlay",
              "size": 10,
              "solidity": 0.2
             }
            },
            "type": "bar"
           }
          ],
          "barpolar": [
           {
            "marker": {
             "line": {
              "color": "#E5ECF6",
              "width": 0.5
             },
             "pattern": {
              "fillmode": "overlay",
              "size": 10,
              "solidity": 0.2
             }
            },
            "type": "barpolar"
           }
          ],
          "carpet": [
           {
            "aaxis": {
             "endlinecolor": "#2a3f5f",
             "gridcolor": "white",
             "linecolor": "white",
             "minorgridcolor": "white",
             "startlinecolor": "#2a3f5f"
            },
            "baxis": {
             "endlinecolor": "#2a3f5f",
             "gridcolor": "white",
             "linecolor": "white",
             "minorgridcolor": "white",
             "startlinecolor": "#2a3f5f"
            },
            "type": "carpet"
           }
          ],
          "choropleth": [
           {
            "colorbar": {
             "outlinewidth": 0,
             "ticks": ""
            },
            "type": "choropleth"
           }
          ],
          "contour": [
           {
            "colorbar": {
             "outlinewidth": 0,
             "ticks": ""
            },
            "colorscale": [
             [
              0,
              "#0d0887"
             ],
             [
              0.1111111111111111,
              "#46039f"
             ],
             [
              0.2222222222222222,
              "#7201a8"
             ],
             [
              0.3333333333333333,
              "#9c179e"
             ],
             [
              0.4444444444444444,
              "#bd3786"
             ],
             [
              0.5555555555555556,
              "#d8576b"
             ],
             [
              0.6666666666666666,
              "#ed7953"
             ],
             [
              0.7777777777777778,
              "#fb9f3a"
             ],
             [
              0.8888888888888888,
              "#fdca26"
             ],
             [
              1,
              "#f0f921"
             ]
            ],
            "type": "contour"
           }
          ],
          "contourcarpet": [
           {
            "colorbar": {
             "outlinewidth": 0,
             "ticks": ""
            },
            "type": "contourcarpet"
           }
          ],
          "heatmap": [
           {
            "colorbar": {
             "outlinewidth": 0,
             "ticks": ""
            },
            "colorscale": [
             [
              0,
              "#0d0887"
             ],
             [
              0.1111111111111111,
              "#46039f"
             ],
             [
              0.2222222222222222,
              "#7201a8"
             ],
             [
              0.3333333333333333,
              "#9c179e"
             ],
             [
              0.4444444444444444,
              "#bd3786"
             ],
             [
              0.5555555555555556,
              "#d8576b"
             ],
             [
              0.6666666666666666,
              "#ed7953"
             ],
             [
              0.7777777777777778,
              "#fb9f3a"
             ],
             [
              0.8888888888888888,
              "#fdca26"
             ],
             [
              1,
              "#f0f921"
             ]
            ],
            "type": "heatmap"
           }
          ],
          "histogram": [
           {
            "marker": {
             "pattern": {
              "fillmode": "overlay",
              "size": 10,
              "solidity": 0.2
             }
            },
            "type": "histogram"
           }
          ],
          "histogram2d": [
           {
            "colorbar": {
             "outlinewidth": 0,
             "ticks": ""
            },
            "colorscale": [
             [
              0,
              "#0d0887"
             ],
             [
              0.1111111111111111,
              "#46039f"
             ],
             [
              0.2222222222222222,
              "#7201a8"
             ],
             [
              0.3333333333333333,
              "#9c179e"
             ],
             [
              0.4444444444444444,
              "#bd3786"
             ],
             [
              0.5555555555555556,
              "#d8576b"
             ],
             [
              0.6666666666666666,
              "#ed7953"
             ],
             [
              0.7777777777777778,
              "#fb9f3a"
             ],
             [
              0.8888888888888888,
              "#fdca26"
             ],
             [
              1,
              "#f0f921"
             ]
            ],
            "type": "histogram2d"
           }
          ],
          "histogram2dcontour": [
           {
            "colorbar": {
             "outlinewidth": 0,
             "ticks": ""
            },
            "colorscale": [
             [
              0,
              "#0d0887"
             ],
             [
              0.1111111111111111,
              "#46039f"
             ],
             [
              0.2222222222222222,
              "#7201a8"
             ],
             [
              0.3333333333333333,
              "#9c179e"
             ],
             [
              0.4444444444444444,
              "#bd3786"
             ],
             [
              0.5555555555555556,
              "#d8576b"
             ],
             [
              0.6666666666666666,
              "#ed7953"
             ],
             [
              0.7777777777777778,
              "#fb9f3a"
             ],
             [
              0.8888888888888888,
              "#fdca26"
             ],
             [
              1,
              "#f0f921"
             ]
            ],
            "type": "histogram2dcontour"
           }
          ],
          "mesh3d": [
           {
            "colorbar": {
             "outlinewidth": 0,
             "ticks": ""
            },
            "type": "mesh3d"
           }
          ],
          "parcoords": [
           {
            "line": {
             "colorbar": {
              "outlinewidth": 0,
              "ticks": ""
             }
            },
            "type": "parcoords"
           }
          ],
          "pie": [
           {
            "automargin": true,
            "type": "pie"
           }
          ],
          "scatter": [
           {
            "fillpattern": {
             "fillmode": "overlay",
             "size": 10,
             "solidity": 0.2
            },
            "type": "scatter"
           }
          ],
          "scatter3d": [
           {
            "line": {
             "colorbar": {
              "outlinewidth": 0,
              "ticks": ""
             }
            },
            "marker": {
             "colorbar": {
              "outlinewidth": 0,
              "ticks": ""
             }
            },
            "type": "scatter3d"
           }
          ],
          "scattercarpet": [
           {
            "marker": {
             "colorbar": {
              "outlinewidth": 0,
              "ticks": ""
             }
            },
            "type": "scattercarpet"
           }
          ],
          "scattergeo": [
           {
            "marker": {
             "colorbar": {
              "outlinewidth": 0,
              "ticks": ""
             }
            },
            "type": "scattergeo"
           }
          ],
          "scattergl": [
           {
            "marker": {
             "colorbar": {
              "outlinewidth": 0,
              "ticks": ""
             }
            },
            "type": "scattergl"
           }
          ],
          "scattermap": [
           {
            "marker": {
             "colorbar": {
              "outlinewidth": 0,
              "ticks": ""
             }
            },
            "type": "scattermap"
           }
          ],
          "scattermapbox": [
           {
            "marker": {
             "colorbar": {
              "outlinewidth": 0,
              "ticks": ""
             }
            },
            "type": "scattermapbox"
           }
          ],
          "scatterpolar": [
           {
            "marker": {
             "colorbar": {
              "outlinewidth": 0,
              "ticks": ""
             }
            },
            "type": "scatterpolar"
           }
          ],
          "scatterpolargl": [
           {
            "marker": {
             "colorbar": {
              "outlinewidth": 0,
              "ticks": ""
             }
            },
            "type": "scatterpolargl"
           }
          ],
          "scatterternary": [
           {
            "marker": {
             "colorbar": {
              "outlinewidth": 0,
              "ticks": ""
             }
            },
            "type": "scatterternary"
           }
          ],
          "surface": [
           {
            "colorbar": {
             "outlinewidth": 0,
             "ticks": ""
            },
            "colorscale": [
             [
              0,
              "#0d0887"
             ],
             [
              0.1111111111111111,
              "#46039f"
             ],
             [
              0.2222222222222222,
              "#7201a8"
             ],
             [
              0.3333333333333333,
              "#9c179e"
             ],
             [
              0.4444444444444444,
              "#bd3786"
             ],
             [
              0.5555555555555556,
              "#d8576b"
             ],
             [
              0.6666666666666666,
              "#ed7953"
             ],
             [
              0.7777777777777778,
              "#fb9f3a"
             ],
             [
              0.8888888888888888,
              "#fdca26"
             ],
             [
              1,
              "#f0f921"
             ]
            ],
            "type": "surface"
           }
          ],
          "table": [
           {
            "cells": {
             "fill": {
              "color": "#EBF0F8"
             },
             "line": {
              "color": "white"
             }
            },
            "header": {
             "fill": {
              "color": "#C8D4E3"
             },
             "line": {
              "color": "white"
             }
            },
            "type": "table"
           }
          ]
         },
         "layout": {
          "annotationdefaults": {
           "arrowcolor": "#2a3f5f",
           "arrowhead": 0,
           "arrowwidth": 1
          },
          "autotypenumbers": "strict",
          "coloraxis": {
           "colorbar": {
            "outlinewidth": 0,
            "ticks": ""
           }
          },
          "colorscale": {
           "diverging": [
            [
             0,
             "#8e0152"
            ],
            [
             0.1,
             "#c51b7d"
            ],
            [
             0.2,
             "#de77ae"
            ],
            [
             0.3,
             "#f1b6da"
            ],
            [
             0.4,
             "#fde0ef"
            ],
            [
             0.5,
             "#f7f7f7"
            ],
            [
             0.6,
             "#e6f5d0"
            ],
            [
             0.7,
             "#b8e186"
            ],
            [
             0.8,
             "#7fbc41"
            ],
            [
             0.9,
             "#4d9221"
            ],
            [
             1,
             "#276419"
            ]
           ],
           "sequential": [
            [
             0,
             "#0d0887"
            ],
            [
             0.1111111111111111,
             "#46039f"
            ],
            [
             0.2222222222222222,
             "#7201a8"
            ],
            [
             0.3333333333333333,
             "#9c179e"
            ],
            [
             0.4444444444444444,
             "#bd3786"
            ],
            [
             0.5555555555555556,
             "#d8576b"
            ],
            [
             0.6666666666666666,
             "#ed7953"
            ],
            [
             0.7777777777777778,
             "#fb9f3a"
            ],
            [
             0.8888888888888888,
             "#fdca26"
            ],
            [
             1,
             "#f0f921"
            ]
           ],
           "sequentialminus": [
            [
             0,
             "#0d0887"
            ],
            [
             0.1111111111111111,
             "#46039f"
            ],
            [
             0.2222222222222222,
             "#7201a8"
            ],
            [
             0.3333333333333333,
             "#9c179e"
            ],
            [
             0.4444444444444444,
             "#bd3786"
            ],
            [
             0.5555555555555556,
             "#d8576b"
            ],
            [
             0.6666666666666666,
             "#ed7953"
            ],
            [
             0.7777777777777778,
             "#fb9f3a"
            ],
            [
             0.8888888888888888,
             "#fdca26"
            ],
            [
             1,
             "#f0f921"
            ]
           ]
          },
          "colorway": [
           "#636efa",
           "#EF553B",
           "#00cc96",
           "#ab63fa",
           "#FFA15A",
           "#19d3f3",
           "#FF6692",
           "#B6E880",
           "#FF97FF",
           "#FECB52"
          ],
          "font": {
           "color": "#2a3f5f"
          },
          "geo": {
           "bgcolor": "white",
           "lakecolor": "white",
           "landcolor": "#E5ECF6",
           "showlakes": true,
           "showland": true,
           "subunitcolor": "white"
          },
          "hoverlabel": {
           "align": "left"
          },
          "hovermode": "closest",
          "mapbox": {
           "style": "light"
          },
          "paper_bgcolor": "white",
          "plot_bgcolor": "#E5ECF6",
          "polar": {
           "angularaxis": {
            "gridcolor": "white",
            "linecolor": "white",
            "ticks": ""
           },
           "bgcolor": "#E5ECF6",
           "radialaxis": {
            "gridcolor": "white",
            "linecolor": "white",
            "ticks": ""
           }
          },
          "scene": {
           "xaxis": {
            "backgroundcolor": "#E5ECF6",
            "gridcolor": "white",
            "gridwidth": 2,
            "linecolor": "white",
            "showbackground": true,
            "ticks": "",
            "zerolinecolor": "white"
           },
           "yaxis": {
            "backgroundcolor": "#E5ECF6",
            "gridcolor": "white",
            "gridwidth": 2,
            "linecolor": "white",
            "showbackground": true,
            "ticks": "",
            "zerolinecolor": "white"
           },
           "zaxis": {
            "backgroundcolor": "#E5ECF6",
            "gridcolor": "white",
            "gridwidth": 2,
            "linecolor": "white",
            "showbackground": true,
            "ticks": "",
            "zerolinecolor": "white"
           }
          },
          "shapedefaults": {
           "line": {
            "color": "#2a3f5f"
           }
          },
          "ternary": {
           "aaxis": {
            "gridcolor": "white",
            "linecolor": "white",
            "ticks": ""
           },
           "baxis": {
            "gridcolor": "white",
            "linecolor": "white",
            "ticks": ""
           },
           "bgcolor": "#E5ECF6",
           "caxis": {
            "gridcolor": "white",
            "linecolor": "white",
            "ticks": ""
           }
          },
          "title": {
           "x": 0.05
          },
          "xaxis": {
           "automargin": true,
           "gridcolor": "white",
           "linecolor": "white",
           "ticks": "",
           "title": {
            "standoff": 15
           },
           "zerolinecolor": "white",
           "zerolinewidth": 2
          },
          "yaxis": {
           "automargin": true,
           "gridcolor": "white",
           "linecolor": "white",
           "ticks": "",
           "title": {
            "standoff": 15
           },
           "zerolinecolor": "white",
           "zerolinewidth": 2
          }
         }
        },
        "title": {
         "font": {
          "size": 12
         },
         "text": "State Transitions - Dwell Times<br>State Transitions with Dwell Times  (DwtPlotter.sankey_dwelltimes())"
        }
       }
      }
     },
     "metadata": {},
     "output_type": "display_data"
    }
   ],
   "source": [
    "\n",
    "# Sankey diagram with dwell times\n",
    "analyzer.sankey_dwelltimes(subtitle=\"State Transitions with Dwell Times\")\n"
   ]
  },
  {
   "cell_type": "code",
   "execution_count": 24,
   "id": "2fe7e7ec",
   "metadata": {},
   "outputs": [
    {
     "data": {
      "application/vnd.plotly.v1+json": {
       "config": {
        "plotlyServerURL": "https://plot.ly"
       },
       "data": [
        {
         "link": {
          "source": {
           "bdata": "AgICAwU=",
           "dtype": "i1"
          },
          "target": {
           "bdata": "AAEDBQQ=",
           "dtype": "i1"
          },
          "value": {
           "bdata": "Ow4DAgE=",
           "dtype": "i1"
          }
         },
         "node": {
          "label": [
           "-2.0.NEVER INFECTED",
           "0.0.Latent Slow",
           "-1.0.None",
           "1.0.Latent Fast",
           "4.0.Active Smneg",
           "2.0.Active Presymp"
          ],
          "pad": 15,
          "thickness": 20
         },
         "type": "sankey"
        }
       ],
       "layout": {
        "template": {
         "data": {
          "bar": [
           {
            "error_x": {
             "color": "#2a3f5f"
            },
            "error_y": {
             "color": "#2a3f5f"
            },
            "marker": {
             "line": {
              "color": "#E5ECF6",
              "width": 0.5
             },
             "pattern": {
              "fillmode": "overlay",
              "size": 10,
              "solidity": 0.2
             }
            },
            "type": "bar"
           }
          ],
          "barpolar": [
           {
            "marker": {
             "line": {
              "color": "#E5ECF6",
              "width": 0.5
             },
             "pattern": {
              "fillmode": "overlay",
              "size": 10,
              "solidity": 0.2
             }
            },
            "type": "barpolar"
           }
          ],
          "carpet": [
           {
            "aaxis": {
             "endlinecolor": "#2a3f5f",
             "gridcolor": "white",
             "linecolor": "white",
             "minorgridcolor": "white",
             "startlinecolor": "#2a3f5f"
            },
            "baxis": {
             "endlinecolor": "#2a3f5f",
             "gridcolor": "white",
             "linecolor": "white",
             "minorgridcolor": "white",
             "startlinecolor": "#2a3f5f"
            },
            "type": "carpet"
           }
          ],
          "choropleth": [
           {
            "colorbar": {
             "outlinewidth": 0,
             "ticks": ""
            },
            "type": "choropleth"
           }
          ],
          "contour": [
           {
            "colorbar": {
             "outlinewidth": 0,
             "ticks": ""
            },
            "colorscale": [
             [
              0,
              "#0d0887"
             ],
             [
              0.1111111111111111,
              "#46039f"
             ],
             [
              0.2222222222222222,
              "#7201a8"
             ],
             [
              0.3333333333333333,
              "#9c179e"
             ],
             [
              0.4444444444444444,
              "#bd3786"
             ],
             [
              0.5555555555555556,
              "#d8576b"
             ],
             [
              0.6666666666666666,
              "#ed7953"
             ],
             [
              0.7777777777777778,
              "#fb9f3a"
             ],
             [
              0.8888888888888888,
              "#fdca26"
             ],
             [
              1,
              "#f0f921"
             ]
            ],
            "type": "contour"
           }
          ],
          "contourcarpet": [
           {
            "colorbar": {
             "outlinewidth": 0,
             "ticks": ""
            },
            "type": "contourcarpet"
           }
          ],
          "heatmap": [
           {
            "colorbar": {
             "outlinewidth": 0,
             "ticks": ""
            },
            "colorscale": [
             [
              0,
              "#0d0887"
             ],
             [
              0.1111111111111111,
              "#46039f"
             ],
             [
              0.2222222222222222,
              "#7201a8"
             ],
             [
              0.3333333333333333,
              "#9c179e"
             ],
             [
              0.4444444444444444,
              "#bd3786"
             ],
             [
              0.5555555555555556,
              "#d8576b"
             ],
             [
              0.6666666666666666,
              "#ed7953"
             ],
             [
              0.7777777777777778,
              "#fb9f3a"
             ],
             [
              0.8888888888888888,
              "#fdca26"
             ],
             [
              1,
              "#f0f921"
             ]
            ],
            "type": "heatmap"
           }
          ],
          "histogram": [
           {
            "marker": {
             "pattern": {
              "fillmode": "overlay",
              "size": 10,
              "solidity": 0.2
             }
            },
            "type": "histogram"
           }
          ],
          "histogram2d": [
           {
            "colorbar": {
             "outlinewidth": 0,
             "ticks": ""
            },
            "colorscale": [
             [
              0,
              "#0d0887"
             ],
             [
              0.1111111111111111,
              "#46039f"
             ],
             [
              0.2222222222222222,
              "#7201a8"
             ],
             [
              0.3333333333333333,
              "#9c179e"
             ],
             [
              0.4444444444444444,
              "#bd3786"
             ],
             [
              0.5555555555555556,
              "#d8576b"
             ],
             [
              0.6666666666666666,
              "#ed7953"
             ],
             [
              0.7777777777777778,
              "#fb9f3a"
             ],
             [
              0.8888888888888888,
              "#fdca26"
             ],
             [
              1,
              "#f0f921"
             ]
            ],
            "type": "histogram2d"
           }
          ],
          "histogram2dcontour": [
           {
            "colorbar": {
             "outlinewidth": 0,
             "ticks": ""
            },
            "colorscale": [
             [
              0,
              "#0d0887"
             ],
             [
              0.1111111111111111,
              "#46039f"
             ],
             [
              0.2222222222222222,
              "#7201a8"
             ],
             [
              0.3333333333333333,
              "#9c179e"
             ],
             [
              0.4444444444444444,
              "#bd3786"
             ],
             [
              0.5555555555555556,
              "#d8576b"
             ],
             [
              0.6666666666666666,
              "#ed7953"
             ],
             [
              0.7777777777777778,
              "#fb9f3a"
             ],
             [
              0.8888888888888888,
              "#fdca26"
             ],
             [
              1,
              "#f0f921"
             ]
            ],
            "type": "histogram2dcontour"
           }
          ],
          "mesh3d": [
           {
            "colorbar": {
             "outlinewidth": 0,
             "ticks": ""
            },
            "type": "mesh3d"
           }
          ],
          "parcoords": [
           {
            "line": {
             "colorbar": {
              "outlinewidth": 0,
              "ticks": ""
             }
            },
            "type": "parcoords"
           }
          ],
          "pie": [
           {
            "automargin": true,
            "type": "pie"
           }
          ],
          "scatter": [
           {
            "fillpattern": {
             "fillmode": "overlay",
             "size": 10,
             "solidity": 0.2
            },
            "type": "scatter"
           }
          ],
          "scatter3d": [
           {
            "line": {
             "colorbar": {
              "outlinewidth": 0,
              "ticks": ""
             }
            },
            "marker": {
             "colorbar": {
              "outlinewidth": 0,
              "ticks": ""
             }
            },
            "type": "scatter3d"
           }
          ],
          "scattercarpet": [
           {
            "marker": {
             "colorbar": {
              "outlinewidth": 0,
              "ticks": ""
             }
            },
            "type": "scattercarpet"
           }
          ],
          "scattergeo": [
           {
            "marker": {
             "colorbar": {
              "outlinewidth": 0,
              "ticks": ""
             }
            },
            "type": "scattergeo"
           }
          ],
          "scattergl": [
           {
            "marker": {
             "colorbar": {
              "outlinewidth": 0,
              "ticks": ""
             }
            },
            "type": "scattergl"
           }
          ],
          "scattermap": [
           {
            "marker": {
             "colorbar": {
              "outlinewidth": 0,
              "ticks": ""
             }
            },
            "type": "scattermap"
           }
          ],
          "scattermapbox": [
           {
            "marker": {
             "colorbar": {
              "outlinewidth": 0,
              "ticks": ""
             }
            },
            "type": "scattermapbox"
           }
          ],
          "scatterpolar": [
           {
            "marker": {
             "colorbar": {
              "outlinewidth": 0,
              "ticks": ""
             }
            },
            "type": "scatterpolar"
           }
          ],
          "scatterpolargl": [
           {
            "marker": {
             "colorbar": {
              "outlinewidth": 0,
              "ticks": ""
             }
            },
            "type": "scatterpolargl"
           }
          ],
          "scatterternary": [
           {
            "marker": {
             "colorbar": {
              "outlinewidth": 0,
              "ticks": ""
             }
            },
            "type": "scatterternary"
           }
          ],
          "surface": [
           {
            "colorbar": {
             "outlinewidth": 0,
             "ticks": ""
            },
            "colorscale": [
             [
              0,
              "#0d0887"
             ],
             [
              0.1111111111111111,
              "#46039f"
             ],
             [
              0.2222222222222222,
              "#7201a8"
             ],
             [
              0.3333333333333333,
              "#9c179e"
             ],
             [
              0.4444444444444444,
              "#bd3786"
             ],
             [
              0.5555555555555556,
              "#d8576b"
             ],
             [
              0.6666666666666666,
              "#ed7953"
             ],
             [
              0.7777777777777778,
              "#fb9f3a"
             ],
             [
              0.8888888888888888,
              "#fdca26"
             ],
             [
              1,
              "#f0f921"
             ]
            ],
            "type": "surface"
           }
          ],
          "table": [
           {
            "cells": {
             "fill": {
              "color": "#EBF0F8"
             },
             "line": {
              "color": "white"
             }
            },
            "header": {
             "fill": {
              "color": "#C8D4E3"
             },
             "line": {
              "color": "white"
             }
            },
            "type": "table"
           }
          ]
         },
         "layout": {
          "annotationdefaults": {
           "arrowcolor": "#2a3f5f",
           "arrowhead": 0,
           "arrowwidth": 1
          },
          "autotypenumbers": "strict",
          "coloraxis": {
           "colorbar": {
            "outlinewidth": 0,
            "ticks": ""
           }
          },
          "colorscale": {
           "diverging": [
            [
             0,
             "#8e0152"
            ],
            [
             0.1,
             "#c51b7d"
            ],
            [
             0.2,
             "#de77ae"
            ],
            [
             0.3,
             "#f1b6da"
            ],
            [
             0.4,
             "#fde0ef"
            ],
            [
             0.5,
             "#f7f7f7"
            ],
            [
             0.6,
             "#e6f5d0"
            ],
            [
             0.7,
             "#b8e186"
            ],
            [
             0.8,
             "#7fbc41"
            ],
            [
             0.9,
             "#4d9221"
            ],
            [
             1,
             "#276419"
            ]
           ],
           "sequential": [
            [
             0,
             "#0d0887"
            ],
            [
             0.1111111111111111,
             "#46039f"
            ],
            [
             0.2222222222222222,
             "#7201a8"
            ],
            [
             0.3333333333333333,
             "#9c179e"
            ],
            [
             0.4444444444444444,
             "#bd3786"
            ],
            [
             0.5555555555555556,
             "#d8576b"
            ],
            [
             0.6666666666666666,
             "#ed7953"
            ],
            [
             0.7777777777777778,
             "#fb9f3a"
            ],
            [
             0.8888888888888888,
             "#fdca26"
            ],
            [
             1,
             "#f0f921"
            ]
           ],
           "sequentialminus": [
            [
             0,
             "#0d0887"
            ],
            [
             0.1111111111111111,
             "#46039f"
            ],
            [
             0.2222222222222222,
             "#7201a8"
            ],
            [
             0.3333333333333333,
             "#9c179e"
            ],
            [
             0.4444444444444444,
             "#bd3786"
            ],
            [
             0.5555555555555556,
             "#d8576b"
            ],
            [
             0.6666666666666666,
             "#ed7953"
            ],
            [
             0.7777777777777778,
             "#fb9f3a"
            ],
            [
             0.8888888888888888,
             "#fdca26"
            ],
            [
             1,
             "#f0f921"
            ]
           ]
          },
          "colorway": [
           "#636efa",
           "#EF553B",
           "#00cc96",
           "#ab63fa",
           "#FFA15A",
           "#19d3f3",
           "#FF6692",
           "#B6E880",
           "#FF97FF",
           "#FECB52"
          ],
          "font": {
           "color": "#2a3f5f"
          },
          "geo": {
           "bgcolor": "white",
           "lakecolor": "white",
           "landcolor": "#E5ECF6",
           "showlakes": true,
           "showland": true,
           "subunitcolor": "white"
          },
          "hoverlabel": {
           "align": "left"
          },
          "hovermode": "closest",
          "mapbox": {
           "style": "light"
          },
          "paper_bgcolor": "white",
          "plot_bgcolor": "#E5ECF6",
          "polar": {
           "angularaxis": {
            "gridcolor": "white",
            "linecolor": "white",
            "ticks": ""
           },
           "bgcolor": "#E5ECF6",
           "radialaxis": {
            "gridcolor": "white",
            "linecolor": "white",
            "ticks": ""
           }
          },
          "scene": {
           "xaxis": {
            "backgroundcolor": "#E5ECF6",
            "gridcolor": "white",
            "gridwidth": 2,
            "linecolor": "white",
            "showbackground": true,
            "ticks": "",
            "zerolinecolor": "white"
           },
           "yaxis": {
            "backgroundcolor": "#E5ECF6",
            "gridcolor": "white",
            "gridwidth": 2,
            "linecolor": "white",
            "showbackground": true,
            "ticks": "",
            "zerolinecolor": "white"
           },
           "zaxis": {
            "backgroundcolor": "#E5ECF6",
            "gridcolor": "white",
            "gridwidth": 2,
            "linecolor": "white",
            "showbackground": true,
            "ticks": "",
            "zerolinecolor": "white"
           }
          },
          "shapedefaults": {
           "line": {
            "color": "#2a3f5f"
           }
          },
          "ternary": {
           "aaxis": {
            "gridcolor": "white",
            "linecolor": "white",
            "ticks": ""
           },
           "baxis": {
            "gridcolor": "white",
            "linecolor": "white",
            "ticks": ""
           },
           "bgcolor": "#E5ECF6",
           "caxis": {
            "gridcolor": "white",
            "linecolor": "white",
            "ticks": ""
           }
          },
          "title": {
           "x": 0.05
          },
          "xaxis": {
           "automargin": true,
           "gridcolor": "white",
           "linecolor": "white",
           "ticks": "",
           "title": {
            "standoff": 15
           },
           "zerolinecolor": "white",
           "zerolinewidth": 2
          },
          "yaxis": {
           "automargin": true,
           "gridcolor": "white",
           "linecolor": "white",
           "ticks": "",
           "title": {
            "standoff": 15
           },
           "zerolinecolor": "white",
           "zerolinewidth": 2
          }
         }
        },
        "title": {
         "text": "Sankey Diagram (Ages >= 0 and <5),<br> Age-stratified Analysis <br> DwtPlotter.sankey_agents_by_age_subplots()"
        }
       }
      }
     },
     "metadata": {},
     "output_type": "display_data"
    },
    {
     "data": {
      "application/vnd.plotly.v1+json": {
       "config": {
        "plotlyServerURL": "https://plot.ly"
       },
       "data": [
        {
         "link": {
          "source": {
           "bdata": "AQEBAg==",
           "dtype": "i1"
          },
          "target": {
           "bdata": "AwACBA==",
           "dtype": "i1"
          },
          "value": {
           "bdata": "bykGAg==",
           "dtype": "i1"
          }
         },
         "node": {
          "label": [
           "0.0.Latent Slow",
           "-1.0.None",
           "1.0.Latent Fast",
           "-2.0.NEVER INFECTED",
           "2.0.Active Presymp"
          ],
          "pad": 15,
          "thickness": 20
         },
         "type": "sankey"
        }
       ],
       "layout": {
        "template": {
         "data": {
          "bar": [
           {
            "error_x": {
             "color": "#2a3f5f"
            },
            "error_y": {
             "color": "#2a3f5f"
            },
            "marker": {
             "line": {
              "color": "#E5ECF6",
              "width": 0.5
             },
             "pattern": {
              "fillmode": "overlay",
              "size": 10,
              "solidity": 0.2
             }
            },
            "type": "bar"
           }
          ],
          "barpolar": [
           {
            "marker": {
             "line": {
              "color": "#E5ECF6",
              "width": 0.5
             },
             "pattern": {
              "fillmode": "overlay",
              "size": 10,
              "solidity": 0.2
             }
            },
            "type": "barpolar"
           }
          ],
          "carpet": [
           {
            "aaxis": {
             "endlinecolor": "#2a3f5f",
             "gridcolor": "white",
             "linecolor": "white",
             "minorgridcolor": "white",
             "startlinecolor": "#2a3f5f"
            },
            "baxis": {
             "endlinecolor": "#2a3f5f",
             "gridcolor": "white",
             "linecolor": "white",
             "minorgridcolor": "white",
             "startlinecolor": "#2a3f5f"
            },
            "type": "carpet"
           }
          ],
          "choropleth": [
           {
            "colorbar": {
             "outlinewidth": 0,
             "ticks": ""
            },
            "type": "choropleth"
           }
          ],
          "contour": [
           {
            "colorbar": {
             "outlinewidth": 0,
             "ticks": ""
            },
            "colorscale": [
             [
              0,
              "#0d0887"
             ],
             [
              0.1111111111111111,
              "#46039f"
             ],
             [
              0.2222222222222222,
              "#7201a8"
             ],
             [
              0.3333333333333333,
              "#9c179e"
             ],
             [
              0.4444444444444444,
              "#bd3786"
             ],
             [
              0.5555555555555556,
              "#d8576b"
             ],
             [
              0.6666666666666666,
              "#ed7953"
             ],
             [
              0.7777777777777778,
              "#fb9f3a"
             ],
             [
              0.8888888888888888,
              "#fdca26"
             ],
             [
              1,
              "#f0f921"
             ]
            ],
            "type": "contour"
           }
          ],
          "contourcarpet": [
           {
            "colorbar": {
             "outlinewidth": 0,
             "ticks": ""
            },
            "type": "contourcarpet"
           }
          ],
          "heatmap": [
           {
            "colorbar": {
             "outlinewidth": 0,
             "ticks": ""
            },
            "colorscale": [
             [
              0,
              "#0d0887"
             ],
             [
              0.1111111111111111,
              "#46039f"
             ],
             [
              0.2222222222222222,
              "#7201a8"
             ],
             [
              0.3333333333333333,
              "#9c179e"
             ],
             [
              0.4444444444444444,
              "#bd3786"
             ],
             [
              0.5555555555555556,
              "#d8576b"
             ],
             [
              0.6666666666666666,
              "#ed7953"
             ],
             [
              0.7777777777777778,
              "#fb9f3a"
             ],
             [
              0.8888888888888888,
              "#fdca26"
             ],
             [
              1,
              "#f0f921"
             ]
            ],
            "type": "heatmap"
           }
          ],
          "histogram": [
           {
            "marker": {
             "pattern": {
              "fillmode": "overlay",
              "size": 10,
              "solidity": 0.2
             }
            },
            "type": "histogram"
           }
          ],
          "histogram2d": [
           {
            "colorbar": {
             "outlinewidth": 0,
             "ticks": ""
            },
            "colorscale": [
             [
              0,
              "#0d0887"
             ],
             [
              0.1111111111111111,
              "#46039f"
             ],
             [
              0.2222222222222222,
              "#7201a8"
             ],
             [
              0.3333333333333333,
              "#9c179e"
             ],
             [
              0.4444444444444444,
              "#bd3786"
             ],
             [
              0.5555555555555556,
              "#d8576b"
             ],
             [
              0.6666666666666666,
              "#ed7953"
             ],
             [
              0.7777777777777778,
              "#fb9f3a"
             ],
             [
              0.8888888888888888,
              "#fdca26"
             ],
             [
              1,
              "#f0f921"
             ]
            ],
            "type": "histogram2d"
           }
          ],
          "histogram2dcontour": [
           {
            "colorbar": {
             "outlinewidth": 0,
             "ticks": ""
            },
            "colorscale": [
             [
              0,
              "#0d0887"
             ],
             [
              0.1111111111111111,
              "#46039f"
             ],
             [
              0.2222222222222222,
              "#7201a8"
             ],
             [
              0.3333333333333333,
              "#9c179e"
             ],
             [
              0.4444444444444444,
              "#bd3786"
             ],
             [
              0.5555555555555556,
              "#d8576b"
             ],
             [
              0.6666666666666666,
              "#ed7953"
             ],
             [
              0.7777777777777778,
              "#fb9f3a"
             ],
             [
              0.8888888888888888,
              "#fdca26"
             ],
             [
              1,
              "#f0f921"
             ]
            ],
            "type": "histogram2dcontour"
           }
          ],
          "mesh3d": [
           {
            "colorbar": {
             "outlinewidth": 0,
             "ticks": ""
            },
            "type": "mesh3d"
           }
          ],
          "parcoords": [
           {
            "line": {
             "colorbar": {
              "outlinewidth": 0,
              "ticks": ""
             }
            },
            "type": "parcoords"
           }
          ],
          "pie": [
           {
            "automargin": true,
            "type": "pie"
           }
          ],
          "scatter": [
           {
            "fillpattern": {
             "fillmode": "overlay",
             "size": 10,
             "solidity": 0.2
            },
            "type": "scatter"
           }
          ],
          "scatter3d": [
           {
            "line": {
             "colorbar": {
              "outlinewidth": 0,
              "ticks": ""
             }
            },
            "marker": {
             "colorbar": {
              "outlinewidth": 0,
              "ticks": ""
             }
            },
            "type": "scatter3d"
           }
          ],
          "scattercarpet": [
           {
            "marker": {
             "colorbar": {
              "outlinewidth": 0,
              "ticks": ""
             }
            },
            "type": "scattercarpet"
           }
          ],
          "scattergeo": [
           {
            "marker": {
             "colorbar": {
              "outlinewidth": 0,
              "ticks": ""
             }
            },
            "type": "scattergeo"
           }
          ],
          "scattergl": [
           {
            "marker": {
             "colorbar": {
              "outlinewidth": 0,
              "ticks": ""
             }
            },
            "type": "scattergl"
           }
          ],
          "scattermap": [
           {
            "marker": {
             "colorbar": {
              "outlinewidth": 0,
              "ticks": ""
             }
            },
            "type": "scattermap"
           }
          ],
          "scattermapbox": [
           {
            "marker": {
             "colorbar": {
              "outlinewidth": 0,
              "ticks": ""
             }
            },
            "type": "scattermapbox"
           }
          ],
          "scatterpolar": [
           {
            "marker": {
             "colorbar": {
              "outlinewidth": 0,
              "ticks": ""
             }
            },
            "type": "scatterpolar"
           }
          ],
          "scatterpolargl": [
           {
            "marker": {
             "colorbar": {
              "outlinewidth": 0,
              "ticks": ""
             }
            },
            "type": "scatterpolargl"
           }
          ],
          "scatterternary": [
           {
            "marker": {
             "colorbar": {
              "outlinewidth": 0,
              "ticks": ""
             }
            },
            "type": "scatterternary"
           }
          ],
          "surface": [
           {
            "colorbar": {
             "outlinewidth": 0,
             "ticks": ""
            },
            "colorscale": [
             [
              0,
              "#0d0887"
             ],
             [
              0.1111111111111111,
              "#46039f"
             ],
             [
              0.2222222222222222,
              "#7201a8"
             ],
             [
              0.3333333333333333,
              "#9c179e"
             ],
             [
              0.4444444444444444,
              "#bd3786"
             ],
             [
              0.5555555555555556,
              "#d8576b"
             ],
             [
              0.6666666666666666,
              "#ed7953"
             ],
             [
              0.7777777777777778,
              "#fb9f3a"
             ],
             [
              0.8888888888888888,
              "#fdca26"
             ],
             [
              1,
              "#f0f921"
             ]
            ],
            "type": "surface"
           }
          ],
          "table": [
           {
            "cells": {
             "fill": {
              "color": "#EBF0F8"
             },
             "line": {
              "color": "white"
             }
            },
            "header": {
             "fill": {
              "color": "#C8D4E3"
             },
             "line": {
              "color": "white"
             }
            },
            "type": "table"
           }
          ]
         },
         "layout": {
          "annotationdefaults": {
           "arrowcolor": "#2a3f5f",
           "arrowhead": 0,
           "arrowwidth": 1
          },
          "autotypenumbers": "strict",
          "coloraxis": {
           "colorbar": {
            "outlinewidth": 0,
            "ticks": ""
           }
          },
          "colorscale": {
           "diverging": [
            [
             0,
             "#8e0152"
            ],
            [
             0.1,
             "#c51b7d"
            ],
            [
             0.2,
             "#de77ae"
            ],
            [
             0.3,
             "#f1b6da"
            ],
            [
             0.4,
             "#fde0ef"
            ],
            [
             0.5,
             "#f7f7f7"
            ],
            [
             0.6,
             "#e6f5d0"
            ],
            [
             0.7,
             "#b8e186"
            ],
            [
             0.8,
             "#7fbc41"
            ],
            [
             0.9,
             "#4d9221"
            ],
            [
             1,
             "#276419"
            ]
           ],
           "sequential": [
            [
             0,
             "#0d0887"
            ],
            [
             0.1111111111111111,
             "#46039f"
            ],
            [
             0.2222222222222222,
             "#7201a8"
            ],
            [
             0.3333333333333333,
             "#9c179e"
            ],
            [
             0.4444444444444444,
             "#bd3786"
            ],
            [
             0.5555555555555556,
             "#d8576b"
            ],
            [
             0.6666666666666666,
             "#ed7953"
            ],
            [
             0.7777777777777778,
             "#fb9f3a"
            ],
            [
             0.8888888888888888,
             "#fdca26"
            ],
            [
             1,
             "#f0f921"
            ]
           ],
           "sequentialminus": [
            [
             0,
             "#0d0887"
            ],
            [
             0.1111111111111111,
             "#46039f"
            ],
            [
             0.2222222222222222,
             "#7201a8"
            ],
            [
             0.3333333333333333,
             "#9c179e"
            ],
            [
             0.4444444444444444,
             "#bd3786"
            ],
            [
             0.5555555555555556,
             "#d8576b"
            ],
            [
             0.6666666666666666,
             "#ed7953"
            ],
            [
             0.7777777777777778,
             "#fb9f3a"
            ],
            [
             0.8888888888888888,
             "#fdca26"
            ],
            [
             1,
             "#f0f921"
            ]
           ]
          },
          "colorway": [
           "#636efa",
           "#EF553B",
           "#00cc96",
           "#ab63fa",
           "#FFA15A",
           "#19d3f3",
           "#FF6692",
           "#B6E880",
           "#FF97FF",
           "#FECB52"
          ],
          "font": {
           "color": "#2a3f5f"
          },
          "geo": {
           "bgcolor": "white",
           "lakecolor": "white",
           "landcolor": "#E5ECF6",
           "showlakes": true,
           "showland": true,
           "subunitcolor": "white"
          },
          "hoverlabel": {
           "align": "left"
          },
          "hovermode": "closest",
          "mapbox": {
           "style": "light"
          },
          "paper_bgcolor": "white",
          "plot_bgcolor": "#E5ECF6",
          "polar": {
           "angularaxis": {
            "gridcolor": "white",
            "linecolor": "white",
            "ticks": ""
           },
           "bgcolor": "#E5ECF6",
           "radialaxis": {
            "gridcolor": "white",
            "linecolor": "white",
            "ticks": ""
           }
          },
          "scene": {
           "xaxis": {
            "backgroundcolor": "#E5ECF6",
            "gridcolor": "white",
            "gridwidth": 2,
            "linecolor": "white",
            "showbackground": true,
            "ticks": "",
            "zerolinecolor": "white"
           },
           "yaxis": {
            "backgroundcolor": "#E5ECF6",
            "gridcolor": "white",
            "gridwidth": 2,
            "linecolor": "white",
            "showbackground": true,
            "ticks": "",
            "zerolinecolor": "white"
           },
           "zaxis": {
            "backgroundcolor": "#E5ECF6",
            "gridcolor": "white",
            "gridwidth": 2,
            "linecolor": "white",
            "showbackground": true,
            "ticks": "",
            "zerolinecolor": "white"
           }
          },
          "shapedefaults": {
           "line": {
            "color": "#2a3f5f"
           }
          },
          "ternary": {
           "aaxis": {
            "gridcolor": "white",
            "linecolor": "white",
            "ticks": ""
           },
           "baxis": {
            "gridcolor": "white",
            "linecolor": "white",
            "ticks": ""
           },
           "bgcolor": "#E5ECF6",
           "caxis": {
            "gridcolor": "white",
            "linecolor": "white",
            "ticks": ""
           }
          },
          "title": {
           "x": 0.05
          },
          "xaxis": {
           "automargin": true,
           "gridcolor": "white",
           "linecolor": "white",
           "ticks": "",
           "title": {
            "standoff": 15
           },
           "zerolinecolor": "white",
           "zerolinewidth": 2
          },
          "yaxis": {
           "automargin": true,
           "gridcolor": "white",
           "linecolor": "white",
           "ticks": "",
           "title": {
            "standoff": 15
           },
           "zerolinecolor": "white",
           "zerolinewidth": 2
          }
         }
        },
        "title": {
         "text": "Sankey Diagram (Ages >= 5 and <15),<br> Age-stratified Analysis <br> DwtPlotter.sankey_agents_by_age_subplots()"
        }
       }
      }
     },
     "metadata": {},
     "output_type": "display_data"
    },
    {
     "data": {
      "application/vnd.plotly.v1+json": {
       "config": {
        "plotlyServerURL": "https://plot.ly"
       },
       "data": [
        {
         "link": {
          "source": {
           "bdata": "AwMDBAYG",
           "dtype": "i1"
          },
          "target": {
           "bdata": "AAIEBgEF",
           "dtype": "i1"
          },
          "value": {
           "bdata": "wgA6AAgABgABAAQA",
           "dtype": "i2"
          }
         },
         "node": {
          "label": [
           "-2.0.NEVER INFECTED",
           "3.0.Active Smpos",
           "0.0.Latent Slow",
           "-1.0.None",
           "1.0.Latent Fast",
           "4.0.Active Smneg",
           "2.0.Active Presymp"
          ],
          "pad": 15,
          "thickness": 20
         },
         "type": "sankey"
        }
       ],
       "layout": {
        "template": {
         "data": {
          "bar": [
           {
            "error_x": {
             "color": "#2a3f5f"
            },
            "error_y": {
             "color": "#2a3f5f"
            },
            "marker": {
             "line": {
              "color": "#E5ECF6",
              "width": 0.5
             },
             "pattern": {
              "fillmode": "overlay",
              "size": 10,
              "solidity": 0.2
             }
            },
            "type": "bar"
           }
          ],
          "barpolar": [
           {
            "marker": {
             "line": {
              "color": "#E5ECF6",
              "width": 0.5
             },
             "pattern": {
              "fillmode": "overlay",
              "size": 10,
              "solidity": 0.2
             }
            },
            "type": "barpolar"
           }
          ],
          "carpet": [
           {
            "aaxis": {
             "endlinecolor": "#2a3f5f",
             "gridcolor": "white",
             "linecolor": "white",
             "minorgridcolor": "white",
             "startlinecolor": "#2a3f5f"
            },
            "baxis": {
             "endlinecolor": "#2a3f5f",
             "gridcolor": "white",
             "linecolor": "white",
             "minorgridcolor": "white",
             "startlinecolor": "#2a3f5f"
            },
            "type": "carpet"
           }
          ],
          "choropleth": [
           {
            "colorbar": {
             "outlinewidth": 0,
             "ticks": ""
            },
            "type": "choropleth"
           }
          ],
          "contour": [
           {
            "colorbar": {
             "outlinewidth": 0,
             "ticks": ""
            },
            "colorscale": [
             [
              0,
              "#0d0887"
             ],
             [
              0.1111111111111111,
              "#46039f"
             ],
             [
              0.2222222222222222,
              "#7201a8"
             ],
             [
              0.3333333333333333,
              "#9c179e"
             ],
             [
              0.4444444444444444,
              "#bd3786"
             ],
             [
              0.5555555555555556,
              "#d8576b"
             ],
             [
              0.6666666666666666,
              "#ed7953"
             ],
             [
              0.7777777777777778,
              "#fb9f3a"
             ],
             [
              0.8888888888888888,
              "#fdca26"
             ],
             [
              1,
              "#f0f921"
             ]
            ],
            "type": "contour"
           }
          ],
          "contourcarpet": [
           {
            "colorbar": {
             "outlinewidth": 0,
             "ticks": ""
            },
            "type": "contourcarpet"
           }
          ],
          "heatmap": [
           {
            "colorbar": {
             "outlinewidth": 0,
             "ticks": ""
            },
            "colorscale": [
             [
              0,
              "#0d0887"
             ],
             [
              0.1111111111111111,
              "#46039f"
             ],
             [
              0.2222222222222222,
              "#7201a8"
             ],
             [
              0.3333333333333333,
              "#9c179e"
             ],
             [
              0.4444444444444444,
              "#bd3786"
             ],
             [
              0.5555555555555556,
              "#d8576b"
             ],
             [
              0.6666666666666666,
              "#ed7953"
             ],
             [
              0.7777777777777778,
              "#fb9f3a"
             ],
             [
              0.8888888888888888,
              "#fdca26"
             ],
             [
              1,
              "#f0f921"
             ]
            ],
            "type": "heatmap"
           }
          ],
          "histogram": [
           {
            "marker": {
             "pattern": {
              "fillmode": "overlay",
              "size": 10,
              "solidity": 0.2
             }
            },
            "type": "histogram"
           }
          ],
          "histogram2d": [
           {
            "colorbar": {
             "outlinewidth": 0,
             "ticks": ""
            },
            "colorscale": [
             [
              0,
              "#0d0887"
             ],
             [
              0.1111111111111111,
              "#46039f"
             ],
             [
              0.2222222222222222,
              "#7201a8"
             ],
             [
              0.3333333333333333,
              "#9c179e"
             ],
             [
              0.4444444444444444,
              "#bd3786"
             ],
             [
              0.5555555555555556,
              "#d8576b"
             ],
             [
              0.6666666666666666,
              "#ed7953"
             ],
             [
              0.7777777777777778,
              "#fb9f3a"
             ],
             [
              0.8888888888888888,
              "#fdca26"
             ],
             [
              1,
              "#f0f921"
             ]
            ],
            "type": "histogram2d"
           }
          ],
          "histogram2dcontour": [
           {
            "colorbar": {
             "outlinewidth": 0,
             "ticks": ""
            },
            "colorscale": [
             [
              0,
              "#0d0887"
             ],
             [
              0.1111111111111111,
              "#46039f"
             ],
             [
              0.2222222222222222,
              "#7201a8"
             ],
             [
              0.3333333333333333,
              "#9c179e"
             ],
             [
              0.4444444444444444,
              "#bd3786"
             ],
             [
              0.5555555555555556,
              "#d8576b"
             ],
             [
              0.6666666666666666,
              "#ed7953"
             ],
             [
              0.7777777777777778,
              "#fb9f3a"
             ],
             [
              0.8888888888888888,
              "#fdca26"
             ],
             [
              1,
              "#f0f921"
             ]
            ],
            "type": "histogram2dcontour"
           }
          ],
          "mesh3d": [
           {
            "colorbar": {
             "outlinewidth": 0,
             "ticks": ""
            },
            "type": "mesh3d"
           }
          ],
          "parcoords": [
           {
            "line": {
             "colorbar": {
              "outlinewidth": 0,
              "ticks": ""
             }
            },
            "type": "parcoords"
           }
          ],
          "pie": [
           {
            "automargin": true,
            "type": "pie"
           }
          ],
          "scatter": [
           {
            "fillpattern": {
             "fillmode": "overlay",
             "size": 10,
             "solidity": 0.2
            },
            "type": "scatter"
           }
          ],
          "scatter3d": [
           {
            "line": {
             "colorbar": {
              "outlinewidth": 0,
              "ticks": ""
             }
            },
            "marker": {
             "colorbar": {
              "outlinewidth": 0,
              "ticks": ""
             }
            },
            "type": "scatter3d"
           }
          ],
          "scattercarpet": [
           {
            "marker": {
             "colorbar": {
              "outlinewidth": 0,
              "ticks": ""
             }
            },
            "type": "scattercarpet"
           }
          ],
          "scattergeo": [
           {
            "marker": {
             "colorbar": {
              "outlinewidth": 0,
              "ticks": ""
             }
            },
            "type": "scattergeo"
           }
          ],
          "scattergl": [
           {
            "marker": {
             "colorbar": {
              "outlinewidth": 0,
              "ticks": ""
             }
            },
            "type": "scattergl"
           }
          ],
          "scattermap": [
           {
            "marker": {
             "colorbar": {
              "outlinewidth": 0,
              "ticks": ""
             }
            },
            "type": "scattermap"
           }
          ],
          "scattermapbox": [
           {
            "marker": {
             "colorbar": {
              "outlinewidth": 0,
              "ticks": ""
             }
            },
            "type": "scattermapbox"
           }
          ],
          "scatterpolar": [
           {
            "marker": {
             "colorbar": {
              "outlinewidth": 0,
              "ticks": ""
             }
            },
            "type": "scatterpolar"
           }
          ],
          "scatterpolargl": [
           {
            "marker": {
             "colorbar": {
              "outlinewidth": 0,
              "ticks": ""
             }
            },
            "type": "scatterpolargl"
           }
          ],
          "scatterternary": [
           {
            "marker": {
             "colorbar": {
              "outlinewidth": 0,
              "ticks": ""
             }
            },
            "type": "scatterternary"
           }
          ],
          "surface": [
           {
            "colorbar": {
             "outlinewidth": 0,
             "ticks": ""
            },
            "colorscale": [
             [
              0,
              "#0d0887"
             ],
             [
              0.1111111111111111,
              "#46039f"
             ],
             [
              0.2222222222222222,
              "#7201a8"
             ],
             [
              0.3333333333333333,
              "#9c179e"
             ],
             [
              0.4444444444444444,
              "#bd3786"
             ],
             [
              0.5555555555555556,
              "#d8576b"
             ],
             [
              0.6666666666666666,
              "#ed7953"
             ],
             [
              0.7777777777777778,
              "#fb9f3a"
             ],
             [
              0.8888888888888888,
              "#fdca26"
             ],
             [
              1,
              "#f0f921"
             ]
            ],
            "type": "surface"
           }
          ],
          "table": [
           {
            "cells": {
             "fill": {
              "color": "#EBF0F8"
             },
             "line": {
              "color": "white"
             }
            },
            "header": {
             "fill": {
              "color": "#C8D4E3"
             },
             "line": {
              "color": "white"
             }
            },
            "type": "table"
           }
          ]
         },
         "layout": {
          "annotationdefaults": {
           "arrowcolor": "#2a3f5f",
           "arrowhead": 0,
           "arrowwidth": 1
          },
          "autotypenumbers": "strict",
          "coloraxis": {
           "colorbar": {
            "outlinewidth": 0,
            "ticks": ""
           }
          },
          "colorscale": {
           "diverging": [
            [
             0,
             "#8e0152"
            ],
            [
             0.1,
             "#c51b7d"
            ],
            [
             0.2,
             "#de77ae"
            ],
            [
             0.3,
             "#f1b6da"
            ],
            [
             0.4,
             "#fde0ef"
            ],
            [
             0.5,
             "#f7f7f7"
            ],
            [
             0.6,
             "#e6f5d0"
            ],
            [
             0.7,
             "#b8e186"
            ],
            [
             0.8,
             "#7fbc41"
            ],
            [
             0.9,
             "#4d9221"
            ],
            [
             1,
             "#276419"
            ]
           ],
           "sequential": [
            [
             0,
             "#0d0887"
            ],
            [
             0.1111111111111111,
             "#46039f"
            ],
            [
             0.2222222222222222,
             "#7201a8"
            ],
            [
             0.3333333333333333,
             "#9c179e"
            ],
            [
             0.4444444444444444,
             "#bd3786"
            ],
            [
             0.5555555555555556,
             "#d8576b"
            ],
            [
             0.6666666666666666,
             "#ed7953"
            ],
            [
             0.7777777777777778,
             "#fb9f3a"
            ],
            [
             0.8888888888888888,
             "#fdca26"
            ],
            [
             1,
             "#f0f921"
            ]
           ],
           "sequentialminus": [
            [
             0,
             "#0d0887"
            ],
            [
             0.1111111111111111,
             "#46039f"
            ],
            [
             0.2222222222222222,
             "#7201a8"
            ],
            [
             0.3333333333333333,
             "#9c179e"
            ],
            [
             0.4444444444444444,
             "#bd3786"
            ],
            [
             0.5555555555555556,
             "#d8576b"
            ],
            [
             0.6666666666666666,
             "#ed7953"
            ],
            [
             0.7777777777777778,
             "#fb9f3a"
            ],
            [
             0.8888888888888888,
             "#fdca26"
            ],
            [
             1,
             "#f0f921"
            ]
           ]
          },
          "colorway": [
           "#636efa",
           "#EF553B",
           "#00cc96",
           "#ab63fa",
           "#FFA15A",
           "#19d3f3",
           "#FF6692",
           "#B6E880",
           "#FF97FF",
           "#FECB52"
          ],
          "font": {
           "color": "#2a3f5f"
          },
          "geo": {
           "bgcolor": "white",
           "lakecolor": "white",
           "landcolor": "#E5ECF6",
           "showlakes": true,
           "showland": true,
           "subunitcolor": "white"
          },
          "hoverlabel": {
           "align": "left"
          },
          "hovermode": "closest",
          "mapbox": {
           "style": "light"
          },
          "paper_bgcolor": "white",
          "plot_bgcolor": "#E5ECF6",
          "polar": {
           "angularaxis": {
            "gridcolor": "white",
            "linecolor": "white",
            "ticks": ""
           },
           "bgcolor": "#E5ECF6",
           "radialaxis": {
            "gridcolor": "white",
            "linecolor": "white",
            "ticks": ""
           }
          },
          "scene": {
           "xaxis": {
            "backgroundcolor": "#E5ECF6",
            "gridcolor": "white",
            "gridwidth": 2,
            "linecolor": "white",
            "showbackground": true,
            "ticks": "",
            "zerolinecolor": "white"
           },
           "yaxis": {
            "backgroundcolor": "#E5ECF6",
            "gridcolor": "white",
            "gridwidth": 2,
            "linecolor": "white",
            "showbackground": true,
            "ticks": "",
            "zerolinecolor": "white"
           },
           "zaxis": {
            "backgroundcolor": "#E5ECF6",
            "gridcolor": "white",
            "gridwidth": 2,
            "linecolor": "white",
            "showbackground": true,
            "ticks": "",
            "zerolinecolor": "white"
           }
          },
          "shapedefaults": {
           "line": {
            "color": "#2a3f5f"
           }
          },
          "ternary": {
           "aaxis": {
            "gridcolor": "white",
            "linecolor": "white",
            "ticks": ""
           },
           "baxis": {
            "gridcolor": "white",
            "linecolor": "white",
            "ticks": ""
           },
           "bgcolor": "#E5ECF6",
           "caxis": {
            "gridcolor": "white",
            "linecolor": "white",
            "ticks": ""
           }
          },
          "title": {
           "x": 0.05
          },
          "xaxis": {
           "automargin": true,
           "gridcolor": "white",
           "linecolor": "white",
           "ticks": "",
           "title": {
            "standoff": 15
           },
           "zerolinecolor": "white",
           "zerolinewidth": 2
          },
          "yaxis": {
           "automargin": true,
           "gridcolor": "white",
           "linecolor": "white",
           "ticks": "",
           "title": {
            "standoff": 15
           },
           "zerolinecolor": "white",
           "zerolinewidth": 2
          }
         }
        },
        "title": {
         "text": "Sankey Diagram (Ages >= 15 and <30),<br> Age-stratified Analysis <br> DwtPlotter.sankey_agents_by_age_subplots()"
        }
       }
      }
     },
     "metadata": {},
     "output_type": "display_data"
    },
    {
     "data": {
      "application/vnd.plotly.v1+json": {
       "config": {
        "plotlyServerURL": "https://plot.ly"
       },
       "data": [
        {
         "link": {
          "source": {
           "bdata": "AwMDBQcHBw==",
           "dtype": "i1"
          },
          "target": {
           "bdata": "AAIFBwEGBA==",
           "dtype": "i1"
          },
          "value": {
           "bdata": "AgFJAA8ACgABAAMAAwA=",
           "dtype": "i2"
          }
         },
         "node": {
          "label": [
           "-2.0.NEVER INFECTED",
           "3.0.Active Smpos",
           "0.0.Latent Slow",
           "-1.0.None",
           "5.0.Active Exptb",
           "1.0.Latent Fast",
           "4.0.Active Smneg",
           "2.0.Active Presymp"
          ],
          "pad": 15,
          "thickness": 20
         },
         "type": "sankey"
        }
       ],
       "layout": {
        "template": {
         "data": {
          "bar": [
           {
            "error_x": {
             "color": "#2a3f5f"
            },
            "error_y": {
             "color": "#2a3f5f"
            },
            "marker": {
             "line": {
              "color": "#E5ECF6",
              "width": 0.5
             },
             "pattern": {
              "fillmode": "overlay",
              "size": 10,
              "solidity": 0.2
             }
            },
            "type": "bar"
           }
          ],
          "barpolar": [
           {
            "marker": {
             "line": {
              "color": "#E5ECF6",
              "width": 0.5
             },
             "pattern": {
              "fillmode": "overlay",
              "size": 10,
              "solidity": 0.2
             }
            },
            "type": "barpolar"
           }
          ],
          "carpet": [
           {
            "aaxis": {
             "endlinecolor": "#2a3f5f",
             "gridcolor": "white",
             "linecolor": "white",
             "minorgridcolor": "white",
             "startlinecolor": "#2a3f5f"
            },
            "baxis": {
             "endlinecolor": "#2a3f5f",
             "gridcolor": "white",
             "linecolor": "white",
             "minorgridcolor": "white",
             "startlinecolor": "#2a3f5f"
            },
            "type": "carpet"
           }
          ],
          "choropleth": [
           {
            "colorbar": {
             "outlinewidth": 0,
             "ticks": ""
            },
            "type": "choropleth"
           }
          ],
          "contour": [
           {
            "colorbar": {
             "outlinewidth": 0,
             "ticks": ""
            },
            "colorscale": [
             [
              0,
              "#0d0887"
             ],
             [
              0.1111111111111111,
              "#46039f"
             ],
             [
              0.2222222222222222,
              "#7201a8"
             ],
             [
              0.3333333333333333,
              "#9c179e"
             ],
             [
              0.4444444444444444,
              "#bd3786"
             ],
             [
              0.5555555555555556,
              "#d8576b"
             ],
             [
              0.6666666666666666,
              "#ed7953"
             ],
             [
              0.7777777777777778,
              "#fb9f3a"
             ],
             [
              0.8888888888888888,
              "#fdca26"
             ],
             [
              1,
              "#f0f921"
             ]
            ],
            "type": "contour"
           }
          ],
          "contourcarpet": [
           {
            "colorbar": {
             "outlinewidth": 0,
             "ticks": ""
            },
            "type": "contourcarpet"
           }
          ],
          "heatmap": [
           {
            "colorbar": {
             "outlinewidth": 0,
             "ticks": ""
            },
            "colorscale": [
             [
              0,
              "#0d0887"
             ],
             [
              0.1111111111111111,
              "#46039f"
             ],
             [
              0.2222222222222222,
              "#7201a8"
             ],
             [
              0.3333333333333333,
              "#9c179e"
             ],
             [
              0.4444444444444444,
              "#bd3786"
             ],
             [
              0.5555555555555556,
              "#d8576b"
             ],
             [
              0.6666666666666666,
              "#ed7953"
             ],
             [
              0.7777777777777778,
              "#fb9f3a"
             ],
             [
              0.8888888888888888,
              "#fdca26"
             ],
             [
              1,
              "#f0f921"
             ]
            ],
            "type": "heatmap"
           }
          ],
          "histogram": [
           {
            "marker": {
             "pattern": {
              "fillmode": "overlay",
              "size": 10,
              "solidity": 0.2
             }
            },
            "type": "histogram"
           }
          ],
          "histogram2d": [
           {
            "colorbar": {
             "outlinewidth": 0,
             "ticks": ""
            },
            "colorscale": [
             [
              0,
              "#0d0887"
             ],
             [
              0.1111111111111111,
              "#46039f"
             ],
             [
              0.2222222222222222,
              "#7201a8"
             ],
             [
              0.3333333333333333,
              "#9c179e"
             ],
             [
              0.4444444444444444,
              "#bd3786"
             ],
             [
              0.5555555555555556,
              "#d8576b"
             ],
             [
              0.6666666666666666,
              "#ed7953"
             ],
             [
              0.7777777777777778,
              "#fb9f3a"
             ],
             [
              0.8888888888888888,
              "#fdca26"
             ],
             [
              1,
              "#f0f921"
             ]
            ],
            "type": "histogram2d"
           }
          ],
          "histogram2dcontour": [
           {
            "colorbar": {
             "outlinewidth": 0,
             "ticks": ""
            },
            "colorscale": [
             [
              0,
              "#0d0887"
             ],
             [
              0.1111111111111111,
              "#46039f"
             ],
             [
              0.2222222222222222,
              "#7201a8"
             ],
             [
              0.3333333333333333,
              "#9c179e"
             ],
             [
              0.4444444444444444,
              "#bd3786"
             ],
             [
              0.5555555555555556,
              "#d8576b"
             ],
             [
              0.6666666666666666,
              "#ed7953"
             ],
             [
              0.7777777777777778,
              "#fb9f3a"
             ],
             [
              0.8888888888888888,
              "#fdca26"
             ],
             [
              1,
              "#f0f921"
             ]
            ],
            "type": "histogram2dcontour"
           }
          ],
          "mesh3d": [
           {
            "colorbar": {
             "outlinewidth": 0,
             "ticks": ""
            },
            "type": "mesh3d"
           }
          ],
          "parcoords": [
           {
            "line": {
             "colorbar": {
              "outlinewidth": 0,
              "ticks": ""
             }
            },
            "type": "parcoords"
           }
          ],
          "pie": [
           {
            "automargin": true,
            "type": "pie"
           }
          ],
          "scatter": [
           {
            "fillpattern": {
             "fillmode": "overlay",
             "size": 10,
             "solidity": 0.2
            },
            "type": "scatter"
           }
          ],
          "scatter3d": [
           {
            "line": {
             "colorbar": {
              "outlinewidth": 0,
              "ticks": ""
             }
            },
            "marker": {
             "colorbar": {
              "outlinewidth": 0,
              "ticks": ""
             }
            },
            "type": "scatter3d"
           }
          ],
          "scattercarpet": [
           {
            "marker": {
             "colorbar": {
              "outlinewidth": 0,
              "ticks": ""
             }
            },
            "type": "scattercarpet"
           }
          ],
          "scattergeo": [
           {
            "marker": {
             "colorbar": {
              "outlinewidth": 0,
              "ticks": ""
             }
            },
            "type": "scattergeo"
           }
          ],
          "scattergl": [
           {
            "marker": {
             "colorbar": {
              "outlinewidth": 0,
              "ticks": ""
             }
            },
            "type": "scattergl"
           }
          ],
          "scattermap": [
           {
            "marker": {
             "colorbar": {
              "outlinewidth": 0,
              "ticks": ""
             }
            },
            "type": "scattermap"
           }
          ],
          "scattermapbox": [
           {
            "marker": {
             "colorbar": {
              "outlinewidth": 0,
              "ticks": ""
             }
            },
            "type": "scattermapbox"
           }
          ],
          "scatterpolar": [
           {
            "marker": {
             "colorbar": {
              "outlinewidth": 0,
              "ticks": ""
             }
            },
            "type": "scatterpolar"
           }
          ],
          "scatterpolargl": [
           {
            "marker": {
             "colorbar": {
              "outlinewidth": 0,
              "ticks": ""
             }
            },
            "type": "scatterpolargl"
           }
          ],
          "scatterternary": [
           {
            "marker": {
             "colorbar": {
              "outlinewidth": 0,
              "ticks": ""
             }
            },
            "type": "scatterternary"
           }
          ],
          "surface": [
           {
            "colorbar": {
             "outlinewidth": 0,
             "ticks": ""
            },
            "colorscale": [
             [
              0,
              "#0d0887"
             ],
             [
              0.1111111111111111,
              "#46039f"
             ],
             [
              0.2222222222222222,
              "#7201a8"
             ],
             [
              0.3333333333333333,
              "#9c179e"
             ],
             [
              0.4444444444444444,
              "#bd3786"
             ],
             [
              0.5555555555555556,
              "#d8576b"
             ],
             [
              0.6666666666666666,
              "#ed7953"
             ],
             [
              0.7777777777777778,
              "#fb9f3a"
             ],
             [
              0.8888888888888888,
              "#fdca26"
             ],
             [
              1,
              "#f0f921"
             ]
            ],
            "type": "surface"
           }
          ],
          "table": [
           {
            "cells": {
             "fill": {
              "color": "#EBF0F8"
             },
             "line": {
              "color": "white"
             }
            },
            "header": {
             "fill": {
              "color": "#C8D4E3"
             },
             "line": {
              "color": "white"
             }
            },
            "type": "table"
           }
          ]
         },
         "layout": {
          "annotationdefaults": {
           "arrowcolor": "#2a3f5f",
           "arrowhead": 0,
           "arrowwidth": 1
          },
          "autotypenumbers": "strict",
          "coloraxis": {
           "colorbar": {
            "outlinewidth": 0,
            "ticks": ""
           }
          },
          "colorscale": {
           "diverging": [
            [
             0,
             "#8e0152"
            ],
            [
             0.1,
             "#c51b7d"
            ],
            [
             0.2,
             "#de77ae"
            ],
            [
             0.3,
             "#f1b6da"
            ],
            [
             0.4,
             "#fde0ef"
            ],
            [
             0.5,
             "#f7f7f7"
            ],
            [
             0.6,
             "#e6f5d0"
            ],
            [
             0.7,
             "#b8e186"
            ],
            [
             0.8,
             "#7fbc41"
            ],
            [
             0.9,
             "#4d9221"
            ],
            [
             1,
             "#276419"
            ]
           ],
           "sequential": [
            [
             0,
             "#0d0887"
            ],
            [
             0.1111111111111111,
             "#46039f"
            ],
            [
             0.2222222222222222,
             "#7201a8"
            ],
            [
             0.3333333333333333,
             "#9c179e"
            ],
            [
             0.4444444444444444,
             "#bd3786"
            ],
            [
             0.5555555555555556,
             "#d8576b"
            ],
            [
             0.6666666666666666,
             "#ed7953"
            ],
            [
             0.7777777777777778,
             "#fb9f3a"
            ],
            [
             0.8888888888888888,
             "#fdca26"
            ],
            [
             1,
             "#f0f921"
            ]
           ],
           "sequentialminus": [
            [
             0,
             "#0d0887"
            ],
            [
             0.1111111111111111,
             "#46039f"
            ],
            [
             0.2222222222222222,
             "#7201a8"
            ],
            [
             0.3333333333333333,
             "#9c179e"
            ],
            [
             0.4444444444444444,
             "#bd3786"
            ],
            [
             0.5555555555555556,
             "#d8576b"
            ],
            [
             0.6666666666666666,
             "#ed7953"
            ],
            [
             0.7777777777777778,
             "#fb9f3a"
            ],
            [
             0.8888888888888888,
             "#fdca26"
            ],
            [
             1,
             "#f0f921"
            ]
           ]
          },
          "colorway": [
           "#636efa",
           "#EF553B",
           "#00cc96",
           "#ab63fa",
           "#FFA15A",
           "#19d3f3",
           "#FF6692",
           "#B6E880",
           "#FF97FF",
           "#FECB52"
          ],
          "font": {
           "color": "#2a3f5f"
          },
          "geo": {
           "bgcolor": "white",
           "lakecolor": "white",
           "landcolor": "#E5ECF6",
           "showlakes": true,
           "showland": true,
           "subunitcolor": "white"
          },
          "hoverlabel": {
           "align": "left"
          },
          "hovermode": "closest",
          "mapbox": {
           "style": "light"
          },
          "paper_bgcolor": "white",
          "plot_bgcolor": "#E5ECF6",
          "polar": {
           "angularaxis": {
            "gridcolor": "white",
            "linecolor": "white",
            "ticks": ""
           },
           "bgcolor": "#E5ECF6",
           "radialaxis": {
            "gridcolor": "white",
            "linecolor": "white",
            "ticks": ""
           }
          },
          "scene": {
           "xaxis": {
            "backgroundcolor": "#E5ECF6",
            "gridcolor": "white",
            "gridwidth": 2,
            "linecolor": "white",
            "showbackground": true,
            "ticks": "",
            "zerolinecolor": "white"
           },
           "yaxis": {
            "backgroundcolor": "#E5ECF6",
            "gridcolor": "white",
            "gridwidth": 2,
            "linecolor": "white",
            "showbackground": true,
            "ticks": "",
            "zerolinecolor": "white"
           },
           "zaxis": {
            "backgroundcolor": "#E5ECF6",
            "gridcolor": "white",
            "gridwidth": 2,
            "linecolor": "white",
            "showbackground": true,
            "ticks": "",
            "zerolinecolor": "white"
           }
          },
          "shapedefaults": {
           "line": {
            "color": "#2a3f5f"
           }
          },
          "ternary": {
           "aaxis": {
            "gridcolor": "white",
            "linecolor": "white",
            "ticks": ""
           },
           "baxis": {
            "gridcolor": "white",
            "linecolor": "white",
            "ticks": ""
           },
           "bgcolor": "#E5ECF6",
           "caxis": {
            "gridcolor": "white",
            "linecolor": "white",
            "ticks": ""
           }
          },
          "title": {
           "x": 0.05
          },
          "xaxis": {
           "automargin": true,
           "gridcolor": "white",
           "linecolor": "white",
           "ticks": "",
           "title": {
            "standoff": 15
           },
           "zerolinecolor": "white",
           "zerolinewidth": 2
          },
          "yaxis": {
           "automargin": true,
           "gridcolor": "white",
           "linecolor": "white",
           "ticks": "",
           "title": {
            "standoff": 15
           },
           "zerolinecolor": "white",
           "zerolinewidth": 2
          }
         }
        },
        "title": {
         "text": "Sankey Diagram (Ages >= 30 and <50),<br> Age-stratified Analysis <br> DwtPlotter.sankey_agents_by_age_subplots()"
        }
       }
      }
     },
     "metadata": {},
     "output_type": "display_data"
    },
    {
     "data": {
      "application/vnd.plotly.v1+json": {
       "config": {
        "plotlyServerURL": "https://plot.ly"
       },
       "data": [
        {
         "link": {
          "source": {
           "bdata": "AgICAwMF",
           "dtype": "i1"
          },
          "target": {
           "bdata": "AAEDBQQE",
           "dtype": "i1"
          },
          "value": {
           "bdata": "cygFAgEC",
           "dtype": "i1"
          }
         },
         "node": {
          "label": [
           "-2.0.NEVER INFECTED",
           "0.0.Latent Slow",
           "-1.0.None",
           "1.0.Latent Fast",
           "4.0.Active Smneg",
           "2.0.Active Presymp"
          ],
          "pad": 15,
          "thickness": 20
         },
         "type": "sankey"
        }
       ],
       "layout": {
        "template": {
         "data": {
          "bar": [
           {
            "error_x": {
             "color": "#2a3f5f"
            },
            "error_y": {
             "color": "#2a3f5f"
            },
            "marker": {
             "line": {
              "color": "#E5ECF6",
              "width": 0.5
             },
             "pattern": {
              "fillmode": "overlay",
              "size": 10,
              "solidity": 0.2
             }
            },
            "type": "bar"
           }
          ],
          "barpolar": [
           {
            "marker": {
             "line": {
              "color": "#E5ECF6",
              "width": 0.5
             },
             "pattern": {
              "fillmode": "overlay",
              "size": 10,
              "solidity": 0.2
             }
            },
            "type": "barpolar"
           }
          ],
          "carpet": [
           {
            "aaxis": {
             "endlinecolor": "#2a3f5f",
             "gridcolor": "white",
             "linecolor": "white",
             "minorgridcolor": "white",
             "startlinecolor": "#2a3f5f"
            },
            "baxis": {
             "endlinecolor": "#2a3f5f",
             "gridcolor": "white",
             "linecolor": "white",
             "minorgridcolor": "white",
             "startlinecolor": "#2a3f5f"
            },
            "type": "carpet"
           }
          ],
          "choropleth": [
           {
            "colorbar": {
             "outlinewidth": 0,
             "ticks": ""
            },
            "type": "choropleth"
           }
          ],
          "contour": [
           {
            "colorbar": {
             "outlinewidth": 0,
             "ticks": ""
            },
            "colorscale": [
             [
              0,
              "#0d0887"
             ],
             [
              0.1111111111111111,
              "#46039f"
             ],
             [
              0.2222222222222222,
              "#7201a8"
             ],
             [
              0.3333333333333333,
              "#9c179e"
             ],
             [
              0.4444444444444444,
              "#bd3786"
             ],
             [
              0.5555555555555556,
              "#d8576b"
             ],
             [
              0.6666666666666666,
              "#ed7953"
             ],
             [
              0.7777777777777778,
              "#fb9f3a"
             ],
             [
              0.8888888888888888,
              "#fdca26"
             ],
             [
              1,
              "#f0f921"
             ]
            ],
            "type": "contour"
           }
          ],
          "contourcarpet": [
           {
            "colorbar": {
             "outlinewidth": 0,
             "ticks": ""
            },
            "type": "contourcarpet"
           }
          ],
          "heatmap": [
           {
            "colorbar": {
             "outlinewidth": 0,
             "ticks": ""
            },
            "colorscale": [
             [
              0,
              "#0d0887"
             ],
             [
              0.1111111111111111,
              "#46039f"
             ],
             [
              0.2222222222222222,
              "#7201a8"
             ],
             [
              0.3333333333333333,
              "#9c179e"
             ],
             [
              0.4444444444444444,
              "#bd3786"
             ],
             [
              0.5555555555555556,
              "#d8576b"
             ],
             [
              0.6666666666666666,
              "#ed7953"
             ],
             [
              0.7777777777777778,
              "#fb9f3a"
             ],
             [
              0.8888888888888888,
              "#fdca26"
             ],
             [
              1,
              "#f0f921"
             ]
            ],
            "type": "heatmap"
           }
          ],
          "histogram": [
           {
            "marker": {
             "pattern": {
              "fillmode": "overlay",
              "size": 10,
              "solidity": 0.2
             }
            },
            "type": "histogram"
           }
          ],
          "histogram2d": [
           {
            "colorbar": {
             "outlinewidth": 0,
             "ticks": ""
            },
            "colorscale": [
             [
              0,
              "#0d0887"
             ],
             [
              0.1111111111111111,
              "#46039f"
             ],
             [
              0.2222222222222222,
              "#7201a8"
             ],
             [
              0.3333333333333333,
              "#9c179e"
             ],
             [
              0.4444444444444444,
              "#bd3786"
             ],
             [
              0.5555555555555556,
              "#d8576b"
             ],
             [
              0.6666666666666666,
              "#ed7953"
             ],
             [
              0.7777777777777778,
              "#fb9f3a"
             ],
             [
              0.8888888888888888,
              "#fdca26"
             ],
             [
              1,
              "#f0f921"
             ]
            ],
            "type": "histogram2d"
           }
          ],
          "histogram2dcontour": [
           {
            "colorbar": {
             "outlinewidth": 0,
             "ticks": ""
            },
            "colorscale": [
             [
              0,
              "#0d0887"
             ],
             [
              0.1111111111111111,
              "#46039f"
             ],
             [
              0.2222222222222222,
              "#7201a8"
             ],
             [
              0.3333333333333333,
              "#9c179e"
             ],
             [
              0.4444444444444444,
              "#bd3786"
             ],
             [
              0.5555555555555556,
              "#d8576b"
             ],
             [
              0.6666666666666666,
              "#ed7953"
             ],
             [
              0.7777777777777778,
              "#fb9f3a"
             ],
             [
              0.8888888888888888,
              "#fdca26"
             ],
             [
              1,
              "#f0f921"
             ]
            ],
            "type": "histogram2dcontour"
           }
          ],
          "mesh3d": [
           {
            "colorbar": {
             "outlinewidth": 0,
             "ticks": ""
            },
            "type": "mesh3d"
           }
          ],
          "parcoords": [
           {
            "line": {
             "colorbar": {
              "outlinewidth": 0,
              "ticks": ""
             }
            },
            "type": "parcoords"
           }
          ],
          "pie": [
           {
            "automargin": true,
            "type": "pie"
           }
          ],
          "scatter": [
           {
            "fillpattern": {
             "fillmode": "overlay",
             "size": 10,
             "solidity": 0.2
            },
            "type": "scatter"
           }
          ],
          "scatter3d": [
           {
            "line": {
             "colorbar": {
              "outlinewidth": 0,
              "ticks": ""
             }
            },
            "marker": {
             "colorbar": {
              "outlinewidth": 0,
              "ticks": ""
             }
            },
            "type": "scatter3d"
           }
          ],
          "scattercarpet": [
           {
            "marker": {
             "colorbar": {
              "outlinewidth": 0,
              "ticks": ""
             }
            },
            "type": "scattercarpet"
           }
          ],
          "scattergeo": [
           {
            "marker": {
             "colorbar": {
              "outlinewidth": 0,
              "ticks": ""
             }
            },
            "type": "scattergeo"
           }
          ],
          "scattergl": [
           {
            "marker": {
             "colorbar": {
              "outlinewidth": 0,
              "ticks": ""
             }
            },
            "type": "scattergl"
           }
          ],
          "scattermap": [
           {
            "marker": {
             "colorbar": {
              "outlinewidth": 0,
              "ticks": ""
             }
            },
            "type": "scattermap"
           }
          ],
          "scattermapbox": [
           {
            "marker": {
             "colorbar": {
              "outlinewidth": 0,
              "ticks": ""
             }
            },
            "type": "scattermapbox"
           }
          ],
          "scatterpolar": [
           {
            "marker": {
             "colorbar": {
              "outlinewidth": 0,
              "ticks": ""
             }
            },
            "type": "scatterpolar"
           }
          ],
          "scatterpolargl": [
           {
            "marker": {
             "colorbar": {
              "outlinewidth": 0,
              "ticks": ""
             }
            },
            "type": "scatterpolargl"
           }
          ],
          "scatterternary": [
           {
            "marker": {
             "colorbar": {
              "outlinewidth": 0,
              "ticks": ""
             }
            },
            "type": "scatterternary"
           }
          ],
          "surface": [
           {
            "colorbar": {
             "outlinewidth": 0,
             "ticks": ""
            },
            "colorscale": [
             [
              0,
              "#0d0887"
             ],
             [
              0.1111111111111111,
              "#46039f"
             ],
             [
              0.2222222222222222,
              "#7201a8"
             ],
             [
              0.3333333333333333,
              "#9c179e"
             ],
             [
              0.4444444444444444,
              "#bd3786"
             ],
             [
              0.5555555555555556,
              "#d8576b"
             ],
             [
              0.6666666666666666,
              "#ed7953"
             ],
             [
              0.7777777777777778,
              "#fb9f3a"
             ],
             [
              0.8888888888888888,
              "#fdca26"
             ],
             [
              1,
              "#f0f921"
             ]
            ],
            "type": "surface"
           }
          ],
          "table": [
           {
            "cells": {
             "fill": {
              "color": "#EBF0F8"
             },
             "line": {
              "color": "white"
             }
            },
            "header": {
             "fill": {
              "color": "#C8D4E3"
             },
             "line": {
              "color": "white"
             }
            },
            "type": "table"
           }
          ]
         },
         "layout": {
          "annotationdefaults": {
           "arrowcolor": "#2a3f5f",
           "arrowhead": 0,
           "arrowwidth": 1
          },
          "autotypenumbers": "strict",
          "coloraxis": {
           "colorbar": {
            "outlinewidth": 0,
            "ticks": ""
           }
          },
          "colorscale": {
           "diverging": [
            [
             0,
             "#8e0152"
            ],
            [
             0.1,
             "#c51b7d"
            ],
            [
             0.2,
             "#de77ae"
            ],
            [
             0.3,
             "#f1b6da"
            ],
            [
             0.4,
             "#fde0ef"
            ],
            [
             0.5,
             "#f7f7f7"
            ],
            [
             0.6,
             "#e6f5d0"
            ],
            [
             0.7,
             "#b8e186"
            ],
            [
             0.8,
             "#7fbc41"
            ],
            [
             0.9,
             "#4d9221"
            ],
            [
             1,
             "#276419"
            ]
           ],
           "sequential": [
            [
             0,
             "#0d0887"
            ],
            [
             0.1111111111111111,
             "#46039f"
            ],
            [
             0.2222222222222222,
             "#7201a8"
            ],
            [
             0.3333333333333333,
             "#9c179e"
            ],
            [
             0.4444444444444444,
             "#bd3786"
            ],
            [
             0.5555555555555556,
             "#d8576b"
            ],
            [
             0.6666666666666666,
             "#ed7953"
            ],
            [
             0.7777777777777778,
             "#fb9f3a"
            ],
            [
             0.8888888888888888,
             "#fdca26"
            ],
            [
             1,
             "#f0f921"
            ]
           ],
           "sequentialminus": [
            [
             0,
             "#0d0887"
            ],
            [
             0.1111111111111111,
             "#46039f"
            ],
            [
             0.2222222222222222,
             "#7201a8"
            ],
            [
             0.3333333333333333,
             "#9c179e"
            ],
            [
             0.4444444444444444,
             "#bd3786"
            ],
            [
             0.5555555555555556,
             "#d8576b"
            ],
            [
             0.6666666666666666,
             "#ed7953"
            ],
            [
             0.7777777777777778,
             "#fb9f3a"
            ],
            [
             0.8888888888888888,
             "#fdca26"
            ],
            [
             1,
             "#f0f921"
            ]
           ]
          },
          "colorway": [
           "#636efa",
           "#EF553B",
           "#00cc96",
           "#ab63fa",
           "#FFA15A",
           "#19d3f3",
           "#FF6692",
           "#B6E880",
           "#FF97FF",
           "#FECB52"
          ],
          "font": {
           "color": "#2a3f5f"
          },
          "geo": {
           "bgcolor": "white",
           "lakecolor": "white",
           "landcolor": "#E5ECF6",
           "showlakes": true,
           "showland": true,
           "subunitcolor": "white"
          },
          "hoverlabel": {
           "align": "left"
          },
          "hovermode": "closest",
          "mapbox": {
           "style": "light"
          },
          "paper_bgcolor": "white",
          "plot_bgcolor": "#E5ECF6",
          "polar": {
           "angularaxis": {
            "gridcolor": "white",
            "linecolor": "white",
            "ticks": ""
           },
           "bgcolor": "#E5ECF6",
           "radialaxis": {
            "gridcolor": "white",
            "linecolor": "white",
            "ticks": ""
           }
          },
          "scene": {
           "xaxis": {
            "backgroundcolor": "#E5ECF6",
            "gridcolor": "white",
            "gridwidth": 2,
            "linecolor": "white",
            "showbackground": true,
            "ticks": "",
            "zerolinecolor": "white"
           },
           "yaxis": {
            "backgroundcolor": "#E5ECF6",
            "gridcolor": "white",
            "gridwidth": 2,
            "linecolor": "white",
            "showbackground": true,
            "ticks": "",
            "zerolinecolor": "white"
           },
           "zaxis": {
            "backgroundcolor": "#E5ECF6",
            "gridcolor": "white",
            "gridwidth": 2,
            "linecolor": "white",
            "showbackground": true,
            "ticks": "",
            "zerolinecolor": "white"
           }
          },
          "shapedefaults": {
           "line": {
            "color": "#2a3f5f"
           }
          },
          "ternary": {
           "aaxis": {
            "gridcolor": "white",
            "linecolor": "white",
            "ticks": ""
           },
           "baxis": {
            "gridcolor": "white",
            "linecolor": "white",
            "ticks": ""
           },
           "bgcolor": "#E5ECF6",
           "caxis": {
            "gridcolor": "white",
            "linecolor": "white",
            "ticks": ""
           }
          },
          "title": {
           "x": 0.05
          },
          "xaxis": {
           "automargin": true,
           "gridcolor": "white",
           "linecolor": "white",
           "ticks": "",
           "title": {
            "standoff": 15
           },
           "zerolinecolor": "white",
           "zerolinewidth": 2
          },
          "yaxis": {
           "automargin": true,
           "gridcolor": "white",
           "linecolor": "white",
           "ticks": "",
           "title": {
            "standoff": 15
           },
           "zerolinecolor": "white",
           "zerolinewidth": 2
          }
         }
        },
        "title": {
         "text": "Sankey Diagram (Ages >= 50 and <200),<br> Age-stratified Analysis <br> DwtPlotter.sankey_agents_by_age_subplots()"
        }
       }
      }
     },
     "metadata": {},
     "output_type": "display_data"
    }
   ],
   "source": [
    "\n",
    "# Sankey diagrams by age groups\n",
    "analyzer.sankey_agents_by_age_subplots(bins=[0, 5, 15, 30, 50, 200], scenario=\"Age-stratified Analysis\")\n"
   ]
  },
  {
   "cell_type": "code",
   "execution_count": 25,
   "id": "3dd5878f",
   "metadata": {},
   "outputs": [
    {
     "data": {
      "application/vnd.plotly.v1+json": {
       "config": {
        "plotlyServerURL": "https://plot.ly"
       },
       "data": [
        {
         "link": {
          "source": {
           "bdata": "AgICAwU=",
           "dtype": "i1"
          },
          "target": {
           "bdata": "AAEDBQQ=",
           "dtype": "i1"
          },
          "value": {
           "bdata": "7ABGAAsABgADAA==",
           "dtype": "i2"
          }
         },
         "node": {
          "label": [
           "-2.0.NEVER INFECTED",
           "0.0.Latent Slow",
           "-1.0.None",
           "1.0.Latent Fast",
           "4.0.Active Smneg",
           "2.0.Active Presymp"
          ],
          "pad": 15,
          "thickness": 20
         },
         "type": "sankey"
        }
       ],
       "layout": {
        "annotations": [
         {
          "font": {
           "color": "black",
           "size": 8
          },
          "showarrow": false,
          "text": "DwtPlotter.sankey_agents_even_age_ranges()",
          "x": -0.05,
          "xref": "paper",
          "y": -0.2,
          "yref": "paper"
         }
        ],
        "template": {
         "data": {
          "bar": [
           {
            "error_x": {
             "color": "#2a3f5f"
            },
            "error_y": {
             "color": "#2a3f5f"
            },
            "marker": {
             "line": {
              "color": "#E5ECF6",
              "width": 0.5
             },
             "pattern": {
              "fillmode": "overlay",
              "size": 10,
              "solidity": 0.2
             }
            },
            "type": "bar"
           }
          ],
          "barpolar": [
           {
            "marker": {
             "line": {
              "color": "#E5ECF6",
              "width": 0.5
             },
             "pattern": {
              "fillmode": "overlay",
              "size": 10,
              "solidity": 0.2
             }
            },
            "type": "barpolar"
           }
          ],
          "carpet": [
           {
            "aaxis": {
             "endlinecolor": "#2a3f5f",
             "gridcolor": "white",
             "linecolor": "white",
             "minorgridcolor": "white",
             "startlinecolor": "#2a3f5f"
            },
            "baxis": {
             "endlinecolor": "#2a3f5f",
             "gridcolor": "white",
             "linecolor": "white",
             "minorgridcolor": "white",
             "startlinecolor": "#2a3f5f"
            },
            "type": "carpet"
           }
          ],
          "choropleth": [
           {
            "colorbar": {
             "outlinewidth": 0,
             "ticks": ""
            },
            "type": "choropleth"
           }
          ],
          "contour": [
           {
            "colorbar": {
             "outlinewidth": 0,
             "ticks": ""
            },
            "colorscale": [
             [
              0,
              "#0d0887"
             ],
             [
              0.1111111111111111,
              "#46039f"
             ],
             [
              0.2222222222222222,
              "#7201a8"
             ],
             [
              0.3333333333333333,
              "#9c179e"
             ],
             [
              0.4444444444444444,
              "#bd3786"
             ],
             [
              0.5555555555555556,
              "#d8576b"
             ],
             [
              0.6666666666666666,
              "#ed7953"
             ],
             [
              0.7777777777777778,
              "#fb9f3a"
             ],
             [
              0.8888888888888888,
              "#fdca26"
             ],
             [
              1,
              "#f0f921"
             ]
            ],
            "type": "contour"
           }
          ],
          "contourcarpet": [
           {
            "colorbar": {
             "outlinewidth": 0,
             "ticks": ""
            },
            "type": "contourcarpet"
           }
          ],
          "heatmap": [
           {
            "colorbar": {
             "outlinewidth": 0,
             "ticks": ""
            },
            "colorscale": [
             [
              0,
              "#0d0887"
             ],
             [
              0.1111111111111111,
              "#46039f"
             ],
             [
              0.2222222222222222,
              "#7201a8"
             ],
             [
              0.3333333333333333,
              "#9c179e"
             ],
             [
              0.4444444444444444,
              "#bd3786"
             ],
             [
              0.5555555555555556,
              "#d8576b"
             ],
             [
              0.6666666666666666,
              "#ed7953"
             ],
             [
              0.7777777777777778,
              "#fb9f3a"
             ],
             [
              0.8888888888888888,
              "#fdca26"
             ],
             [
              1,
              "#f0f921"
             ]
            ],
            "type": "heatmap"
           }
          ],
          "histogram": [
           {
            "marker": {
             "pattern": {
              "fillmode": "overlay",
              "size": 10,
              "solidity": 0.2
             }
            },
            "type": "histogram"
           }
          ],
          "histogram2d": [
           {
            "colorbar": {
             "outlinewidth": 0,
             "ticks": ""
            },
            "colorscale": [
             [
              0,
              "#0d0887"
             ],
             [
              0.1111111111111111,
              "#46039f"
             ],
             [
              0.2222222222222222,
              "#7201a8"
             ],
             [
              0.3333333333333333,
              "#9c179e"
             ],
             [
              0.4444444444444444,
              "#bd3786"
             ],
             [
              0.5555555555555556,
              "#d8576b"
             ],
             [
              0.6666666666666666,
              "#ed7953"
             ],
             [
              0.7777777777777778,
              "#fb9f3a"
             ],
             [
              0.8888888888888888,
              "#fdca26"
             ],
             [
              1,
              "#f0f921"
             ]
            ],
            "type": "histogram2d"
           }
          ],
          "histogram2dcontour": [
           {
            "colorbar": {
             "outlinewidth": 0,
             "ticks": ""
            },
            "colorscale": [
             [
              0,
              "#0d0887"
             ],
             [
              0.1111111111111111,
              "#46039f"
             ],
             [
              0.2222222222222222,
              "#7201a8"
             ],
             [
              0.3333333333333333,
              "#9c179e"
             ],
             [
              0.4444444444444444,
              "#bd3786"
             ],
             [
              0.5555555555555556,
              "#d8576b"
             ],
             [
              0.6666666666666666,
              "#ed7953"
             ],
             [
              0.7777777777777778,
              "#fb9f3a"
             ],
             [
              0.8888888888888888,
              "#fdca26"
             ],
             [
              1,
              "#f0f921"
             ]
            ],
            "type": "histogram2dcontour"
           }
          ],
          "mesh3d": [
           {
            "colorbar": {
             "outlinewidth": 0,
             "ticks": ""
            },
            "type": "mesh3d"
           }
          ],
          "parcoords": [
           {
            "line": {
             "colorbar": {
              "outlinewidth": 0,
              "ticks": ""
             }
            },
            "type": "parcoords"
           }
          ],
          "pie": [
           {
            "automargin": true,
            "type": "pie"
           }
          ],
          "scatter": [
           {
            "fillpattern": {
             "fillmode": "overlay",
             "size": 10,
             "solidity": 0.2
            },
            "type": "scatter"
           }
          ],
          "scatter3d": [
           {
            "line": {
             "colorbar": {
              "outlinewidth": 0,
              "ticks": ""
             }
            },
            "marker": {
             "colorbar": {
              "outlinewidth": 0,
              "ticks": ""
             }
            },
            "type": "scatter3d"
           }
          ],
          "scattercarpet": [
           {
            "marker": {
             "colorbar": {
              "outlinewidth": 0,
              "ticks": ""
             }
            },
            "type": "scattercarpet"
           }
          ],
          "scattergeo": [
           {
            "marker": {
             "colorbar": {
              "outlinewidth": 0,
              "ticks": ""
             }
            },
            "type": "scattergeo"
           }
          ],
          "scattergl": [
           {
            "marker": {
             "colorbar": {
              "outlinewidth": 0,
              "ticks": ""
             }
            },
            "type": "scattergl"
           }
          ],
          "scattermap": [
           {
            "marker": {
             "colorbar": {
              "outlinewidth": 0,
              "ticks": ""
             }
            },
            "type": "scattermap"
           }
          ],
          "scattermapbox": [
           {
            "marker": {
             "colorbar": {
              "outlinewidth": 0,
              "ticks": ""
             }
            },
            "type": "scattermapbox"
           }
          ],
          "scatterpolar": [
           {
            "marker": {
             "colorbar": {
              "outlinewidth": 0,
              "ticks": ""
             }
            },
            "type": "scatterpolar"
           }
          ],
          "scatterpolargl": [
           {
            "marker": {
             "colorbar": {
              "outlinewidth": 0,
              "ticks": ""
             }
            },
            "type": "scatterpolargl"
           }
          ],
          "scatterternary": [
           {
            "marker": {
             "colorbar": {
              "outlinewidth": 0,
              "ticks": ""
             }
            },
            "type": "scatterternary"
           }
          ],
          "surface": [
           {
            "colorbar": {
             "outlinewidth": 0,
             "ticks": ""
            },
            "colorscale": [
             [
              0,
              "#0d0887"
             ],
             [
              0.1111111111111111,
              "#46039f"
             ],
             [
              0.2222222222222222,
              "#7201a8"
             ],
             [
              0.3333333333333333,
              "#9c179e"
             ],
             [
              0.4444444444444444,
              "#bd3786"
             ],
             [
              0.5555555555555556,
              "#d8576b"
             ],
             [
              0.6666666666666666,
              "#ed7953"
             ],
             [
              0.7777777777777778,
              "#fb9f3a"
             ],
             [
              0.8888888888888888,
              "#fdca26"
             ],
             [
              1,
              "#f0f921"
             ]
            ],
            "type": "surface"
           }
          ],
          "table": [
           {
            "cells": {
             "fill": {
              "color": "#EBF0F8"
             },
             "line": {
              "color": "white"
             }
            },
            "header": {
             "fill": {
              "color": "#C8D4E3"
             },
             "line": {
              "color": "white"
             }
            },
            "type": "table"
           }
          ]
         },
         "layout": {
          "annotationdefaults": {
           "arrowcolor": "#2a3f5f",
           "arrowhead": 0,
           "arrowwidth": 1
          },
          "autotypenumbers": "strict",
          "coloraxis": {
           "colorbar": {
            "outlinewidth": 0,
            "ticks": ""
           }
          },
          "colorscale": {
           "diverging": [
            [
             0,
             "#8e0152"
            ],
            [
             0.1,
             "#c51b7d"
            ],
            [
             0.2,
             "#de77ae"
            ],
            [
             0.3,
             "#f1b6da"
            ],
            [
             0.4,
             "#fde0ef"
            ],
            [
             0.5,
             "#f7f7f7"
            ],
            [
             0.6,
             "#e6f5d0"
            ],
            [
             0.7,
             "#b8e186"
            ],
            [
             0.8,
             "#7fbc41"
            ],
            [
             0.9,
             "#4d9221"
            ],
            [
             1,
             "#276419"
            ]
           ],
           "sequential": [
            [
             0,
             "#0d0887"
            ],
            [
             0.1111111111111111,
             "#46039f"
            ],
            [
             0.2222222222222222,
             "#7201a8"
            ],
            [
             0.3333333333333333,
             "#9c179e"
            ],
            [
             0.4444444444444444,
             "#bd3786"
            ],
            [
             0.5555555555555556,
             "#d8576b"
            ],
            [
             0.6666666666666666,
             "#ed7953"
            ],
            [
             0.7777777777777778,
             "#fb9f3a"
            ],
            [
             0.8888888888888888,
             "#fdca26"
            ],
            [
             1,
             "#f0f921"
            ]
           ],
           "sequentialminus": [
            [
             0,
             "#0d0887"
            ],
            [
             0.1111111111111111,
             "#46039f"
            ],
            [
             0.2222222222222222,
             "#7201a8"
            ],
            [
             0.3333333333333333,
             "#9c179e"
            ],
            [
             0.4444444444444444,
             "#bd3786"
            ],
            [
             0.5555555555555556,
             "#d8576b"
            ],
            [
             0.6666666666666666,
             "#ed7953"
            ],
            [
             0.7777777777777778,
             "#fb9f3a"
            ],
            [
             0.8888888888888888,
             "#fdca26"
            ],
            [
             1,
             "#f0f921"
            ]
           ]
          },
          "colorway": [
           "#636efa",
           "#EF553B",
           "#00cc96",
           "#ab63fa",
           "#FFA15A",
           "#19d3f3",
           "#FF6692",
           "#B6E880",
           "#FF97FF",
           "#FECB52"
          ],
          "font": {
           "color": "#2a3f5f"
          },
          "geo": {
           "bgcolor": "white",
           "lakecolor": "white",
           "landcolor": "#E5ECF6",
           "showlakes": true,
           "showland": true,
           "subunitcolor": "white"
          },
          "hoverlabel": {
           "align": "left"
          },
          "hovermode": "closest",
          "mapbox": {
           "style": "light"
          },
          "paper_bgcolor": "white",
          "plot_bgcolor": "#E5ECF6",
          "polar": {
           "angularaxis": {
            "gridcolor": "white",
            "linecolor": "white",
            "ticks": ""
           },
           "bgcolor": "#E5ECF6",
           "radialaxis": {
            "gridcolor": "white",
            "linecolor": "white",
            "ticks": ""
           }
          },
          "scene": {
           "xaxis": {
            "backgroundcolor": "#E5ECF6",
            "gridcolor": "white",
            "gridwidth": 2,
            "linecolor": "white",
            "showbackground": true,
            "ticks": "",
            "zerolinecolor": "white"
           },
           "yaxis": {
            "backgroundcolor": "#E5ECF6",
            "gridcolor": "white",
            "gridwidth": 2,
            "linecolor": "white",
            "showbackground": true,
            "ticks": "",
            "zerolinecolor": "white"
           },
           "zaxis": {
            "backgroundcolor": "#E5ECF6",
            "gridcolor": "white",
            "gridwidth": 2,
            "linecolor": "white",
            "showbackground": true,
            "ticks": "",
            "zerolinecolor": "white"
           }
          },
          "shapedefaults": {
           "line": {
            "color": "#2a3f5f"
           }
          },
          "ternary": {
           "aaxis": {
            "gridcolor": "white",
            "linecolor": "white",
            "ticks": ""
           },
           "baxis": {
            "gridcolor": "white",
            "linecolor": "white",
            "ticks": ""
           },
           "bgcolor": "#E5ECF6",
           "caxis": {
            "gridcolor": "white",
            "linecolor": "white",
            "ticks": ""
           }
          },
          "title": {
           "x": 0.05
          },
          "xaxis": {
           "automargin": true,
           "gridcolor": "white",
           "linecolor": "white",
           "ticks": "",
           "title": {
            "standoff": 15
           },
           "zerolinecolor": "white",
           "zerolinewidth": 2
          },
          "yaxis": {
           "automargin": true,
           "gridcolor": "white",
           "linecolor": "white",
           "ticks": "",
           "title": {
            "standoff": 15
           },
           "zerolinecolor": "white",
           "zerolinewidth": 2
          }
         }
        },
        "title": {
         "text": "Sankey Diagram (Ages 0.1 - 20.1)<br> Even Age Distribution <br> DwtPlotter.sankey_agents_even_age_ranges()"
        }
       }
      }
     },
     "metadata": {},
     "output_type": "display_data"
    },
    {
     "data": {
      "application/vnd.plotly.v1+json": {
       "config": {
        "plotlyServerURL": "https://plot.ly"
       },
       "data": [
        {
         "link": {
          "source": {
           "bdata": "AwMDBQcHBw==",
           "dtype": "i1"
          },
          "target": {
           "bdata": "AAIFBwEGBA==",
           "dtype": "i1"
          },
          "value": {
           "bdata": "CAFWAA4ACgABAAQAAQA=",
           "dtype": "i2"
          }
         },
         "node": {
          "label": [
           "-2.0.NEVER INFECTED",
           "3.0.Active Smpos",
           "0.0.Latent Slow",
           "-1.0.None",
           "5.0.Active Exptb",
           "1.0.Latent Fast",
           "4.0.Active Smneg",
           "2.0.Active Presymp"
          ],
          "pad": 15,
          "thickness": 20
         },
         "type": "sankey"
        }
       ],
       "layout": {
        "annotations": [
         {
          "font": {
           "color": "black",
           "size": 8
          },
          "showarrow": false,
          "text": "DwtPlotter.sankey_agents_even_age_ranges()",
          "x": -0.05,
          "xref": "paper",
          "y": -0.2,
          "yref": "paper"
         }
        ],
        "template": {
         "data": {
          "bar": [
           {
            "error_x": {
             "color": "#2a3f5f"
            },
            "error_y": {
             "color": "#2a3f5f"
            },
            "marker": {
             "line": {
              "color": "#E5ECF6",
              "width": 0.5
             },
             "pattern": {
              "fillmode": "overlay",
              "size": 10,
              "solidity": 0.2
             }
            },
            "type": "bar"
           }
          ],
          "barpolar": [
           {
            "marker": {
             "line": {
              "color": "#E5ECF6",
              "width": 0.5
             },
             "pattern": {
              "fillmode": "overlay",
              "size": 10,
              "solidity": 0.2
             }
            },
            "type": "barpolar"
           }
          ],
          "carpet": [
           {
            "aaxis": {
             "endlinecolor": "#2a3f5f",
             "gridcolor": "white",
             "linecolor": "white",
             "minorgridcolor": "white",
             "startlinecolor": "#2a3f5f"
            },
            "baxis": {
             "endlinecolor": "#2a3f5f",
             "gridcolor": "white",
             "linecolor": "white",
             "minorgridcolor": "white",
             "startlinecolor": "#2a3f5f"
            },
            "type": "carpet"
           }
          ],
          "choropleth": [
           {
            "colorbar": {
             "outlinewidth": 0,
             "ticks": ""
            },
            "type": "choropleth"
           }
          ],
          "contour": [
           {
            "colorbar": {
             "outlinewidth": 0,
             "ticks": ""
            },
            "colorscale": [
             [
              0,
              "#0d0887"
             ],
             [
              0.1111111111111111,
              "#46039f"
             ],
             [
              0.2222222222222222,
              "#7201a8"
             ],
             [
              0.3333333333333333,
              "#9c179e"
             ],
             [
              0.4444444444444444,
              "#bd3786"
             ],
             [
              0.5555555555555556,
              "#d8576b"
             ],
             [
              0.6666666666666666,
              "#ed7953"
             ],
             [
              0.7777777777777778,
              "#fb9f3a"
             ],
             [
              0.8888888888888888,
              "#fdca26"
             ],
             [
              1,
              "#f0f921"
             ]
            ],
            "type": "contour"
           }
          ],
          "contourcarpet": [
           {
            "colorbar": {
             "outlinewidth": 0,
             "ticks": ""
            },
            "type": "contourcarpet"
           }
          ],
          "heatmap": [
           {
            "colorbar": {
             "outlinewidth": 0,
             "ticks": ""
            },
            "colorscale": [
             [
              0,
              "#0d0887"
             ],
             [
              0.1111111111111111,
              "#46039f"
             ],
             [
              0.2222222222222222,
              "#7201a8"
             ],
             [
              0.3333333333333333,
              "#9c179e"
             ],
             [
              0.4444444444444444,
              "#bd3786"
             ],
             [
              0.5555555555555556,
              "#d8576b"
             ],
             [
              0.6666666666666666,
              "#ed7953"
             ],
             [
              0.7777777777777778,
              "#fb9f3a"
             ],
             [
              0.8888888888888888,
              "#fdca26"
             ],
             [
              1,
              "#f0f921"
             ]
            ],
            "type": "heatmap"
           }
          ],
          "histogram": [
           {
            "marker": {
             "pattern": {
              "fillmode": "overlay",
              "size": 10,
              "solidity": 0.2
             }
            },
            "type": "histogram"
           }
          ],
          "histogram2d": [
           {
            "colorbar": {
             "outlinewidth": 0,
             "ticks": ""
            },
            "colorscale": [
             [
              0,
              "#0d0887"
             ],
             [
              0.1111111111111111,
              "#46039f"
             ],
             [
              0.2222222222222222,
              "#7201a8"
             ],
             [
              0.3333333333333333,
              "#9c179e"
             ],
             [
              0.4444444444444444,
              "#bd3786"
             ],
             [
              0.5555555555555556,
              "#d8576b"
             ],
             [
              0.6666666666666666,
              "#ed7953"
             ],
             [
              0.7777777777777778,
              "#fb9f3a"
             ],
             [
              0.8888888888888888,
              "#fdca26"
             ],
             [
              1,
              "#f0f921"
             ]
            ],
            "type": "histogram2d"
           }
          ],
          "histogram2dcontour": [
           {
            "colorbar": {
             "outlinewidth": 0,
             "ticks": ""
            },
            "colorscale": [
             [
              0,
              "#0d0887"
             ],
             [
              0.1111111111111111,
              "#46039f"
             ],
             [
              0.2222222222222222,
              "#7201a8"
             ],
             [
              0.3333333333333333,
              "#9c179e"
             ],
             [
              0.4444444444444444,
              "#bd3786"
             ],
             [
              0.5555555555555556,
              "#d8576b"
             ],
             [
              0.6666666666666666,
              "#ed7953"
             ],
             [
              0.7777777777777778,
              "#fb9f3a"
             ],
             [
              0.8888888888888888,
              "#fdca26"
             ],
             [
              1,
              "#f0f921"
             ]
            ],
            "type": "histogram2dcontour"
           }
          ],
          "mesh3d": [
           {
            "colorbar": {
             "outlinewidth": 0,
             "ticks": ""
            },
            "type": "mesh3d"
           }
          ],
          "parcoords": [
           {
            "line": {
             "colorbar": {
              "outlinewidth": 0,
              "ticks": ""
             }
            },
            "type": "parcoords"
           }
          ],
          "pie": [
           {
            "automargin": true,
            "type": "pie"
           }
          ],
          "scatter": [
           {
            "fillpattern": {
             "fillmode": "overlay",
             "size": 10,
             "solidity": 0.2
            },
            "type": "scatter"
           }
          ],
          "scatter3d": [
           {
            "line": {
             "colorbar": {
              "outlinewidth": 0,
              "ticks": ""
             }
            },
            "marker": {
             "colorbar": {
              "outlinewidth": 0,
              "ticks": ""
             }
            },
            "type": "scatter3d"
           }
          ],
          "scattercarpet": [
           {
            "marker": {
             "colorbar": {
              "outlinewidth": 0,
              "ticks": ""
             }
            },
            "type": "scattercarpet"
           }
          ],
          "scattergeo": [
           {
            "marker": {
             "colorbar": {
              "outlinewidth": 0,
              "ticks": ""
             }
            },
            "type": "scattergeo"
           }
          ],
          "scattergl": [
           {
            "marker": {
             "colorbar": {
              "outlinewidth": 0,
              "ticks": ""
             }
            },
            "type": "scattergl"
           }
          ],
          "scattermap": [
           {
            "marker": {
             "colorbar": {
              "outlinewidth": 0,
              "ticks": ""
             }
            },
            "type": "scattermap"
           }
          ],
          "scattermapbox": [
           {
            "marker": {
             "colorbar": {
              "outlinewidth": 0,
              "ticks": ""
             }
            },
            "type": "scattermapbox"
           }
          ],
          "scatterpolar": [
           {
            "marker": {
             "colorbar": {
              "outlinewidth": 0,
              "ticks": ""
             }
            },
            "type": "scatterpolar"
           }
          ],
          "scatterpolargl": [
           {
            "marker": {
             "colorbar": {
              "outlinewidth": 0,
              "ticks": ""
             }
            },
            "type": "scatterpolargl"
           }
          ],
          "scatterternary": [
           {
            "marker": {
             "colorbar": {
              "outlinewidth": 0,
              "ticks": ""
             }
            },
            "type": "scatterternary"
           }
          ],
          "surface": [
           {
            "colorbar": {
             "outlinewidth": 0,
             "ticks": ""
            },
            "colorscale": [
             [
              0,
              "#0d0887"
             ],
             [
              0.1111111111111111,
              "#46039f"
             ],
             [
              0.2222222222222222,
              "#7201a8"
             ],
             [
              0.3333333333333333,
              "#9c179e"
             ],
             [
              0.4444444444444444,
              "#bd3786"
             ],
             [
              0.5555555555555556,
              "#d8576b"
             ],
             [
              0.6666666666666666,
              "#ed7953"
             ],
             [
              0.7777777777777778,
              "#fb9f3a"
             ],
             [
              0.8888888888888888,
              "#fdca26"
             ],
             [
              1,
              "#f0f921"
             ]
            ],
            "type": "surface"
           }
          ],
          "table": [
           {
            "cells": {
             "fill": {
              "color": "#EBF0F8"
             },
             "line": {
              "color": "white"
             }
            },
            "header": {
             "fill": {
              "color": "#C8D4E3"
             },
             "line": {
              "color": "white"
             }
            },
            "type": "table"
           }
          ]
         },
         "layout": {
          "annotationdefaults": {
           "arrowcolor": "#2a3f5f",
           "arrowhead": 0,
           "arrowwidth": 1
          },
          "autotypenumbers": "strict",
          "coloraxis": {
           "colorbar": {
            "outlinewidth": 0,
            "ticks": ""
           }
          },
          "colorscale": {
           "diverging": [
            [
             0,
             "#8e0152"
            ],
            [
             0.1,
             "#c51b7d"
            ],
            [
             0.2,
             "#de77ae"
            ],
            [
             0.3,
             "#f1b6da"
            ],
            [
             0.4,
             "#fde0ef"
            ],
            [
             0.5,
             "#f7f7f7"
            ],
            [
             0.6,
             "#e6f5d0"
            ],
            [
             0.7,
             "#b8e186"
            ],
            [
             0.8,
             "#7fbc41"
            ],
            [
             0.9,
             "#4d9221"
            ],
            [
             1,
             "#276419"
            ]
           ],
           "sequential": [
            [
             0,
             "#0d0887"
            ],
            [
             0.1111111111111111,
             "#46039f"
            ],
            [
             0.2222222222222222,
             "#7201a8"
            ],
            [
             0.3333333333333333,
             "#9c179e"
            ],
            [
             0.4444444444444444,
             "#bd3786"
            ],
            [
             0.5555555555555556,
             "#d8576b"
            ],
            [
             0.6666666666666666,
             "#ed7953"
            ],
            [
             0.7777777777777778,
             "#fb9f3a"
            ],
            [
             0.8888888888888888,
             "#fdca26"
            ],
            [
             1,
             "#f0f921"
            ]
           ],
           "sequentialminus": [
            [
             0,
             "#0d0887"
            ],
            [
             0.1111111111111111,
             "#46039f"
            ],
            [
             0.2222222222222222,
             "#7201a8"
            ],
            [
             0.3333333333333333,
             "#9c179e"
            ],
            [
             0.4444444444444444,
             "#bd3786"
            ],
            [
             0.5555555555555556,
             "#d8576b"
            ],
            [
             0.6666666666666666,
             "#ed7953"
            ],
            [
             0.7777777777777778,
             "#fb9f3a"
            ],
            [
             0.8888888888888888,
             "#fdca26"
            ],
            [
             1,
             "#f0f921"
            ]
           ]
          },
          "colorway": [
           "#636efa",
           "#EF553B",
           "#00cc96",
           "#ab63fa",
           "#FFA15A",
           "#19d3f3",
           "#FF6692",
           "#B6E880",
           "#FF97FF",
           "#FECB52"
          ],
          "font": {
           "color": "#2a3f5f"
          },
          "geo": {
           "bgcolor": "white",
           "lakecolor": "white",
           "landcolor": "#E5ECF6",
           "showlakes": true,
           "showland": true,
           "subunitcolor": "white"
          },
          "hoverlabel": {
           "align": "left"
          },
          "hovermode": "closest",
          "mapbox": {
           "style": "light"
          },
          "paper_bgcolor": "white",
          "plot_bgcolor": "#E5ECF6",
          "polar": {
           "angularaxis": {
            "gridcolor": "white",
            "linecolor": "white",
            "ticks": ""
           },
           "bgcolor": "#E5ECF6",
           "radialaxis": {
            "gridcolor": "white",
            "linecolor": "white",
            "ticks": ""
           }
          },
          "scene": {
           "xaxis": {
            "backgroundcolor": "#E5ECF6",
            "gridcolor": "white",
            "gridwidth": 2,
            "linecolor": "white",
            "showbackground": true,
            "ticks": "",
            "zerolinecolor": "white"
           },
           "yaxis": {
            "backgroundcolor": "#E5ECF6",
            "gridcolor": "white",
            "gridwidth": 2,
            "linecolor": "white",
            "showbackground": true,
            "ticks": "",
            "zerolinecolor": "white"
           },
           "zaxis": {
            "backgroundcolor": "#E5ECF6",
            "gridcolor": "white",
            "gridwidth": 2,
            "linecolor": "white",
            "showbackground": true,
            "ticks": "",
            "zerolinecolor": "white"
           }
          },
          "shapedefaults": {
           "line": {
            "color": "#2a3f5f"
           }
          },
          "ternary": {
           "aaxis": {
            "gridcolor": "white",
            "linecolor": "white",
            "ticks": ""
           },
           "baxis": {
            "gridcolor": "white",
            "linecolor": "white",
            "ticks": ""
           },
           "bgcolor": "#E5ECF6",
           "caxis": {
            "gridcolor": "white",
            "linecolor": "white",
            "ticks": ""
           }
          },
          "title": {
           "x": 0.05
          },
          "xaxis": {
           "automargin": true,
           "gridcolor": "white",
           "linecolor": "white",
           "ticks": "",
           "title": {
            "standoff": 15
           },
           "zerolinecolor": "white",
           "zerolinewidth": 2
          },
          "yaxis": {
           "automargin": true,
           "gridcolor": "white",
           "linecolor": "white",
           "ticks": "",
           "title": {
            "standoff": 15
           },
           "zerolinecolor": "white",
           "zerolinewidth": 2
          }
         }
        },
        "title": {
         "text": "Sankey Diagram (Ages 20.1 - 40.0)<br> Even Age Distribution <br> DwtPlotter.sankey_agents_even_age_ranges()"
        }
       }
      }
     },
     "metadata": {},
     "output_type": "display_data"
    },
    {
     "data": {
      "application/vnd.plotly.v1+json": {
       "config": {
        "plotlyServerURL": "https://plot.ly"
       },
       "data": [
        {
         "link": {
          "source": {
           "bdata": "AwMDBQUHBwc=",
           "dtype": "i1"
          },
          "target": {
           "bdata": "AAIFBwYBBgQ=",
           "dtype": "i1"
          },
          "value": {
           "bdata": "7ABGAAwABgABAAEAAwACAA==",
           "dtype": "i2"
          }
         },
         "node": {
          "label": [
           "-2.0.NEVER INFECTED",
           "3.0.Active Smpos",
           "0.0.Latent Slow",
           "-1.0.None",
           "5.0.Active Exptb",
           "1.0.Latent Fast",
           "4.0.Active Smneg",
           "2.0.Active Presymp"
          ],
          "pad": 15,
          "thickness": 20
         },
         "type": "sankey"
        }
       ],
       "layout": {
        "annotations": [
         {
          "font": {
           "color": "black",
           "size": 8
          },
          "showarrow": false,
          "text": "DwtPlotter.sankey_agents_even_age_ranges()",
          "x": -0.05,
          "xref": "paper",
          "y": -0.2,
          "yref": "paper"
         }
        ],
        "template": {
         "data": {
          "bar": [
           {
            "error_x": {
             "color": "#2a3f5f"
            },
            "error_y": {
             "color": "#2a3f5f"
            },
            "marker": {
             "line": {
              "color": "#E5ECF6",
              "width": 0.5
             },
             "pattern": {
              "fillmode": "overlay",
              "size": 10,
              "solidity": 0.2
             }
            },
            "type": "bar"
           }
          ],
          "barpolar": [
           {
            "marker": {
             "line": {
              "color": "#E5ECF6",
              "width": 0.5
             },
             "pattern": {
              "fillmode": "overlay",
              "size": 10,
              "solidity": 0.2
             }
            },
            "type": "barpolar"
           }
          ],
          "carpet": [
           {
            "aaxis": {
             "endlinecolor": "#2a3f5f",
             "gridcolor": "white",
             "linecolor": "white",
             "minorgridcolor": "white",
             "startlinecolor": "#2a3f5f"
            },
            "baxis": {
             "endlinecolor": "#2a3f5f",
             "gridcolor": "white",
             "linecolor": "white",
             "minorgridcolor": "white",
             "startlinecolor": "#2a3f5f"
            },
            "type": "carpet"
           }
          ],
          "choropleth": [
           {
            "colorbar": {
             "outlinewidth": 0,
             "ticks": ""
            },
            "type": "choropleth"
           }
          ],
          "contour": [
           {
            "colorbar": {
             "outlinewidth": 0,
             "ticks": ""
            },
            "colorscale": [
             [
              0,
              "#0d0887"
             ],
             [
              0.1111111111111111,
              "#46039f"
             ],
             [
              0.2222222222222222,
              "#7201a8"
             ],
             [
              0.3333333333333333,
              "#9c179e"
             ],
             [
              0.4444444444444444,
              "#bd3786"
             ],
             [
              0.5555555555555556,
              "#d8576b"
             ],
             [
              0.6666666666666666,
              "#ed7953"
             ],
             [
              0.7777777777777778,
              "#fb9f3a"
             ],
             [
              0.8888888888888888,
              "#fdca26"
             ],
             [
              1,
              "#f0f921"
             ]
            ],
            "type": "contour"
           }
          ],
          "contourcarpet": [
           {
            "colorbar": {
             "outlinewidth": 0,
             "ticks": ""
            },
            "type": "contourcarpet"
           }
          ],
          "heatmap": [
           {
            "colorbar": {
             "outlinewidth": 0,
             "ticks": ""
            },
            "colorscale": [
             [
              0,
              "#0d0887"
             ],
             [
              0.1111111111111111,
              "#46039f"
             ],
             [
              0.2222222222222222,
              "#7201a8"
             ],
             [
              0.3333333333333333,
              "#9c179e"
             ],
             [
              0.4444444444444444,
              "#bd3786"
             ],
             [
              0.5555555555555556,
              "#d8576b"
             ],
             [
              0.6666666666666666,
              "#ed7953"
             ],
             [
              0.7777777777777778,
              "#fb9f3a"
             ],
             [
              0.8888888888888888,
              "#fdca26"
             ],
             [
              1,
              "#f0f921"
             ]
            ],
            "type": "heatmap"
           }
          ],
          "histogram": [
           {
            "marker": {
             "pattern": {
              "fillmode": "overlay",
              "size": 10,
              "solidity": 0.2
             }
            },
            "type": "histogram"
           }
          ],
          "histogram2d": [
           {
            "colorbar": {
             "outlinewidth": 0,
             "ticks": ""
            },
            "colorscale": [
             [
              0,
              "#0d0887"
             ],
             [
              0.1111111111111111,
              "#46039f"
             ],
             [
              0.2222222222222222,
              "#7201a8"
             ],
             [
              0.3333333333333333,
              "#9c179e"
             ],
             [
              0.4444444444444444,
              "#bd3786"
             ],
             [
              0.5555555555555556,
              "#d8576b"
             ],
             [
              0.6666666666666666,
              "#ed7953"
             ],
             [
              0.7777777777777778,
              "#fb9f3a"
             ],
             [
              0.8888888888888888,
              "#fdca26"
             ],
             [
              1,
              "#f0f921"
             ]
            ],
            "type": "histogram2d"
           }
          ],
          "histogram2dcontour": [
           {
            "colorbar": {
             "outlinewidth": 0,
             "ticks": ""
            },
            "colorscale": [
             [
              0,
              "#0d0887"
             ],
             [
              0.1111111111111111,
              "#46039f"
             ],
             [
              0.2222222222222222,
              "#7201a8"
             ],
             [
              0.3333333333333333,
              "#9c179e"
             ],
             [
              0.4444444444444444,
              "#bd3786"
             ],
             [
              0.5555555555555556,
              "#d8576b"
             ],
             [
              0.6666666666666666,
              "#ed7953"
             ],
             [
              0.7777777777777778,
              "#fb9f3a"
             ],
             [
              0.8888888888888888,
              "#fdca26"
             ],
             [
              1,
              "#f0f921"
             ]
            ],
            "type": "histogram2dcontour"
           }
          ],
          "mesh3d": [
           {
            "colorbar": {
             "outlinewidth": 0,
             "ticks": ""
            },
            "type": "mesh3d"
           }
          ],
          "parcoords": [
           {
            "line": {
             "colorbar": {
              "outlinewidth": 0,
              "ticks": ""
             }
            },
            "type": "parcoords"
           }
          ],
          "pie": [
           {
            "automargin": true,
            "type": "pie"
           }
          ],
          "scatter": [
           {
            "fillpattern": {
             "fillmode": "overlay",
             "size": 10,
             "solidity": 0.2
            },
            "type": "scatter"
           }
          ],
          "scatter3d": [
           {
            "line": {
             "colorbar": {
              "outlinewidth": 0,
              "ticks": ""
             }
            },
            "marker": {
             "colorbar": {
              "outlinewidth": 0,
              "ticks": ""
             }
            },
            "type": "scatter3d"
           }
          ],
          "scattercarpet": [
           {
            "marker": {
             "colorbar": {
              "outlinewidth": 0,
              "ticks": ""
             }
            },
            "type": "scattercarpet"
           }
          ],
          "scattergeo": [
           {
            "marker": {
             "colorbar": {
              "outlinewidth": 0,
              "ticks": ""
             }
            },
            "type": "scattergeo"
           }
          ],
          "scattergl": [
           {
            "marker": {
             "colorbar": {
              "outlinewidth": 0,
              "ticks": ""
             }
            },
            "type": "scattergl"
           }
          ],
          "scattermap": [
           {
            "marker": {
             "colorbar": {
              "outlinewidth": 0,
              "ticks": ""
             }
            },
            "type": "scattermap"
           }
          ],
          "scattermapbox": [
           {
            "marker": {
             "colorbar": {
              "outlinewidth": 0,
              "ticks": ""
             }
            },
            "type": "scattermapbox"
           }
          ],
          "scatterpolar": [
           {
            "marker": {
             "colorbar": {
              "outlinewidth": 0,
              "ticks": ""
             }
            },
            "type": "scatterpolar"
           }
          ],
          "scatterpolargl": [
           {
            "marker": {
             "colorbar": {
              "outlinewidth": 0,
              "ticks": ""
             }
            },
            "type": "scatterpolargl"
           }
          ],
          "scatterternary": [
           {
            "marker": {
             "colorbar": {
              "outlinewidth": 0,
              "ticks": ""
             }
            },
            "type": "scatterternary"
           }
          ],
          "surface": [
           {
            "colorbar": {
             "outlinewidth": 0,
             "ticks": ""
            },
            "colorscale": [
             [
              0,
              "#0d0887"
             ],
             [
              0.1111111111111111,
              "#46039f"
             ],
             [
              0.2222222222222222,
              "#7201a8"
             ],
             [
              0.3333333333333333,
              "#9c179e"
             ],
             [
              0.4444444444444444,
              "#bd3786"
             ],
             [
              0.5555555555555556,
              "#d8576b"
             ],
             [
              0.6666666666666666,
              "#ed7953"
             ],
             [
              0.7777777777777778,
              "#fb9f3a"
             ],
             [
              0.8888888888888888,
              "#fdca26"
             ],
             [
              1,
              "#f0f921"
             ]
            ],
            "type": "surface"
           }
          ],
          "table": [
           {
            "cells": {
             "fill": {
              "color": "#EBF0F8"
             },
             "line": {
              "color": "white"
             }
            },
            "header": {
             "fill": {
              "color": "#C8D4E3"
             },
             "line": {
              "color": "white"
             }
            },
            "type": "table"
           }
          ]
         },
         "layout": {
          "annotationdefaults": {
           "arrowcolor": "#2a3f5f",
           "arrowhead": 0,
           "arrowwidth": 1
          },
          "autotypenumbers": "strict",
          "coloraxis": {
           "colorbar": {
            "outlinewidth": 0,
            "ticks": ""
           }
          },
          "colorscale": {
           "diverging": [
            [
             0,
             "#8e0152"
            ],
            [
             0.1,
             "#c51b7d"
            ],
            [
             0.2,
             "#de77ae"
            ],
            [
             0.3,
             "#f1b6da"
            ],
            [
             0.4,
             "#fde0ef"
            ],
            [
             0.5,
             "#f7f7f7"
            ],
            [
             0.6,
             "#e6f5d0"
            ],
            [
             0.7,
             "#b8e186"
            ],
            [
             0.8,
             "#7fbc41"
            ],
            [
             0.9,
             "#4d9221"
            ],
            [
             1,
             "#276419"
            ]
           ],
           "sequential": [
            [
             0,
             "#0d0887"
            ],
            [
             0.1111111111111111,
             "#46039f"
            ],
            [
             0.2222222222222222,
             "#7201a8"
            ],
            [
             0.3333333333333333,
             "#9c179e"
            ],
            [
             0.4444444444444444,
             "#bd3786"
            ],
            [
             0.5555555555555556,
             "#d8576b"
            ],
            [
             0.6666666666666666,
             "#ed7953"
            ],
            [
             0.7777777777777778,
             "#fb9f3a"
            ],
            [
             0.8888888888888888,
             "#fdca26"
            ],
            [
             1,
             "#f0f921"
            ]
           ],
           "sequentialminus": [
            [
             0,
             "#0d0887"
            ],
            [
             0.1111111111111111,
             "#46039f"
            ],
            [
             0.2222222222222222,
             "#7201a8"
            ],
            [
             0.3333333333333333,
             "#9c179e"
            ],
            [
             0.4444444444444444,
             "#bd3786"
            ],
            [
             0.5555555555555556,
             "#d8576b"
            ],
            [
             0.6666666666666666,
             "#ed7953"
            ],
            [
             0.7777777777777778,
             "#fb9f3a"
            ],
            [
             0.8888888888888888,
             "#fdca26"
            ],
            [
             1,
             "#f0f921"
            ]
           ]
          },
          "colorway": [
           "#636efa",
           "#EF553B",
           "#00cc96",
           "#ab63fa",
           "#FFA15A",
           "#19d3f3",
           "#FF6692",
           "#B6E880",
           "#FF97FF",
           "#FECB52"
          ],
          "font": {
           "color": "#2a3f5f"
          },
          "geo": {
           "bgcolor": "white",
           "lakecolor": "white",
           "landcolor": "#E5ECF6",
           "showlakes": true,
           "showland": true,
           "subunitcolor": "white"
          },
          "hoverlabel": {
           "align": "left"
          },
          "hovermode": "closest",
          "mapbox": {
           "style": "light"
          },
          "paper_bgcolor": "white",
          "plot_bgcolor": "#E5ECF6",
          "polar": {
           "angularaxis": {
            "gridcolor": "white",
            "linecolor": "white",
            "ticks": ""
           },
           "bgcolor": "#E5ECF6",
           "radialaxis": {
            "gridcolor": "white",
            "linecolor": "white",
            "ticks": ""
           }
          },
          "scene": {
           "xaxis": {
            "backgroundcolor": "#E5ECF6",
            "gridcolor": "white",
            "gridwidth": 2,
            "linecolor": "white",
            "showbackground": true,
            "ticks": "",
            "zerolinecolor": "white"
           },
           "yaxis": {
            "backgroundcolor": "#E5ECF6",
            "gridcolor": "white",
            "gridwidth": 2,
            "linecolor": "white",
            "showbackground": true,
            "ticks": "",
            "zerolinecolor": "white"
           },
           "zaxis": {
            "backgroundcolor": "#E5ECF6",
            "gridcolor": "white",
            "gridwidth": 2,
            "linecolor": "white",
            "showbackground": true,
            "ticks": "",
            "zerolinecolor": "white"
           }
          },
          "shapedefaults": {
           "line": {
            "color": "#2a3f5f"
           }
          },
          "ternary": {
           "aaxis": {
            "gridcolor": "white",
            "linecolor": "white",
            "ticks": ""
           },
           "baxis": {
            "gridcolor": "white",
            "linecolor": "white",
            "ticks": ""
           },
           "bgcolor": "#E5ECF6",
           "caxis": {
            "gridcolor": "white",
            "linecolor": "white",
            "ticks": ""
           }
          },
          "title": {
           "x": 0.05
          },
          "xaxis": {
           "automargin": true,
           "gridcolor": "white",
           "linecolor": "white",
           "ticks": "",
           "title": {
            "standoff": 15
           },
           "zerolinecolor": "white",
           "zerolinewidth": 2
          },
          "yaxis": {
           "automargin": true,
           "gridcolor": "white",
           "linecolor": "white",
           "ticks": "",
           "title": {
            "standoff": 15
           },
           "zerolinecolor": "white",
           "zerolinewidth": 2
          }
         }
        },
        "title": {
         "text": "Sankey Diagram (Ages 40.0 - 60.0)<br> Even Age Distribution <br> DwtPlotter.sankey_agents_even_age_ranges()"
        }
       }
      }
     },
     "metadata": {},
     "output_type": "display_data"
    }
   ],
   "source": [
    "\n",
    "# Sankey diagrams with even age ranges\n",
    "analyzer.sankey_agents_even_age_ranges(number_of_plots=3, scenario=\"Even Age Distribution\")"
   ]
  },
  {
   "cell_type": "markdown",
   "id": "6381fa47",
   "metadata": {},
   "source": [
    "## 2. Network Graphs\n",
    "Visualize state transition networks."
   ]
  },
  {
   "cell_type": "code",
   "execution_count": 26,
   "id": "6ff86554",
   "metadata": {},
   "outputs": [
    {
     "data": {
      "image/png": "[encoded data removed]",
      "text/plain": [
       "<Figure size 1500x1000 with 1 Axes>"
      ]
     },
     "metadata": {},
     "output_type": "display_data"
    }
   ],
   "source": [
    "analyzer.graph_state_transitions(subtitle=\"State Transition Network\", colormap='tab20')\n"
   ]
  },
  {
   "cell_type": "code",
   "execution_count": 27,
   "id": "9454e47e",
   "metadata": {},
   "outputs": [
    {
     "data": {
      "text/plain": [
       "<Figure size 1500x1000 with 0 Axes>"
      ]
     },
     "metadata": {},
     "output_type": "display_data"
    },
    {
     "data": {
      "image/png": "[encoded data removed]",
      "text/plain": [
       "<Figure size 640x480 with 1 Axes>"
      ]
     },
     "metadata": {},
     "output_type": "display_data"
    }
   ],
   "source": [
    "\n",
    "analyzer.graph_state_transitions_curved(subtitle=\"Curved State Transitions\", colormap='plasma')"
   ]
  },
  {
   "cell_type": "markdown",
   "id": "ce1b7215",
   "metadata": {},
   "source": [
    "## 3. Histograms and Distributions\n",
    "Explore dwell time distributions."
   ]
  },
  {
   "cell_type": "code",
   "execution_count": 28,
   "id": "558829fa",
   "metadata": {},
   "outputs": [
    {
     "name": "stdout",
     "output_type": "stream",
     "text": [
      "Help on method histogram_with_kde in module tbsim.analyzers:\n",
      "\n",
      "histogram_with_kde(subtitle='') method of tbsim.analyzers.DwtAnalyzer instance\n",
      "    Create histograms with kernel density estimation for dwell time distributions.\n",
      "\n",
      "    This method shows how long agents spend in each TB state, providing\n",
      "    insights into the timing patterns of disease progression.\n",
      "\n",
      "    .. image:: ../_static/histogram_kde_example.png\n",
      "        :width: 500px\n",
      "        :alt: Histogram with KDE showing dwell time distributions\n",
      "        :align: center\n",
      "\n",
      "    The plot above demonstrates:\n",
      "    - **Histogram bars**: Frequency distribution of dwell times\n",
      "    - **KDE curve**: Smooth probability density estimation\n",
      "    - **Multi-panel layout**: One subplot per TB state\n",
      "    - **Automatic scaling**: Optimized bin sizes and ranges\n",
      "\n",
      "    Mathematical Model:\n",
      "        For each state i:\n",
      "        - Extract dwell times: T_i = {dwell_time for state i}\n",
      "        - Create histogram: H_i(bin) = count(T_i in bin)\n",
      "        - Calculate KDE: KDE_i(t) = Σ(K(t-t_j, h)) / (n*h)\n",
      "            where K is kernel function, h is bandwidth, n = |T_i|\n",
      "        - Plot: histogram + KDE curve\n",
      "\n",
      "    Args:\n",
      "        subtitle (str): Additional subtitle for the plot\n",
      "\n",
      "    Returns:\n",
      "        None: Displays matplotlib subplot figure\n",
      "\n",
      "    Example:\n",
      "    ```python\n",
      "    plotter = DwtPlotter(file_path='data.csv')\n",
      "\n",
      "    # Analyze dwell time distributions\n",
      "    plotter.histogram_with_kde(subtitle=\"Distribution Analysis\")\n",
      "    ```\n",
      "\n",
      "    Features:\n",
      "    - Multi-panel layout (4 columns)\n",
      "    - Histogram + KDE visualization\n",
      "    - State-specific analysis\n",
      "    - Automatic bin sizing\n",
      "    - Professional styling with legends\n",
      "\n"
     ]
    }
   ],
   "source": [
    "help(analyzer.histogram_with_kde)\n",
    "\n"
   ]
  },
  {
   "cell_type": "markdown",
   "id": "d716b2d1",
   "metadata": {},
   "source": [
    "## 4. Interactive Bar Charts\n",
    "Interactive bar charts for state transitions and reinfections."
   ]
  },
  {
   "cell_type": "code",
   "execution_count": 29,
   "id": "1f2a960e",
   "metadata": {},
   "outputs": [
    {
     "data": {
      "application/vnd.plotly.v1+json": {
       "config": {
        "plotlyServerURL": "https://plot.ly"
       },
       "data": [
        {
         "name": "-1.0.None → -2.0.NEVER INFECTED (90-180 step_time_units)",
         "orientation": "h",
         "text": [
          "737"
         ],
         "textposition": "auto",
         "type": "bar",
         "x": [
          737
         ],
         "y": [
          "-1.0.None → -2.0.NEVER INFECTED (90-180 step_time_units)"
         ]
        },
        {
         "name": "-1.0.None → 0.0.Latent Slow (0-30 step_time_units)",
         "orientation": "h",
         "text": [
          "226"
         ],
         "textposition": "auto",
         "type": "bar",
         "x": [
          226
         ],
         "y": [
          "-1.0.None → 0.0.Latent Slow (0-30 step_time_units)"
         ]
        },
        {
         "name": "-1.0.None → 1.0.Latent Fast (0-30 step_time_units)",
         "orientation": "h",
         "text": [
          "37"
         ],
         "textposition": "auto",
         "type": "bar",
         "x": [
          37
         ],
         "y": [
          "-1.0.None → 1.0.Latent Fast (0-30 step_time_units)"
         ]
        },
        {
         "name": "1.0.Latent Fast → 2.0.Active Presymp (0-30 step_time_units)",
         "orientation": "h",
         "text": [
          "5"
         ],
         "textposition": "auto",
         "type": "bar",
         "x": [
          5
         ],
         "y": [
          "1.0.Latent Fast → 2.0.Active Presymp (0-30 step_time_units)"
         ]
        },
        {
         "name": "1.0.Latent Fast → 2.0.Active Presymp (30-90 step_time_units)",
         "orientation": "h",
         "text": [
          "12"
         ],
         "textposition": "auto",
         "type": "bar",
         "x": [
          12
         ],
         "y": [
          "1.0.Latent Fast → 2.0.Active Presymp (30-90 step_time_units)"
         ]
        },
        {
         "name": "1.0.Latent Fast → 2.0.Active Presymp (90-180 step_time_units)",
         "orientation": "h",
         "text": [
          "5"
         ],
         "textposition": "auto",
         "type": "bar",
         "x": [
          5
         ],
         "y": [
          "1.0.Latent Fast → 2.0.Active Presymp (90-180 step_time_units)"
         ]
        },
        {
         "name": "1.0.Latent Fast → 4.0.Active Smneg (90-180 step_time_units)",
         "orientation": "h",
         "text": [
          "1"
         ],
         "textposition": "auto",
         "type": "bar",
         "x": [
          1
         ],
         "y": [
          "1.0.Latent Fast → 4.0.Active Smneg (90-180 step_time_units)"
         ]
        },
        {
         "name": "2.0.Active Presymp → 3.0.Active Smpos (0-30 step_time_units)",
         "orientation": "h",
         "text": [
          "2"
         ],
         "textposition": "auto",
         "type": "bar",
         "x": [
          2
         ],
         "y": [
          "2.0.Active Presymp → 3.0.Active Smpos (0-30 step_time_units)"
         ]
        },
        {
         "name": "2.0.Active Presymp → 4.0.Active Smneg (0-30 step_time_units)",
         "orientation": "h",
         "text": [
          "7"
         ],
         "textposition": "auto",
         "type": "bar",
         "x": [
          7
         ],
         "y": [
          "2.0.Active Presymp → 4.0.Active Smneg (0-30 step_time_units)"
         ]
        },
        {
         "name": "2.0.Active Presymp → 4.0.Active Smneg (30-90 step_time_units)",
         "orientation": "h",
         "text": [
          "2"
         ],
         "textposition": "auto",
         "type": "bar",
         "x": [
          2
         ],
         "y": [
          "2.0.Active Presymp → 4.0.Active Smneg (30-90 step_time_units)"
         ]
        },
        {
         "name": "2.0.Active Presymp → 4.0.Active Smneg (90-180 step_time_units)",
         "orientation": "h",
         "text": [
          "1"
         ],
         "textposition": "auto",
         "type": "bar",
         "x": [
          1
         ],
         "y": [
          "2.0.Active Presymp → 4.0.Active Smneg (90-180 step_time_units)"
         ]
        },
        {
         "name": "2.0.Active Presymp → 5.0.Active Exptb (0-30 step_time_units)",
         "orientation": "h",
         "text": [
          "1"
         ],
         "textposition": "auto",
         "type": "bar",
         "x": [
          1
         ],
         "y": [
          "2.0.Active Presymp → 5.0.Active Exptb (0-30 step_time_units)"
         ]
        },
        {
         "name": "2.0.Active Presymp → 5.0.Active Exptb (30-90 step_time_units)",
         "orientation": "h",
         "text": [
          "2"
         ],
         "textposition": "auto",
         "type": "bar",
         "x": [
          2
         ],
         "y": [
          "2.0.Active Presymp → 5.0.Active Exptb (30-90 step_time_units)"
         ]
        }
       ],
       "layout": {
        "annotations": [
         {
          "font": {
           "color": "black",
           "size": 8
          },
          "showarrow": false,
          "text": "DwtPlotter.interactive_all_state_transitions()",
          "x": -0.05,
          "xref": "paper",
          "y": -0.2,
          "yref": "paper"
         }
        ],
        "height": 490,
        "legend": {
         "title": {
          "text": "Transitions"
         }
        },
        "template": {
         "data": {
          "bar": [
           {
            "error_x": {
             "color": "#2a3f5f"
            },
            "error_y": {
             "color": "#2a3f5f"
            },
            "marker": {
             "line": {
              "color": "#E5ECF6",
              "width": 0.5
             },
             "pattern": {
              "fillmode": "overlay",
              "size": 10,
              "solidity": 0.2
             }
            },
            "type": "bar"
           }
          ],
          "barpolar": [
           {
            "marker": {
             "line": {
              "color": "#E5ECF6",
              "width": 0.5
             },
             "pattern": {
              "fillmode": "overlay",
              "size": 10,
              "solidity": 0.2
             }
            },
            "type": "barpolar"
           }
          ],
          "carpet": [
           {
            "aaxis": {
             "endlinecolor": "#2a3f5f",
             "gridcolor": "white",
             "linecolor": "white",
             "minorgridcolor": "white",
             "startlinecolor": "#2a3f5f"
            },
            "baxis": {
             "endlinecolor": "#2a3f5f",
             "gridcolor": "white",
             "linecolor": "white",
             "minorgridcolor": "white",
             "startlinecolor": "#2a3f5f"
            },
            "type": "carpet"
           }
          ],
          "choropleth": [
           {
            "colorbar": {
             "outlinewidth": 0,
             "ticks": ""
            },
            "type": "choropleth"
           }
          ],
          "contour": [
           {
            "colorbar": {
             "outlinewidth": 0,
             "ticks": ""
            },
            "colorscale": [
             [
              0,
              "#0d0887"
             ],
             [
              0.1111111111111111,
              "#46039f"
             ],
             [
              0.2222222222222222,
              "#7201a8"
             ],
             [
              0.3333333333333333,
              "#9c179e"
             ],
             [
              0.4444444444444444,
              "#bd3786"
             ],
             [
              0.5555555555555556,
              "#d8576b"
             ],
             [
              0.6666666666666666,
              "#ed7953"
             ],
             [
              0.7777777777777778,
              "#fb9f3a"
             ],
             [
              0.8888888888888888,
              "#fdca26"
             ],
             [
              1,
              "#f0f921"
             ]
            ],
            "type": "contour"
           }
          ],
          "contourcarpet": [
           {
            "colorbar": {
             "outlinewidth": 0,
             "ticks": ""
            },
            "type": "contourcarpet"
           }
          ],
          "heatmap": [
           {
            "colorbar": {
             "outlinewidth": 0,
             "ticks": ""
            },
            "colorscale": [
             [
              0,
              "#0d0887"
             ],
             [
              0.1111111111111111,
              "#46039f"
             ],
             [
              0.2222222222222222,
              "#7201a8"
             ],
             [
              0.3333333333333333,
              "#9c179e"
             ],
             [
              0.4444444444444444,
              "#bd3786"
             ],
             [
              0.5555555555555556,
              "#d8576b"
             ],
             [
              0.6666666666666666,
              "#ed7953"
             ],
             [
              0.7777777777777778,
              "#fb9f3a"
             ],
             [
              0.8888888888888888,
              "#fdca26"
             ],
             [
              1,
              "#f0f921"
             ]
            ],
            "type": "heatmap"
           }
          ],
          "histogram": [
           {
            "marker": {
             "pattern": {
              "fillmode": "overlay",
              "size": 10,
              "solidity": 0.2
             }
            },
            "type": "histogram"
           }
          ],
          "histogram2d": [
           {
            "colorbar": {
             "outlinewidth": 0,
             "ticks": ""
            },
            "colorscale": [
             [
              0,
              "#0d0887"
             ],
             [
              0.1111111111111111,
              "#46039f"
             ],
             [
              0.2222222222222222,
              "#7201a8"
             ],
             [
              0.3333333333333333,
              "#9c179e"
             ],
             [
              0.4444444444444444,
              "#bd3786"
             ],
             [
              0.5555555555555556,
              "#d8576b"
             ],
             [
              0.6666666666666666,
              "#ed7953"
             ],
             [
              0.7777777777777778,
              "#fb9f3a"
             ],
             [
              0.8888888888888888,
              "#fdca26"
             ],
             [
              1,
              "#f0f921"
             ]
            ],
            "type": "histogram2d"
           }
          ],
          "histogram2dcontour": [
           {
            "colorbar": {
             "outlinewidth": 0,
             "ticks": ""
            },
            "colorscale": [
             [
              0,
              "#0d0887"
             ],
             [
              0.1111111111111111,
              "#46039f"
             ],
             [
              0.2222222222222222,
              "#7201a8"
             ],
             [
              0.3333333333333333,
              "#9c179e"
             ],
             [
              0.4444444444444444,
              "#bd3786"
             ],
             [
              0.5555555555555556,
              "#d8576b"
             ],
             [
              0.6666666666666666,
              "#ed7953"
             ],
             [
              0.7777777777777778,
              "#fb9f3a"
             ],
             [
              0.8888888888888888,
              "#fdca26"
             ],
             [
              1,
              "#f0f921"
             ]
            ],
            "type": "histogram2dcontour"
           }
          ],
          "mesh3d": [
           {
            "colorbar": {
             "outlinewidth": 0,
             "ticks": ""
            },
            "type": "mesh3d"
           }
          ],
          "parcoords": [
           {
            "line": {
             "colorbar": {
              "outlinewidth": 0,
              "ticks": ""
             }
            },
            "type": "parcoords"
           }
          ],
          "pie": [
           {
            "automargin": true,
            "type": "pie"
           }
          ],
          "scatter": [
           {
            "fillpattern": {
             "fillmode": "overlay",
             "size": 10,
             "solidity": 0.2
            },
            "type": "scatter"
           }
          ],
          "scatter3d": [
           {
            "line": {
             "colorbar": {
              "outlinewidth": 0,
              "ticks": ""
             }
            },
            "marker": {
             "colorbar": {
              "outlinewidth": 0,
              "ticks": ""
             }
            },
            "type": "scatter3d"
           }
          ],
          "scattercarpet": [
           {
            "marker": {
             "colorbar": {
              "outlinewidth": 0,
              "ticks": ""
             }
            },
            "type": "scattercarpet"
           }
          ],
          "scattergeo": [
           {
            "marker": {
             "colorbar": {
              "outlinewidth": 0,
              "ticks": ""
             }
            },
            "type": "scattergeo"
           }
          ],
          "scattergl": [
           {
            "marker": {
             "colorbar": {
              "outlinewidth": 0,
              "ticks": ""
             }
            },
            "type": "scattergl"
           }
          ],
          "scattermap": [
           {
            "marker": {
             "colorbar": {
              "outlinewidth": 0,
              "ticks": ""
             }
            },
            "type": "scattermap"
           }
          ],
          "scattermapbox": [
           {
            "marker": {
             "colorbar": {
              "outlinewidth": 0,
              "ticks": ""
             }
            },
            "type": "scattermapbox"
           }
          ],
          "scatterpolar": [
           {
            "marker": {
             "colorbar": {
              "outlinewidth": 0,
              "ticks": ""
             }
            },
            "type": "scatterpolar"
           }
          ],
          "scatterpolargl": [
           {
            "marker": {
             "colorbar": {
              "outlinewidth": 0,
              "ticks": ""
             }
            },
            "type": "scatterpolargl"
           }
          ],
          "scatterternary": [
           {
            "marker": {
             "colorbar": {
              "outlinewidth": 0,
              "ticks": ""
             }
            },
            "type": "scatterternary"
           }
          ],
          "surface": [
           {
            "colorbar": {
             "outlinewidth": 0,
             "ticks": ""
            },
            "colorscale": [
             [
              0,
              "#0d0887"
             ],
             [
              0.1111111111111111,
              "#46039f"
             ],
             [
              0.2222222222222222,
              "#7201a8"
             ],
             [
              0.3333333333333333,
              "#9c179e"
             ],
             [
              0.4444444444444444,
              "#bd3786"
             ],
             [
              0.5555555555555556,
              "#d8576b"
             ],
             [
              0.6666666666666666,
              "#ed7953"
             ],
             [
              0.7777777777777778,
              "#fb9f3a"
             ],
             [
              0.8888888888888888,
              "#fdca26"
             ],
             [
              1,
              "#f0f921"
             ]
            ],
            "type": "surface"
           }
          ],
          "table": [
           {
            "cells": {
             "fill": {
              "color": "#EBF0F8"
             },
             "line": {
              "color": "white"
             }
            },
            "header": {
             "fill": {
              "color": "#C8D4E3"
             },
             "line": {
              "color": "white"
             }
            },
            "type": "table"
           }
          ]
         },
         "layout": {
          "annotationdefaults": {
           "arrowcolor": "#2a3f5f",
           "arrowhead": 0,
           "arrowwidth": 1
          },
          "autotypenumbers": "strict",
          "coloraxis": {
           "colorbar": {
            "outlinewidth": 0,
            "ticks": ""
           }
          },
          "colorscale": {
           "diverging": [
            [
             0,
             "#8e0152"
            ],
            [
             0.1,
             "#c51b7d"
            ],
            [
             0.2,
             "#de77ae"
            ],
            [
             0.3,
             "#f1b6da"
            ],
            [
             0.4,
             "#fde0ef"
            ],
            [
             0.5,
             "#f7f7f7"
            ],
            [
             0.6,
             "#e6f5d0"
            ],
            [
             0.7,
             "#b8e186"
            ],
            [
             0.8,
             "#7fbc41"
            ],
            [
             0.9,
             "#4d9221"
            ],
            [
             1,
             "#276419"
            ]
           ],
           "sequential": [
            [
             0,
             "#0d0887"
            ],
            [
             0.1111111111111111,
             "#46039f"
            ],
            [
             0.2222222222222222,
             "#7201a8"
            ],
            [
             0.3333333333333333,
             "#9c179e"
            ],
            [
             0.4444444444444444,
             "#bd3786"
            ],
            [
             0.5555555555555556,
             "#d8576b"
            ],
            [
             0.6666666666666666,
             "#ed7953"
            ],
            [
             0.7777777777777778,
             "#fb9f3a"
            ],
            [
             0.8888888888888888,
             "#fdca26"
            ],
            [
             1,
             "#f0f921"
            ]
           ],
           "sequentialminus": [
            [
             0,
             "#0d0887"
            ],
            [
             0.1111111111111111,
             "#46039f"
            ],
            [
             0.2222222222222222,
             "#7201a8"
            ],
            [
             0.3333333333333333,
             "#9c179e"
            ],
            [
             0.4444444444444444,
             "#bd3786"
            ],
            [
             0.5555555555555556,
             "#d8576b"
            ],
            [
             0.6666666666666666,
             "#ed7953"
            ],
            [
             0.7777777777777778,
             "#fb9f3a"
            ],
            [
             0.8888888888888888,
             "#fdca26"
            ],
            [
             1,
             "#f0f921"
            ]
           ]
          },
          "colorway": [
           "#636efa",
           "#EF553B",
           "#00cc96",
           "#ab63fa",
           "#FFA15A",
           "#19d3f3",
           "#FF6692",
           "#B6E880",
           "#FF97FF",
           "#FECB52"
          ],
          "font": {
           "color": "#2a3f5f"
          },
          "geo": {
           "bgcolor": "white",
           "lakecolor": "white",
           "landcolor": "#E5ECF6",
           "showlakes": true,
           "showland": true,
           "subunitcolor": "white"
          },
          "hoverlabel": {
           "align": "left"
          },
          "hovermode": "closest",
          "mapbox": {
           "style": "light"
          },
          "paper_bgcolor": "white",
          "plot_bgcolor": "#E5ECF6",
          "polar": {
           "angularaxis": {
            "gridcolor": "white",
            "linecolor": "white",
            "ticks": ""
           },
           "bgcolor": "#E5ECF6",
           "radialaxis": {
            "gridcolor": "white",
            "linecolor": "white",
            "ticks": ""
           }
          },
          "scene": {
           "xaxis": {
            "backgroundcolor": "#E5ECF6",
            "gridcolor": "white",
            "gridwidth": 2,
            "linecolor": "white",
            "showbackground": true,
            "ticks": "",
            "zerolinecolor": "white"
           },
           "yaxis": {
            "backgroundcolor": "#E5ECF6",
            "gridcolor": "white",
            "gridwidth": 2,
            "linecolor": "white",
            "showbackground": true,
            "ticks": "",
            "zerolinecolor": "white"
           },
           "zaxis": {
            "backgroundcolor": "#E5ECF6",
            "gridcolor": "white",
            "gridwidth": 2,
            "linecolor": "white",
            "showbackground": true,
            "ticks": "",
            "zerolinecolor": "white"
           }
          },
          "shapedefaults": {
           "line": {
            "color": "#2a3f5f"
           }
          },
          "ternary": {
           "aaxis": {
            "gridcolor": "white",
            "linecolor": "white",
            "ticks": ""
           },
           "baxis": {
            "gridcolor": "white",
            "linecolor": "white",
            "ticks": ""
           },
           "bgcolor": "#E5ECF6",
           "caxis": {
            "gridcolor": "white",
            "linecolor": "white",
            "ticks": ""
           }
          },
          "title": {
           "x": 0.05
          },
          "xaxis": {
           "automargin": true,
           "gridcolor": "white",
           "linecolor": "white",
           "ticks": "",
           "title": {
            "standoff": 15
           },
           "zerolinecolor": "white",
           "zerolinewidth": 2
          },
          "yaxis": {
           "automargin": true,
           "gridcolor": "white",
           "linecolor": "white",
           "ticks": "",
           "title": {
            "standoff": 15
           },
           "zerolinecolor": "white",
           "zerolinewidth": 2
          }
         }
        },
        "title": {
         "text": "State Transitions Grouped by Dwell Time Categories <br>DwtPlotter.interactive_all_state_transitions()"
        },
        "xaxis": {
         "title": {
          "text": "Count"
         }
        },
        "yaxis": {
         "title": {
          "text": "State Transitions"
         }
        }
       }
      }
     },
     "metadata": {},
     "output_type": "display_data"
    }
   ],
   "source": [
    "analyzer.barchar_all_state_transitions_interactive(\n",
    "    dwell_time_bins=[0, 30, 90, 180, 365, float('inf')],\n",
    "    filter_states=['-1.0.None', '0.0.Latent Slow', '1.0.Latent Fast', '2.0.Active Presymp']\n",
    ")\n",
    "\n"
   ]
  },
  {
   "cell_type": "markdown",
   "id": "6e5b92a7",
   "metadata": {},
   "source": [
    "## 5. Stacked Bar Charts\n",
    "Stacked bar charts for cumulative time and dwell time analysis."
   ]
  },
  {
   "cell_type": "code",
   "execution_count": 30,
   "id": "4ea5f4e8",
   "metadata": {},
   "outputs": [
    {
     "data": {
      "application/vnd.plotly.v1+json": {
       "config": {
        "plotlyServerURL": "https://plot.ly"
       },
       "data": [
        {
         "name": "-1.0.None → 1.0.Latent Fast (0-30 step_time_units)",
         "orientation": "h",
         "text": [
          "37"
         ],
         "textposition": "auto",
         "type": "bar",
         "x": [
          37
         ],
         "y": [
          "-1.0.None → 1.0.Latent Fast (0-30 step_time_units)"
         ]
        },
        {
         "name": "1.0.Latent Fast → 2.0.Active Presymp (0-30 step_time_units)",
         "orientation": "h",
         "text": [
          "5"
         ],
         "textposition": "auto",
         "type": "bar",
         "x": [
          5
         ],
         "y": [
          "1.0.Latent Fast → 2.0.Active Presymp (0-30 step_time_units)"
         ]
        },
        {
         "name": "1.0.Latent Fast → 2.0.Active Presymp (30-90 step_time_units)",
         "orientation": "h",
         "text": [
          "12"
         ],
         "textposition": "auto",
         "type": "bar",
         "x": [
          12
         ],
         "y": [
          "1.0.Latent Fast → 2.0.Active Presymp (30-90 step_time_units)"
         ]
        },
        {
         "name": "1.0.Latent Fast → 2.0.Active Presymp (90-180 step_time_units)",
         "orientation": "h",
         "text": [
          "5"
         ],
         "textposition": "auto",
         "type": "bar",
         "x": [
          5
         ],
         "y": [
          "1.0.Latent Fast → 2.0.Active Presymp (90-180 step_time_units)"
         ]
        },
        {
         "name": "1.0.Latent Fast → 4.0.Active Smneg (90-180 step_time_units)",
         "orientation": "h",
         "text": [
          "1"
         ],
         "textposition": "auto",
         "type": "bar",
         "x": [
          1
         ],
         "y": [
          "1.0.Latent Fast → 4.0.Active Smneg (90-180 step_time_units)"
         ]
        },
        {
         "name": "2.0.Active Presymp → 3.0.Active Smpos (0-30 step_time_units)",
         "orientation": "h",
         "text": [
          "2"
         ],
         "textposition": "auto",
         "type": "bar",
         "x": [
          2
         ],
         "y": [
          "2.0.Active Presymp → 3.0.Active Smpos (0-30 step_time_units)"
         ]
        },
        {
         "name": "2.0.Active Presymp → 4.0.Active Smneg (0-30 step_time_units)",
         "orientation": "h",
         "text": [
          "7"
         ],
         "textposition": "auto",
         "type": "bar",
         "x": [
          7
         ],
         "y": [
          "2.0.Active Presymp → 4.0.Active Smneg (0-30 step_time_units)"
         ]
        },
        {
         "name": "2.0.Active Presymp → 4.0.Active Smneg (30-90 step_time_units)",
         "orientation": "h",
         "text": [
          "2"
         ],
         "textposition": "auto",
         "type": "bar",
         "x": [
          2
         ],
         "y": [
          "2.0.Active Presymp → 4.0.Active Smneg (30-90 step_time_units)"
         ]
        },
        {
         "name": "2.0.Active Presymp → 4.0.Active Smneg (90-180 step_time_units)",
         "orientation": "h",
         "text": [
          "1"
         ],
         "textposition": "auto",
         "type": "bar",
         "x": [
          1
         ],
         "y": [
          "2.0.Active Presymp → 4.0.Active Smneg (90-180 step_time_units)"
         ]
        },
        {
         "name": "2.0.Active Presymp → 5.0.Active Exptb (0-30 step_time_units)",
         "orientation": "h",
         "text": [
          "1"
         ],
         "textposition": "auto",
         "type": "bar",
         "x": [
          1
         ],
         "y": [
          "2.0.Active Presymp → 5.0.Active Exptb (0-30 step_time_units)"
         ]
        },
        {
         "name": "2.0.Active Presymp → 5.0.Active Exptb (30-90 step_time_units)",
         "orientation": "h",
         "text": [
          "2"
         ],
         "textposition": "auto",
         "type": "bar",
         "x": [
          2
         ],
         "y": [
          "2.0.Active Presymp → 5.0.Active Exptb (30-90 step_time_units)"
         ]
        }
       ],
       "layout": {
        "annotations": [
         {
          "font": {
           "color": "black",
           "size": 8
          },
          "showarrow": false,
          "text": "DwtPlotter.interactive_all_state_transitions()",
          "x": -0.05,
          "xref": "paper",
          "y": -0.2,
          "yref": "paper"
         }
        ],
        "height": 430,
        "legend": {
         "title": {
          "text": "Transitions"
         }
        },
        "template": {
         "data": {
          "bar": [
           {
            "error_x": {
             "color": "#2a3f5f"
            },
            "error_y": {
             "color": "#2a3f5f"
            },
            "marker": {
             "line": {
              "color": "#E5ECF6",
              "width": 0.5
             },
             "pattern": {
              "fillmode": "overlay",
              "size": 10,
              "solidity": 0.2
             }
            },
            "type": "bar"
           }
          ],
          "barpolar": [
           {
            "marker": {
             "line": {
              "color": "#E5ECF6",
              "width": 0.5
             },
             "pattern": {
              "fillmode": "overlay",
              "size": 10,
              "solidity": 0.2
             }
            },
            "type": "barpolar"
           }
          ],
          "carpet": [
           {
            "aaxis": {
             "endlinecolor": "#2a3f5f",
             "gridcolor": "white",
             "linecolor": "white",
             "minorgridcolor": "white",
             "startlinecolor": "#2a3f5f"
            },
            "baxis": {
             "endlinecolor": "#2a3f5f",
             "gridcolor": "white",
             "linecolor": "white",
             "minorgridcolor": "white",
             "startlinecolor": "#2a3f5f"
            },
            "type": "carpet"
           }
          ],
          "choropleth": [
           {
            "colorbar": {
             "outlinewidth": 0,
             "ticks": ""
            },
            "type": "choropleth"
           }
          ],
          "contour": [
           {
            "colorbar": {
             "outlinewidth": 0,
             "ticks": ""
            },
            "colorscale": [
             [
              0,
              "#0d0887"
             ],
             [
              0.1111111111111111,
              "#46039f"
             ],
             [
              0.2222222222222222,
              "#7201a8"
             ],
             [
              0.3333333333333333,
              "#9c179e"
             ],
             [
              0.4444444444444444,
              "#bd3786"
             ],
             [
              0.5555555555555556,
              "#d8576b"
             ],
             [
              0.6666666666666666,
              "#ed7953"
             ],
             [
              0.7777777777777778,
              "#fb9f3a"
             ],
             [
              0.8888888888888888,
              "#fdca26"
             ],
             [
              1,
              "#f0f921"
             ]
            ],
            "type": "contour"
           }
          ],
          "contourcarpet": [
           {
            "colorbar": {
             "outlinewidth": 0,
             "ticks": ""
            },
            "type": "contourcarpet"
           }
          ],
          "heatmap": [
           {
            "colorbar": {
             "outlinewidth": 0,
             "ticks": ""
            },
            "colorscale": [
             [
              0,
              "#0d0887"
             ],
             [
              0.1111111111111111,
              "#46039f"
             ],
             [
              0.2222222222222222,
              "#7201a8"
             ],
             [
              0.3333333333333333,
              "#9c179e"
             ],
             [
              0.4444444444444444,
              "#bd3786"
             ],
             [
              0.5555555555555556,
              "#d8576b"
             ],
             [
              0.6666666666666666,
              "#ed7953"
             ],
             [
              0.7777777777777778,
              "#fb9f3a"
             ],
             [
              0.8888888888888888,
              "#fdca26"
             ],
             [
              1,
              "#f0f921"
             ]
            ],
            "type": "heatmap"
           }
          ],
          "histogram": [
           {
            "marker": {
             "pattern": {
              "fillmode": "overlay",
              "size": 10,
              "solidity": 0.2
             }
            },
            "type": "histogram"
           }
          ],
          "histogram2d": [
           {
            "colorbar": {
             "outlinewidth": 0,
             "ticks": ""
            },
            "colorscale": [
             [
              0,
              "#0d0887"
             ],
             [
              0.1111111111111111,
              "#46039f"
             ],
             [
              0.2222222222222222,
              "#7201a8"
             ],
             [
              0.3333333333333333,
              "#9c179e"
             ],
             [
              0.4444444444444444,
              "#bd3786"
             ],
             [
              0.5555555555555556,
              "#d8576b"
             ],
             [
              0.6666666666666666,
              "#ed7953"
             ],
             [
              0.7777777777777778,
              "#fb9f3a"
             ],
             [
              0.8888888888888888,
              "#fdca26"
             ],
             [
              1,
              "#f0f921"
             ]
            ],
            "type": "histogram2d"
           }
          ],
          "histogram2dcontour": [
           {
            "colorbar": {
             "outlinewidth": 0,
             "ticks": ""
            },
            "colorscale": [
             [
              0,
              "#0d0887"
             ],
             [
              0.1111111111111111,
              "#46039f"
             ],
             [
              0.2222222222222222,
              "#7201a8"
             ],
             [
              0.3333333333333333,
              "#9c179e"
             ],
             [
              0.4444444444444444,
              "#bd3786"
             ],
             [
              0.5555555555555556,
              "#d8576b"
             ],
             [
              0.6666666666666666,
              "#ed7953"
             ],
             [
              0.7777777777777778,
              "#fb9f3a"
             ],
             [
              0.8888888888888888,
              "#fdca26"
             ],
             [
              1,
              "#f0f921"
             ]
            ],
            "type": "histogram2dcontour"
           }
          ],
          "mesh3d": [
           {
            "colorbar": {
             "outlinewidth": 0,
             "ticks": ""
            },
            "type": "mesh3d"
           }
          ],
          "parcoords": [
           {
            "line": {
             "colorbar": {
              "outlinewidth": 0,
              "ticks": ""
             }
            },
            "type": "parcoords"
           }
          ],
          "pie": [
           {
            "automargin": true,
            "type": "pie"
           }
          ],
          "scatter": [
           {
            "fillpattern": {
             "fillmode": "overlay",
             "size": 10,
             "solidity": 0.2
            },
            "type": "scatter"
           }
          ],
          "scatter3d": [
           {
            "line": {
             "colorbar": {
              "outlinewidth": 0,
              "ticks": ""
             }
            },
            "marker": {
             "colorbar": {
              "outlinewidth": 0,
              "ticks": ""
             }
            },
            "type": "scatter3d"
           }
          ],
          "scattercarpet": [
           {
            "marker": {
             "colorbar": {
              "outlinewidth": 0,
              "ticks": ""
             }
            },
            "type": "scattercarpet"
           }
          ],
          "scattergeo": [
           {
            "marker": {
             "colorbar": {
              "outlinewidth": 0,
              "ticks": ""
             }
            },
            "type": "scattergeo"
           }
          ],
          "scattergl": [
           {
            "marker": {
             "colorbar": {
              "outlinewidth": 0,
              "ticks": ""
             }
            },
            "type": "scattergl"
           }
          ],
          "scattermap": [
           {
            "marker": {
             "colorbar": {
              "outlinewidth": 0,
              "ticks": ""
             }
            },
            "type": "scattermap"
           }
          ],
          "scattermapbox": [
           {
            "marker": {
             "colorbar": {
              "outlinewidth": 0,
              "ticks": ""
             }
            },
            "type": "scattermapbox"
           }
          ],
          "scatterpolar": [
           {
            "marker": {
             "colorbar": {
              "outlinewidth": 0,
              "ticks": ""
             }
            },
            "type": "scatterpolar"
           }
          ],
          "scatterpolargl": [
           {
            "marker": {
             "colorbar": {
              "outlinewidth": 0,
              "ticks": ""
             }
            },
            "type": "scatterpolargl"
           }
          ],
          "scatterternary": [
           {
            "marker": {
             "colorbar": {
              "outlinewidth": 0,
              "ticks": ""
             }
            },
            "type": "scatterternary"
           }
          ],
          "surface": [
           {
            "colorbar": {
             "outlinewidth": 0,
             "ticks": ""
            },
            "colorscale": [
             [
              0,
              "#0d0887"
             ],
             [
              0.1111111111111111,
              "#46039f"
             ],
             [
              0.2222222222222222,
              "#7201a8"
             ],
             [
              0.3333333333333333,
              "#9c179e"
             ],
             [
              0.4444444444444444,
              "#bd3786"
             ],
             [
              0.5555555555555556,
              "#d8576b"
             ],
             [
              0.6666666666666666,
              "#ed7953"
             ],
             [
              0.7777777777777778,
              "#fb9f3a"
             ],
             [
              0.8888888888888888,
              "#fdca26"
             ],
             [
              1,
              "#f0f921"
             ]
            ],
            "type": "surface"
           }
          ],
          "table": [
           {
            "cells": {
             "fill": {
              "color": "#EBF0F8"
             },
             "line": {
              "color": "white"
             }
            },
            "header": {
             "fill": {
              "color": "#C8D4E3"
             },
             "line": {
              "color": "white"
             }
            },
            "type": "table"
           }
          ]
         },
         "layout": {
          "annotationdefaults": {
           "arrowcolor": "#2a3f5f",
           "arrowhead": 0,
           "arrowwidth": 1
          },
          "autotypenumbers": "strict",
          "coloraxis": {
           "colorbar": {
            "outlinewidth": 0,
            "ticks": ""
           }
          },
          "colorscale": {
           "diverging": [
            [
             0,
             "#8e0152"
            ],
            [
             0.1,
             "#c51b7d"
            ],
            [
             0.2,
             "#de77ae"
            ],
            [
             0.3,
             "#f1b6da"
            ],
            [
             0.4,
             "#fde0ef"
            ],
            [
             0.5,
             "#f7f7f7"
            ],
            [
             0.6,
             "#e6f5d0"
            ],
            [
             0.7,
             "#b8e186"
            ],
            [
             0.8,
             "#7fbc41"
            ],
            [
             0.9,
             "#4d9221"
            ],
            [
             1,
             "#276419"
            ]
           ],
           "sequential": [
            [
             0,
             "#0d0887"
            ],
            [
             0.1111111111111111,
             "#46039f"
            ],
            [
             0.2222222222222222,
             "#7201a8"
            ],
            [
             0.3333333333333333,
             "#9c179e"
            ],
            [
             0.4444444444444444,
             "#bd3786"
            ],
            [
             0.5555555555555556,
             "#d8576b"
            ],
            [
             0.6666666666666666,
             "#ed7953"
            ],
            [
             0.7777777777777778,
             "#fb9f3a"
            ],
            [
             0.8888888888888888,
             "#fdca26"
            ],
            [
             1,
             "#f0f921"
            ]
           ],
           "sequentialminus": [
            [
             0,
             "#0d0887"
            ],
            [
             0.1111111111111111,
             "#46039f"
            ],
            [
             0.2222222222222222,
             "#7201a8"
            ],
            [
             0.3333333333333333,
             "#9c179e"
            ],
            [
             0.4444444444444444,
             "#bd3786"
            ],
            [
             0.5555555555555556,
             "#d8576b"
            ],
            [
             0.6666666666666666,
             "#ed7953"
            ],
            [
             0.7777777777777778,
             "#fb9f3a"
            ],
            [
             0.8888888888888888,
             "#fdca26"
            ],
            [
             1,
             "#f0f921"
            ]
           ]
          },
          "colorway": [
           "#636efa",
           "#EF553B",
           "#00cc96",
           "#ab63fa",
           "#FFA15A",
           "#19d3f3",
           "#FF6692",
           "#B6E880",
           "#FF97FF",
           "#FECB52"
          ],
          "font": {
           "color": "#2a3f5f"
          },
          "geo": {
           "bgcolor": "white",
           "lakecolor": "white",
           "landcolor": "#E5ECF6",
           "showlakes": true,
           "showland": true,
           "subunitcolor": "white"
          },
          "hoverlabel": {
           "align": "left"
          },
          "hovermode": "closest",
          "mapbox": {
           "style": "light"
          },
          "paper_bgcolor": "white",
          "plot_bgcolor": "#E5ECF6",
          "polar": {
           "angularaxis": {
            "gridcolor": "white",
            "linecolor": "white",
            "ticks": ""
           },
           "bgcolor": "#E5ECF6",
           "radialaxis": {
            "gridcolor": "white",
            "linecolor": "white",
            "ticks": ""
           }
          },
          "scene": {
           "xaxis": {
            "backgroundcolor": "#E5ECF6",
            "gridcolor": "white",
            "gridwidth": 2,
            "linecolor": "white",
            "showbackground": true,
            "ticks": "",
            "zerolinecolor": "white"
           },
           "yaxis": {
            "backgroundcolor": "#E5ECF6",
            "gridcolor": "white",
            "gridwidth": 2,
            "linecolor": "white",
            "showbackground": true,
            "ticks": "",
            "zerolinecolor": "white"
           },
           "zaxis": {
            "backgroundcolor": "#E5ECF6",
            "gridcolor": "white",
            "gridwidth": 2,
            "linecolor": "white",
            "showbackground": true,
            "ticks": "",
            "zerolinecolor": "white"
           }
          },
          "shapedefaults": {
           "line": {
            "color": "#2a3f5f"
           }
          },
          "ternary": {
           "aaxis": {
            "gridcolor": "white",
            "linecolor": "white",
            "ticks": ""
           },
           "baxis": {
            "gridcolor": "white",
            "linecolor": "white",
            "ticks": ""
           },
           "bgcolor": "#E5ECF6",
           "caxis": {
            "gridcolor": "white",
            "linecolor": "white",
            "ticks": ""
           }
          },
          "title": {
           "x": 0.05
          },
          "xaxis": {
           "automargin": true,
           "gridcolor": "white",
           "linecolor": "white",
           "ticks": "",
           "title": {
            "standoff": 15
           },
           "zerolinecolor": "white",
           "zerolinewidth": 2
          },
          "yaxis": {
           "automargin": true,
           "gridcolor": "white",
           "linecolor": "white",
           "ticks": "",
           "title": {
            "standoff": 15
           },
           "zerolinecolor": "white",
           "zerolinewidth": 2
          }
         }
        },
        "title": {
         "text": "State Transitions Grouped by Dwell Time Categories <br>DwtPlotter.interactive_all_state_transitions()"
        },
        "xaxis": {
         "title": {
          "text": "Count"
         }
        },
        "yaxis": {
         "title": {
          "text": "State Transitions"
         }
        }
       }
      }
     },
     "metadata": {},
     "output_type": "display_data"
    }
   ],
   "source": [
    "# stacked_bars_states_per_agent_static\n",
    "analyzer.barchar_all_state_transitions_interactive(\n",
    "    dwell_time_bins=[0, 30, 90, 180, 365, float('inf')],\n",
    "    filter_states=[  '1.0.Latent Fast', '2.0.Active Presymp']\n",
    ")\n"
   ]
  },
  {
   "cell_type": "markdown",
   "id": "14a1718b",
   "metadata": {},
   "source": [
    "## 6. Custom Transition Analysis\n",
    "Custom transition subplots."
   ]
  },
  {
   "cell_type": "code",
   "execution_count": 31,
   "id": "22abcc72",
   "metadata": {},
   "outputs": [
    {
     "data": {
      "image/png": "[encoded data removed]",
      "text/plain": [
       "<Figure size 1800x600 with 3 Axes>"
      ]
     },
     "metadata": {},
     "output_type": "display_data"
    }
   ],
   "source": [
    "custom_transitions = {\n",
    "    '-1.0.None': ['0.0.Latent Slow', '1.0.Latent Fast'],\n",
    "    '0.0.Latent Slow': ['2.0.Active Presymp', '-1.0.None'],\n",
    "    '1.0.Latent Fast': ['2.0.Active Presymp', '-1.0.None']\n",
    "}\n",
    "analyzer.subplot_custom_transitions(transitions_dict=custom_transitions)"
   ]
  },
  {
   "cell_type": "markdown",
   "id": "5d89270c",
   "metadata": {},
   "source": [
    "## 7. Survival Analysis\n",
    "Kaplan-Meier survival curve for dwell times."
   ]
  },
  {
   "cell_type": "code",
   "execution_count": 32,
   "id": "3c53750c",
   "metadata": {},
   "outputs": [
    {
     "data": {
      "image/png": "[encoded data removed]",
      "text/plain": [
       "<Figure size 1000x600 with 1 Axes>"
      ]
     },
     "metadata": {},
     "output_type": "display_data"
    }
   ],
   "source": [
    "analyzer.plot_kaplan_meier(dwell_time_col='dwell_time')"
   ]
  },
  {
   "cell_type": "markdown",
   "id": "e9e988ae",
   "metadata": {},
   "source": [
    "## 8. Using DwtPlotter Directly\n",
    "Demonstrate additional plots using the DwtPlotter class."
   ]
  },
  {
   "cell_type": "code",
   "execution_count": 33,
   "id": "6b05aa24",
   "metadata": {},
   "outputs": [
    {
     "name": "stdout",
     "output_type": "stream",
     "text": [
      "Generated data file: /Users/mine/newgit/newtbsim/docs/tutorials/results/comprehensiveplotsexample-0908140330.csv\n"
     ]
    },
    {
     "data": {
      "image/png": "[encoded data removed]",
      "text/plain": [
       "<Figure size 2000x500 with 3 Axes>"
      ]
     },
     "metadata": {},
     "output_type": "display_data"
    },
    {
     "data": {
      "application/vnd.plotly.v1+json": {
       "config": {
        "plotlyServerURL": "https://plot.ly"
       },
       "data": [
        {
         "arrangement": "snap",
         "link": {
          "color": [
           "rgba(148.0, 103.0, 189.0, 0.5)",
           "rgba(148.0, 103.0, 189.0, 0.5)",
           "rgba(148.0, 103.0, 189.0, 0.5)",
           "rgba(127.0, 127.0, 127.0, 0.5)",
           "rgba(127.0, 127.0, 127.0, 0.5)",
           "rgba(158.0, 218.0, 229.0, 0.5)",
           "rgba(158.0, 218.0, 229.0, 0.5)",
           "rgba(158.0, 218.0, 229.0, 0.5)"
          ],
          "hovertemplate": "%{source.label} → %{target.label}: %{value} agents<br>",
          "label": {
           "bdata": "4QLiACUAFgABAAIACgADAA==",
           "dtype": "i2"
          },
          "line": {
           "color": "lightgray",
           "width": 0.1
          },
          "source": {
           "bdata": "AwMDBQUHBwc=",
           "dtype": "i1"
          },
          "target": {
           "bdata": "AAIFBwYBBgQ=",
           "dtype": "i1"
          },
          "value": {
           "bdata": "4QLiACUAFgABAAIACgADAA==",
           "dtype": "i2"
          }
         },
         "node": {
          "color": [
           "rgba(31.0, 119.0, 180.0, 1.0)",
           "rgba(255.0, 127.0, 14.0, 1.0)",
           "rgba(152.0, 223.0, 138.0, 1.0)",
           "rgba(148.0, 103.0, 189.0, 1.0)",
           "rgba(196.0, 156.0, 148.0, 1.0)",
           "rgba(127.0, 127.0, 127.0, 1.0)",
           "rgba(219.0, 219.0, 141.0, 1.0)",
           "rgba(158.0, 218.0, 229.0, 1.0)"
          ],
          "label": [
           "-2.0.NEVER INFECTED",
           "3.0.Active Smpos",
           "0.0.Latent Slow",
           "-1.0.None",
           "5.0.Active Exptb",
           "1.0.Latent Fast",
           "4.0.Active Smneg",
           "2.0.Active Presymp"
          ],
          "line": {
           "color": "black",
           "width": 0.2
          },
          "pad": 15,
          "thickness": 20
         },
         "type": "sankey"
        }
       ],
       "layout": {
        "font": {
         "color": "black",
         "size": 12
        },
        "hovermode": "x",
        "template": {
         "data": {
          "bar": [
           {
            "error_x": {
             "color": "#2a3f5f"
            },
            "error_y": {
             "color": "#2a3f5f"
            },
            "marker": {
             "line": {
              "color": "#E5ECF6",
              "width": 0.5
             },
             "pattern": {
              "fillmode": "overlay",
              "size": 10,
              "solidity": 0.2
             }
            },
            "type": "bar"
           }
          ],
          "barpolar": [
           {
            "marker": {
             "line": {
              "color": "#E5ECF6",
              "width": 0.5
             },
             "pattern": {
              "fillmode": "overlay",
              "size": 10,
              "solidity": 0.2
             }
            },
            "type": "barpolar"
           }
          ],
          "carpet": [
           {
            "aaxis": {
             "endlinecolor": "#2a3f5f",
             "gridcolor": "white",
             "linecolor": "white",
             "minorgridcolor": "white",
             "startlinecolor": "#2a3f5f"
            },
            "baxis": {
             "endlinecolor": "#2a3f5f",
             "gridcolor": "white",
             "linecolor": "white",
             "minorgridcolor": "white",
             "startlinecolor": "#2a3f5f"
            },
            "type": "carpet"
           }
          ],
          "choropleth": [
           {
            "colorbar": {
             "outlinewidth": 0,
             "ticks": ""
            },
            "type": "choropleth"
           }
          ],
          "contour": [
           {
            "colorbar": {
             "outlinewidth": 0,
             "ticks": ""
            },
            "colorscale": [
             [
              0,
              "#0d0887"
             ],
             [
              0.1111111111111111,
              "#46039f"
             ],
             [
              0.2222222222222222,
              "#7201a8"
             ],
             [
              0.3333333333333333,
              "#9c179e"
             ],
             [
              0.4444444444444444,
              "#bd3786"
             ],
             [
              0.5555555555555556,
              "#d8576b"
             ],
             [
              0.6666666666666666,
              "#ed7953"
             ],
             [
              0.7777777777777778,
              "#fb9f3a"
             ],
             [
              0.8888888888888888,
              "#fdca26"
             ],
             [
              1,
              "#f0f921"
             ]
            ],
            "type": "contour"
           }
          ],
          "contourcarpet": [
           {
            "colorbar": {
             "outlinewidth": 0,
             "ticks": ""
            },
            "type": "contourcarpet"
           }
          ],
          "heatmap": [
           {
            "colorbar": {
             "outlinewidth": 0,
             "ticks": ""
            },
            "colorscale": [
             [
              0,
              "#0d0887"
             ],
             [
              0.1111111111111111,
              "#46039f"
             ],
             [
              0.2222222222222222,
              "#7201a8"
             ],
             [
              0.3333333333333333,
              "#9c179e"
             ],
             [
              0.4444444444444444,
              "#bd3786"
             ],
             [
              0.5555555555555556,
              "#d8576b"
             ],
             [
              0.6666666666666666,
              "#ed7953"
             ],
             [
              0.7777777777777778,
              "#fb9f3a"
             ],
             [
              0.8888888888888888,
              "#fdca26"
             ],
             [
              1,
              "#f0f921"
             ]
            ],
            "type": "heatmap"
           }
          ],
          "histogram": [
           {
            "marker": {
             "pattern": {
              "fillmode": "overlay",
              "size": 10,
              "solidity": 0.2
             }
            },
            "type": "histogram"
           }
          ],
          "histogram2d": [
           {
            "colorbar": {
             "outlinewidth": 0,
             "ticks": ""
            },
            "colorscale": [
             [
              0,
              "#0d0887"
             ],
             [
              0.1111111111111111,
              "#46039f"
             ],
             [
              0.2222222222222222,
              "#7201a8"
             ],
             [
              0.3333333333333333,
              "#9c179e"
             ],
             [
              0.4444444444444444,
              "#bd3786"
             ],
             [
              0.5555555555555556,
              "#d8576b"
             ],
             [
              0.6666666666666666,
              "#ed7953"
             ],
             [
              0.7777777777777778,
              "#fb9f3a"
             ],
             [
              0.8888888888888888,
              "#fdca26"
             ],
             [
              1,
              "#f0f921"
             ]
            ],
            "type": "histogram2d"
           }
          ],
          "histogram2dcontour": [
           {
            "colorbar": {
             "outlinewidth": 0,
             "ticks": ""
            },
            "colorscale": [
             [
              0,
              "#0d0887"
             ],
             [
              0.1111111111111111,
              "#46039f"
             ],
             [
              0.2222222222222222,
              "#7201a8"
             ],
             [
              0.3333333333333333,
              "#9c179e"
             ],
             [
              0.4444444444444444,
              "#bd3786"
             ],
             [
              0.5555555555555556,
              "#d8576b"
             ],
             [
              0.6666666666666666,
              "#ed7953"
             ],
             [
              0.7777777777777778,
              "#fb9f3a"
             ],
             [
              0.8888888888888888,
              "#fdca26"
             ],
             [
              1,
              "#f0f921"
             ]
            ],
            "type": "histogram2dcontour"
           }
          ],
          "mesh3d": [
           {
            "colorbar": {
             "outlinewidth": 0,
             "ticks": ""
            },
            "type": "mesh3d"
           }
          ],
          "parcoords": [
           {
            "line": {
             "colorbar": {
              "outlinewidth": 0,
              "ticks": ""
             }
            },
            "type": "parcoords"
           }
          ],
          "pie": [
           {
            "automargin": true,
            "type": "pie"
           }
          ],
          "scatter": [
           {
            "fillpattern": {
             "fillmode": "overlay",
             "size": 10,
             "solidity": 0.2
            },
            "type": "scatter"
           }
          ],
          "scatter3d": [
           {
            "line": {
             "colorbar": {
              "outlinewidth": 0,
              "ticks": ""
             }
            },
            "marker": {
             "colorbar": {
              "outlinewidth": 0,
              "ticks": ""
             }
            },
            "type": "scatter3d"
           }
          ],
          "scattercarpet": [
           {
            "marker": {
             "colorbar": {
              "outlinewidth": 0,
              "ticks": ""
             }
            },
            "type": "scattercarpet"
           }
          ],
          "scattergeo": [
           {
            "marker": {
             "colorbar": {
              "outlinewidth": 0,
              "ticks": ""
             }
            },
            "type": "scattergeo"
           }
          ],
          "scattergl": [
           {
            "marker": {
             "colorbar": {
              "outlinewidth": 0,
              "ticks": ""
             }
            },
            "type": "scattergl"
           }
          ],
          "scattermap": [
           {
            "marker": {
             "colorbar": {
              "outlinewidth": 0,
              "ticks": ""
             }
            },
            "type": "scattermap"
           }
          ],
          "scattermapbox": [
           {
            "marker": {
             "colorbar": {
              "outlinewidth": 0,
              "ticks": ""
             }
            },
            "type": "scattermapbox"
           }
          ],
          "scatterpolar": [
           {
            "marker": {
             "colorbar": {
              "outlinewidth": 0,
              "ticks": ""
             }
            },
            "type": "scatterpolar"
           }
          ],
          "scatterpolargl": [
           {
            "marker": {
             "colorbar": {
              "outlinewidth": 0,
              "ticks": ""
             }
            },
            "type": "scatterpolargl"
           }
          ],
          "scatterternary": [
           {
            "marker": {
             "colorbar": {
              "outlinewidth": 0,
              "ticks": ""
             }
            },
            "type": "scatterternary"
           }
          ],
          "surface": [
           {
            "colorbar": {
             "outlinewidth": 0,
             "ticks": ""
            },
            "colorscale": [
             [
              0,
              "#0d0887"
             ],
             [
              0.1111111111111111,
              "#46039f"
             ],
             [
              0.2222222222222222,
              "#7201a8"
             ],
             [
              0.3333333333333333,
              "#9c179e"
             ],
             [
              0.4444444444444444,
              "#bd3786"
             ],
             [
              0.5555555555555556,
              "#d8576b"
             ],
             [
              0.6666666666666666,
              "#ed7953"
             ],
             [
              0.7777777777777778,
              "#fb9f3a"
             ],
             [
              0.8888888888888888,
              "#fdca26"
             ],
             [
              1,
              "#f0f921"
             ]
            ],
            "type": "surface"
           }
          ],
          "table": [
           {
            "cells": {
             "fill": {
              "color": "#EBF0F8"
             },
             "line": {
              "color": "white"
             }
            },
            "header": {
             "fill": {
              "color": "#C8D4E3"
             },
             "line": {
              "color": "white"
             }
            },
            "type": "table"
           }
          ]
         },
         "layout": {
          "annotationdefaults": {
           "arrowcolor": "#2a3f5f",
           "arrowhead": 0,
           "arrowwidth": 1
          },
          "autotypenumbers": "strict",
          "coloraxis": {
           "colorbar": {
            "outlinewidth": 0,
            "ticks": ""
           }
          },
          "colorscale": {
           "diverging": [
            [
             0,
             "#8e0152"
            ],
            [
             0.1,
             "#c51b7d"
            ],
            [
             0.2,
             "#de77ae"
            ],
            [
             0.3,
             "#f1b6da"
            ],
            [
             0.4,
             "#fde0ef"
            ],
            [
             0.5,
             "#f7f7f7"
            ],
            [
             0.6,
             "#e6f5d0"
            ],
            [
             0.7,
             "#b8e186"
            ],
            [
             0.8,
             "#7fbc41"
            ],
            [
             0.9,
             "#4d9221"
            ],
            [
             1,
             "#276419"
            ]
           ],
           "sequential": [
            [
             0,
             "#0d0887"
            ],
            [
             0.1111111111111111,
             "#46039f"
            ],
            [
             0.2222222222222222,
             "#7201a8"
            ],
            [
             0.3333333333333333,
             "#9c179e"
            ],
            [
             0.4444444444444444,
             "#bd3786"
            ],
            [
             0.5555555555555556,
             "#d8576b"
            ],
            [
             0.6666666666666666,
             "#ed7953"
            ],
            [
             0.7777777777777778,
             "#fb9f3a"
            ],
            [
             0.8888888888888888,
             "#fdca26"
            ],
            [
             1,
             "#f0f921"
            ]
           ],
           "sequentialminus": [
            [
             0,
             "#0d0887"
            ],
            [
             0.1111111111111111,
             "#46039f"
            ],
            [
             0.2222222222222222,
             "#7201a8"
            ],
            [
             0.3333333333333333,
             "#9c179e"
            ],
            [
             0.4444444444444444,
             "#bd3786"
            ],
            [
             0.5555555555555556,
             "#d8576b"
            ],
            [
             0.6666666666666666,
             "#ed7953"
            ],
            [
             0.7777777777777778,
             "#fb9f3a"
            ],
            [
             0.8888888888888888,
             "#fdca26"
            ],
            [
             1,
             "#f0f921"
            ]
           ]
          },
          "colorway": [
           "#636efa",
           "#EF553B",
           "#00cc96",
           "#ab63fa",
           "#FFA15A",
           "#19d3f3",
           "#FF6692",
           "#B6E880",
           "#FF97FF",
           "#FECB52"
          ],
          "font": {
           "color": "#2a3f5f"
          },
          "geo": {
           "bgcolor": "white",
           "lakecolor": "white",
           "landcolor": "#E5ECF6",
           "showlakes": true,
           "showland": true,
           "subunitcolor": "white"
          },
          "hoverlabel": {
           "align": "left"
          },
          "hovermode": "closest",
          "mapbox": {
           "style": "light"
          },
          "paper_bgcolor": "white",
          "plot_bgcolor": "#E5ECF6",
          "polar": {
           "angularaxis": {
            "gridcolor": "white",
            "linecolor": "white",
            "ticks": ""
           },
           "bgcolor": "#E5ECF6",
           "radialaxis": {
            "gridcolor": "white",
            "linecolor": "white",
            "ticks": ""
           }
          },
          "scene": {
           "xaxis": {
            "backgroundcolor": "#E5ECF6",
            "gridcolor": "white",
            "gridwidth": 2,
            "linecolor": "white",
            "showbackground": true,
            "ticks": "",
            "zerolinecolor": "white"
           },
           "yaxis": {
            "backgroundcolor": "#E5ECF6",
            "gridcolor": "white",
            "gridwidth": 2,
            "linecolor": "white",
            "showbackground": true,
            "ticks": "",
            "zerolinecolor": "white"
           },
           "zaxis": {
            "backgroundcolor": "#E5ECF6",
            "gridcolor": "white",
            "gridwidth": 2,
            "linecolor": "white",
            "showbackground": true,
            "ticks": "",
            "zerolinecolor": "white"
           }
          },
          "shapedefaults": {
           "line": {
            "color": "#2a3f5f"
           }
          },
          "ternary": {
           "aaxis": {
            "gridcolor": "white",
            "linecolor": "white",
            "ticks": ""
           },
           "baxis": {
            "gridcolor": "white",
            "linecolor": "white",
            "ticks": ""
           },
           "bgcolor": "#E5ECF6",
           "caxis": {
            "gridcolor": "white",
            "linecolor": "white",
            "ticks": ""
           }
          },
          "title": {
           "x": 0.05
          },
          "xaxis": {
           "automargin": true,
           "gridcolor": "white",
           "linecolor": "white",
           "ticks": "",
           "title": {
            "standoff": 15
           },
           "zerolinecolor": "white",
           "zerolinewidth": 2
          },
          "yaxis": {
           "automargin": true,
           "gridcolor": "white",
           "linecolor": "white",
           "ticks": "",
           "title": {
            "standoff": 15
           },
           "zerolinecolor": "white",
           "zerolinewidth": 2
          }
         }
        },
        "title": {
         "font": {
          "size": 12
         },
         "text": "State Transitions  - Agents Count<br>From Generated File (DwtPlotter.sankey_agents())"
        }
       }
      }
     },
     "metadata": {},
     "output_type": "display_data"
    }
   ],
   "source": [
    "file_path = analyzer.file_path\n",
    "print(f'Generated data file: {file_path}')\n",
    "plotter = mtb.DwtPlotter(file_path=file_path)\n",
    "plotter.histogram_with_kde(subtitle=\"From Generated File\")\n",
    "plotter.sankey_agents(subtitle=\"From Generated File\")"
   ]
  },
  {
   "cell_type": "markdown",
   "id": "3e33910f",
   "metadata": {},
   "source": [
    "## 9. Post Processor Demonstration\n",
    "Example usage of the DwtPostProcessor for multiple simulation results. (This is informational; actual usage requires multiple result files.)"
   ]
  },
  {
   "cell_type": "code",
   "execution_count": 34,
   "id": "1ce5320a",
   "metadata": {},
   "outputs": [],
   "source": [
    "# Example usage (commented out):\n",
    "# postproc = mtb.DwtPostProcessor(directory='results', prefix='Baseline')\n",
    "# postproc.sankey_agents(subtitle=\"Aggregated Results\")\n",
    "# postproc.histogram_with_kde(subtitle=\"Aggregated Distributions\")\n",
    "# postproc.reinfections_percents_bars_interactive(\n",
    "#     target_states=[0.0, 1.0],\n",
    "#     scenario=\"Aggregated Reinfection Analysis\"\n",
    "# )"
   ]
  }
 ],
 "metadata": {
  "kernelspec": {
   "display_name": "venv",
   "language": "python",
   "name": "python3"
  },
  "language_info": {
   "codemirror_mode": {
    "name": "ipython",
    "version": 3
   },
   "file_extension": ".py",
   "mimetype": "text/x-python",
   "name": "python",
   "nbconvert_exporter": "python",
   "pygments_lexer": "ipython3",
   "version": "3.12.8"
  }
 },
 "nbformat": 4,
 "nbformat_minor": 5
}
